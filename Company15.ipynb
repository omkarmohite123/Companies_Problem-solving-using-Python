{
  "nbformat": 4,
  "nbformat_minor": 0,
  "metadata": {
    "colab": {
      "provenance": [],
      "authorship_tag": "ABX9TyM8MW0ASlN/aXbYs9YIriVb",
      "include_colab_link": true
    },
    "kernelspec": {
      "name": "python3",
      "display_name": "Python 3"
    },
    "language_info": {
      "name": "python"
    }
  },
  "cells": [
    {
      "cell_type": "markdown",
      "metadata": {
        "id": "view-in-github",
        "colab_type": "text"
      },
      "source": [
        "<a href=\"https://colab.research.google.com/github/omkarmohite123/Companies_Problem-solving-using-Python/blob/main/Company15.ipynb\" target=\"_parent\"><img src=\"https://colab.research.google.com/assets/colab-badge.svg\" alt=\"Open In Colab\"/></a>"
      ]
    },
    {
      "cell_type": "code",
      "source": [
        "\"\"\"\n",
        "Given a string as input, you have to reverse the string by keeping the punctuation and spaces intact. You have to modify the source\n",
        "string itself without creating another string.\n",
        "\n",
        "Input Description:\n",
        "1<=string length<=500\n",
        "\n",
        "Output Description:\n",
        "Print the string in reverse\n",
        "\n",
        "Sample Input :\n",
        "A man, in the boat says : I see 1-2-3 in the sky\n",
        "Sample Output :\n",
        "y kse, ht ni3 21ee sIsy : a sta o-b-e ht nin amA\n",
        "\n",
        "\n",
        "\"\"\""
      ],
      "metadata": {
        "id": "BQpWGxUUmMfK"
      },
      "execution_count": null,
      "outputs": []
    },
    {
      "cell_type": "code",
      "source": [
        "x=input()\n",
        "y=list(x)\n",
        "z=[]\n",
        "l=[]\n",
        "for i in y:\n",
        "    if i.isalnum():\n",
        "        l.append(i)\n",
        "    else:\n",
        "        z.append(i)\n",
        "f=l[::-1]\n",
        "kk=[]\n",
        "for i in y:\n",
        "    if i.isalnum():\n",
        "        d=f.pop(0)\n",
        "        kk.append(d)\n",
        "    else:\n",
        "        kk.append(i)\n",
        "else:\n",
        "    print(\"\".join(kk))\n",
        "\n"
      ],
      "metadata": {
        "colab": {
          "base_uri": "https://localhost:8080/"
        },
        "id": "fLJpoU_EmMkN",
        "outputId": "35a6ba3c-b24a-45cb-90ae-fca1125a97f5"
      },
      "execution_count": 7,
      "outputs": [
        {
          "output_type": "stream",
          "name": "stdout",
          "text": [
            "A man, in the boat says : I see 1-2-3 in the sky\n",
            "y kse, ht ni3 21ee sIsy : a sta o-b-e ht nin amA\n"
          ]
        }
      ]
    },
    {
      "cell_type": "code",
      "source": [],
      "metadata": {
        "id": "AnqUL5VOT50v"
      },
      "execution_count": null,
      "outputs": []
    }
  ]
}