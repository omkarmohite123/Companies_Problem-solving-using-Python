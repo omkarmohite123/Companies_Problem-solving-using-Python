{
  "nbformat": 4,
  "nbformat_minor": 0,
  "metadata": {
    "colab": {
      "provenance": [],
      "authorship_tag": "ABX9TyOZAVurCGyYZq5OKBh2uuKS",
      "include_colab_link": true
    },
    "kernelspec": {
      "name": "python3",
      "display_name": "Python 3"
    },
    "language_info": {
      "name": "python"
    }
  },
  "cells": [
    {
      "cell_type": "markdown",
      "metadata": {
        "id": "view-in-github",
        "colab_type": "text"
      },
      "source": [
        "<a href=\"https://colab.research.google.com/github/omkarmohite123/Companies_Problem-solving-using-Python/blob/main/Consider_today_is_Sunday%2CIn_a_restaurant%2C_too_much_crowd_in_the_cash_counter_the_cashier_needs_some_help_to_calculate_the_bills_that_restaurant_has_different_recipes_they_are%2C_Menu_oniondosa_90_rs_plaindosa_40_rs_ravadosa_75_rs_i.ipynb\" target=\"_parent\"><img src=\"https://colab.research.google.com/assets/colab-badge.svg\" alt=\"Open In Colab\"/></a>"
      ]
    },
    {
      "cell_type": "code",
      "execution_count": 19,
      "metadata": {
        "id": "poCAaNNbiViE",
        "colab": {
          "base_uri": "https://localhost:8080/"
        },
        "outputId": "1b4811b0-e7bd-4c83-fee1-ca4d643ab879"
      },
      "outputs": [
        {
          "output_type": "stream",
          "name": "stdout",
          "text": [
            "oniondosa 5 chapathi 4\n",
            "Total Price(GST inclusive):Rs 624.75\n"
          ]
        }
      ],
      "source": [
        "Menu=list(map(str,input().split()))\n",
        "\n",
        "pricelist={'oniondosa':95,'plaindosa':40,'ravadosa':75,'idli':10,'vada':5,'poori':30,'chapathi':30,'pongal':35,'tea':25,'coffee':35,'meals':75}\n",
        "\n",
        "Items=[]\n",
        "\n",
        "Quantities=[]\n",
        "\n",
        "for i in Menu:\n",
        "\n",
        "  if i in \"0123456789\":\n",
        "    Quantities.append(i)\n",
        "\n",
        "  else:\n",
        "\n",
        "    Items.append(i)\n",
        "    \n",
        "\n",
        "\n",
        "\n",
        "\n",
        "x=0\n",
        "Totalprice=0\n",
        "\n",
        "for i,j in zip(Items,Quantities):\n",
        "\n",
        "  Total=pricelist[i]*int(j)\n",
        "\n",
        "  x=x+Total\n",
        "\n",
        "GST=x*0.05\n",
        "\n",
        "Totalprice=GST+x\n",
        "if Totalprice!=0:\n",
        "   print(\"Total Price(GST inclusive):Rs\",Totalprice)\n",
        "else:\n",
        "  print(\"Sorry, Only recipes on the menu!\")\n",
        "\n",
        "\n",
        " "
      ]
    },
    {
      "cell_type": "code",
      "source": [],
      "metadata": {
        "id": "8sc97d0dXMPO"
      },
      "execution_count": null,
      "outputs": []
    }
  ]
}