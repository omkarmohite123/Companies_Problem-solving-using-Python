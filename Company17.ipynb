{
  "nbformat": 4,
  "nbformat_minor": 0,
  "metadata": {
    "colab": {
      "provenance": [],
      "authorship_tag": "ABX9TyMOlYyCGx0lkEqkynOCP264",
      "include_colab_link": true
    },
    "kernelspec": {
      "name": "python3",
      "display_name": "Python 3"
    },
    "language_info": {
      "name": "python"
    }
  },
  "cells": [
    {
      "cell_type": "markdown",
      "metadata": {
        "id": "view-in-github",
        "colab_type": "text"
      },
      "source": [
        "<a href=\"https://colab.research.google.com/github/omkarmohite123/Companies_Problem-solving-using-Python/blob/main/Company17.ipynb\" target=\"_parent\"><img src=\"https://colab.research.google.com/assets/colab-badge.svg\" alt=\"Open In Colab\"/></a>"
      ]
    },
    {
      "cell_type": "code",
      "source": [
        "\"\"\"\n",
        "Mr. Kanga had a PhD in Heap Algorithms. Today, he was given a list of strings in random order. Help him sort the list in increasing order(lexicographically increasing) using heap sort.\n",
        "\n",
        "Input Description:\n",
        "The first line is an integer N denoting the number of strings. The next line contains N space separated strings containing lower case English Alphabets.\n",
        "\n",
        "Output Description:\n",
        "Print N space separated strings in increasing order.\n",
        "\n",
        "Sample Input :\n",
        "2\n",
        "bag axe\n",
        "Sample Output :\n",
        "axe bag\n",
        "\n",
        "\"\"\""
      ],
      "metadata": {
        "id": "q-e8qDyJUivJ"
      },
      "execution_count": null,
      "outputs": []
    },
    {
      "cell_type": "code",
      "source": [
        "a=int(input())\n",
        "b=input().split()\n",
        "c=sorted(b)\n",
        "print(*c)"
      ],
      "metadata": {
        "colab": {
          "base_uri": "https://localhost:8080/"
        },
        "id": "go7wl8nKUi4k",
        "outputId": "4e5c5b98-af17-41cd-a1c9-5d17c0baa4ad"
      },
      "execution_count": 8,
      "outputs": [
        {
          "output_type": "stream",
          "name": "stdout",
          "text": [
            "2\n",
            "bag axe\n",
            "axe bag\n"
          ]
        }
      ]
    },
    {
      "cell_type": "code",
      "source": [],
      "metadata": {
        "id": "AnqUL5VOT50v"
      },
      "execution_count": null,
      "outputs": []
    }
  ]
}