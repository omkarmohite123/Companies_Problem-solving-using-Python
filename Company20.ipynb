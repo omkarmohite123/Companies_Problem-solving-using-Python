{
  "nbformat": 4,
  "nbformat_minor": 0,
  "metadata": {
    "colab": {
      "provenance": [],
      "authorship_tag": "ABX9TyNjWU+0NGxKNnw2+ChMBs3H",
      "include_colab_link": true
    },
    "kernelspec": {
      "name": "python3",
      "display_name": "Python 3"
    },
    "language_info": {
      "name": "python"
    }
  },
  "cells": [
    {
      "cell_type": "markdown",
      "metadata": {
        "id": "view-in-github",
        "colab_type": "text"
      },
      "source": [
        "<a href=\"https://colab.research.google.com/github/omkarmohite123/Companies_Problem-solving-using-Python/blob/main/Company20.ipynb\" target=\"_parent\"><img src=\"https://colab.research.google.com/assets/colab-badge.svg\" alt=\"Open In Colab\"/></a>"
      ]
    },
    {
      "cell_type": "code",
      "source": [
        "\"\"\"\n",
        "Given 2 strings S1 and S2. Find if String2 is substring of String1. If it is print the index of the first occurrence. else print -1.\n",
        "Input Size : 1<= N <= 100000\n",
        "Sample Testcases :\n",
        "1)INPUT\n",
        "test123string\n",
        "123\n",
        "OUTPUT\n",
        "4\n",
        "\n",
        "\n",
        "\"\"\""
      ],
      "metadata": {
        "id": "EabP0ZRwWhQq"
      },
      "execution_count": null,
      "outputs": []
    },
    {
      "cell_type": "code",
      "source": [
        "a=input()\n",
        "b=input()\n",
        "c=list(a)\n",
        "k=0\n",
        "if b in a:\n",
        "  for i in range(len(c)):\n",
        "    if c[i]==b[0]:\n",
        "      k=1\n",
        "      print(c.index(c[i]))\n",
        "      break\n",
        "\n",
        "else:\n",
        "  print(\"-1\")"
      ],
      "metadata": {
        "colab": {
          "base_uri": "https://localhost:8080/"
        },
        "id": "9J2-wK5USL6B",
        "outputId": "b1946ee9-16ff-4a2f-a08f-4a874218257c"
      },
      "execution_count": 7,
      "outputs": [
        {
          "output_type": "stream",
          "name": "stdout",
          "text": [
            "test123string\n",
            "123\n",
            "4\n"
          ]
        }
      ]
    },
    {
      "cell_type": "code",
      "source": [],
      "metadata": {
        "id": "F8Gb2hfdSJaM"
      },
      "execution_count": null,
      "outputs": []
    }
  ]
}