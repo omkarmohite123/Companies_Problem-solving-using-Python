{
  "nbformat": 4,
  "nbformat_minor": 0,
  "metadata": {
    "colab": {
      "provenance": [],
      "authorship_tag": "ABX9TyNcidXkcrsmPDOD8ZCPFSan",
      "include_colab_link": true
    },
    "kernelspec": {
      "name": "python3",
      "display_name": "Python 3"
    },
    "language_info": {
      "name": "python"
    }
  },
  "cells": [
    {
      "cell_type": "markdown",
      "metadata": {
        "id": "view-in-github",
        "colab_type": "text"
      },
      "source": [
        "<a href=\"https://colab.research.google.com/github/omkarmohite123/Companies_Problem-solving-using-Python/blob/main/DSA_2.ipynb\" target=\"_parent\"><img src=\"https://colab.research.google.com/assets/colab-badge.svg\" alt=\"Open In Colab\"/></a>"
      ]
    },
    {
      "cell_type": "code",
      "source": [
        "\"\"\"\n",
        "Dumping queue into list or array in Python\n",
        "\n",
        "\"\"\""
      ],
      "metadata": {
        "id": "F0bo9-m8UURu",
        "colab": {
          "base_uri": "https://localhost:8080/",
          "height": 36
        },
        "outputId": "a1ade92a-b86d-476b-b003-1251cf03c268"
      },
      "execution_count": 1,
      "outputs": [
        {
          "output_type": "execute_result",
          "data": {
            "text/plain": [
              "'\\nDumping queue into list or array in Python\\n\\n'"
            ],
            "application/vnd.google.colaboratory.intrinsic+json": {
              "type": "string"
            }
          },
          "metadata": {},
          "execution_count": 1
        }
      ]
    },
    {
      "cell_type": "code",
      "source": [],
      "metadata": {
        "id": "-_hzybubUq9a"
      },
      "execution_count": null,
      "outputs": []
    },
    {
      "cell_type": "code",
      "source": [
        "from collections import deque"
      ],
      "metadata": {
        "id": "D6GRQ7Ineby4"
      },
      "execution_count": null,
      "outputs": []
    },
    {
      "cell_type": "code",
      "source": [
        "q=deque()"
      ],
      "metadata": {
        "id": "--J2rZpUeb6N"
      },
      "execution_count": null,
      "outputs": []
    },
    {
      "cell_type": "code",
      "source": [
        "q.append()"
      ],
      "metadata": {
        "id": "hNKfYzzEhCyd"
      },
      "execution_count": null,
      "outputs": []
    },
    {
      "cell_type": "code",
      "source": [
        "k=list(map(int,input().split()))\n",
        "b_list={}\n",
        "for i in k:\n",
        "    f=(bin(i).replace(\"0b\", \"\")).count(\"1\")\n",
        "    b_list[i]=f\n",
        "ret=dict(sorted(b_list.items(), key=lambda x:x[1]))\n",
        "print(*ret.keys())"
      ],
      "metadata": {
        "id": "m7XuKl0ChC1Q",
        "colab": {
          "base_uri": "https://localhost:8080/"
        },
        "outputId": "13f04aca-01f1-44fe-fcc8-a8fa1ad472be"
      },
      "execution_count": null,
      "outputs": [
        {
          "output_type": "stream",
          "name": "stdout",
          "text": [
            "1 2 4 3 5 6\n",
            "1 2 4 3 5 6\n"
          ]
        }
      ]
    },
    {
      "cell_type": "code",
      "source": [
        "class Node:\n",
        "    def __init__(self, data):\n",
        "        self.data = data\n",
        "        self.left = None\n",
        "        self.right = None\n",
        "    def leaf(root):\n",
        "        global total\n",
        "        a=int(input())\n",
        "        b=list(map(int,input().split()))\n",
        "\n",
        "        if root is None:\n",
        "            return\n",
        "        if (root.left is None and root.right is None):\n",
        "            total += root.data\n",
        "        leaf(root.left)\n",
        "        leaf(root.right)\n",
        "        \n",
        "\n",
        "root = Node(67)\n",
        "root.left = Node(34)\n",
        "root.left.left =Node(12)\n",
        "root.left.right = Node(45)\n",
        "root.right = Node(82)\n",
        "total=0\n",
        "leaf(root)\n",
        "print(total)"
      ],
      "metadata": {
        "colab": {
          "base_uri": "https://localhost:8080/",
          "height": 218
        },
        "id": "L3w70TUeSRel",
        "outputId": "4b978fc5-b799-4c75-d0c8-b18c70a1075f"
      },
      "execution_count": null,
      "outputs": [
        {
          "output_type": "error",
          "ename": "NameError",
          "evalue": "ignored",
          "traceback": [
            "\u001b[0;31m---------------------------------------------------------------------------\u001b[0m",
            "\u001b[0;31mNameError\u001b[0m                                 Traceback (most recent call last)",
            "\u001b[0;32m<ipython-input-11-20f68b24a3db>\u001b[0m in \u001b[0;36m<module>\u001b[0;34m\u001b[0m\n\u001b[1;32m     23\u001b[0m \u001b[0mroot\u001b[0m\u001b[0;34m.\u001b[0m\u001b[0mright\u001b[0m \u001b[0;34m=\u001b[0m \u001b[0mNode\u001b[0m\u001b[0;34m(\u001b[0m\u001b[0;36m82\u001b[0m\u001b[0;34m)\u001b[0m\u001b[0;34m\u001b[0m\u001b[0;34m\u001b[0m\u001b[0m\n\u001b[1;32m     24\u001b[0m \u001b[0mtotal\u001b[0m\u001b[0;34m=\u001b[0m\u001b[0;36m0\u001b[0m\u001b[0;34m\u001b[0m\u001b[0;34m\u001b[0m\u001b[0m\n\u001b[0;32m---> 25\u001b[0;31m \u001b[0mleaf\u001b[0m\u001b[0;34m(\u001b[0m\u001b[0mroot\u001b[0m\u001b[0;34m)\u001b[0m\u001b[0;34m\u001b[0m\u001b[0;34m\u001b[0m\u001b[0m\n\u001b[0m\u001b[1;32m     26\u001b[0m \u001b[0mprint\u001b[0m\u001b[0;34m(\u001b[0m\u001b[0mtotal\u001b[0m\u001b[0;34m)\u001b[0m\u001b[0;34m\u001b[0m\u001b[0;34m\u001b[0m\u001b[0m\n",
            "\u001b[0;31mNameError\u001b[0m: name 'leaf' is not defined"
          ]
        }
      ]
    },
    {
      "cell_type": "code",
      "source": [
        "#178\n",
        "a=input()\n",
        "b=list(map(int,input().split()))\n",
        "m=0\n",
        "c=0\n",
        "for i in range(len(b)):\n",
        "  for j in range(i,len(b)):\n",
        "    for k in range(j,len(b)):\n",
        "      if i<j and j<k and b[i]>b[j]>b[k]:\n",
        "         m=1\n",
        "      c=m  \n",
        "if m==0:\n",
        "  print(\"0\")\n",
        "else:\n",
        "  print(\"1\")"
      ],
      "metadata": {
        "id": "78NpsSXfhC4v",
        "colab": {
          "base_uri": "https://localhost:8080/"
        },
        "outputId": "8cf51a8b-126e-4199-904d-0e55456e93fe"
      },
      "execution_count": null,
      "outputs": [
        {
          "output_type": "stream",
          "name": "stdout",
          "text": [
            "3\n",
            "3 2 1\n",
            "1\n"
          ]
        }
      ]
    },
    {
      "cell_type": "code",
      "source": [
        "def find_max_number_of_happy_people():\n",
        "    num_of_people = int(input())\n",
        "    list_of_people_times = [int(time) for time in input().split(\" \")]\n",
        "    list_of_people_times.sort()\n",
        " \n",
        "    counter = 0\n",
        "    person_need_to_wait = 0\n",
        " \n",
        "    for time_of_person in list_of_people_times:\n",
        "        if person_need_to_wait > time_of_person:\n",
        "            continue\n",
        "        else:\n",
        "            counter += 1\n",
        "            person_need_to_wait += time_of_person\n",
        "    \n",
        "    print(counter)\n",
        "    return counter\n",
        " \n",
        " \n",
        "if __name__ == \"__main__\":\n",
        "    find_max_number_of_happy_people()\n",
        " \n"
      ],
      "metadata": {
        "colab": {
          "base_uri": "https://localhost:8080/"
        },
        "id": "S-GVRDLTJvZa",
        "outputId": "7125e639-97e8-4731-ce2c-0d2d6a7f955a"
      },
      "execution_count": null,
      "outputs": [
        {
          "output_type": "stream",
          "name": "stdout",
          "text": [
            "5\n",
            "15 2 1 5 3\n",
            "4\n"
          ]
        }
      ]
    },
    {
      "cell_type": "code",
      "source": [
        "#2\n",
        "def man():\n",
        "  sd=n*2**0.5\n",
        "  st=sd/v1\n",
        "\n",
        "  ed=2*n\n",
        "  et=ed/2\n",
        "  print(st,et)\n",
        "  if st<et:\n",
        "    return \"cab\"\n",
        "  else:\n",
        "    return \"walk\"\n",
        "\n",
        "m=int(input())\n",
        "k=[]\n",
        "for i in range(m):\n",
        "  n,v1,v2=[int(i) for i in input().split()]\n",
        "  k.append(man())\n",
        "for i in k:\n",
        "  print(i)\n",
        "\n",
        "\n"
      ],
      "metadata": {
        "colab": {
          "base_uri": "https://localhost:8080/",
          "height": 394
        },
        "id": "McJ4lFhaxJV_",
        "outputId": "4fab54e5-7b03-4cf5-bd06-cbda39e6d202"
      },
      "execution_count": null,
      "outputs": [
        {
          "output_type": "error",
          "ename": "KeyboardInterrupt",
          "evalue": "ignored",
          "traceback": [
            "\u001b[0;31m---------------------------------------------------------------------------\u001b[0m",
            "\u001b[0;31mKeyboardInterrupt\u001b[0m                         Traceback (most recent call last)",
            "\u001b[0;32m<ipython-input-4-00fa08891ba6>\u001b[0m in \u001b[0;36m<module>\u001b[0;34m\u001b[0m\n\u001b[1;32m     11\u001b[0m     \u001b[0;32mreturn\u001b[0m \u001b[0;34m\"walk\"\u001b[0m\u001b[0;34m\u001b[0m\u001b[0;34m\u001b[0m\u001b[0m\n\u001b[1;32m     12\u001b[0m \u001b[0;34m\u001b[0m\u001b[0m\n\u001b[0;32m---> 13\u001b[0;31m \u001b[0mm\u001b[0m\u001b[0;34m=\u001b[0m\u001b[0mint\u001b[0m\u001b[0;34m(\u001b[0m\u001b[0minput\u001b[0m\u001b[0;34m(\u001b[0m\u001b[0;34m)\u001b[0m\u001b[0;34m)\u001b[0m\u001b[0;34m\u001b[0m\u001b[0;34m\u001b[0m\u001b[0m\n\u001b[0m\u001b[1;32m     14\u001b[0m \u001b[0mk\u001b[0m\u001b[0;34m=\u001b[0m\u001b[0;34m[\u001b[0m\u001b[0;34m]\u001b[0m\u001b[0;34m\u001b[0m\u001b[0;34m\u001b[0m\u001b[0m\n\u001b[1;32m     15\u001b[0m \u001b[0;32mfor\u001b[0m \u001b[0mi\u001b[0m \u001b[0;32min\u001b[0m \u001b[0mrange\u001b[0m\u001b[0;34m(\u001b[0m\u001b[0mm\u001b[0m\u001b[0;34m)\u001b[0m\u001b[0;34m:\u001b[0m\u001b[0;34m\u001b[0m\u001b[0;34m\u001b[0m\u001b[0m\n",
            "\u001b[0;32m/usr/local/lib/python3.8/dist-packages/ipykernel/kernelbase.py\u001b[0m in \u001b[0;36mraw_input\u001b[0;34m(self, prompt)\u001b[0m\n\u001b[1;32m    858\u001b[0m                 \u001b[0;34m\"raw_input was called, but this frontend does not support input requests.\"\u001b[0m\u001b[0;34m\u001b[0m\u001b[0;34m\u001b[0m\u001b[0m\n\u001b[1;32m    859\u001b[0m             )\n\u001b[0;32m--> 860\u001b[0;31m         return self._input_request(str(prompt),\n\u001b[0m\u001b[1;32m    861\u001b[0m             \u001b[0mself\u001b[0m\u001b[0;34m.\u001b[0m\u001b[0m_parent_ident\u001b[0m\u001b[0;34m,\u001b[0m\u001b[0;34m\u001b[0m\u001b[0;34m\u001b[0m\u001b[0m\n\u001b[1;32m    862\u001b[0m             \u001b[0mself\u001b[0m\u001b[0;34m.\u001b[0m\u001b[0m_parent_header\u001b[0m\u001b[0;34m,\u001b[0m\u001b[0;34m\u001b[0m\u001b[0;34m\u001b[0m\u001b[0m\n",
            "\u001b[0;32m/usr/local/lib/python3.8/dist-packages/ipykernel/kernelbase.py\u001b[0m in \u001b[0;36m_input_request\u001b[0;34m(self, prompt, ident, parent, password)\u001b[0m\n\u001b[1;32m    902\u001b[0m             \u001b[0;32mexcept\u001b[0m \u001b[0mKeyboardInterrupt\u001b[0m\u001b[0;34m:\u001b[0m\u001b[0;34m\u001b[0m\u001b[0;34m\u001b[0m\u001b[0m\n\u001b[1;32m    903\u001b[0m                 \u001b[0;31m# re-raise KeyboardInterrupt, to truncate traceback\u001b[0m\u001b[0;34m\u001b[0m\u001b[0;34m\u001b[0m\u001b[0;34m\u001b[0m\u001b[0m\n\u001b[0;32m--> 904\u001b[0;31m                 \u001b[0;32mraise\u001b[0m \u001b[0mKeyboardInterrupt\u001b[0m\u001b[0;34m(\u001b[0m\u001b[0;34m\"Interrupted by user\"\u001b[0m\u001b[0;34m)\u001b[0m \u001b[0;32mfrom\u001b[0m \u001b[0;32mNone\u001b[0m\u001b[0;34m\u001b[0m\u001b[0;34m\u001b[0m\u001b[0m\n\u001b[0m\u001b[1;32m    905\u001b[0m             \u001b[0;32mexcept\u001b[0m \u001b[0mException\u001b[0m \u001b[0;32mas\u001b[0m \u001b[0me\u001b[0m\u001b[0;34m:\u001b[0m\u001b[0;34m\u001b[0m\u001b[0;34m\u001b[0m\u001b[0m\n\u001b[1;32m    906\u001b[0m                 \u001b[0mself\u001b[0m\u001b[0;34m.\u001b[0m\u001b[0mlog\u001b[0m\u001b[0;34m.\u001b[0m\u001b[0mwarning\u001b[0m\u001b[0;34m(\u001b[0m\u001b[0;34m\"Invalid Message:\"\u001b[0m\u001b[0;34m,\u001b[0m \u001b[0mexc_info\u001b[0m\u001b[0;34m=\u001b[0m\u001b[0;32mTrue\u001b[0m\u001b[0;34m)\u001b[0m\u001b[0;34m\u001b[0m\u001b[0;34m\u001b[0m\u001b[0m\n",
            "\u001b[0;31mKeyboardInterrupt\u001b[0m: Interrupted by user"
          ]
        }
      ]
    },
    {
      "cell_type": "code",
      "source": [],
      "metadata": {
        "id": "kpCj4Xow4dm0"
      },
      "execution_count": null,
      "outputs": []
    },
    {
      "cell_type": "code",
      "source": [],
      "metadata": {
        "id": "Z_6m8FNv4Zbt"
      },
      "execution_count": null,
      "outputs": []
    },
    {
      "cell_type": "code",
      "source": [],
      "metadata": {
        "id": "0Cq-rHEIzmw7"
      },
      "execution_count": null,
      "outputs": []
    },
    {
      "cell_type": "code",
      "source": [],
      "metadata": {
        "id": "cyTxF4rqzFCH"
      },
      "execution_count": null,
      "outputs": []
    },
    {
      "cell_type": "code",
      "source": [],
      "metadata": {
        "id": "XrbzPP1vxSDb"
      },
      "execution_count": null,
      "outputs": []
    },
    {
      "cell_type": "code",
      "source": [
        "mod = 10**9 + 7\n",
        "\n",
        "def find(n):\n",
        "\n",
        "        if parent[n] < 0:\n",
        "\n",
        "            return n\n",
        "\n",
        "        else:\n",
        "\n",
        "            pt = find(parent[n])\n",
        "\n",
        "            xor[n] ^= xor[parent[n]] \n",
        "\n",
        "            parent[n] = pt\n",
        "\n",
        "            return pt\n",
        "\n",
        "for _ in range(int(input())):\n",
        "\n",
        "    n, q = map(int, input().split())\n",
        "\n",
        "    for i in range(n-1): \n",
        "\n",
        "        input()\n",
        "\n",
        "    parent = [-1]*n\n",
        "\n",
        "    xor = [0]*n  \n",
        "\n",
        "    f = n-1\n",
        "\n",
        "    for qq in range(q):\n",
        "\n",
        "        i, j, w = map(int, input().split())\n",
        "\n",
        "        if f == -1: continue\n",
        "\n",
        "        i += 1\n",
        "\n",
        "        j += 1\n",
        "\n",
        "        fi = find(i)\n",
        "\n",
        "        fj = find(j)\n",
        "\n",
        "        if fi == fj:\n",
        "\n",
        "            if xor[i] ^ xor[j] ^ w: \n",
        "\n",
        "                f = 1\n",
        "\n",
        "        else:\n",
        "\n",
        "            f += 1\n",
        "\n",
        "            if parent[fi] == parent[fj]:\n",
        "\n",
        "                parent[fi] += 1\n",
        "\n",
        "            if parent[fi] > parent[fj]:\n",
        "\n",
        "                parent[fi] = fj\n",
        "\n"
      ],
      "metadata": {
        "colab": {
          "base_uri": "https://localhost:8080/",
          "height": 253
        },
        "id": "vLpR6D3_Mwgs",
        "outputId": "ad6d402b-63fb-4838-f3e1-39e9a1e8b9a4"
      },
      "execution_count": null,
      "outputs": [
        {
          "name": "stdout",
          "output_type": "stream",
          "text": [
            "5 3\n"
          ]
        },
        {
          "output_type": "error",
          "ename": "ValueError",
          "evalue": "ignored",
          "traceback": [
            "\u001b[0;31m---------------------------------------------------------------------------\u001b[0m",
            "\u001b[0;31mValueError\u001b[0m                                Traceback (most recent call last)",
            "\u001b[0;32m<ipython-input-2-1fccd483e397>\u001b[0m in \u001b[0;36m<module>\u001b[0;34m\u001b[0m\n\u001b[1;32m     17\u001b[0m             \u001b[0;32mreturn\u001b[0m \u001b[0mpt\u001b[0m\u001b[0;34m\u001b[0m\u001b[0;34m\u001b[0m\u001b[0m\n\u001b[1;32m     18\u001b[0m \u001b[0;34m\u001b[0m\u001b[0m\n\u001b[0;32m---> 19\u001b[0;31m \u001b[0;32mfor\u001b[0m \u001b[0m_\u001b[0m \u001b[0;32min\u001b[0m \u001b[0mrange\u001b[0m\u001b[0;34m(\u001b[0m\u001b[0mint\u001b[0m\u001b[0;34m(\u001b[0m\u001b[0minput\u001b[0m\u001b[0;34m(\u001b[0m\u001b[0;34m)\u001b[0m\u001b[0;34m)\u001b[0m\u001b[0;34m)\u001b[0m\u001b[0;34m:\u001b[0m\u001b[0;34m\u001b[0m\u001b[0;34m\u001b[0m\u001b[0m\n\u001b[0m\u001b[1;32m     20\u001b[0m \u001b[0;34m\u001b[0m\u001b[0m\n\u001b[1;32m     21\u001b[0m     \u001b[0mn\u001b[0m\u001b[0;34m,\u001b[0m \u001b[0mq\u001b[0m \u001b[0;34m=\u001b[0m \u001b[0mmap\u001b[0m\u001b[0;34m(\u001b[0m\u001b[0mint\u001b[0m\u001b[0;34m,\u001b[0m \u001b[0minput\u001b[0m\u001b[0;34m(\u001b[0m\u001b[0;34m)\u001b[0m\u001b[0;34m.\u001b[0m\u001b[0msplit\u001b[0m\u001b[0;34m(\u001b[0m\u001b[0;34m)\u001b[0m\u001b[0;34m)\u001b[0m\u001b[0;34m\u001b[0m\u001b[0;34m\u001b[0m\u001b[0m\n",
            "\u001b[0;31mValueError\u001b[0m: invalid literal for int() with base 10: '5 3'"
          ]
        }
      ]
    },
    {
      "cell_type": "code",
      "source": [
        "\n",
        "def gcd(a,b):\n",
        "\tif (b == 0):\n",
        "\t\treturn a\n",
        "\treturn gcd(b, a%b)\n",
        "f,g=list(map(int,input().split()))\n",
        "d=list(map(int,input().split()))\n",
        "m=[]\n",
        "for i in range(g):\n",
        "  a,b=list(map(int,input().split()))\n",
        "  k=gcd(a,b)\n",
        "  m.append(k)\n",
        "\n",
        "l=[]\n",
        "for i in d:\n",
        "  for j in m:\n",
        "    if i==j:\n",
        "      l.append(j)\n",
        "if len(m)==1:\n",
        "  print(m[0]+1)\n",
        "else:\n",
        " for i in l:\n",
        "   print(i)"
      ],
      "metadata": {
        "colab": {
          "base_uri": "https://localhost:8080/"
        },
        "id": "OsumwlWYNbkQ",
        "outputId": "7d1ace7d-8b04-4fa9-99bc-ec40361fa3ac"
      },
      "execution_count": null,
      "outputs": [
        {
          "output_type": "stream",
          "name": "stdout",
          "text": [
            "5 3\n",
            "1 2 1 4 1\n",
            "1 3\n",
            "2 4\n",
            "3 4\n",
            "1\n",
            "1\n",
            "2\n",
            "1\n",
            "1\n",
            "1\n",
            "1\n"
          ]
        }
      ]
    },
    {
      "cell_type": "code",
      "source": [
        "(n, q) = map(int, input().split())\n",
        "l = [int(x) for x in input().split()]\n",
        "for _ in range(q):\n",
        "    (u, v) = map(int, input().split())\n",
        "    lst = l[u-1 : v]\n",
        "    xor = lst[0]\n",
        "    for i in range(1, len(lst)):\n",
        "        xor ^= lst[i]\n",
        "    print(xor)\n"
      ],
      "metadata": {
        "colab": {
          "base_uri": "https://localhost:8080/"
        },
        "id": "x1SStyvyNllX",
        "outputId": "9992c51b-6c97-4c5d-841d-c3d905994fde"
      },
      "execution_count": null,
      "outputs": [
        {
          "output_type": "stream",
          "name": "stdout",
          "text": [
            "5 3\n",
            "1 2 1 4 1\n",
            "1 3\n",
            "2\n",
            "2 4\n",
            "7\n",
            "3 4\n",
            "5\n"
          ]
        }
      ]
    },
    {
      "cell_type": "code",
      "source": [
        "# Python3 Program to find the\n",
        "#sum of leaf nodes of a binary tree\n",
        "\n",
        "\n",
        "# Class for node creation\n",
        "class Node:\n",
        "\t\n",
        "\t# Constructor\n",
        "\tdef __init__(self, data):\t\t\t\n",
        "\t\tself.data = data\n",
        "\t\tself.left = None\n",
        "\t\tself.right = None\n",
        "\n",
        "# Utility function to calculate\n",
        "# the sum of all leaf nodes\n",
        "def leafSum(root):\n",
        "\tglobal total\n",
        "\tif root is None:\n",
        "\t\treturn\n",
        "\tif (root.left is None and root.right is None):\n",
        "\t\ttotal += root.data\n",
        "\tleafSum(root.left)\n",
        "\tleafSum(root.right)\n",
        "\n",
        "\n",
        "a=int(input())\n",
        "b=list(map(int,input().split())\n",
        "root=Node(b[0])\n",
        "for i in range(1,len(b)):\n",
        "\tif b[i]<root and root.left is None:\n",
        "\t\troot.left = Node(b[i])\n",
        "\tif b[i]>root and root.right is None:\n",
        "\t\troot.right= Node(b[i])\n",
        "\t\n",
        "\tif b[i]<root.left :\n",
        "\t\troot.left.left=Node(b[i])\n",
        "\tif b[i]>root.left:\n",
        "\t\troot.left.right=Node(b[i])\n",
        "\t\n",
        "\tif b[i]<root.right:\n",
        "\t\troot.right.left=Node(b[i])\n",
        "\tif b[i]>root.right:\n",
        "\t\troot.right.right=Node(b[i])\n",
        "\t\n",
        "\tif b[i]<root.left.left:\n",
        "\t\troot.left.left.left=Node(b[i])\n",
        "\tif b[i]>root.left.left:\n",
        "\t\troot.left.left.right=Node(b[i])\n",
        "\t\n",
        "\tif b[i]>root.left.right:\n",
        "\t\troot.left.left.right=Node(b[i])\n",
        "\tif b[i]<root.left.right:\n",
        "\t\troot.left.left.left=Node(b[i])\n",
        "\t\n",
        "\tif b[i]<root.right.left:\n",
        "\t\troot.right.left.left=Node(b[i])\n",
        "\tif b[i]>root.right.left:\n",
        "\t\troot.right.left.right=Node(b[i])\n",
        "\tif b[i]<root.right.right:\n",
        "\t\troot.right.right.left=Node(b[i])\n",
        "\tif b[i]>root.right.right:\t\n",
        "\t\troot.right.right.right=Node(b[i])\n",
        "# Variable to store the sum of leaf nodes\n",
        "\ttotal = 0\n",
        "\tleafSum(root)\n",
        "# Printing the calculated sum\n",
        "\tprint(total)\n",
        "\n"
      ],
      "metadata": {
        "colab": {
          "base_uri": "https://localhost:8080/",
          "height": 131
        },
        "id": "zjtbXfmNP5K2",
        "outputId": "7a968e99-f78b-4700-bbad-1e431d03c691"
      },
      "execution_count": null,
      "outputs": [
        {
          "output_type": "error",
          "ename": "SyntaxError",
          "evalue": "ignored",
          "traceback": [
            "\u001b[0;36m  File \u001b[0;32m\"<ipython-input-7-8164a39826ee>\"\u001b[0;36m, line \u001b[0;32m28\u001b[0m\n\u001b[0;31m    root=Node(b[0])\u001b[0m\n\u001b[0m    ^\u001b[0m\n\u001b[0;31mSyntaxError\u001b[0m\u001b[0;31m:\u001b[0m invalid syntax\n"
          ]
        }
      ]
    },
    {
      "cell_type": "code",
      "source": [
        "# Python3 Program to find the\n",
        "#sum of leaf nodes of a binary tree\n",
        "\n",
        "\n",
        "# Class for node creation\n",
        "class Node:\n",
        "\t\n",
        "\t# Constructor\n",
        "\tdef __init__(self, data):\t\t\t\n",
        "\t\tself.data = data\n",
        "\t\tself.left = None\n",
        "\t\tself.right = None\n",
        "\n",
        "# Utility function to calculate\n",
        "# the sum of all leaf nodes\n",
        "def leafSum(root):\n",
        "\tglobal total\n",
        "\tif root is None:\n",
        "\t\treturn\n",
        "\tif (root.left is None and root.right is None):\n",
        "\t\ttotal += root.data\n",
        "\tleafSum(root.left)\n",
        "\tleafSum(root.right)\n",
        "\n",
        "# Binary tree Formation\n",
        "if __name__=='__main__':\n",
        "\ta=int(input())\n",
        "  b=list(map())\n",
        "\troot = Node(67)\n",
        "\troot.left = Node(34)\n",
        "\troot.left.left = Node(12)\n",
        "\troot.left.right = Node(45)\n",
        "\troot.right = Node(82)\n",
        "\t\n",
        "\troot.right.left = Node(78)\n",
        "# Variable to store the sum of leaf nodes\n",
        "\ttotal = 0\n",
        "\tleafSum(root)\n",
        "# Printing the calculated sum\n",
        "\tprint(total)\n",
        "\n",
        "# This code is contributed by Naren Sai Krishna\n"
      ],
      "metadata": {
        "colab": {
          "base_uri": "https://localhost:8080/"
        },
        "id": "k0DdaLQvFTdo",
        "outputId": "978445a7-a91c-4451-f8af-cdfa3c0049b9"
      },
      "execution_count": null,
      "outputs": [
        {
          "output_type": "stream",
          "name": "stdout",
          "text": [
            "135\n"
          ]
        }
      ]
    },
    {
      "cell_type": "code",
      "source": [],
      "metadata": {
        "id": "QONkUvMJE4ke"
      },
      "execution_count": null,
      "outputs": []
    },
    {
      "cell_type": "code",
      "source": [
        "# Python program to create a Complete Binary Tree from\n",
        "# its linked list representation\n",
        "\n",
        "# Linked List node\n",
        "class ListNode:\n",
        "\n",
        "\t\t# Constructor to create a new node\n",
        "\t\tdef __init__(self, data):\n",
        "\t\t\tself.data = data\n",
        "\t\t\tself.next = None\n",
        "\n",
        "# Binary Tree Node structure\n",
        "class BinaryTreeNode:\n",
        "\n",
        "\t# Constructor to create a new node\n",
        "\tdef __init__(self, data):\n",
        "\t\tself.data = data\n",
        "\t\tself.left = None\n",
        "\t\tself.right = None\n",
        "\n",
        "# Class to convert the linked list to Binary Tree\n",
        "class Conversion:\n",
        "\n",
        "\t# Constructor for storing head of linked list\n",
        "\t# and root for the Binary Tree\n",
        "\tdef __init__(self, data = None):\n",
        "\t\tself.head = None\n",
        "\t\tself.root = None\n",
        "\n",
        "\tdef push(self, new_data):\n",
        "\n",
        "\t\t# Creating a new linked list node and storing data\n",
        "\t\tnew_node = ListNode(new_data)\n",
        "\n",
        "\t\t# Make next of new node as head\n",
        "\t\tnew_node.next = self.head\n",
        "\n",
        "\t\t# Move the head to point to new node\n",
        "\t\tself.head = new_node\n",
        "\n",
        "\tdef convertList2Binary(self):\n",
        "\n",
        "\t\t# Queue to store the parent nodes\n",
        "\t\tq = []\n",
        "\n",
        "\t\t# Base Case\n",
        "\t\tif self.head is None:\n",
        "\t\t\tself.root = None\n",
        "\t\t\treturn\n",
        "\n",
        "\t\t# 1.) The first node is always the root node,\n",
        "\t\t# and add it to the queue\n",
        "\t\tself.root = BinaryTreeNode(self.head.data)\n",
        "\t\tq.append(self.root)\n",
        "\n",
        "\t\t# Advance the pointer to the next node\n",
        "\t\tself.head = self.head.next\n",
        "\n",
        "\t\t# Until the end of linked list is reached, do:\n",
        "\t\twhile(self.head):\n",
        "\n",
        "\t\t\t# 2.a) Take the parent node from the q and\n",
        "\t\t\t# and remove it from q\n",
        "\t\t\tparent = q.pop(0) # Front of queue\n",
        "\n",
        "\t\t\t# 2.c) Take next two nodes from the linked list.\n",
        "\t\t\t# We will add them as children of the current\n",
        "\t\t\t# parent node in step 2.b.\n",
        "\t\t\t# Push them into the queue so that they will be\n",
        "\t\t\t# parent to the future node\n",
        "\t\t\tleftChild= None\n",
        "\t\t\trightChild = None\n",
        "\n",
        "\t\t\tleftChild = BinaryTreeNode(self.head.data)\n",
        "\t\t\tq.append(leftChild)\n",
        "\t\t\tself.head = self.head.next\n",
        "\t\t\tif(self.head):\n",
        "\t\t\t\trightChild = BinaryTreeNode(self.head.data)\n",
        "\t\t\t\tq.append(rightChild)\n",
        "\t\t\t\tself.head = self.head.next\n",
        "\n",
        "\t\t\t#2.b) Assign the left and right children of parent\n",
        "\t\t\tparent.left = leftChild\n",
        "\t\t\tparent.right = rightChild\n",
        "\n",
        "\tdef inorderTraversal(self, root):\n",
        "\t\tif(root):\n",
        "\t\t\tself.inorderTraversal(root.left)\n",
        "\t\t\tprint (root.data,end=\" \")\n",
        "\t\t\tself.inorderTraversal(root.right)\n",
        "\n",
        "# Driver Program to test above function\n",
        "\n",
        "# Object of conversion class\n",
        "conv = Conversion()\n",
        "b=list(map(int,input().split()))\n",
        "for i in range(len(b)):\n",
        "  conv.push(b[i])\n",
        "\n",
        "\n",
        "conv.convertList2Binary()\n",
        "\n",
        "print (\"Inorder Traversal of the constructed Binary Tree is:\")\n",
        "conv.inorderTraversal(conv.root)\n",
        "\n",
        "# This code is contributed by Nikhil Kumar Singh(nickzuck_007)\n"
      ],
      "metadata": {
        "colab": {
          "base_uri": "https://localhost:8080/"
        },
        "id": "C-mUJULbC--F",
        "outputId": "9d7c806e-6069-4019-b5c8-d33998182b86"
      },
      "execution_count": null,
      "outputs": [
        {
          "output_type": "stream",
          "name": "stdout",
          "text": [
            "67 34 82 12 45 78\n",
            "Inorder Traversal of the constructed Binary Tree is:\n",
            "82 45 34 78 67 12 "
          ]
        }
      ]
    },
    {
      "cell_type": "code",
      "source": [],
      "metadata": {
        "id": "3yKyDkQIj1HZ"
      },
      "execution_count": null,
      "outputs": []
    },
    {
      "cell_type": "code",
      "source": [],
      "metadata": {
        "id": "oLbzG3fXCdSl"
      },
      "execution_count": null,
      "outputs": []
    },
    {
      "cell_type": "code",
      "source": [],
      "metadata": {
        "id": "i2Z_ex7wCbev"
      },
      "execution_count": null,
      "outputs": []
    },
    {
      "cell_type": "code",
      "source": [
        "a=int(input())\n"
      ],
      "metadata": {
        "id": "kXXfx3awnekZ"
      },
      "execution_count": null,
      "outputs": []
    },
    {
      "cell_type": "code",
      "source": [
        "aa"
      ],
      "metadata": {
        "id": "4rEGk1rznfMt"
      },
      "execution_count": null,
      "outputs": []
    },
    {
      "cell_type": "code",
      "source": [
        "def sumOfLastN_Nodes(head,n):\n",
        "    temp=head\n",
        "    count1=1\n",
        "    while temp:\n",
        "        count1+=1\n",
        "        temp=temp.next\n",
        "    count2=1\n",
        "    \n",
        "    while count1-count2!=n:\n",
        "        count2+=1\n",
        "        head=head.next\n",
        "    res=0\n",
        "    while head:\n",
        "        res+=head.data\n",
        "        head=head.next\n",
        "    return res\n"
      ],
      "metadata": {
        "id": "1hXRF4QNUJTf"
      },
      "execution_count": null,
      "outputs": []
    },
    {
      "cell_type": "code",
      "source": [
        "\n",
        "a=int(input())\n",
        "b=list(map(int,input().split()))\n",
        "k=int(input())\n",
        "if k in b:\n",
        "  print(\"1\")\n",
        "else:\n",
        "  for i in range(len(b)):\n",
        "    if b[i]<k and b[i+1]>k:\n",
        "      s=(a-1)-i\n",
        "      break\n",
        "  print(s)\n",
        "    "
      ],
      "metadata": {
        "colab": {
          "base_uri": "https://localhost:8080/"
        },
        "id": "fpa5p_hsPdrY",
        "outputId": "bf6c482c-7fac-460c-cc96-737b2316cddc"
      },
      "execution_count": null,
      "outputs": [
        {
          "output_type": "stream",
          "name": "stdout",
          "text": [
            "6\n",
            "10 60 90 120 150 180\n",
            "30\n",
            "5\n"
          ]
        }
      ]
    },
    {
      "cell_type": "code",
      "source": [
        "# Python3 implementation to find the sum of\n",
        "# last 'n' nodes of the Linked List\n",
        "\n",
        "# Linked List node\n",
        "class Node:\n",
        "\tdef __init__(self, data):\n",
        "\t\tself.data = data\n",
        "\t\tself.next = None\n",
        "\n",
        "head = None\n",
        "n = 0\n",
        "sum = 0\n",
        "\n",
        "# function to insert a node at the\n",
        "# beginning of the linked list\n",
        "def push(head_ref, new_data):\n",
        "\tglobal head\n",
        "\t\n",
        "\t# allocate node\n",
        "\tnew_node = Node(0)\n",
        "\t\n",
        "\t# put in the data\n",
        "\tnew_node.data = new_data\n",
        "\t\n",
        "\t# link the old list to the new node\n",
        "\tnew_node.next = head_ref\n",
        "\t\n",
        "\t# move the head to point to the new node\n",
        "\thead_ref = new_node\n",
        "\thead = head_ref\n",
        "\n",
        "# function to recursively find the sum of last\n",
        "# 'n' nodes of the given linked list\n",
        "def sumOfLastN_Nodes(head):\n",
        "\n",
        "\tglobal sum\n",
        "\tglobal n\n",
        "\n",
        "\t# if head = None\n",
        "\tif (head == None):\n",
        "\t\treturn\n",
        "\n",
        "\t# recursively traverse the remaining nodes\n",
        "\tsumOfLastN_Nodes(head.next)\n",
        "\n",
        "\t# if node count 'n' is greater than 0\n",
        "\tif (n > 0) :\n",
        "\t\n",
        "\t\t# accumulate sum\n",
        "\t\tsum = sum + head.data\n",
        "\n",
        "\t\t# reduce node count 'n' by 1\n",
        "\t\tn = n - 1\n",
        "\t\n",
        "# utility function to find the sum of last 'n' nodes\n",
        "def sumOfLastN_NodesUtil(head, n):\n",
        "\t\n",
        "\tglobal sum\n",
        "\t\n",
        "\t# if n == 0\n",
        "\tif (n <= 0):\n",
        "\t\treturn 08\n",
        "\n",
        "\tsum = 0\n",
        "\n",
        "\t# find the sum of last 'n' nodes\n",
        "\tsumOfLastN_Nodes(head)\n",
        "\n",
        "\t# required sum\n",
        "\treturn sum\n",
        "\n",
        "# Driver Code\n",
        "head = None\n",
        "\n",
        "# create linked list 10.6.8.4.12\n",
        "arr=list(map(int,input().split()))\n",
        "for i in range(len(arr)):\n",
        "  push(head, arr[i])\n",
        "\n",
        "\n",
        "n = 2\n",
        "print(\"Sum of last \" , n ,\n",
        "\t\" nodes = \", sumOfLastN_NodesUtil(head, n))\n",
        "\n",
        "# This code is contributed by Arnab Kundu\n"
      ],
      "metadata": {
        "colab": {
          "base_uri": "https://localhost:8080/"
        },
        "id": "3YSznjb6UWvb",
        "outputId": "4cf3f66c-398b-4457-f79a-52954869994d"
      },
      "execution_count": null,
      "outputs": [
        {
          "output_type": "stream",
          "name": "stdout",
          "text": [
            "67 34 82 12 45 78\n",
            "Sum of last  2  nodes =  101\n"
          ]
        }
      ]
    },
    {
      "cell_type": "code",
      "source": [
        "\n",
        "class TreeNode(object):\n",
        "    def __init__(self, x):\n",
        "        self.val = x\n",
        "        self.left = None\n",
        "        self.right = None\n",
        "\n",
        "def array_to_bst(array_nums):\n",
        "    if not array_nums:\n",
        "        return None\n",
        "    mid_num = len(array_nums)//2\n",
        "    node = TreeNode(array_nums[mid_num])\n",
        "    node.left = array_to_bst(array_nums[:mid_num])\n",
        "    node.right = array_to_bst(array_nums[mid_num+1:])\n",
        "    return node\n",
        "\n",
        "def preOrder(node): \n",
        "    if not node: \n",
        "        return      \n",
        "    print(node.val)\n",
        "    preOrder(node.left) \n",
        "    preOrder(node.right)   \n",
        "\n",
        "array_nums = list(map(int,input().split()))\n",
        "print(\"Original array:\")\n",
        "print(array_nums)\n",
        "result = array_to_bst(array_nums)\n",
        "print(\"\\nArray to a height balanced BST:\")\n",
        "print(preOrder(result))\n",
        "\n"
      ],
      "metadata": {
        "colab": {
          "base_uri": "https://localhost:8080/"
        },
        "id": "Eh7OHRojZIRp",
        "outputId": "aa9afa07-b663-46c3-b7f0-43d528e82dd1"
      },
      "execution_count": null,
      "outputs": [
        {
          "output_type": "stream",
          "name": "stdout",
          "text": [
            "67 34 82 12 45 78\n",
            "Original array:\n",
            "[67, 34, 82, 12, 45, 78]\n",
            "\n",
            "Array to a height balanced BST:\n",
            "12\n",
            "34\n",
            "67\n",
            "82\n",
            "78\n",
            "45\n",
            "None\n"
          ]
        }
      ]
    },
    {
      "cell_type": "code",
      "source": [
        "# Tree traversal in Python\n",
        "\n",
        "\n",
        "class Node:\n",
        "    def __init__(self, item):\n",
        "        self.left = None\n",
        "        self.right = None\n",
        "        self.val = item\n",
        "\n",
        "\n",
        "def inorder(root):\n",
        "\n",
        "    if root:\n",
        "        # Traverse left\n",
        "        inorder(root.left)\n",
        "        # Traverse root\n",
        "        print(str(root.val) + \"->\", end='')\n",
        "        # Traverse right\n",
        "        inorder(root.right)\n",
        "\n",
        "\n",
        "def postorder(root):\n",
        "\n",
        "    if root:\n",
        "        # Traverse left\n",
        "        postorder(root.left)\n",
        "        # Traverse right\n",
        "        postorder(root.right)\n",
        "        # Traverse root\n",
        "        print(str(root.val) + \"->\", end='')\n",
        "\n",
        "\n",
        "def preorder(root):\n",
        "\n",
        "    if root:\n",
        "        # Traverse root\n",
        "        print(str(root.val) + \"->\", end='')\n",
        "        # Traverse left\n",
        "        preorder(root.left)\n",
        "        # Traverse right\n",
        "        preorder(root.right)\n",
        "\n",
        "\n",
        "root = Node(1)\n",
        "root.left = Node(2)\n",
        "root.right = Node(3)\n",
        "root.left.left = Node(4)\n",
        "root.left.right = Node(5)\n",
        "\n",
        "print(\"Inorder traversal \")\n",
        "inorder(root)\n",
        "\n",
        "print(\"\\nPreorder traversal \")\n",
        "preorder(root)\n",
        "\n",
        "print(\"\\nPostorder traversal \")\n",
        "postorder(root)"
      ],
      "metadata": {
        "colab": {
          "base_uri": "https://localhost:8080/"
        },
        "id": "vHvEFBf5VTdy",
        "outputId": "352ae132-88f8-4bbe-8453-32694f54c212"
      },
      "execution_count": null,
      "outputs": [
        {
          "output_type": "stream",
          "name": "stdout",
          "text": [
            "Inorder traversal \n",
            "4->2->5->1->3->\n",
            "Preorder traversal \n",
            "1->2->4->5->3->\n",
            "Postorder traversal \n",
            "4->5->2->3->1->"
          ]
        }
      ]
    },
    {
      "cell_type": "code",
      "source": [
        "a=int(input())\n",
        "b=list(map(int,input().split()))\n",
        "k=int(input())\n",
        "m=0\n",
        "for i in b:\n",
        "  if i==k:\n",
        "    m+=1\n",
        "print(m)"
      ],
      "metadata": {
        "colab": {
          "base_uri": "https://localhost:8080/"
        },
        "outputId": "e33764c3-5713-4d22-d157-4637ab99839a",
        "id": "zHk-5KNyQmFO"
      },
      "execution_count": null,
      "outputs": [
        {
          "output_type": "stream",
          "name": "stdout",
          "text": [
            "6\n",
            "10 20 30 100 150 200\n",
            "30\n",
            "1\n"
          ]
        }
      ]
    },
    {
      "cell_type": "code",
      "source": [],
      "metadata": {
        "id": "tjDAaItmP95W"
      },
      "execution_count": null,
      "outputs": []
    },
    {
      "cell_type": "code",
      "source": [
        "import random\n",
        "h=[1,3,2,0]\n",
        "random.shuffle(h)\n",
        "print(h)"
      ],
      "metadata": {
        "colab": {
          "base_uri": "https://localhost:8080/"
        },
        "id": "6Hh0sPGtBSiS",
        "outputId": "dea319ed-6a46-4d8e-9e6c-80052a342864"
      },
      "execution_count": null,
      "outputs": [
        {
          "output_type": "stream",
          "name": "stdout",
          "text": [
            "[2, 0, 3, 1]\n"
          ]
        }
      ]
    },
    {
      "cell_type": "code",
      "source": [
        "a=int(input())\n",
        "b=list(map(int,input().split()))\n",
        "k={}\n",
        "for i in b:\n",
        "    if i in k:\n",
        "        k[i]+=1\n",
        "    else:\n",
        "        k[i]=1\n",
        "\n",
        "s=sorted(k,)\n",
        "print(s)"
      ],
      "metadata": {
        "id": "XY2h4B41aXXg",
        "colab": {
          "base_uri": "https://localhost:8080/",
          "height": 253
        },
        "outputId": "b5472f2d-986d-44a0-e06e-0c1a00c0b77c"
      },
      "execution_count": null,
      "outputs": [
        {
          "name": "stdout",
          "output_type": "stream",
          "text": [
            "5\n",
            "8 8 1 1 3\n"
          ]
        },
        {
          "output_type": "error",
          "ename": "KeyError",
          "evalue": "ignored",
          "traceback": [
            "\u001b[0;31m---------------------------------------------------------------------------\u001b[0m",
            "\u001b[0;31mKeyError\u001b[0m                                  Traceback (most recent call last)",
            "\u001b[0;32m<ipython-input-3-2a6c41c216ff>\u001b[0m in \u001b[0;36m<module>\u001b[0;34m\u001b[0m\n\u001b[1;32m      8\u001b[0m         \u001b[0mk\u001b[0m\u001b[0;34m[\u001b[0m\u001b[0mi\u001b[0m\u001b[0;34m]\u001b[0m\u001b[0;34m=\u001b[0m\u001b[0;36m1\u001b[0m\u001b[0;34m\u001b[0m\u001b[0;34m\u001b[0m\u001b[0m\n\u001b[1;32m      9\u001b[0m \u001b[0;34m\u001b[0m\u001b[0m\n\u001b[0;32m---> 10\u001b[0;31m \u001b[0ms\u001b[0m\u001b[0;34m=\u001b[0m\u001b[0msorted\u001b[0m\u001b[0;34m(\u001b[0m\u001b[0mk\u001b[0m\u001b[0;34m[\u001b[0m\u001b[0;36m0\u001b[0m\u001b[0;34m]\u001b[0m\u001b[0;34m)\u001b[0m\u001b[0;34m\u001b[0m\u001b[0;34m\u001b[0m\u001b[0m\n\u001b[0m\u001b[1;32m     11\u001b[0m \u001b[0mprint\u001b[0m\u001b[0;34m(\u001b[0m\u001b[0ms\u001b[0m\u001b[0;34m)\u001b[0m\u001b[0;34m\u001b[0m\u001b[0;34m\u001b[0m\u001b[0m\n",
            "\u001b[0;31mKeyError\u001b[0m: 0"
          ]
        }
      ]
    },
    {
      "cell_type": "code",
      "source": [],
      "metadata": {
        "id": "77BAhg9PmUqN"
      },
      "execution_count": null,
      "outputs": []
    },
    {
      "cell_type": "code",
      "source": [],
      "metadata": {
        "id": "ImRMlSi41zYs"
      },
      "execution_count": null,
      "outputs": []
    },
    {
      "cell_type": "code",
      "source": [],
      "metadata": {
        "id": "WllUf8Gn1zbk"
      },
      "execution_count": null,
      "outputs": []
    },
    {
      "cell_type": "code",
      "source": [],
      "metadata": {
        "id": "Nr7rZ--m1ze5"
      },
      "execution_count": null,
      "outputs": []
    }
  ]
}