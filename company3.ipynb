{
  "nbformat": 4,
  "nbformat_minor": 0,
  "metadata": {
    "colab": {
      "provenance": [],
      "authorship_tag": "ABX9TyO8vDQ83dsc/9cvD6UfuFnp",
      "include_colab_link": true
    },
    "kernelspec": {
      "name": "python3",
      "display_name": "Python 3"
    },
    "language_info": {
      "name": "python"
    }
  },
  "cells": [
    {
      "cell_type": "markdown",
      "metadata": {
        "id": "view-in-github",
        "colab_type": "text"
      },
      "source": [
        "<a href=\"https://colab.research.google.com/github/omkarmohite123/Companies_Problem-solving-using-Python/blob/main/company3.ipynb\" target=\"_parent\"><img src=\"https://colab.research.google.com/assets/colab-badge.svg\" alt=\"Open In Colab\"/></a>"
      ]
    },
    {
      "cell_type": "code",
      "source": [
        "\"\"\"\n",
        "Given 2 numbers N,K and an array of N integers, find if the element K exists in the array.\n",
        "Input Size : N <= 100000\n",
        "Sample Testcase :\n",
        "INPUT\n",
        "5 2\n",
        "1 2 3 4 5\n",
        "OUTPUT\n",
        "yes\n",
        "HINT: Read about Binary Search\n",
        "\n",
        "\n",
        "\"\"\""
      ],
      "metadata": {
        "id": "NHOGJ3wirbe6"
      },
      "execution_count": null,
      "outputs": []
    },
    {
      "cell_type": "code",
      "source": [
        "\n",
        "def b(a,k):\n",
        "  high=len(a)-1\n",
        "  low=0\n",
        "  mid=0\n",
        "  while low<=high:\n",
        "    mid=(high +low)//2\n",
        "    if a[mid]<k:\n",
        "      low=mid+1\n",
        "    elif a[mid]>k:\n",
        "      high=mid-1\n",
        "    else:\n",
        "      return mid\n",
        "  return -1\n",
        "s,k=map(int,input().split())\n",
        "a=list(map(int,input().split()))\n",
        "res=b(a,k)\n",
        "if res!=-1:\n",
        "  print(\"yes\")\n",
        "else:\n",
        "  print(\"no\")"
      ],
      "metadata": {
        "colab": {
          "base_uri": "https://localhost:8080/"
        },
        "id": "Jc8CgaIRrbmY",
        "outputId": "a0167b6b-b281-4579-a280-ec0d938fc5a5"
      },
      "execution_count": 28,
      "outputs": [
        {
          "output_type": "stream",
          "name": "stdout",
          "text": [
            "5 2\n",
            "1 2 3 4 5\n",
            "yes\n"
          ]
        }
      ]
    }
  ]
}