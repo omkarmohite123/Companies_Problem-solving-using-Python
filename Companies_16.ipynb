{
  "nbformat": 4,
  "nbformat_minor": 0,
  "metadata": {
    "colab": {
      "provenance": [],
      "authorship_tag": "ABX9TyPeKzkP90FcxlhihLBPQxQI",
      "include_colab_link": true
    },
    "kernelspec": {
      "name": "python3",
      "display_name": "Python 3"
    },
    "language_info": {
      "name": "python"
    }
  },
  "cells": [
    {
      "cell_type": "markdown",
      "metadata": {
        "id": "view-in-github",
        "colab_type": "text"
      },
      "source": [
        "<a href=\"https://colab.research.google.com/github/omkarmohite123/Companies_Problem-solving-using-Python/blob/main/Companies_16.ipynb\" target=\"_parent\"><img src=\"https://colab.research.google.com/assets/colab-badge.svg\" alt=\"Open In Colab\"/></a>"
      ]
    },
    {
      "cell_type": "code",
      "source": [
        "\"\"\"\n",
        "Print the position of first 1 from left to right, in binary representation of product of 2 integers after the first one.\n",
        "Sample Testcase :\n",
        "INPUT\n",
        "18 2\n",
        "OUTPUT\n",
        "4\n",
        "\n",
        "\n",
        "\"\"\""
      ],
      "metadata": {
        "id": "elaZA_SEvBg2"
      },
      "execution_count": null,
      "outputs": []
    },
    {
      "cell_type": "code",
      "source": [
        "a,b=list(map(int,input().split()))\n",
        "c=a*b\n",
        "k=bin(c)\n",
        "\n",
        "d=[]\n",
        "for i in range(len(k)):\n",
        "  if k[i]==\"1\":\n",
        "     m=k.index(k[i])\n",
        "     d.append(m)\n",
        "if b!=0:\n",
        "   print(int(d[0])+1)\n",
        "else:\n",
        "   print(\"0\")\n"
      ],
      "metadata": {
        "colab": {
          "base_uri": "https://localhost:8080/"
        },
        "id": "trz65QQovBjy",
        "outputId": "8aba8281-0b16-4817-b47a-38498fd5ab6a"
      },
      "execution_count": 1,
      "outputs": [
        {
          "output_type": "stream",
          "name": "stdout",
          "text": [
            "18 2\n",
            "3\n"
          ]
        }
      ]
    }
  ]
}