{
  "nbformat": 4,
  "nbformat_minor": 0,
  "metadata": {
    "colab": {
      "provenance": [],
      "authorship_tag": "ABX9TyM3FYmdGxHJeAa8IikH2C0h",
      "include_colab_link": true
    },
    "kernelspec": {
      "name": "python3",
      "display_name": "Python 3"
    },
    "language_info": {
      "name": "python"
    }
  },
  "cells": [
    {
      "cell_type": "markdown",
      "metadata": {
        "id": "view-in-github",
        "colab_type": "text"
      },
      "source": [
        "<a href=\"https://colab.research.google.com/github/omkarmohite123/Companies_Problem-solving-using-Python/blob/main/Company19.ipynb\" target=\"_parent\"><img src=\"https://colab.research.google.com/assets/colab-badge.svg\" alt=\"Open In Colab\"/></a>"
      ]
    },
    {
      "cell_type": "code",
      "source": [
        "\"\"\"\n",
        "Given a number N and N strings of length atmost M, print the longest common prefix.\n",
        "Input Size : 1<=N, M<=100000\n",
        "Example:\n",
        "INPUT\n",
        "2\n",
        "Vishal\n",
        "Vidharba\n",
        "OUTPUT\n",
        "Vi\n",
        "\n",
        "\"\"\""
      ],
      "metadata": {
        "id": "tsuEAC9BHU-d"
      },
      "execution_count": null,
      "outputs": []
    },
    {
      "cell_type": "code",
      "source": [
        "\n",
        "def findMinLength(strList):\n",
        "\treturn len(min(arr, key = len))\n",
        "\n",
        "def allContainsPrefix(strList, str,\n",
        "\t\t\t\t\tstart, end):\n",
        "\tfor i in range(0, len(strList)):\n",
        "\t\tword = strList[i]\n",
        "\t\tfor j in range(start, end + 1):\n",
        "\t\t\tif word[j] != str[j]:\n",
        "\t\t\t\treturn False\n",
        "\treturn True\n",
        "def CommonPrefix(strList):\n",
        "\tindex = findMinLength(strList)\n",
        "\tprefix = \"\"\t\n",
        "\tlow, high = 0, index - 1\n",
        "\twhile low <= high:\n",
        "\t\tmid = int(low + (high - low) / 2)\n",
        "\t\tif allContainsPrefix(strList,\n",
        "\t\t\t\t\t\t\tstrList[0], low, mid):\n",
        "\t\t\tprefix = prefix + strList[0][low:mid + 1]\n",
        "\t\t\tlow = mid + 1\n",
        "\t\telse:\n",
        "\t\t\thigh = mid - 1\n",
        "\n",
        "\treturn prefix\n",
        "\n",
        "n=int(input())\n",
        "arr=[]\n",
        "for i in range(n):\n",
        "  arr.append(input())\n",
        "\n",
        "lcp = CommonPrefix(arr)\n",
        "if len(lcp)>0:\n",
        "   print(str(lcp))\n",
        "else:\n",
        "  print(\"-1\")\n",
        "\n",
        "\n"
      ],
      "metadata": {
        "colab": {
          "base_uri": "https://localhost:8080/"
        },
        "outputId": "db518ddc-339c-4f47-f655-dc6938b36c45",
        "id": "lCUUDNlhHbr8"
      },
      "execution_count": 7,
      "outputs": [
        {
          "output_type": "stream",
          "name": "stdout",
          "text": [
            "2\n",
            "Vishal\n",
            "Vidharba\n",
            "Vi\n"
          ]
        }
      ]
    },
    {
      "cell_type": "code",
      "source": [],
      "metadata": {
        "id": "q7Wu3_4E9S_B"
      },
      "execution_count": null,
      "outputs": []
    }
  ]
}