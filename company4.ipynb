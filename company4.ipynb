{
  "nbformat": 4,
  "nbformat_minor": 0,
  "metadata": {
    "colab": {
      "provenance": [],
      "authorship_tag": "ABX9TyPXN82zVx0dzxP86t8UwqNw",
      "include_colab_link": true
    },
    "kernelspec": {
      "name": "python3",
      "display_name": "Python 3"
    },
    "language_info": {
      "name": "python"
    }
  },
  "cells": [
    {
      "cell_type": "markdown",
      "metadata": {
        "id": "view-in-github",
        "colab_type": "text"
      },
      "source": [
        "<a href=\"https://colab.research.google.com/github/omkarmohite123/Companies_Problem-solving-using-Python/blob/main/company4.ipynb\" target=\"_parent\"><img src=\"https://colab.research.google.com/assets/colab-badge.svg\" alt=\"Open In Colab\"/></a>"
      ]
    },
    {
      "cell_type": "code",
      "source": [
        "\"\"\"\n",
        "Given a number 'N' print the sum of each digit to the power of number of digits in given input.\n",
        "Example :\n",
        "Input => 1234\n",
        "=> ( 1 ^ 4 ) + ( 2 ^ 4 ) + ( 3 ^ 4 ) + ( 4 ^ 4 )\n",
        "=> 1 + 16 + 81 + 256\n",
        "Output => 354\n",
        "N <=100000000000\n",
        "Sample Testcase :\n",
        "INPUT\n",
        "1234\n",
        "OUTPUT\n",
        "354\n",
        "\"\"\""
      ],
      "metadata": {
        "id": "hxFcWytArvqt"
      },
      "execution_count": null,
      "outputs": []
    },
    {
      "cell_type": "code",
      "source": [
        "\n",
        "import numpy as np\n",
        "b=input()\n",
        "a=list(map(int,b))\n",
        "c=len(a)\n",
        "d=np.power(a,c)\n",
        "print(sum(d))"
      ],
      "metadata": {
        "colab": {
          "base_uri": "https://localhost:8080/"
        },
        "id": "kBzgW6Mxrvxf",
        "outputId": "58e76b31-1b67-4e9b-c361-9b242d4e5650"
      },
      "execution_count": 29,
      "outputs": [
        {
          "output_type": "stream",
          "name": "stdout",
          "text": [
            "1234\n",
            "354\n"
          ]
        }
      ]
    }
  ]
}