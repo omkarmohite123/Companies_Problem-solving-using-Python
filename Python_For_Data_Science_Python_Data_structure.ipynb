{
  "nbformat": 4,
  "nbformat_minor": 0,
  "metadata": {
    "colab": {
      "provenance": [],
      "collapsed_sections": [
        "_rehYX145nEk",
        "g4-XjayC8KO7"
      ],
      "include_colab_link": true
    },
    "kernelspec": {
      "display_name": "Python 3",
      "language": "python",
      "name": "python3"
    }
  },
  "cells": [
    {
      "cell_type": "markdown",
      "metadata": {
        "id": "view-in-github",
        "colab_type": "text"
      },
      "source": [
        "<a href=\"https://colab.research.google.com/github/omkarmohite123/Companies_Problem-solving-using-Python/blob/main/Python_For_Data_Science_Python_Data_structure.ipynb\" target=\"_parent\"><img src=\"https://colab.research.google.com/assets/colab-badge.svg\" alt=\"Open In Colab\"/></a>"
      ]
    },
    {
      "metadata": {
        "id": "s39SnnxrZxsx"
      },
      "cell_type": "markdown",
      "source": [
        "# Lesson 5: Python Data Structures\n"
      ]
    },
    {
      "cell_type": "code",
      "source": [
        "!pip install xlsxwriter"
      ],
      "metadata": {
        "colab": {
          "base_uri": "https://localhost:8080/"
        },
        "id": "GTXIg9ihleds",
        "outputId": "5b7eebac-134c-431c-e3b8-fc720599ab9e"
      },
      "execution_count": null,
      "outputs": [
        {
          "output_type": "stream",
          "name": "stdout",
          "text": [
            "Looking in indexes: https://pypi.org/simple, https://us-python.pkg.dev/colab-wheels/public/simple/\n",
            "Collecting xlsxwriter\n",
            "  Downloading XlsxWriter-3.0.7-py3-none-any.whl (152 kB)\n",
            "\u001b[2K     \u001b[90m━━━━━━━━━━━━━━━━━━━━━━━━━━━━━━━━━━━━━━━\u001b[0m \u001b[32m152.8/152.8 KB\u001b[0m \u001b[31m4.5 MB/s\u001b[0m eta \u001b[36m0:00:00\u001b[0m\n",
            "\u001b[?25hInstalling collected packages: xlsxwriter\n",
            "Successfully installed xlsxwriter-3.0.7\n"
          ]
        }
      ]
    },
    {
      "cell_type": "code",
      "source": [
        "import xlsxwriter\n",
        "workbook=xlsxwriter.Workbook('/content/ram.xlsx')  #/content/sample_data/california_housing_test.csv\n",
        "work_ram=workbook.add_worksheet('data')"
      ],
      "metadata": {
        "id": "vOF1Mt97lPvx"
      },
      "execution_count": null,
      "outputs": []
    },
    {
      "cell_type": "code",
      "source": [
        "workbook.close"
      ],
      "metadata": {
        "colab": {
          "base_uri": "https://localhost:8080/"
        },
        "id": "s9BGzQGKmE5x",
        "outputId": "ae21b223-8922-4829-bd7c-47f73d7cc92f"
      },
      "execution_count": null,
      "outputs": [
        {
          "output_type": "execute_result",
          "data": {
            "text/plain": [
              "<bound method Workbook.close of <xlsxwriter.workbook.Workbook object at 0x7f7f165ecfa0>>"
            ]
          },
          "metadata": {},
          "execution_count": 12
        }
      ]
    },
    {
      "cell_type": "code",
      "source": [],
      "metadata": {
        "id": "hitrlLm5mfW9"
      },
      "execution_count": null,
      "outputs": []
    },
    {
      "cell_type": "code",
      "source": [
        "from openpyxl.reader.excel import load_workbook\n",
        "wb = load_workbook(filename=\"ram.xlsx\")\n",
        "\n"
      ],
      "metadata": {
        "colab": {
          "base_uri": "https://localhost:8080/",
          "height": 358
        },
        "id": "Q6fcR2GYkGcR",
        "outputId": "0fa132c2-2599-4371-fdec-4c3169110d49"
      },
      "execution_count": null,
      "outputs": [
        {
          "output_type": "error",
          "ename": "FileNotFoundError",
          "evalue": "ignored",
          "traceback": [
            "\u001b[0;31m---------------------------------------------------------------------------\u001b[0m",
            "\u001b[0;31mFileNotFoundError\u001b[0m                         Traceback (most recent call last)",
            "\u001b[0;32m<ipython-input-13-22baefec29f3>\u001b[0m in \u001b[0;36m<module>\u001b[0;34m\u001b[0m\n\u001b[1;32m      1\u001b[0m \u001b[0;32mfrom\u001b[0m \u001b[0mopenpyxl\u001b[0m\u001b[0;34m.\u001b[0m\u001b[0mreader\u001b[0m\u001b[0;34m.\u001b[0m\u001b[0mexcel\u001b[0m \u001b[0;32mimport\u001b[0m \u001b[0mload_workbook\u001b[0m\u001b[0;34m\u001b[0m\u001b[0;34m\u001b[0m\u001b[0m\n\u001b[0;32m----> 2\u001b[0;31m \u001b[0mwb\u001b[0m \u001b[0;34m=\u001b[0m \u001b[0mload_workbook\u001b[0m\u001b[0;34m(\u001b[0m\u001b[0mfilename\u001b[0m\u001b[0;34m=\u001b[0m\u001b[0;34m\"ram.xlsx\"\u001b[0m\u001b[0;34m)\u001b[0m\u001b[0;34m\u001b[0m\u001b[0;34m\u001b[0m\u001b[0m\n\u001b[0m\u001b[1;32m      3\u001b[0m \u001b[0;34m\u001b[0m\u001b[0m\n",
            "\u001b[0;32m/usr/local/lib/python3.8/dist-packages/openpyxl/reader/excel.py\u001b[0m in \u001b[0;36mload_workbook\u001b[0;34m(filename, read_only, keep_vba, data_only, keep_links)\u001b[0m\n\u001b[1;32m    313\u001b[0m \u001b[0;34m\u001b[0m\u001b[0m\n\u001b[1;32m    314\u001b[0m     \"\"\"\n\u001b[0;32m--> 315\u001b[0;31m     reader = ExcelReader(filename, read_only, keep_vba,\n\u001b[0m\u001b[1;32m    316\u001b[0m                         data_only, keep_links)\n\u001b[1;32m    317\u001b[0m     \u001b[0mreader\u001b[0m\u001b[0;34m.\u001b[0m\u001b[0mread\u001b[0m\u001b[0;34m(\u001b[0m\u001b[0;34m)\u001b[0m\u001b[0;34m\u001b[0m\u001b[0;34m\u001b[0m\u001b[0m\n",
            "\u001b[0;32m/usr/local/lib/python3.8/dist-packages/openpyxl/reader/excel.py\u001b[0m in \u001b[0;36m__init__\u001b[0;34m(self, fn, read_only, keep_vba, data_only, keep_links)\u001b[0m\n\u001b[1;32m    122\u001b[0m     def __init__(self,  fn, read_only=False, keep_vba=KEEP_VBA,\n\u001b[1;32m    123\u001b[0m                   data_only=False, keep_links=True):\n\u001b[0;32m--> 124\u001b[0;31m         \u001b[0mself\u001b[0m\u001b[0;34m.\u001b[0m\u001b[0marchive\u001b[0m \u001b[0;34m=\u001b[0m \u001b[0m_validate_archive\u001b[0m\u001b[0;34m(\u001b[0m\u001b[0mfn\u001b[0m\u001b[0;34m)\u001b[0m\u001b[0;34m\u001b[0m\u001b[0;34m\u001b[0m\u001b[0m\n\u001b[0m\u001b[1;32m    125\u001b[0m         \u001b[0mself\u001b[0m\u001b[0;34m.\u001b[0m\u001b[0mvalid_files\u001b[0m \u001b[0;34m=\u001b[0m \u001b[0mself\u001b[0m\u001b[0;34m.\u001b[0m\u001b[0marchive\u001b[0m\u001b[0;34m.\u001b[0m\u001b[0mnamelist\u001b[0m\u001b[0;34m(\u001b[0m\u001b[0;34m)\u001b[0m\u001b[0;34m\u001b[0m\u001b[0;34m\u001b[0m\u001b[0m\n\u001b[1;32m    126\u001b[0m         \u001b[0mself\u001b[0m\u001b[0;34m.\u001b[0m\u001b[0mread_only\u001b[0m \u001b[0;34m=\u001b[0m \u001b[0mread_only\u001b[0m\u001b[0;34m\u001b[0m\u001b[0;34m\u001b[0m\u001b[0m\n",
            "\u001b[0;32m/usr/local/lib/python3.8/dist-packages/openpyxl/reader/excel.py\u001b[0m in \u001b[0;36m_validate_archive\u001b[0;34m(filename)\u001b[0m\n\u001b[1;32m     94\u001b[0m             \u001b[0;32mraise\u001b[0m \u001b[0mInvalidFileException\u001b[0m\u001b[0;34m(\u001b[0m\u001b[0mmsg\u001b[0m\u001b[0;34m)\u001b[0m\u001b[0;34m\u001b[0m\u001b[0;34m\u001b[0m\u001b[0m\n\u001b[1;32m     95\u001b[0m \u001b[0;34m\u001b[0m\u001b[0m\n\u001b[0;32m---> 96\u001b[0;31m     \u001b[0marchive\u001b[0m \u001b[0;34m=\u001b[0m \u001b[0mZipFile\u001b[0m\u001b[0;34m(\u001b[0m\u001b[0mfilename\u001b[0m\u001b[0;34m,\u001b[0m \u001b[0;34m'r'\u001b[0m\u001b[0;34m)\u001b[0m\u001b[0;34m\u001b[0m\u001b[0;34m\u001b[0m\u001b[0m\n\u001b[0m\u001b[1;32m     97\u001b[0m     \u001b[0;32mreturn\u001b[0m \u001b[0marchive\u001b[0m\u001b[0;34m\u001b[0m\u001b[0;34m\u001b[0m\u001b[0m\n\u001b[1;32m     98\u001b[0m \u001b[0;34m\u001b[0m\u001b[0m\n",
            "\u001b[0;32m/usr/lib/python3.8/zipfile.py\u001b[0m in \u001b[0;36m__init__\u001b[0;34m(self, file, mode, compression, allowZip64, compresslevel, strict_timestamps)\u001b[0m\n\u001b[1;32m   1249\u001b[0m             \u001b[0;32mwhile\u001b[0m \u001b[0;32mTrue\u001b[0m\u001b[0;34m:\u001b[0m\u001b[0;34m\u001b[0m\u001b[0;34m\u001b[0m\u001b[0m\n\u001b[1;32m   1250\u001b[0m                 \u001b[0;32mtry\u001b[0m\u001b[0;34m:\u001b[0m\u001b[0;34m\u001b[0m\u001b[0;34m\u001b[0m\u001b[0m\n\u001b[0;32m-> 1251\u001b[0;31m                     \u001b[0mself\u001b[0m\u001b[0;34m.\u001b[0m\u001b[0mfp\u001b[0m \u001b[0;34m=\u001b[0m \u001b[0mio\u001b[0m\u001b[0;34m.\u001b[0m\u001b[0mopen\u001b[0m\u001b[0;34m(\u001b[0m\u001b[0mfile\u001b[0m\u001b[0;34m,\u001b[0m \u001b[0mfilemode\u001b[0m\u001b[0;34m)\u001b[0m\u001b[0;34m\u001b[0m\u001b[0;34m\u001b[0m\u001b[0m\n\u001b[0m\u001b[1;32m   1252\u001b[0m                 \u001b[0;32mexcept\u001b[0m \u001b[0mOSError\u001b[0m\u001b[0;34m:\u001b[0m\u001b[0;34m\u001b[0m\u001b[0;34m\u001b[0m\u001b[0m\n\u001b[1;32m   1253\u001b[0m                     \u001b[0;32mif\u001b[0m \u001b[0mfilemode\u001b[0m \u001b[0;32min\u001b[0m \u001b[0mmodeDict\u001b[0m\u001b[0;34m:\u001b[0m\u001b[0;34m\u001b[0m\u001b[0;34m\u001b[0m\u001b[0m\n",
            "\u001b[0;31mFileNotFoundError\u001b[0m: [Errno 2] No such file or directory: 'ram.xlsx'"
          ]
        }
      ]
    },
    {
      "cell_type": "code",
      "source": [],
      "metadata": {
        "id": "aoIqJpvfkViq"
      },
      "execution_count": null,
      "outputs": []
    },
    {
      "cell_type": "code",
      "source": [],
      "metadata": {
        "id": "aRuMODkNkVmL"
      },
      "execution_count": null,
      "outputs": []
    },
    {
      "cell_type": "code",
      "source": [],
      "metadata": {
        "id": "mthL2SXwkQOT"
      },
      "execution_count": null,
      "outputs": []
    },
    {
      "cell_type": "code",
      "source": [],
      "metadata": {
        "id": "SJDRnsY9kQnL"
      },
      "execution_count": null,
      "outputs": []
    },
    {
      "metadata": {
        "id": "0mnOHaZpZ1CU"
      },
      "cell_type": "markdown",
      "source": [
        "## 5.1 Use lists and tuples"
      ]
    },
    {
      "metadata": {
        "id": "aCBZvOZn3V6D"
      },
      "cell_type": "markdown",
      "source": [
        "### Sequences\n",
        "Lists, tuples, and strings are all Python sequences, and share many of the same methods."
      ]
    },
    {
      "cell_type": "code",
      "source": [],
      "metadata": {
        "id": "ZqnQYcTMY8k1"
      },
      "execution_count": null,
      "outputs": []
    },
    {
      "metadata": {
        "id": "MgQzM2FbzhpW"
      },
      "cell_type": "markdown",
      "source": [
        "### Creating an empty list"
      ]
    },
    {
      "metadata": {
        "id": "1gUdm3jfzlCB",
        "outputId": "c5b5e740-d9ec-4112-edff-e79717a85e31",
        "colab": {
          "base_uri": "https://localhost:8080/"
        }
      },
      "cell_type": "code",
      "source": [
        "empty = []\n",
        "empty"
      ],
      "execution_count": null,
      "outputs": [
        {
          "output_type": "execute_result",
          "data": {
            "text/plain": [
              "[]"
            ]
          },
          "metadata": {},
          "execution_count": 1
        }
      ]
    },
    {
      "metadata": {
        "id": "fLx7Rtstz3Pn"
      },
      "cell_type": "markdown",
      "source": [
        "### Using square brackets with initial values"
      ]
    },
    {
      "metadata": {
        "id": "X6_VTC9moTAM",
        "outputId": "963c03e3-b134-4e6d-d910-23d59efa0318",
        "colab": {
          "base_uri": "https://localhost:8080/"
        }
      },
      "cell_type": "code",
      "source": [
        "numbers = [1, 2, 3]\n",
        "numbers\n"
      ],
      "execution_count": null,
      "outputs": [
        {
          "output_type": "execute_result",
          "data": {
            "text/plain": [
              "[1, 2, 3]"
            ]
          },
          "metadata": {},
          "execution_count": 2
        }
      ]
    },
    {
      "metadata": {
        "id": "RN5dAwcv4EwQ"
      },
      "cell_type": "markdown",
      "source": [
        "### Casting an iterable\n",
        "Any iterable can be cast to a list"
      ]
    },
    {
      "metadata": {
        "id": "IWCOdiiJ4Iv5",
        "outputId": "7febb427-1aa2-4ea4-9d28-8fd2f6c4fc96",
        "colab": {
          "base_uri": "https://localhost:8080/"
        }
      },
      "cell_type": "code",
      "source": [
        "numbers = list(range(10))\n",
        "numbers"
      ],
      "execution_count": null,
      "outputs": [
        {
          "output_type": "execute_result",
          "data": {
            "text/plain": [
              "[0, 1, 2, 3, 4, 5, 6, 7, 8, 9]"
            ]
          },
          "metadata": {},
          "execution_count": 3
        }
      ]
    },
    {
      "metadata": {
        "id": "m7FQdEVcAMJl"
      },
      "cell_type": "markdown",
      "source": [
        "### Creating using multiplication"
      ]
    },
    {
      "metadata": {
        "id": "lanCHsNZATqK",
        "outputId": "5e1031ec-3673-4d5d-dade-d6feb0ed0d5b",
        "colab": {
          "base_uri": "https://localhost:8080/"
        }
      },
      "cell_type": "code",
      "source": [
        "num_players = 10\n",
        "scores = [0] * num_players\n",
        "scores"
      ],
      "execution_count": null,
      "outputs": [
        {
          "output_type": "execute_result",
          "data": {
            "text/plain": [
              "[0, 0, 0, 0, 0, 0, 0, 0, 0, 0]"
            ]
          },
          "metadata": {},
          "execution_count": 4
        }
      ]
    },
    {
      "metadata": {
        "id": "h9l7kUOC43iL"
      },
      "cell_type": "markdown",
      "source": [
        "### Mixing data types\n",
        "Lists can contain multple data types"
      ]
    },
    {
      "metadata": {
        "id": "jBqfcq6Q4-Yl",
        "outputId": "225b3410-2309-4bd8-cd8c-37e4108ed40d",
        "colab": {
          "base_uri": "https://localhost:8080/"
        }
      },
      "cell_type": "code",
      "source": [
        "mixed = ['a', 1, 2.0, [13], {}]\n",
        "mixed"
      ],
      "execution_count": null,
      "outputs": [
        {
          "output_type": "execute_result",
          "data": {
            "text/plain": [
              "['a', 1, 2.0, [13], {}]"
            ]
          },
          "metadata": {},
          "execution_count": 5
        }
      ]
    },
    {
      "metadata": {
        "id": "_rehYX145nEk"
      },
      "cell_type": "markdown",
      "source": [
        "### Indexing\n",
        "Items in lists can be accessed using indices in a similar fashion to strings."
      ]
    },
    {
      "metadata": {
        "id": "PuGNKkIV5_64"
      },
      "cell_type": "markdown",
      "source": [
        "#### Access first item"
      ]
    },
    {
      "metadata": {
        "id": "98QVzpN_ogFQ",
        "outputId": "93224fef-7b66-492e-851c-62c71a4d3eb5",
        "colab": {
          "base_uri": "https://localhost:8080/",
          "height": 34
        }
      },
      "cell_type": "code",
      "source": [
        "numbers[0]\n"
      ],
      "execution_count": null,
      "outputs": [
        {
          "output_type": "execute_result",
          "data": {
            "text/plain": [
              "0"
            ]
          },
          "metadata": {
            "tags": []
          },
          "execution_count": 9
        }
      ]
    },
    {
      "metadata": {
        "id": "wYljuMmX6FDo"
      },
      "cell_type": "markdown",
      "source": [
        "#### Access last item"
      ]
    },
    {
      "metadata": {
        "id": "j5XB0hVZ6S5E",
        "outputId": "702efb97-d245-4b06-c028-fe8ae61288e6",
        "colab": {
          "base_uri": "https://localhost:8080/",
          "height": 34
        }
      },
      "cell_type": "code",
      "source": [
        "numbers[-2]"
      ],
      "execution_count": null,
      "outputs": [
        {
          "output_type": "execute_result",
          "data": {
            "text/plain": [
              "8"
            ]
          },
          "metadata": {
            "tags": []
          },
          "execution_count": 11
        }
      ]
    },
    {
      "metadata": {
        "id": "tZJYdQW87vwk"
      },
      "cell_type": "markdown",
      "source": [
        "#### Access any item"
      ]
    },
    {
      "metadata": {
        "id": "7EJZyQUl7y_5",
        "outputId": "433c5b3d-51f9-44ee-bb1b-d8d162c744bf",
        "colab": {
          "base_uri": "https://localhost:8080/",
          "height": 34
        }
      },
      "cell_type": "code",
      "source": [
        "numbers[4]"
      ],
      "execution_count": null,
      "outputs": [
        {
          "output_type": "execute_result",
          "data": {
            "text/plain": [
              "4"
            ]
          },
          "metadata": {
            "tags": []
          },
          "execution_count": 12
        }
      ]
    },
    {
      "metadata": {
        "id": "g4-XjayC8KO7"
      },
      "cell_type": "markdown",
      "source": [
        "### Adding to a list"
      ]
    },
    {
      "metadata": {
        "id": "VVoxc0Co81iD"
      },
      "cell_type": "markdown",
      "source": [
        "#### Append to the end of a list"
      ]
    },
    {
      "metadata": {
        "id": "7l9O1BOz89Sg",
        "outputId": "f5ed7734-afd3-4dcd-8311-ac809622b29b",
        "colab": {
          "base_uri": "https://localhost:8080/",
          "height": 34
        }
      },
      "cell_type": "code",
      "source": [
        "letters = ['a']\n",
        "letters.append('c')\n",
        "letters"
      ],
      "execution_count": null,
      "outputs": [
        {
          "output_type": "execute_result",
          "data": {
            "text/plain": [
              "['a', 'c']"
            ]
          },
          "metadata": {
            "tags": []
          },
          "execution_count": 14
        }
      ]
    },
    {
      "metadata": {
        "id": "GOWYij2p9bwL"
      },
      "cell_type": "markdown",
      "source": [
        "#### Insert at beginning of list"
      ]
    },
    {
      "metadata": {
        "id": "KgMcKp5W9fI7",
        "outputId": "5f5acb75-5715-456a-f63b-76d675676766",
        "colab": {
          "base_uri": "https://localhost:8080/",
          "height": 34
        }
      },
      "cell_type": "code",
      "source": [
        "letters.insert(0, 'b')\n",
        "letters"
      ],
      "execution_count": null,
      "outputs": [
        {
          "output_type": "execute_result",
          "data": {
            "text/plain": [
              "['b', 'a', 'c']"
            ]
          },
          "metadata": {
            "tags": []
          },
          "execution_count": 15
        }
      ]
    },
    {
      "metadata": {
        "id": "z2pfGnq7-PHc"
      },
      "cell_type": "markdown",
      "source": [
        "#### Insert at arbitrary position"
      ]
    },
    {
      "metadata": {
        "id": "SgovUUMS-TxT",
        "outputId": "2d639b6d-eaa7-4f91-b837-88136a2b403a",
        "colab": {
          "base_uri": "https://localhost:8080/",
          "height": 34
        }
      },
      "cell_type": "code",
      "source": [
        "letters.insert(2, 'c')\n",
        "letters"
      ],
      "execution_count": null,
      "outputs": [
        {
          "output_type": "execute_result",
          "data": {
            "text/plain": [
              "['b', 'a', 'c', 'c']"
            ]
          },
          "metadata": {
            "tags": []
          },
          "execution_count": 16
        }
      ]
    },
    {
      "metadata": {
        "id": "W2WMgepZAjkO"
      },
      "cell_type": "markdown",
      "source": [
        "#### Extending with another list"
      ]
    },
    {
      "metadata": {
        "id": "UYn06yndAoNH",
        "outputId": "a1c34ae5-d500-44b0-98a3-c4db3b47c910",
        "colab": {
          "base_uri": "https://localhost:8080/",
          "height": 34
        }
      },
      "cell_type": "code",
      "source": [
        "more_letters = ['e', 'f', 'g']\n",
        "letters.extend(more_letters)\n",
        "letters"
      ],
      "execution_count": null,
      "outputs": [
        {
          "output_type": "execute_result",
          "data": {
            "text/plain": [
              "['b', 'a', 'c', 'c', 'e', 'f', 'g']"
            ]
          },
          "metadata": {
            "tags": []
          },
          "execution_count": 17
        }
      ]
    },
    {
      "metadata": {
        "id": "wzPgAr_s_CrC"
      },
      "cell_type": "markdown",
      "source": [
        "### Change item at some position"
      ]
    },
    {
      "metadata": {
        "id": "BZGy8c8bov2q",
        "outputId": "4fc4fd41-0e1e-4324-8302-b0ce19558908",
        "colab": {
          "base_uri": "https://localhost:8080/",
          "height": 34
        }
      },
      "cell_type": "code",
      "source": [
        "letters[3] = 'd'\n",
        "letters"
      ],
      "execution_count": null,
      "outputs": [
        {
          "output_type": "execute_result",
          "data": {
            "text/plain": [
              "['b', 'a', 'c', 'd', 'e', 'f', 'g']"
            ]
          },
          "metadata": {
            "tags": []
          },
          "execution_count": 18
        }
      ]
    },
    {
      "cell_type": "code",
      "source": [
        "import numpy as np\n",
        "arr=np.array(range(10))\n",
        "print(arr)"
      ],
      "metadata": {
        "colab": {
          "base_uri": "https://localhost:8080/"
        },
        "id": "V-k-esHMZ9Il",
        "outputId": "dd3873a5-a957-45f3-ef93-a69c8753dd96"
      },
      "execution_count": null,
      "outputs": [
        {
          "output_type": "stream",
          "name": "stdout",
          "text": [
            "[0 1 2 3 4 5 6 7 8 9]\n"
          ]
        }
      ]
    },
    {
      "cell_type": "code",
      "source": [
        "arr=np.random.randint(1,100,10)\n",
        "print(arr)"
      ],
      "metadata": {
        "colab": {
          "base_uri": "https://localhost:8080/"
        },
        "id": "uu3IYRaSaIWA",
        "outputId": "eda0b38a-3caa-4bab-ab51-a88bff31724a"
      },
      "execution_count": null,
      "outputs": [
        {
          "output_type": "stream",
          "name": "stdout",
          "text": [
            "[ 8 10 37  3 79 63 43  4 32  8]\n"
          ]
        }
      ]
    },
    {
      "cell_type": "code",
      "source": [
        "arr=np.arange(10,35)\n",
        "print(arr)"
      ],
      "metadata": {
        "colab": {
          "base_uri": "https://localhost:8080/"
        },
        "id": "KGVC8o-4aRML",
        "outputId": "7595736b-73b3-4eee-fea9-a456bd53b1a1"
      },
      "execution_count": null,
      "outputs": [
        {
          "output_type": "stream",
          "name": "stdout",
          "text": [
            "[10 11 12 13 14 15 16 17 18 19 20 21 22 23 24 25 26 27 28 29 30 31 32 33\n",
            " 34]\n"
          ]
        }
      ]
    },
    {
      "cell_type": "code",
      "source": [
        "arr=np.ones(10)*4\n",
        "print(arr)"
      ],
      "metadata": {
        "colab": {
          "base_uri": "https://localhost:8080/"
        },
        "id": "DvB51uS8agqd",
        "outputId": "0fdcbff5-c2a9-4e14-e1b7-fb04552260e1"
      },
      "execution_count": null,
      "outputs": [
        {
          "output_type": "stream",
          "name": "stdout",
          "text": [
            "[4. 4. 4. 4. 4. 4. 4. 4. 4. 4.]\n"
          ]
        }
      ]
    },
    {
      "cell_type": "code",
      "source": [
        "arr=np.arange(1,10).reshape(3,3)\n",
        "print(arr)"
      ],
      "metadata": {
        "colab": {
          "base_uri": "https://localhost:8080/"
        },
        "id": "V3_RceU-aqsa",
        "outputId": "b953a135-a897-4489-9818-23f661c93d19"
      },
      "execution_count": null,
      "outputs": [
        {
          "output_type": "stream",
          "name": "stdout",
          "text": [
            "[[1 2 3]\n",
            " [4 5 6]\n",
            " [7 8 9]]\n"
          ]
        }
      ]
    },
    {
      "cell_type": "code",
      "source": [
        "arr=np.random.randint(1,100,10)\n",
        "print(arr)\n",
        "arr[arr%2==0]=1\n",
        "print(arr)"
      ],
      "metadata": {
        "colab": {
          "base_uri": "https://localhost:8080/"
        },
        "id": "oXUctMXibMNh",
        "outputId": "5491cadd-7583-4072-a6be-4b7171c1d570"
      },
      "execution_count": null,
      "outputs": [
        {
          "output_type": "stream",
          "name": "stdout",
          "text": [
            "[50  1 33 79 93 22 42 72 76 38]\n",
            "[ 1  1 33 79 93  1  1  1  1  1]\n"
          ]
        }
      ]
    },
    {
      "cell_type": "code",
      "source": [
        "arr=np.random.rand(9).reshape(3,3)\n",
        "print(arr)"
      ],
      "metadata": {
        "colab": {
          "base_uri": "https://localhost:8080/"
        },
        "id": "tFiZRmikbs02",
        "outputId": "0dc137a4-e507-415b-9373-6b616a891920"
      },
      "execution_count": null,
      "outputs": [
        {
          "output_type": "stream",
          "name": "stdout",
          "text": [
            "[[0.85649518 0.81559934 0.1189305 ]\n",
            " [0.26936891 0.38596095 0.3745923 ]\n",
            " [0.79775857 0.67877482 0.40480988]]\n"
          ]
        }
      ]
    },
    {
      "cell_type": "code",
      "source": [
        "arr=np.arange(1,26).reshape(5,5)\n",
        "print(arr)\n",
        "arr=arr[4:,1:3]\n",
        "print(arr)"
      ],
      "metadata": {
        "colab": {
          "base_uri": "https://localhost:8080/"
        },
        "id": "ZsJyspkpcKz1",
        "outputId": "67c9b801-21e2-459a-d88b-dbfefcf396c9"
      },
      "execution_count": null,
      "outputs": [
        {
          "output_type": "stream",
          "name": "stdout",
          "text": [
            "[[ 1  2  3  4  5]\n",
            " [ 6  7  8  9 10]\n",
            " [11 12 13 14 15]\n",
            " [16 17 18 19 20]\n",
            " [21 22 23 24 25]]\n",
            "[[22 23]]\n"
          ]
        }
      ]
    },
    {
      "cell_type": "code",
      "source": [
        "arr1=np.arange(1,10).reshape(3,3)\n",
        "print(arr1)\n",
        "\n",
        "arr2=np.arange(10,19).reshape(3,3)\n",
        "print(arr2)\n",
        "arr=np.hstack((arr1,arr2))\n",
        "print(arr)\n",
        "arr=np.vstack((arr1,arr2))\n",
        "print(arr)\n",
        "\n",
        "\n"
      ],
      "metadata": {
        "colab": {
          "base_uri": "https://localhost:8080/"
        },
        "id": "IOiAUwxRc_0l",
        "outputId": "2df883e8-1fa4-45d1-8662-5ac8cc355413"
      },
      "execution_count": null,
      "outputs": [
        {
          "output_type": "stream",
          "name": "stdout",
          "text": [
            "[[1 2 3]\n",
            " [4 5 6]\n",
            " [7 8 9]]\n",
            "[[10 11 12]\n",
            " [13 14 15]\n",
            " [16 17 18]]\n",
            "[[ 1  2  3 10 11 12]\n",
            " [ 4  5  6 13 14 15]\n",
            " [ 7  8  9 16 17 18]]\n",
            "[[ 1  2  3]\n",
            " [ 4  5  6]\n",
            " [ 7  8  9]\n",
            " [10 11 12]\n",
            " [13 14 15]\n",
            " [16 17 18]]\n"
          ]
        }
      ]
    },
    {
      "cell_type": "code",
      "source": [
        "import pandas as pd"
      ],
      "metadata": {
        "id": "bTbfZXvneMe4"
      },
      "execution_count": null,
      "outputs": []
    },
    {
      "cell_type": "code",
      "source": [
        "df=pd.read_csv(\"/content/sample_data/california_housing_train.csv\")"
      ],
      "metadata": {
        "id": "Jqi6w6mZePkC"
      },
      "execution_count": null,
      "outputs": []
    },
    {
      "cell_type": "code",
      "source": [
        "df.head(5)"
      ],
      "metadata": {
        "colab": {
          "base_uri": "https://localhost:8080/",
          "height": 206
        },
        "id": "kF_3lUwmePnr",
        "outputId": "ca39861d-5444-4548-e5dd-d4528955c581"
      },
      "execution_count": null,
      "outputs": [
        {
          "output_type": "execute_result",
          "data": {
            "text/plain": [
              "   longitude  latitude  housing_median_age  total_rooms  total_bedrooms  \\\n",
              "0    -114.31     34.19                15.0       5612.0          1283.0   \n",
              "1    -114.47     34.40                19.0       7650.0          1901.0   \n",
              "2    -114.56     33.69                17.0        720.0           174.0   \n",
              "3    -114.57     33.64                14.0       1501.0           337.0   \n",
              "4    -114.57     33.57                20.0       1454.0           326.0   \n",
              "\n",
              "   population  households  median_income  median_house_value  \n",
              "0      1015.0       472.0         1.4936             66900.0  \n",
              "1      1129.0       463.0         1.8200             80100.0  \n",
              "2       333.0       117.0         1.6509             85700.0  \n",
              "3       515.0       226.0         3.1917             73400.0  \n",
              "4       624.0       262.0         1.9250             65500.0  "
            ],
            "text/html": [
              "\n",
              "  <div id=\"df-66878fd1-1dfc-414b-9320-6fd05a1a56b3\">\n",
              "    <div class=\"colab-df-container\">\n",
              "      <div>\n",
              "<style scoped>\n",
              "    .dataframe tbody tr th:only-of-type {\n",
              "        vertical-align: middle;\n",
              "    }\n",
              "\n",
              "    .dataframe tbody tr th {\n",
              "        vertical-align: top;\n",
              "    }\n",
              "\n",
              "    .dataframe thead th {\n",
              "        text-align: right;\n",
              "    }\n",
              "</style>\n",
              "<table border=\"1\" class=\"dataframe\">\n",
              "  <thead>\n",
              "    <tr style=\"text-align: right;\">\n",
              "      <th></th>\n",
              "      <th>longitude</th>\n",
              "      <th>latitude</th>\n",
              "      <th>housing_median_age</th>\n",
              "      <th>total_rooms</th>\n",
              "      <th>total_bedrooms</th>\n",
              "      <th>population</th>\n",
              "      <th>households</th>\n",
              "      <th>median_income</th>\n",
              "      <th>median_house_value</th>\n",
              "    </tr>\n",
              "  </thead>\n",
              "  <tbody>\n",
              "    <tr>\n",
              "      <th>0</th>\n",
              "      <td>-114.31</td>\n",
              "      <td>34.19</td>\n",
              "      <td>15.0</td>\n",
              "      <td>5612.0</td>\n",
              "      <td>1283.0</td>\n",
              "      <td>1015.0</td>\n",
              "      <td>472.0</td>\n",
              "      <td>1.4936</td>\n",
              "      <td>66900.0</td>\n",
              "    </tr>\n",
              "    <tr>\n",
              "      <th>1</th>\n",
              "      <td>-114.47</td>\n",
              "      <td>34.40</td>\n",
              "      <td>19.0</td>\n",
              "      <td>7650.0</td>\n",
              "      <td>1901.0</td>\n",
              "      <td>1129.0</td>\n",
              "      <td>463.0</td>\n",
              "      <td>1.8200</td>\n",
              "      <td>80100.0</td>\n",
              "    </tr>\n",
              "    <tr>\n",
              "      <th>2</th>\n",
              "      <td>-114.56</td>\n",
              "      <td>33.69</td>\n",
              "      <td>17.0</td>\n",
              "      <td>720.0</td>\n",
              "      <td>174.0</td>\n",
              "      <td>333.0</td>\n",
              "      <td>117.0</td>\n",
              "      <td>1.6509</td>\n",
              "      <td>85700.0</td>\n",
              "    </tr>\n",
              "    <tr>\n",
              "      <th>3</th>\n",
              "      <td>-114.57</td>\n",
              "      <td>33.64</td>\n",
              "      <td>14.0</td>\n",
              "      <td>1501.0</td>\n",
              "      <td>337.0</td>\n",
              "      <td>515.0</td>\n",
              "      <td>226.0</td>\n",
              "      <td>3.1917</td>\n",
              "      <td>73400.0</td>\n",
              "    </tr>\n",
              "    <tr>\n",
              "      <th>4</th>\n",
              "      <td>-114.57</td>\n",
              "      <td>33.57</td>\n",
              "      <td>20.0</td>\n",
              "      <td>1454.0</td>\n",
              "      <td>326.0</td>\n",
              "      <td>624.0</td>\n",
              "      <td>262.0</td>\n",
              "      <td>1.9250</td>\n",
              "      <td>65500.0</td>\n",
              "    </tr>\n",
              "  </tbody>\n",
              "</table>\n",
              "</div>\n",
              "      <button class=\"colab-df-convert\" onclick=\"convertToInteractive('df-66878fd1-1dfc-414b-9320-6fd05a1a56b3')\"\n",
              "              title=\"Convert this dataframe to an interactive table.\"\n",
              "              style=\"display:none;\">\n",
              "        \n",
              "  <svg xmlns=\"http://www.w3.org/2000/svg\" height=\"24px\"viewBox=\"0 0 24 24\"\n",
              "       width=\"24px\">\n",
              "    <path d=\"M0 0h24v24H0V0z\" fill=\"none\"/>\n",
              "    <path d=\"M18.56 5.44l.94 2.06.94-2.06 2.06-.94-2.06-.94-.94-2.06-.94 2.06-2.06.94zm-11 1L8.5 8.5l.94-2.06 2.06-.94-2.06-.94L8.5 2.5l-.94 2.06-2.06.94zm10 10l.94 2.06.94-2.06 2.06-.94-2.06-.94-.94-2.06-.94 2.06-2.06.94z\"/><path d=\"M17.41 7.96l-1.37-1.37c-.4-.4-.92-.59-1.43-.59-.52 0-1.04.2-1.43.59L10.3 9.45l-7.72 7.72c-.78.78-.78 2.05 0 2.83L4 21.41c.39.39.9.59 1.41.59.51 0 1.02-.2 1.41-.59l7.78-7.78 2.81-2.81c.8-.78.8-2.07 0-2.86zM5.41 20L4 18.59l7.72-7.72 1.47 1.35L5.41 20z\"/>\n",
              "  </svg>\n",
              "      </button>\n",
              "      \n",
              "  <style>\n",
              "    .colab-df-container {\n",
              "      display:flex;\n",
              "      flex-wrap:wrap;\n",
              "      gap: 12px;\n",
              "    }\n",
              "\n",
              "    .colab-df-convert {\n",
              "      background-color: #E8F0FE;\n",
              "      border: none;\n",
              "      border-radius: 50%;\n",
              "      cursor: pointer;\n",
              "      display: none;\n",
              "      fill: #1967D2;\n",
              "      height: 32px;\n",
              "      padding: 0 0 0 0;\n",
              "      width: 32px;\n",
              "    }\n",
              "\n",
              "    .colab-df-convert:hover {\n",
              "      background-color: #E2EBFA;\n",
              "      box-shadow: 0px 1px 2px rgba(60, 64, 67, 0.3), 0px 1px 3px 1px rgba(60, 64, 67, 0.15);\n",
              "      fill: #174EA6;\n",
              "    }\n",
              "\n",
              "    [theme=dark] .colab-df-convert {\n",
              "      background-color: #3B4455;\n",
              "      fill: #D2E3FC;\n",
              "    }\n",
              "\n",
              "    [theme=dark] .colab-df-convert:hover {\n",
              "      background-color: #434B5C;\n",
              "      box-shadow: 0px 1px 3px 1px rgba(0, 0, 0, 0.15);\n",
              "      filter: drop-shadow(0px 1px 2px rgba(0, 0, 0, 0.3));\n",
              "      fill: #FFFFFF;\n",
              "    }\n",
              "  </style>\n",
              "\n",
              "      <script>\n",
              "        const buttonEl =\n",
              "          document.querySelector('#df-66878fd1-1dfc-414b-9320-6fd05a1a56b3 button.colab-df-convert');\n",
              "        buttonEl.style.display =\n",
              "          google.colab.kernel.accessAllowed ? 'block' : 'none';\n",
              "\n",
              "        async function convertToInteractive(key) {\n",
              "          const element = document.querySelector('#df-66878fd1-1dfc-414b-9320-6fd05a1a56b3');\n",
              "          const dataTable =\n",
              "            await google.colab.kernel.invokeFunction('convertToInteractive',\n",
              "                                                     [key], {});\n",
              "          if (!dataTable) return;\n",
              "\n",
              "          const docLinkHtml = 'Like what you see? Visit the ' +\n",
              "            '<a target=\"_blank\" href=https://colab.research.google.com/notebooks/data_table.ipynb>data table notebook</a>'\n",
              "            + ' to learn more about interactive tables.';\n",
              "          element.innerHTML = '';\n",
              "          dataTable['output_type'] = 'display_data';\n",
              "          await google.colab.output.renderOutput(dataTable, element);\n",
              "          const docLink = document.createElement('div');\n",
              "          docLink.innerHTML = docLinkHtml;\n",
              "          element.appendChild(docLink);\n",
              "        }\n",
              "      </script>\n",
              "    </div>\n",
              "  </div>\n",
              "  "
            ]
          },
          "metadata": {},
          "execution_count": 43
        }
      ]
    },
    {
      "cell_type": "code",
      "source": [
        "df.tail(5)"
      ],
      "metadata": {
        "colab": {
          "base_uri": "https://localhost:8080/",
          "height": 206
        },
        "id": "VJyogd9Oep34",
        "outputId": "c42d2158-8ac6-4227-9f52-1865188e2f26"
      },
      "execution_count": null,
      "outputs": [
        {
          "output_type": "execute_result",
          "data": {
            "text/plain": [
              "       longitude  latitude  housing_median_age  total_rooms  total_bedrooms  \\\n",
              "16995    -124.26     40.58                52.0       2217.0           394.0   \n",
              "16996    -124.27     40.69                36.0       2349.0           528.0   \n",
              "16997    -124.30     41.84                17.0       2677.0           531.0   \n",
              "16998    -124.30     41.80                19.0       2672.0           552.0   \n",
              "16999    -124.35     40.54                52.0       1820.0           300.0   \n",
              "\n",
              "       population  households  median_income  median_house_value  \n",
              "16995       907.0       369.0         2.3571            111400.0  \n",
              "16996      1194.0       465.0         2.5179             79000.0  \n",
              "16997      1244.0       456.0         3.0313            103600.0  \n",
              "16998      1298.0       478.0         1.9797             85800.0  \n",
              "16999       806.0       270.0         3.0147             94600.0  "
            ],
            "text/html": [
              "\n",
              "  <div id=\"df-3425db46-b7ce-44ac-b9ea-1f695dffb148\">\n",
              "    <div class=\"colab-df-container\">\n",
              "      <div>\n",
              "<style scoped>\n",
              "    .dataframe tbody tr th:only-of-type {\n",
              "        vertical-align: middle;\n",
              "    }\n",
              "\n",
              "    .dataframe tbody tr th {\n",
              "        vertical-align: top;\n",
              "    }\n",
              "\n",
              "    .dataframe thead th {\n",
              "        text-align: right;\n",
              "    }\n",
              "</style>\n",
              "<table border=\"1\" class=\"dataframe\">\n",
              "  <thead>\n",
              "    <tr style=\"text-align: right;\">\n",
              "      <th></th>\n",
              "      <th>longitude</th>\n",
              "      <th>latitude</th>\n",
              "      <th>housing_median_age</th>\n",
              "      <th>total_rooms</th>\n",
              "      <th>total_bedrooms</th>\n",
              "      <th>population</th>\n",
              "      <th>households</th>\n",
              "      <th>median_income</th>\n",
              "      <th>median_house_value</th>\n",
              "    </tr>\n",
              "  </thead>\n",
              "  <tbody>\n",
              "    <tr>\n",
              "      <th>16995</th>\n",
              "      <td>-124.26</td>\n",
              "      <td>40.58</td>\n",
              "      <td>52.0</td>\n",
              "      <td>2217.0</td>\n",
              "      <td>394.0</td>\n",
              "      <td>907.0</td>\n",
              "      <td>369.0</td>\n",
              "      <td>2.3571</td>\n",
              "      <td>111400.0</td>\n",
              "    </tr>\n",
              "    <tr>\n",
              "      <th>16996</th>\n",
              "      <td>-124.27</td>\n",
              "      <td>40.69</td>\n",
              "      <td>36.0</td>\n",
              "      <td>2349.0</td>\n",
              "      <td>528.0</td>\n",
              "      <td>1194.0</td>\n",
              "      <td>465.0</td>\n",
              "      <td>2.5179</td>\n",
              "      <td>79000.0</td>\n",
              "    </tr>\n",
              "    <tr>\n",
              "      <th>16997</th>\n",
              "      <td>-124.30</td>\n",
              "      <td>41.84</td>\n",
              "      <td>17.0</td>\n",
              "      <td>2677.0</td>\n",
              "      <td>531.0</td>\n",
              "      <td>1244.0</td>\n",
              "      <td>456.0</td>\n",
              "      <td>3.0313</td>\n",
              "      <td>103600.0</td>\n",
              "    </tr>\n",
              "    <tr>\n",
              "      <th>16998</th>\n",
              "      <td>-124.30</td>\n",
              "      <td>41.80</td>\n",
              "      <td>19.0</td>\n",
              "      <td>2672.0</td>\n",
              "      <td>552.0</td>\n",
              "      <td>1298.0</td>\n",
              "      <td>478.0</td>\n",
              "      <td>1.9797</td>\n",
              "      <td>85800.0</td>\n",
              "    </tr>\n",
              "    <tr>\n",
              "      <th>16999</th>\n",
              "      <td>-124.35</td>\n",
              "      <td>40.54</td>\n",
              "      <td>52.0</td>\n",
              "      <td>1820.0</td>\n",
              "      <td>300.0</td>\n",
              "      <td>806.0</td>\n",
              "      <td>270.0</td>\n",
              "      <td>3.0147</td>\n",
              "      <td>94600.0</td>\n",
              "    </tr>\n",
              "  </tbody>\n",
              "</table>\n",
              "</div>\n",
              "      <button class=\"colab-df-convert\" onclick=\"convertToInteractive('df-3425db46-b7ce-44ac-b9ea-1f695dffb148')\"\n",
              "              title=\"Convert this dataframe to an interactive table.\"\n",
              "              style=\"display:none;\">\n",
              "        \n",
              "  <svg xmlns=\"http://www.w3.org/2000/svg\" height=\"24px\"viewBox=\"0 0 24 24\"\n",
              "       width=\"24px\">\n",
              "    <path d=\"M0 0h24v24H0V0z\" fill=\"none\"/>\n",
              "    <path d=\"M18.56 5.44l.94 2.06.94-2.06 2.06-.94-2.06-.94-.94-2.06-.94 2.06-2.06.94zm-11 1L8.5 8.5l.94-2.06 2.06-.94-2.06-.94L8.5 2.5l-.94 2.06-2.06.94zm10 10l.94 2.06.94-2.06 2.06-.94-2.06-.94-.94-2.06-.94 2.06-2.06.94z\"/><path d=\"M17.41 7.96l-1.37-1.37c-.4-.4-.92-.59-1.43-.59-.52 0-1.04.2-1.43.59L10.3 9.45l-7.72 7.72c-.78.78-.78 2.05 0 2.83L4 21.41c.39.39.9.59 1.41.59.51 0 1.02-.2 1.41-.59l7.78-7.78 2.81-2.81c.8-.78.8-2.07 0-2.86zM5.41 20L4 18.59l7.72-7.72 1.47 1.35L5.41 20z\"/>\n",
              "  </svg>\n",
              "      </button>\n",
              "      \n",
              "  <style>\n",
              "    .colab-df-container {\n",
              "      display:flex;\n",
              "      flex-wrap:wrap;\n",
              "      gap: 12px;\n",
              "    }\n",
              "\n",
              "    .colab-df-convert {\n",
              "      background-color: #E8F0FE;\n",
              "      border: none;\n",
              "      border-radius: 50%;\n",
              "      cursor: pointer;\n",
              "      display: none;\n",
              "      fill: #1967D2;\n",
              "      height: 32px;\n",
              "      padding: 0 0 0 0;\n",
              "      width: 32px;\n",
              "    }\n",
              "\n",
              "    .colab-df-convert:hover {\n",
              "      background-color: #E2EBFA;\n",
              "      box-shadow: 0px 1px 2px rgba(60, 64, 67, 0.3), 0px 1px 3px 1px rgba(60, 64, 67, 0.15);\n",
              "      fill: #174EA6;\n",
              "    }\n",
              "\n",
              "    [theme=dark] .colab-df-convert {\n",
              "      background-color: #3B4455;\n",
              "      fill: #D2E3FC;\n",
              "    }\n",
              "\n",
              "    [theme=dark] .colab-df-convert:hover {\n",
              "      background-color: #434B5C;\n",
              "      box-shadow: 0px 1px 3px 1px rgba(0, 0, 0, 0.15);\n",
              "      filter: drop-shadow(0px 1px 2px rgba(0, 0, 0, 0.3));\n",
              "      fill: #FFFFFF;\n",
              "    }\n",
              "  </style>\n",
              "\n",
              "      <script>\n",
              "        const buttonEl =\n",
              "          document.querySelector('#df-3425db46-b7ce-44ac-b9ea-1f695dffb148 button.colab-df-convert');\n",
              "        buttonEl.style.display =\n",
              "          google.colab.kernel.accessAllowed ? 'block' : 'none';\n",
              "\n",
              "        async function convertToInteractive(key) {\n",
              "          const element = document.querySelector('#df-3425db46-b7ce-44ac-b9ea-1f695dffb148');\n",
              "          const dataTable =\n",
              "            await google.colab.kernel.invokeFunction('convertToInteractive',\n",
              "                                                     [key], {});\n",
              "          if (!dataTable) return;\n",
              "\n",
              "          const docLinkHtml = 'Like what you see? Visit the ' +\n",
              "            '<a target=\"_blank\" href=https://colab.research.google.com/notebooks/data_table.ipynb>data table notebook</a>'\n",
              "            + ' to learn more about interactive tables.';\n",
              "          element.innerHTML = '';\n",
              "          dataTable['output_type'] = 'display_data';\n",
              "          await google.colab.output.renderOutput(dataTable, element);\n",
              "          const docLink = document.createElement('div');\n",
              "          docLink.innerHTML = docLinkHtml;\n",
              "          element.appendChild(docLink);\n",
              "        }\n",
              "      </script>\n",
              "    </div>\n",
              "  </div>\n",
              "  "
            ]
          },
          "metadata": {},
          "execution_count": 44
        }
      ]
    },
    {
      "cell_type": "code",
      "source": [
        "df.info()"
      ],
      "metadata": {
        "colab": {
          "base_uri": "https://localhost:8080/"
        },
        "id": "hFtP47UAesqv",
        "outputId": "f26ed7f1-6315-4bee-9c16-1a5cec092a3b"
      },
      "execution_count": null,
      "outputs": [
        {
          "output_type": "stream",
          "name": "stdout",
          "text": [
            "<class 'pandas.core.frame.DataFrame'>\n",
            "RangeIndex: 17000 entries, 0 to 16999\n",
            "Data columns (total 9 columns):\n",
            " #   Column              Non-Null Count  Dtype  \n",
            "---  ------              --------------  -----  \n",
            " 0   longitude           17000 non-null  float64\n",
            " 1   latitude            17000 non-null  float64\n",
            " 2   housing_median_age  17000 non-null  float64\n",
            " 3   total_rooms         17000 non-null  float64\n",
            " 4   total_bedrooms      17000 non-null  float64\n",
            " 5   population          17000 non-null  float64\n",
            " 6   households          17000 non-null  float64\n",
            " 7   median_income       17000 non-null  float64\n",
            " 8   median_house_value  17000 non-null  float64\n",
            "dtypes: float64(9)\n",
            "memory usage: 1.2 MB\n"
          ]
        }
      ]
    },
    {
      "cell_type": "code",
      "source": [
        "df.shape"
      ],
      "metadata": {
        "colab": {
          "base_uri": "https://localhost:8080/"
        },
        "id": "lVDUvNWeev2D",
        "outputId": "0f2b23ae-21b8-4944-8fa0-b1dd8d08ab73"
      },
      "execution_count": null,
      "outputs": [
        {
          "output_type": "execute_result",
          "data": {
            "text/plain": [
              "(17000, 9)"
            ]
          },
          "metadata": {},
          "execution_count": 46
        }
      ]
    },
    {
      "cell_type": "code",
      "source": [
        "df.size"
      ],
      "metadata": {
        "colab": {
          "base_uri": "https://localhost:8080/"
        },
        "id": "qOq8x0rpe2xC",
        "outputId": "a1136363-7273-41db-b830-7ba11c1f9b43"
      },
      "execution_count": null,
      "outputs": [
        {
          "output_type": "execute_result",
          "data": {
            "text/plain": [
              "153000"
            ]
          },
          "metadata": {},
          "execution_count": 47
        }
      ]
    },
    {
      "cell_type": "code",
      "source": [
        "df.sample(n=15)"
      ],
      "metadata": {
        "colab": {
          "base_uri": "https://localhost:8080/",
          "height": 520
        },
        "id": "2YDsBnZEe4_l",
        "outputId": "c52bc397-caaa-4d0b-8a8b-99b93cc83767"
      },
      "execution_count": null,
      "outputs": [
        {
          "output_type": "execute_result",
          "data": {
            "text/plain": [
              "       longitude  latitude  housing_median_age  total_rooms  total_bedrooms  \\\n",
              "2457     -117.60     33.65                 4.0       3134.0           504.0   \n",
              "3737     -117.93     33.85                31.0       2149.0           465.0   \n",
              "11077    -120.99     39.22                16.0       1497.0           275.0   \n",
              "8373     -118.46     33.99                37.0       1828.0           460.0   \n",
              "7324     -118.34     33.90                37.0        542.0           105.0   \n",
              "7965     -118.41     34.04                52.0       2113.0           332.0   \n",
              "5944     -118.21     34.05                28.0       1841.0           809.0   \n",
              "16085    -122.45     37.71                50.0       1441.0           283.0   \n",
              "15280    -122.28     37.87                46.0       3022.0           696.0   \n",
              "2462     -117.61     34.14                14.0      15809.0          2485.0   \n",
              "9057     -118.98     35.39                22.0       1812.0           457.0   \n",
              "12781    -121.80     38.67                10.0       2086.0           380.0   \n",
              "405      -116.95     33.76                10.0       6890.0          1702.0   \n",
              "10194    -119.86     34.38                28.0       1062.0           309.0   \n",
              "1068     -117.11     32.81                15.0       3428.0           491.0   \n",
              "\n",
              "       population  households  median_income  median_house_value  \n",
              "2457       1599.0       485.0         6.2464            233900.0  \n",
              "3737        966.0       302.0         3.8750            183900.0  \n",
              "11077       737.0       243.0         2.8942            182500.0  \n",
              "8373       1075.0       453.0         4.3370            360600.0  \n",
              "7324        355.0       118.0         5.5133            227300.0  \n",
              "7965        800.0       327.0        11.1768            500001.0  \n",
              "5944       3199.0       727.0         1.6319            151600.0  \n",
              "16085      1159.0       286.0         4.5417            233700.0  \n",
              "15280      1293.0       675.0         2.5430            220700.0  \n",
              "2462       7363.0      2410.0         5.5198            245600.0  \n",
              "9057       1592.0       420.0         1.4146             49100.0  \n",
              "12781      1073.0       378.0         4.5526            154400.0  \n",
              "405        3141.0      1451.0         1.7079             95900.0  \n",
              "10194      1058.0       305.0         1.5071            316700.0  \n",
              "1068       2303.0       486.0         2.5953             67500.0  "
            ],
            "text/html": [
              "\n",
              "  <div id=\"df-fcff78d2-ebb6-4e47-a1f8-448f476c69ed\">\n",
              "    <div class=\"colab-df-container\">\n",
              "      <div>\n",
              "<style scoped>\n",
              "    .dataframe tbody tr th:only-of-type {\n",
              "        vertical-align: middle;\n",
              "    }\n",
              "\n",
              "    .dataframe tbody tr th {\n",
              "        vertical-align: top;\n",
              "    }\n",
              "\n",
              "    .dataframe thead th {\n",
              "        text-align: right;\n",
              "    }\n",
              "</style>\n",
              "<table border=\"1\" class=\"dataframe\">\n",
              "  <thead>\n",
              "    <tr style=\"text-align: right;\">\n",
              "      <th></th>\n",
              "      <th>longitude</th>\n",
              "      <th>latitude</th>\n",
              "      <th>housing_median_age</th>\n",
              "      <th>total_rooms</th>\n",
              "      <th>total_bedrooms</th>\n",
              "      <th>population</th>\n",
              "      <th>households</th>\n",
              "      <th>median_income</th>\n",
              "      <th>median_house_value</th>\n",
              "    </tr>\n",
              "  </thead>\n",
              "  <tbody>\n",
              "    <tr>\n",
              "      <th>2457</th>\n",
              "      <td>-117.60</td>\n",
              "      <td>33.65</td>\n",
              "      <td>4.0</td>\n",
              "      <td>3134.0</td>\n",
              "      <td>504.0</td>\n",
              "      <td>1599.0</td>\n",
              "      <td>485.0</td>\n",
              "      <td>6.2464</td>\n",
              "      <td>233900.0</td>\n",
              "    </tr>\n",
              "    <tr>\n",
              "      <th>3737</th>\n",
              "      <td>-117.93</td>\n",
              "      <td>33.85</td>\n",
              "      <td>31.0</td>\n",
              "      <td>2149.0</td>\n",
              "      <td>465.0</td>\n",
              "      <td>966.0</td>\n",
              "      <td>302.0</td>\n",
              "      <td>3.8750</td>\n",
              "      <td>183900.0</td>\n",
              "    </tr>\n",
              "    <tr>\n",
              "      <th>11077</th>\n",
              "      <td>-120.99</td>\n",
              "      <td>39.22</td>\n",
              "      <td>16.0</td>\n",
              "      <td>1497.0</td>\n",
              "      <td>275.0</td>\n",
              "      <td>737.0</td>\n",
              "      <td>243.0</td>\n",
              "      <td>2.8942</td>\n",
              "      <td>182500.0</td>\n",
              "    </tr>\n",
              "    <tr>\n",
              "      <th>8373</th>\n",
              "      <td>-118.46</td>\n",
              "      <td>33.99</td>\n",
              "      <td>37.0</td>\n",
              "      <td>1828.0</td>\n",
              "      <td>460.0</td>\n",
              "      <td>1075.0</td>\n",
              "      <td>453.0</td>\n",
              "      <td>4.3370</td>\n",
              "      <td>360600.0</td>\n",
              "    </tr>\n",
              "    <tr>\n",
              "      <th>7324</th>\n",
              "      <td>-118.34</td>\n",
              "      <td>33.90</td>\n",
              "      <td>37.0</td>\n",
              "      <td>542.0</td>\n",
              "      <td>105.0</td>\n",
              "      <td>355.0</td>\n",
              "      <td>118.0</td>\n",
              "      <td>5.5133</td>\n",
              "      <td>227300.0</td>\n",
              "    </tr>\n",
              "    <tr>\n",
              "      <th>7965</th>\n",
              "      <td>-118.41</td>\n",
              "      <td>34.04</td>\n",
              "      <td>52.0</td>\n",
              "      <td>2113.0</td>\n",
              "      <td>332.0</td>\n",
              "      <td>800.0</td>\n",
              "      <td>327.0</td>\n",
              "      <td>11.1768</td>\n",
              "      <td>500001.0</td>\n",
              "    </tr>\n",
              "    <tr>\n",
              "      <th>5944</th>\n",
              "      <td>-118.21</td>\n",
              "      <td>34.05</td>\n",
              "      <td>28.0</td>\n",
              "      <td>1841.0</td>\n",
              "      <td>809.0</td>\n",
              "      <td>3199.0</td>\n",
              "      <td>727.0</td>\n",
              "      <td>1.6319</td>\n",
              "      <td>151600.0</td>\n",
              "    </tr>\n",
              "    <tr>\n",
              "      <th>16085</th>\n",
              "      <td>-122.45</td>\n",
              "      <td>37.71</td>\n",
              "      <td>50.0</td>\n",
              "      <td>1441.0</td>\n",
              "      <td>283.0</td>\n",
              "      <td>1159.0</td>\n",
              "      <td>286.0</td>\n",
              "      <td>4.5417</td>\n",
              "      <td>233700.0</td>\n",
              "    </tr>\n",
              "    <tr>\n",
              "      <th>15280</th>\n",
              "      <td>-122.28</td>\n",
              "      <td>37.87</td>\n",
              "      <td>46.0</td>\n",
              "      <td>3022.0</td>\n",
              "      <td>696.0</td>\n",
              "      <td>1293.0</td>\n",
              "      <td>675.0</td>\n",
              "      <td>2.5430</td>\n",
              "      <td>220700.0</td>\n",
              "    </tr>\n",
              "    <tr>\n",
              "      <th>2462</th>\n",
              "      <td>-117.61</td>\n",
              "      <td>34.14</td>\n",
              "      <td>14.0</td>\n",
              "      <td>15809.0</td>\n",
              "      <td>2485.0</td>\n",
              "      <td>7363.0</td>\n",
              "      <td>2410.0</td>\n",
              "      <td>5.5198</td>\n",
              "      <td>245600.0</td>\n",
              "    </tr>\n",
              "    <tr>\n",
              "      <th>9057</th>\n",
              "      <td>-118.98</td>\n",
              "      <td>35.39</td>\n",
              "      <td>22.0</td>\n",
              "      <td>1812.0</td>\n",
              "      <td>457.0</td>\n",
              "      <td>1592.0</td>\n",
              "      <td>420.0</td>\n",
              "      <td>1.4146</td>\n",
              "      <td>49100.0</td>\n",
              "    </tr>\n",
              "    <tr>\n",
              "      <th>12781</th>\n",
              "      <td>-121.80</td>\n",
              "      <td>38.67</td>\n",
              "      <td>10.0</td>\n",
              "      <td>2086.0</td>\n",
              "      <td>380.0</td>\n",
              "      <td>1073.0</td>\n",
              "      <td>378.0</td>\n",
              "      <td>4.5526</td>\n",
              "      <td>154400.0</td>\n",
              "    </tr>\n",
              "    <tr>\n",
              "      <th>405</th>\n",
              "      <td>-116.95</td>\n",
              "      <td>33.76</td>\n",
              "      <td>10.0</td>\n",
              "      <td>6890.0</td>\n",
              "      <td>1702.0</td>\n",
              "      <td>3141.0</td>\n",
              "      <td>1451.0</td>\n",
              "      <td>1.7079</td>\n",
              "      <td>95900.0</td>\n",
              "    </tr>\n",
              "    <tr>\n",
              "      <th>10194</th>\n",
              "      <td>-119.86</td>\n",
              "      <td>34.38</td>\n",
              "      <td>28.0</td>\n",
              "      <td>1062.0</td>\n",
              "      <td>309.0</td>\n",
              "      <td>1058.0</td>\n",
              "      <td>305.0</td>\n",
              "      <td>1.5071</td>\n",
              "      <td>316700.0</td>\n",
              "    </tr>\n",
              "    <tr>\n",
              "      <th>1068</th>\n",
              "      <td>-117.11</td>\n",
              "      <td>32.81</td>\n",
              "      <td>15.0</td>\n",
              "      <td>3428.0</td>\n",
              "      <td>491.0</td>\n",
              "      <td>2303.0</td>\n",
              "      <td>486.0</td>\n",
              "      <td>2.5953</td>\n",
              "      <td>67500.0</td>\n",
              "    </tr>\n",
              "  </tbody>\n",
              "</table>\n",
              "</div>\n",
              "      <button class=\"colab-df-convert\" onclick=\"convertToInteractive('df-fcff78d2-ebb6-4e47-a1f8-448f476c69ed')\"\n",
              "              title=\"Convert this dataframe to an interactive table.\"\n",
              "              style=\"display:none;\">\n",
              "        \n",
              "  <svg xmlns=\"http://www.w3.org/2000/svg\" height=\"24px\"viewBox=\"0 0 24 24\"\n",
              "       width=\"24px\">\n",
              "    <path d=\"M0 0h24v24H0V0z\" fill=\"none\"/>\n",
              "    <path d=\"M18.56 5.44l.94 2.06.94-2.06 2.06-.94-2.06-.94-.94-2.06-.94 2.06-2.06.94zm-11 1L8.5 8.5l.94-2.06 2.06-.94-2.06-.94L8.5 2.5l-.94 2.06-2.06.94zm10 10l.94 2.06.94-2.06 2.06-.94-2.06-.94-.94-2.06-.94 2.06-2.06.94z\"/><path d=\"M17.41 7.96l-1.37-1.37c-.4-.4-.92-.59-1.43-.59-.52 0-1.04.2-1.43.59L10.3 9.45l-7.72 7.72c-.78.78-.78 2.05 0 2.83L4 21.41c.39.39.9.59 1.41.59.51 0 1.02-.2 1.41-.59l7.78-7.78 2.81-2.81c.8-.78.8-2.07 0-2.86zM5.41 20L4 18.59l7.72-7.72 1.47 1.35L5.41 20z\"/>\n",
              "  </svg>\n",
              "      </button>\n",
              "      \n",
              "  <style>\n",
              "    .colab-df-container {\n",
              "      display:flex;\n",
              "      flex-wrap:wrap;\n",
              "      gap: 12px;\n",
              "    }\n",
              "\n",
              "    .colab-df-convert {\n",
              "      background-color: #E8F0FE;\n",
              "      border: none;\n",
              "      border-radius: 50%;\n",
              "      cursor: pointer;\n",
              "      display: none;\n",
              "      fill: #1967D2;\n",
              "      height: 32px;\n",
              "      padding: 0 0 0 0;\n",
              "      width: 32px;\n",
              "    }\n",
              "\n",
              "    .colab-df-convert:hover {\n",
              "      background-color: #E2EBFA;\n",
              "      box-shadow: 0px 1px 2px rgba(60, 64, 67, 0.3), 0px 1px 3px 1px rgba(60, 64, 67, 0.15);\n",
              "      fill: #174EA6;\n",
              "    }\n",
              "\n",
              "    [theme=dark] .colab-df-convert {\n",
              "      background-color: #3B4455;\n",
              "      fill: #D2E3FC;\n",
              "    }\n",
              "\n",
              "    [theme=dark] .colab-df-convert:hover {\n",
              "      background-color: #434B5C;\n",
              "      box-shadow: 0px 1px 3px 1px rgba(0, 0, 0, 0.15);\n",
              "      filter: drop-shadow(0px 1px 2px rgba(0, 0, 0, 0.3));\n",
              "      fill: #FFFFFF;\n",
              "    }\n",
              "  </style>\n",
              "\n",
              "      <script>\n",
              "        const buttonEl =\n",
              "          document.querySelector('#df-fcff78d2-ebb6-4e47-a1f8-448f476c69ed button.colab-df-convert');\n",
              "        buttonEl.style.display =\n",
              "          google.colab.kernel.accessAllowed ? 'block' : 'none';\n",
              "\n",
              "        async function convertToInteractive(key) {\n",
              "          const element = document.querySelector('#df-fcff78d2-ebb6-4e47-a1f8-448f476c69ed');\n",
              "          const dataTable =\n",
              "            await google.colab.kernel.invokeFunction('convertToInteractive',\n",
              "                                                     [key], {});\n",
              "          if (!dataTable) return;\n",
              "\n",
              "          const docLinkHtml = 'Like what you see? Visit the ' +\n",
              "            '<a target=\"_blank\" href=https://colab.research.google.com/notebooks/data_table.ipynb>data table notebook</a>'\n",
              "            + ' to learn more about interactive tables.';\n",
              "          element.innerHTML = '';\n",
              "          dataTable['output_type'] = 'display_data';\n",
              "          await google.colab.output.renderOutput(dataTable, element);\n",
              "          const docLink = document.createElement('div');\n",
              "          docLink.innerHTML = docLinkHtml;\n",
              "          element.appendChild(docLink);\n",
              "        }\n",
              "      </script>\n",
              "    </div>\n",
              "  </div>\n",
              "  "
            ]
          },
          "metadata": {},
          "execution_count": 48
        }
      ]
    },
    {
      "cell_type": "code",
      "source": [
        "df.describe()"
      ],
      "metadata": {
        "colab": {
          "base_uri": "https://localhost:8080/",
          "height": 300
        },
        "id": "mtYLn9KtfB1S",
        "outputId": "6cfbbfdb-f799-4bfe-ee95-3a529a16bd12"
      },
      "execution_count": null,
      "outputs": [
        {
          "output_type": "execute_result",
          "data": {
            "text/plain": [
              "          longitude      latitude  housing_median_age   total_rooms  \\\n",
              "count  17000.000000  17000.000000        17000.000000  17000.000000   \n",
              "mean    -119.562108     35.625225           28.589353   2643.664412   \n",
              "std        2.005166      2.137340           12.586937   2179.947071   \n",
              "min     -124.350000     32.540000            1.000000      2.000000   \n",
              "25%     -121.790000     33.930000           18.000000   1462.000000   \n",
              "50%     -118.490000     34.250000           29.000000   2127.000000   \n",
              "75%     -118.000000     37.720000           37.000000   3151.250000   \n",
              "max     -114.310000     41.950000           52.000000  37937.000000   \n",
              "\n",
              "       total_bedrooms    population    households  median_income  \\\n",
              "count    17000.000000  17000.000000  17000.000000   17000.000000   \n",
              "mean       539.410824   1429.573941    501.221941       3.883578   \n",
              "std        421.499452   1147.852959    384.520841       1.908157   \n",
              "min          1.000000      3.000000      1.000000       0.499900   \n",
              "25%        297.000000    790.000000    282.000000       2.566375   \n",
              "50%        434.000000   1167.000000    409.000000       3.544600   \n",
              "75%        648.250000   1721.000000    605.250000       4.767000   \n",
              "max       6445.000000  35682.000000   6082.000000      15.000100   \n",
              "\n",
              "       median_house_value  \n",
              "count        17000.000000  \n",
              "mean        207300.912353  \n",
              "std         115983.764387  \n",
              "min          14999.000000  \n",
              "25%         119400.000000  \n",
              "50%         180400.000000  \n",
              "75%         265000.000000  \n",
              "max         500001.000000  "
            ],
            "text/html": [
              "\n",
              "  <div id=\"df-fee90d4b-08e6-4ef0-8fb3-51b72177d71f\">\n",
              "    <div class=\"colab-df-container\">\n",
              "      <div>\n",
              "<style scoped>\n",
              "    .dataframe tbody tr th:only-of-type {\n",
              "        vertical-align: middle;\n",
              "    }\n",
              "\n",
              "    .dataframe tbody tr th {\n",
              "        vertical-align: top;\n",
              "    }\n",
              "\n",
              "    .dataframe thead th {\n",
              "        text-align: right;\n",
              "    }\n",
              "</style>\n",
              "<table border=\"1\" class=\"dataframe\">\n",
              "  <thead>\n",
              "    <tr style=\"text-align: right;\">\n",
              "      <th></th>\n",
              "      <th>longitude</th>\n",
              "      <th>latitude</th>\n",
              "      <th>housing_median_age</th>\n",
              "      <th>total_rooms</th>\n",
              "      <th>total_bedrooms</th>\n",
              "      <th>population</th>\n",
              "      <th>households</th>\n",
              "      <th>median_income</th>\n",
              "      <th>median_house_value</th>\n",
              "    </tr>\n",
              "  </thead>\n",
              "  <tbody>\n",
              "    <tr>\n",
              "      <th>count</th>\n",
              "      <td>17000.000000</td>\n",
              "      <td>17000.000000</td>\n",
              "      <td>17000.000000</td>\n",
              "      <td>17000.000000</td>\n",
              "      <td>17000.000000</td>\n",
              "      <td>17000.000000</td>\n",
              "      <td>17000.000000</td>\n",
              "      <td>17000.000000</td>\n",
              "      <td>17000.000000</td>\n",
              "    </tr>\n",
              "    <tr>\n",
              "      <th>mean</th>\n",
              "      <td>-119.562108</td>\n",
              "      <td>35.625225</td>\n",
              "      <td>28.589353</td>\n",
              "      <td>2643.664412</td>\n",
              "      <td>539.410824</td>\n",
              "      <td>1429.573941</td>\n",
              "      <td>501.221941</td>\n",
              "      <td>3.883578</td>\n",
              "      <td>207300.912353</td>\n",
              "    </tr>\n",
              "    <tr>\n",
              "      <th>std</th>\n",
              "      <td>2.005166</td>\n",
              "      <td>2.137340</td>\n",
              "      <td>12.586937</td>\n",
              "      <td>2179.947071</td>\n",
              "      <td>421.499452</td>\n",
              "      <td>1147.852959</td>\n",
              "      <td>384.520841</td>\n",
              "      <td>1.908157</td>\n",
              "      <td>115983.764387</td>\n",
              "    </tr>\n",
              "    <tr>\n",
              "      <th>min</th>\n",
              "      <td>-124.350000</td>\n",
              "      <td>32.540000</td>\n",
              "      <td>1.000000</td>\n",
              "      <td>2.000000</td>\n",
              "      <td>1.000000</td>\n",
              "      <td>3.000000</td>\n",
              "      <td>1.000000</td>\n",
              "      <td>0.499900</td>\n",
              "      <td>14999.000000</td>\n",
              "    </tr>\n",
              "    <tr>\n",
              "      <th>25%</th>\n",
              "      <td>-121.790000</td>\n",
              "      <td>33.930000</td>\n",
              "      <td>18.000000</td>\n",
              "      <td>1462.000000</td>\n",
              "      <td>297.000000</td>\n",
              "      <td>790.000000</td>\n",
              "      <td>282.000000</td>\n",
              "      <td>2.566375</td>\n",
              "      <td>119400.000000</td>\n",
              "    </tr>\n",
              "    <tr>\n",
              "      <th>50%</th>\n",
              "      <td>-118.490000</td>\n",
              "      <td>34.250000</td>\n",
              "      <td>29.000000</td>\n",
              "      <td>2127.000000</td>\n",
              "      <td>434.000000</td>\n",
              "      <td>1167.000000</td>\n",
              "      <td>409.000000</td>\n",
              "      <td>3.544600</td>\n",
              "      <td>180400.000000</td>\n",
              "    </tr>\n",
              "    <tr>\n",
              "      <th>75%</th>\n",
              "      <td>-118.000000</td>\n",
              "      <td>37.720000</td>\n",
              "      <td>37.000000</td>\n",
              "      <td>3151.250000</td>\n",
              "      <td>648.250000</td>\n",
              "      <td>1721.000000</td>\n",
              "      <td>605.250000</td>\n",
              "      <td>4.767000</td>\n",
              "      <td>265000.000000</td>\n",
              "    </tr>\n",
              "    <tr>\n",
              "      <th>max</th>\n",
              "      <td>-114.310000</td>\n",
              "      <td>41.950000</td>\n",
              "      <td>52.000000</td>\n",
              "      <td>37937.000000</td>\n",
              "      <td>6445.000000</td>\n",
              "      <td>35682.000000</td>\n",
              "      <td>6082.000000</td>\n",
              "      <td>15.000100</td>\n",
              "      <td>500001.000000</td>\n",
              "    </tr>\n",
              "  </tbody>\n",
              "</table>\n",
              "</div>\n",
              "      <button class=\"colab-df-convert\" onclick=\"convertToInteractive('df-fee90d4b-08e6-4ef0-8fb3-51b72177d71f')\"\n",
              "              title=\"Convert this dataframe to an interactive table.\"\n",
              "              style=\"display:none;\">\n",
              "        \n",
              "  <svg xmlns=\"http://www.w3.org/2000/svg\" height=\"24px\"viewBox=\"0 0 24 24\"\n",
              "       width=\"24px\">\n",
              "    <path d=\"M0 0h24v24H0V0z\" fill=\"none\"/>\n",
              "    <path d=\"M18.56 5.44l.94 2.06.94-2.06 2.06-.94-2.06-.94-.94-2.06-.94 2.06-2.06.94zm-11 1L8.5 8.5l.94-2.06 2.06-.94-2.06-.94L8.5 2.5l-.94 2.06-2.06.94zm10 10l.94 2.06.94-2.06 2.06-.94-2.06-.94-.94-2.06-.94 2.06-2.06.94z\"/><path d=\"M17.41 7.96l-1.37-1.37c-.4-.4-.92-.59-1.43-.59-.52 0-1.04.2-1.43.59L10.3 9.45l-7.72 7.72c-.78.78-.78 2.05 0 2.83L4 21.41c.39.39.9.59 1.41.59.51 0 1.02-.2 1.41-.59l7.78-7.78 2.81-2.81c.8-.78.8-2.07 0-2.86zM5.41 20L4 18.59l7.72-7.72 1.47 1.35L5.41 20z\"/>\n",
              "  </svg>\n",
              "      </button>\n",
              "      \n",
              "  <style>\n",
              "    .colab-df-container {\n",
              "      display:flex;\n",
              "      flex-wrap:wrap;\n",
              "      gap: 12px;\n",
              "    }\n",
              "\n",
              "    .colab-df-convert {\n",
              "      background-color: #E8F0FE;\n",
              "      border: none;\n",
              "      border-radius: 50%;\n",
              "      cursor: pointer;\n",
              "      display: none;\n",
              "      fill: #1967D2;\n",
              "      height: 32px;\n",
              "      padding: 0 0 0 0;\n",
              "      width: 32px;\n",
              "    }\n",
              "\n",
              "    .colab-df-convert:hover {\n",
              "      background-color: #E2EBFA;\n",
              "      box-shadow: 0px 1px 2px rgba(60, 64, 67, 0.3), 0px 1px 3px 1px rgba(60, 64, 67, 0.15);\n",
              "      fill: #174EA6;\n",
              "    }\n",
              "\n",
              "    [theme=dark] .colab-df-convert {\n",
              "      background-color: #3B4455;\n",
              "      fill: #D2E3FC;\n",
              "    }\n",
              "\n",
              "    [theme=dark] .colab-df-convert:hover {\n",
              "      background-color: #434B5C;\n",
              "      box-shadow: 0px 1px 3px 1px rgba(0, 0, 0, 0.15);\n",
              "      filter: drop-shadow(0px 1px 2px rgba(0, 0, 0, 0.3));\n",
              "      fill: #FFFFFF;\n",
              "    }\n",
              "  </style>\n",
              "\n",
              "      <script>\n",
              "        const buttonEl =\n",
              "          document.querySelector('#df-fee90d4b-08e6-4ef0-8fb3-51b72177d71f button.colab-df-convert');\n",
              "        buttonEl.style.display =\n",
              "          google.colab.kernel.accessAllowed ? 'block' : 'none';\n",
              "\n",
              "        async function convertToInteractive(key) {\n",
              "          const element = document.querySelector('#df-fee90d4b-08e6-4ef0-8fb3-51b72177d71f');\n",
              "          const dataTable =\n",
              "            await google.colab.kernel.invokeFunction('convertToInteractive',\n",
              "                                                     [key], {});\n",
              "          if (!dataTable) return;\n",
              "\n",
              "          const docLinkHtml = 'Like what you see? Visit the ' +\n",
              "            '<a target=\"_blank\" href=https://colab.research.google.com/notebooks/data_table.ipynb>data table notebook</a>'\n",
              "            + ' to learn more about interactive tables.';\n",
              "          element.innerHTML = '';\n",
              "          dataTable['output_type'] = 'display_data';\n",
              "          await google.colab.output.renderOutput(dataTable, element);\n",
              "          const docLink = document.createElement('div');\n",
              "          docLink.innerHTML = docLinkHtml;\n",
              "          element.appendChild(docLink);\n",
              "        }\n",
              "      </script>\n",
              "    </div>\n",
              "  </div>\n",
              "  "
            ]
          },
          "metadata": {},
          "execution_count": 49
        }
      ]
    },
    {
      "cell_type": "code",
      "source": [
        "df.describe().T"
      ],
      "metadata": {
        "colab": {
          "base_uri": "https://localhost:8080/",
          "height": 332
        },
        "id": "kX810PGYfIUZ",
        "outputId": "4d7d8ed4-ef0b-46a2-97bf-0619a69fdc75"
      },
      "execution_count": null,
      "outputs": [
        {
          "output_type": "execute_result",
          "data": {
            "text/plain": [
              "                      count           mean            std         min  \\\n",
              "longitude           17000.0    -119.562108       2.005166   -124.3500   \n",
              "latitude            17000.0      35.625225       2.137340     32.5400   \n",
              "housing_median_age  17000.0      28.589353      12.586937      1.0000   \n",
              "total_rooms         17000.0    2643.664412    2179.947071      2.0000   \n",
              "total_bedrooms      17000.0     539.410824     421.499452      1.0000   \n",
              "population          17000.0    1429.573941    1147.852959      3.0000   \n",
              "households          17000.0     501.221941     384.520841      1.0000   \n",
              "median_income       17000.0       3.883578       1.908157      0.4999   \n",
              "median_house_value  17000.0  207300.912353  115983.764387  14999.0000   \n",
              "\n",
              "                              25%          50%         75%          max  \n",
              "longitude             -121.790000    -118.4900    -118.000    -114.3100  \n",
              "latitude                33.930000      34.2500      37.720      41.9500  \n",
              "housing_median_age      18.000000      29.0000      37.000      52.0000  \n",
              "total_rooms           1462.000000    2127.0000    3151.250   37937.0000  \n",
              "total_bedrooms         297.000000     434.0000     648.250    6445.0000  \n",
              "population             790.000000    1167.0000    1721.000   35682.0000  \n",
              "households             282.000000     409.0000     605.250    6082.0000  \n",
              "median_income            2.566375       3.5446       4.767      15.0001  \n",
              "median_house_value  119400.000000  180400.0000  265000.000  500001.0000  "
            ],
            "text/html": [
              "\n",
              "  <div id=\"df-8513db70-e575-47af-8d8c-31124fd80975\">\n",
              "    <div class=\"colab-df-container\">\n",
              "      <div>\n",
              "<style scoped>\n",
              "    .dataframe tbody tr th:only-of-type {\n",
              "        vertical-align: middle;\n",
              "    }\n",
              "\n",
              "    .dataframe tbody tr th {\n",
              "        vertical-align: top;\n",
              "    }\n",
              "\n",
              "    .dataframe thead th {\n",
              "        text-align: right;\n",
              "    }\n",
              "</style>\n",
              "<table border=\"1\" class=\"dataframe\">\n",
              "  <thead>\n",
              "    <tr style=\"text-align: right;\">\n",
              "      <th></th>\n",
              "      <th>count</th>\n",
              "      <th>mean</th>\n",
              "      <th>std</th>\n",
              "      <th>min</th>\n",
              "      <th>25%</th>\n",
              "      <th>50%</th>\n",
              "      <th>75%</th>\n",
              "      <th>max</th>\n",
              "    </tr>\n",
              "  </thead>\n",
              "  <tbody>\n",
              "    <tr>\n",
              "      <th>longitude</th>\n",
              "      <td>17000.0</td>\n",
              "      <td>-119.562108</td>\n",
              "      <td>2.005166</td>\n",
              "      <td>-124.3500</td>\n",
              "      <td>-121.790000</td>\n",
              "      <td>-118.4900</td>\n",
              "      <td>-118.000</td>\n",
              "      <td>-114.3100</td>\n",
              "    </tr>\n",
              "    <tr>\n",
              "      <th>latitude</th>\n",
              "      <td>17000.0</td>\n",
              "      <td>35.625225</td>\n",
              "      <td>2.137340</td>\n",
              "      <td>32.5400</td>\n",
              "      <td>33.930000</td>\n",
              "      <td>34.2500</td>\n",
              "      <td>37.720</td>\n",
              "      <td>41.9500</td>\n",
              "    </tr>\n",
              "    <tr>\n",
              "      <th>housing_median_age</th>\n",
              "      <td>17000.0</td>\n",
              "      <td>28.589353</td>\n",
              "      <td>12.586937</td>\n",
              "      <td>1.0000</td>\n",
              "      <td>18.000000</td>\n",
              "      <td>29.0000</td>\n",
              "      <td>37.000</td>\n",
              "      <td>52.0000</td>\n",
              "    </tr>\n",
              "    <tr>\n",
              "      <th>total_rooms</th>\n",
              "      <td>17000.0</td>\n",
              "      <td>2643.664412</td>\n",
              "      <td>2179.947071</td>\n",
              "      <td>2.0000</td>\n",
              "      <td>1462.000000</td>\n",
              "      <td>2127.0000</td>\n",
              "      <td>3151.250</td>\n",
              "      <td>37937.0000</td>\n",
              "    </tr>\n",
              "    <tr>\n",
              "      <th>total_bedrooms</th>\n",
              "      <td>17000.0</td>\n",
              "      <td>539.410824</td>\n",
              "      <td>421.499452</td>\n",
              "      <td>1.0000</td>\n",
              "      <td>297.000000</td>\n",
              "      <td>434.0000</td>\n",
              "      <td>648.250</td>\n",
              "      <td>6445.0000</td>\n",
              "    </tr>\n",
              "    <tr>\n",
              "      <th>population</th>\n",
              "      <td>17000.0</td>\n",
              "      <td>1429.573941</td>\n",
              "      <td>1147.852959</td>\n",
              "      <td>3.0000</td>\n",
              "      <td>790.000000</td>\n",
              "      <td>1167.0000</td>\n",
              "      <td>1721.000</td>\n",
              "      <td>35682.0000</td>\n",
              "    </tr>\n",
              "    <tr>\n",
              "      <th>households</th>\n",
              "      <td>17000.0</td>\n",
              "      <td>501.221941</td>\n",
              "      <td>384.520841</td>\n",
              "      <td>1.0000</td>\n",
              "      <td>282.000000</td>\n",
              "      <td>409.0000</td>\n",
              "      <td>605.250</td>\n",
              "      <td>6082.0000</td>\n",
              "    </tr>\n",
              "    <tr>\n",
              "      <th>median_income</th>\n",
              "      <td>17000.0</td>\n",
              "      <td>3.883578</td>\n",
              "      <td>1.908157</td>\n",
              "      <td>0.4999</td>\n",
              "      <td>2.566375</td>\n",
              "      <td>3.5446</td>\n",
              "      <td>4.767</td>\n",
              "      <td>15.0001</td>\n",
              "    </tr>\n",
              "    <tr>\n",
              "      <th>median_house_value</th>\n",
              "      <td>17000.0</td>\n",
              "      <td>207300.912353</td>\n",
              "      <td>115983.764387</td>\n",
              "      <td>14999.0000</td>\n",
              "      <td>119400.000000</td>\n",
              "      <td>180400.0000</td>\n",
              "      <td>265000.000</td>\n",
              "      <td>500001.0000</td>\n",
              "    </tr>\n",
              "  </tbody>\n",
              "</table>\n",
              "</div>\n",
              "      <button class=\"colab-df-convert\" onclick=\"convertToInteractive('df-8513db70-e575-47af-8d8c-31124fd80975')\"\n",
              "              title=\"Convert this dataframe to an interactive table.\"\n",
              "              style=\"display:none;\">\n",
              "        \n",
              "  <svg xmlns=\"http://www.w3.org/2000/svg\" height=\"24px\"viewBox=\"0 0 24 24\"\n",
              "       width=\"24px\">\n",
              "    <path d=\"M0 0h24v24H0V0z\" fill=\"none\"/>\n",
              "    <path d=\"M18.56 5.44l.94 2.06.94-2.06 2.06-.94-2.06-.94-.94-2.06-.94 2.06-2.06.94zm-11 1L8.5 8.5l.94-2.06 2.06-.94-2.06-.94L8.5 2.5l-.94 2.06-2.06.94zm10 10l.94 2.06.94-2.06 2.06-.94-2.06-.94-.94-2.06-.94 2.06-2.06.94z\"/><path d=\"M17.41 7.96l-1.37-1.37c-.4-.4-.92-.59-1.43-.59-.52 0-1.04.2-1.43.59L10.3 9.45l-7.72 7.72c-.78.78-.78 2.05 0 2.83L4 21.41c.39.39.9.59 1.41.59.51 0 1.02-.2 1.41-.59l7.78-7.78 2.81-2.81c.8-.78.8-2.07 0-2.86zM5.41 20L4 18.59l7.72-7.72 1.47 1.35L5.41 20z\"/>\n",
              "  </svg>\n",
              "      </button>\n",
              "      \n",
              "  <style>\n",
              "    .colab-df-container {\n",
              "      display:flex;\n",
              "      flex-wrap:wrap;\n",
              "      gap: 12px;\n",
              "    }\n",
              "\n",
              "    .colab-df-convert {\n",
              "      background-color: #E8F0FE;\n",
              "      border: none;\n",
              "      border-radius: 50%;\n",
              "      cursor: pointer;\n",
              "      display: none;\n",
              "      fill: #1967D2;\n",
              "      height: 32px;\n",
              "      padding: 0 0 0 0;\n",
              "      width: 32px;\n",
              "    }\n",
              "\n",
              "    .colab-df-convert:hover {\n",
              "      background-color: #E2EBFA;\n",
              "      box-shadow: 0px 1px 2px rgba(60, 64, 67, 0.3), 0px 1px 3px 1px rgba(60, 64, 67, 0.15);\n",
              "      fill: #174EA6;\n",
              "    }\n",
              "\n",
              "    [theme=dark] .colab-df-convert {\n",
              "      background-color: #3B4455;\n",
              "      fill: #D2E3FC;\n",
              "    }\n",
              "\n",
              "    [theme=dark] .colab-df-convert:hover {\n",
              "      background-color: #434B5C;\n",
              "      box-shadow: 0px 1px 3px 1px rgba(0, 0, 0, 0.15);\n",
              "      filter: drop-shadow(0px 1px 2px rgba(0, 0, 0, 0.3));\n",
              "      fill: #FFFFFF;\n",
              "    }\n",
              "  </style>\n",
              "\n",
              "      <script>\n",
              "        const buttonEl =\n",
              "          document.querySelector('#df-8513db70-e575-47af-8d8c-31124fd80975 button.colab-df-convert');\n",
              "        buttonEl.style.display =\n",
              "          google.colab.kernel.accessAllowed ? 'block' : 'none';\n",
              "\n",
              "        async function convertToInteractive(key) {\n",
              "          const element = document.querySelector('#df-8513db70-e575-47af-8d8c-31124fd80975');\n",
              "          const dataTable =\n",
              "            await google.colab.kernel.invokeFunction('convertToInteractive',\n",
              "                                                     [key], {});\n",
              "          if (!dataTable) return;\n",
              "\n",
              "          const docLinkHtml = 'Like what you see? Visit the ' +\n",
              "            '<a target=\"_blank\" href=https://colab.research.google.com/notebooks/data_table.ipynb>data table notebook</a>'\n",
              "            + ' to learn more about interactive tables.';\n",
              "          element.innerHTML = '';\n",
              "          dataTable['output_type'] = 'display_data';\n",
              "          await google.colab.output.renderOutput(dataTable, element);\n",
              "          const docLink = document.createElement('div');\n",
              "          docLink.innerHTML = docLinkHtml;\n",
              "          element.appendChild(docLink);\n",
              "        }\n",
              "      </script>\n",
              "    </div>\n",
              "  </div>\n",
              "  "
            ]
          },
          "metadata": {},
          "execution_count": 51
        }
      ]
    },
    {
      "cell_type": "code",
      "source": [
        "df.nunique()"
      ],
      "metadata": {
        "colab": {
          "base_uri": "https://localhost:8080/"
        },
        "id": "v12eIQu7fRhH",
        "outputId": "60a8b943-416c-4f0f-8dc1-c4277f506182"
      },
      "execution_count": null,
      "outputs": [
        {
          "output_type": "execute_result",
          "data": {
            "text/plain": [
              "longitude               827\n",
              "latitude                840\n",
              "housing_median_age       52\n",
              "total_rooms            5533\n",
              "total_bedrooms         1848\n",
              "population             3683\n",
              "households             1740\n",
              "median_income         11175\n",
              "median_house_value     3694\n",
              "dtype: int64"
            ]
          },
          "metadata": {},
          "execution_count": 52
        }
      ]
    },
    {
      "cell_type": "code",
      "source": [
        "df.isnull().sum()"
      ],
      "metadata": {
        "colab": {
          "base_uri": "https://localhost:8080/"
        },
        "id": "O7Xz8TNLfYNy",
        "outputId": "bf480a7f-d67e-4b5f-abba-29e7bfd0ac7e"
      },
      "execution_count": null,
      "outputs": [
        {
          "output_type": "execute_result",
          "data": {
            "text/plain": [
              "longitude             0\n",
              "latitude              0\n",
              "housing_median_age    0\n",
              "total_rooms           0\n",
              "total_bedrooms        0\n",
              "population            0\n",
              "households            0\n",
              "median_income         0\n",
              "median_house_value    0\n",
              "dtype: int64"
            ]
          },
          "metadata": {},
          "execution_count": 53
        }
      ]
    },
    {
      "cell_type": "code",
      "source": [
        "df.isnull().any()"
      ],
      "metadata": {
        "colab": {
          "base_uri": "https://localhost:8080/"
        },
        "id": "s4gdI-PkfeKB",
        "outputId": "891ea1ae-bcdd-4705-f224-f88cbcb8a566"
      },
      "execution_count": null,
      "outputs": [
        {
          "output_type": "execute_result",
          "data": {
            "text/plain": [
              "longitude             False\n",
              "latitude              False\n",
              "housing_median_age    False\n",
              "total_rooms           False\n",
              "total_bedrooms        False\n",
              "population            False\n",
              "households            False\n",
              "median_income         False\n",
              "median_house_value    False\n",
              "dtype: bool"
            ]
          },
          "metadata": {},
          "execution_count": 54
        }
      ]
    },
    {
      "cell_type": "code",
      "source": [
        "df.columns"
      ],
      "metadata": {
        "colab": {
          "base_uri": "https://localhost:8080/"
        },
        "id": "SeSSF9b6fnqP",
        "outputId": "80f19f7b-703c-4655-d6c4-970b0f55ecff"
      },
      "execution_count": null,
      "outputs": [
        {
          "output_type": "execute_result",
          "data": {
            "text/plain": [
              "Index(['longitude', 'latitude', 'housing_median_age', 'total_rooms',\n",
              "       'total_bedrooms', 'population', 'households', 'median_income',\n",
              "       'median_house_value'],\n",
              "      dtype='object')"
            ]
          },
          "metadata": {},
          "execution_count": 56
        }
      ]
    },
    {
      "cell_type": "code",
      "source": [
        "df.nsmallest(10,'population')"
      ],
      "metadata": {
        "colab": {
          "base_uri": "https://localhost:8080/",
          "height": 363
        },
        "id": "8mn8KWt4ftOC",
        "outputId": "e08402fd-2ce6-4b04-f45e-18433fddd131"
      },
      "execution_count": null,
      "outputs": [
        {
          "output_type": "execute_result",
          "data": {
            "text/plain": [
              "       longitude  latitude  housing_median_age  total_rooms  total_bedrooms  \\\n",
              "8232     -118.44     34.04                16.0         18.0             6.0   \n",
              "2990     -117.79     35.21                 4.0          2.0             2.0   \n",
              "2907     -117.76     35.22                 4.0         18.0             3.0   \n",
              "14105    -122.06     37.39                26.0         18.0             4.0   \n",
              "288      -116.76     34.14                 4.0         42.0            10.0   \n",
              "10911    -120.85     37.75                26.0         28.0             4.0   \n",
              "15656    -122.37     37.60                26.0         15.0             3.0   \n",
              "1466     -117.19     32.75                52.0         25.0             5.0   \n",
              "10356    -120.13     35.87                26.0         48.0             8.0   \n",
              "14501    -122.14     37.50                46.0         30.0             4.0   \n",
              "\n",
              "       population  households  median_income  median_house_value  \n",
              "8232          3.0         4.0         0.5360            350000.0  \n",
              "2990          6.0         2.0         2.3750            137500.0  \n",
              "2907          8.0         6.0         1.6250            275000.0  \n",
              "14105         8.0         4.0         3.7500            375000.0  \n",
              "288           9.0         3.0         0.5360             42500.0  \n",
              "10911         9.0         5.0         1.6250             85000.0  \n",
              "15656        11.0         3.0         5.0480            350000.0  \n",
              "1466         13.0         5.0         0.5360            162500.0  \n",
              "10356        13.0         8.0         2.3750             71300.0  \n",
              "14501        13.0         5.0        15.0001            500001.0  "
            ],
            "text/html": [
              "\n",
              "  <div id=\"df-9d2e0bf8-11ed-4197-8dda-69bf85662fdc\">\n",
              "    <div class=\"colab-df-container\">\n",
              "      <div>\n",
              "<style scoped>\n",
              "    .dataframe tbody tr th:only-of-type {\n",
              "        vertical-align: middle;\n",
              "    }\n",
              "\n",
              "    .dataframe tbody tr th {\n",
              "        vertical-align: top;\n",
              "    }\n",
              "\n",
              "    .dataframe thead th {\n",
              "        text-align: right;\n",
              "    }\n",
              "</style>\n",
              "<table border=\"1\" class=\"dataframe\">\n",
              "  <thead>\n",
              "    <tr style=\"text-align: right;\">\n",
              "      <th></th>\n",
              "      <th>longitude</th>\n",
              "      <th>latitude</th>\n",
              "      <th>housing_median_age</th>\n",
              "      <th>total_rooms</th>\n",
              "      <th>total_bedrooms</th>\n",
              "      <th>population</th>\n",
              "      <th>households</th>\n",
              "      <th>median_income</th>\n",
              "      <th>median_house_value</th>\n",
              "    </tr>\n",
              "  </thead>\n",
              "  <tbody>\n",
              "    <tr>\n",
              "      <th>8232</th>\n",
              "      <td>-118.44</td>\n",
              "      <td>34.04</td>\n",
              "      <td>16.0</td>\n",
              "      <td>18.0</td>\n",
              "      <td>6.0</td>\n",
              "      <td>3.0</td>\n",
              "      <td>4.0</td>\n",
              "      <td>0.5360</td>\n",
              "      <td>350000.0</td>\n",
              "    </tr>\n",
              "    <tr>\n",
              "      <th>2990</th>\n",
              "      <td>-117.79</td>\n",
              "      <td>35.21</td>\n",
              "      <td>4.0</td>\n",
              "      <td>2.0</td>\n",
              "      <td>2.0</td>\n",
              "      <td>6.0</td>\n",
              "      <td>2.0</td>\n",
              "      <td>2.3750</td>\n",
              "      <td>137500.0</td>\n",
              "    </tr>\n",
              "    <tr>\n",
              "      <th>2907</th>\n",
              "      <td>-117.76</td>\n",
              "      <td>35.22</td>\n",
              "      <td>4.0</td>\n",
              "      <td>18.0</td>\n",
              "      <td>3.0</td>\n",
              "      <td>8.0</td>\n",
              "      <td>6.0</td>\n",
              "      <td>1.6250</td>\n",
              "      <td>275000.0</td>\n",
              "    </tr>\n",
              "    <tr>\n",
              "      <th>14105</th>\n",
              "      <td>-122.06</td>\n",
              "      <td>37.39</td>\n",
              "      <td>26.0</td>\n",
              "      <td>18.0</td>\n",
              "      <td>4.0</td>\n",
              "      <td>8.0</td>\n",
              "      <td>4.0</td>\n",
              "      <td>3.7500</td>\n",
              "      <td>375000.0</td>\n",
              "    </tr>\n",
              "    <tr>\n",
              "      <th>288</th>\n",
              "      <td>-116.76</td>\n",
              "      <td>34.14</td>\n",
              "      <td>4.0</td>\n",
              "      <td>42.0</td>\n",
              "      <td>10.0</td>\n",
              "      <td>9.0</td>\n",
              "      <td>3.0</td>\n",
              "      <td>0.5360</td>\n",
              "      <td>42500.0</td>\n",
              "    </tr>\n",
              "    <tr>\n",
              "      <th>10911</th>\n",
              "      <td>-120.85</td>\n",
              "      <td>37.75</td>\n",
              "      <td>26.0</td>\n",
              "      <td>28.0</td>\n",
              "      <td>4.0</td>\n",
              "      <td>9.0</td>\n",
              "      <td>5.0</td>\n",
              "      <td>1.6250</td>\n",
              "      <td>85000.0</td>\n",
              "    </tr>\n",
              "    <tr>\n",
              "      <th>15656</th>\n",
              "      <td>-122.37</td>\n",
              "      <td>37.60</td>\n",
              "      <td>26.0</td>\n",
              "      <td>15.0</td>\n",
              "      <td>3.0</td>\n",
              "      <td>11.0</td>\n",
              "      <td>3.0</td>\n",
              "      <td>5.0480</td>\n",
              "      <td>350000.0</td>\n",
              "    </tr>\n",
              "    <tr>\n",
              "      <th>1466</th>\n",
              "      <td>-117.19</td>\n",
              "      <td>32.75</td>\n",
              "      <td>52.0</td>\n",
              "      <td>25.0</td>\n",
              "      <td>5.0</td>\n",
              "      <td>13.0</td>\n",
              "      <td>5.0</td>\n",
              "      <td>0.5360</td>\n",
              "      <td>162500.0</td>\n",
              "    </tr>\n",
              "    <tr>\n",
              "      <th>10356</th>\n",
              "      <td>-120.13</td>\n",
              "      <td>35.87</td>\n",
              "      <td>26.0</td>\n",
              "      <td>48.0</td>\n",
              "      <td>8.0</td>\n",
              "      <td>13.0</td>\n",
              "      <td>8.0</td>\n",
              "      <td>2.3750</td>\n",
              "      <td>71300.0</td>\n",
              "    </tr>\n",
              "    <tr>\n",
              "      <th>14501</th>\n",
              "      <td>-122.14</td>\n",
              "      <td>37.50</td>\n",
              "      <td>46.0</td>\n",
              "      <td>30.0</td>\n",
              "      <td>4.0</td>\n",
              "      <td>13.0</td>\n",
              "      <td>5.0</td>\n",
              "      <td>15.0001</td>\n",
              "      <td>500001.0</td>\n",
              "    </tr>\n",
              "  </tbody>\n",
              "</table>\n",
              "</div>\n",
              "      <button class=\"colab-df-convert\" onclick=\"convertToInteractive('df-9d2e0bf8-11ed-4197-8dda-69bf85662fdc')\"\n",
              "              title=\"Convert this dataframe to an interactive table.\"\n",
              "              style=\"display:none;\">\n",
              "        \n",
              "  <svg xmlns=\"http://www.w3.org/2000/svg\" height=\"24px\"viewBox=\"0 0 24 24\"\n",
              "       width=\"24px\">\n",
              "    <path d=\"M0 0h24v24H0V0z\" fill=\"none\"/>\n",
              "    <path d=\"M18.56 5.44l.94 2.06.94-2.06 2.06-.94-2.06-.94-.94-2.06-.94 2.06-2.06.94zm-11 1L8.5 8.5l.94-2.06 2.06-.94-2.06-.94L8.5 2.5l-.94 2.06-2.06.94zm10 10l.94 2.06.94-2.06 2.06-.94-2.06-.94-.94-2.06-.94 2.06-2.06.94z\"/><path d=\"M17.41 7.96l-1.37-1.37c-.4-.4-.92-.59-1.43-.59-.52 0-1.04.2-1.43.59L10.3 9.45l-7.72 7.72c-.78.78-.78 2.05 0 2.83L4 21.41c.39.39.9.59 1.41.59.51 0 1.02-.2 1.41-.59l7.78-7.78 2.81-2.81c.8-.78.8-2.07 0-2.86zM5.41 20L4 18.59l7.72-7.72 1.47 1.35L5.41 20z\"/>\n",
              "  </svg>\n",
              "      </button>\n",
              "      \n",
              "  <style>\n",
              "    .colab-df-container {\n",
              "      display:flex;\n",
              "      flex-wrap:wrap;\n",
              "      gap: 12px;\n",
              "    }\n",
              "\n",
              "    .colab-df-convert {\n",
              "      background-color: #E8F0FE;\n",
              "      border: none;\n",
              "      border-radius: 50%;\n",
              "      cursor: pointer;\n",
              "      display: none;\n",
              "      fill: #1967D2;\n",
              "      height: 32px;\n",
              "      padding: 0 0 0 0;\n",
              "      width: 32px;\n",
              "    }\n",
              "\n",
              "    .colab-df-convert:hover {\n",
              "      background-color: #E2EBFA;\n",
              "      box-shadow: 0px 1px 2px rgba(60, 64, 67, 0.3), 0px 1px 3px 1px rgba(60, 64, 67, 0.15);\n",
              "      fill: #174EA6;\n",
              "    }\n",
              "\n",
              "    [theme=dark] .colab-df-convert {\n",
              "      background-color: #3B4455;\n",
              "      fill: #D2E3FC;\n",
              "    }\n",
              "\n",
              "    [theme=dark] .colab-df-convert:hover {\n",
              "      background-color: #434B5C;\n",
              "      box-shadow: 0px 1px 3px 1px rgba(0, 0, 0, 0.15);\n",
              "      filter: drop-shadow(0px 1px 2px rgba(0, 0, 0, 0.3));\n",
              "      fill: #FFFFFF;\n",
              "    }\n",
              "  </style>\n",
              "\n",
              "      <script>\n",
              "        const buttonEl =\n",
              "          document.querySelector('#df-9d2e0bf8-11ed-4197-8dda-69bf85662fdc button.colab-df-convert');\n",
              "        buttonEl.style.display =\n",
              "          google.colab.kernel.accessAllowed ? 'block' : 'none';\n",
              "\n",
              "        async function convertToInteractive(key) {\n",
              "          const element = document.querySelector('#df-9d2e0bf8-11ed-4197-8dda-69bf85662fdc');\n",
              "          const dataTable =\n",
              "            await google.colab.kernel.invokeFunction('convertToInteractive',\n",
              "                                                     [key], {});\n",
              "          if (!dataTable) return;\n",
              "\n",
              "          const docLinkHtml = 'Like what you see? Visit the ' +\n",
              "            '<a target=\"_blank\" href=https://colab.research.google.com/notebooks/data_table.ipynb>data table notebook</a>'\n",
              "            + ' to learn more about interactive tables.';\n",
              "          element.innerHTML = '';\n",
              "          dataTable['output_type'] = 'display_data';\n",
              "          await google.colab.output.renderOutput(dataTable, element);\n",
              "          const docLink = document.createElement('div');\n",
              "          docLink.innerHTML = docLinkHtml;\n",
              "          element.appendChild(docLink);\n",
              "        }\n",
              "      </script>\n",
              "    </div>\n",
              "  </div>\n",
              "  "
            ]
          },
          "metadata": {},
          "execution_count": 62
        }
      ]
    },
    {
      "cell_type": "code",
      "source": [
        "df.nlargest(10,'population')"
      ],
      "metadata": {
        "colab": {
          "base_uri": "https://localhost:8080/",
          "height": 363
        },
        "id": "jzLv-35OgFBF",
        "outputId": "208cbbcd-473d-48c0-95a1-40eedee59e35"
      },
      "execution_count": null,
      "outputs": [
        {
          "output_type": "execute_result",
          "data": {
            "text/plain": [
              "       longitude  latitude  housing_median_age  total_rooms  total_bedrooms  \\\n",
              "2274     -117.42     33.35                14.0      25135.0          4819.0   \n",
              "12772    -121.79     36.64                11.0      32627.0          6445.0   \n",
              "2871     -117.74     33.89                 4.0      37937.0          5471.0   \n",
              "2969     -117.78     34.03                 8.0      32054.0          5290.0   \n",
              "3296     -117.87     34.04                 7.0      27700.0          4179.0   \n",
              "1116     -117.12     33.52                 4.0      30401.0          4957.0   \n",
              "8881     -118.78     34.16                 9.0      30405.0          4093.0   \n",
              "10692    -120.59     34.70                29.0      17738.0          3114.0   \n",
              "13299    -121.92     37.53                 7.0      28258.0          3864.0   \n",
              "12586    -121.68     36.72                12.0      19234.0          4492.0   \n",
              "\n",
              "       population  households  median_income  median_house_value  \n",
              "2274      35682.0      4769.0         2.5729            134400.0  \n",
              "12772     28566.0      6082.0         2.3087            118800.0  \n",
              "2871      16122.0      5189.0         7.4947            366300.0  \n",
              "2969      15507.0      5050.0         6.0191            253900.0  \n",
              "3296      15037.0      4072.0         6.6288            339700.0  \n",
              "1116      13251.0      4339.0         4.5841            212300.0  \n",
              "8881      12873.0      3931.0         8.0137            399200.0  \n",
              "10692     12427.0      2826.0         2.7377             28300.0  \n",
              "13299     12203.0      3701.0         8.4045            451100.0  \n",
              "12586     12153.0      4372.0         3.2652            152800.0  "
            ],
            "text/html": [
              "\n",
              "  <div id=\"df-9293fc5f-7a10-478a-9666-50b9f24564e8\">\n",
              "    <div class=\"colab-df-container\">\n",
              "      <div>\n",
              "<style scoped>\n",
              "    .dataframe tbody tr th:only-of-type {\n",
              "        vertical-align: middle;\n",
              "    }\n",
              "\n",
              "    .dataframe tbody tr th {\n",
              "        vertical-align: top;\n",
              "    }\n",
              "\n",
              "    .dataframe thead th {\n",
              "        text-align: right;\n",
              "    }\n",
              "</style>\n",
              "<table border=\"1\" class=\"dataframe\">\n",
              "  <thead>\n",
              "    <tr style=\"text-align: right;\">\n",
              "      <th></th>\n",
              "      <th>longitude</th>\n",
              "      <th>latitude</th>\n",
              "      <th>housing_median_age</th>\n",
              "      <th>total_rooms</th>\n",
              "      <th>total_bedrooms</th>\n",
              "      <th>population</th>\n",
              "      <th>households</th>\n",
              "      <th>median_income</th>\n",
              "      <th>median_house_value</th>\n",
              "    </tr>\n",
              "  </thead>\n",
              "  <tbody>\n",
              "    <tr>\n",
              "      <th>2274</th>\n",
              "      <td>-117.42</td>\n",
              "      <td>33.35</td>\n",
              "      <td>14.0</td>\n",
              "      <td>25135.0</td>\n",
              "      <td>4819.0</td>\n",
              "      <td>35682.0</td>\n",
              "      <td>4769.0</td>\n",
              "      <td>2.5729</td>\n",
              "      <td>134400.0</td>\n",
              "    </tr>\n",
              "    <tr>\n",
              "      <th>12772</th>\n",
              "      <td>-121.79</td>\n",
              "      <td>36.64</td>\n",
              "      <td>11.0</td>\n",
              "      <td>32627.0</td>\n",
              "      <td>6445.0</td>\n",
              "      <td>28566.0</td>\n",
              "      <td>6082.0</td>\n",
              "      <td>2.3087</td>\n",
              "      <td>118800.0</td>\n",
              "    </tr>\n",
              "    <tr>\n",
              "      <th>2871</th>\n",
              "      <td>-117.74</td>\n",
              "      <td>33.89</td>\n",
              "      <td>4.0</td>\n",
              "      <td>37937.0</td>\n",
              "      <td>5471.0</td>\n",
              "      <td>16122.0</td>\n",
              "      <td>5189.0</td>\n",
              "      <td>7.4947</td>\n",
              "      <td>366300.0</td>\n",
              "    </tr>\n",
              "    <tr>\n",
              "      <th>2969</th>\n",
              "      <td>-117.78</td>\n",
              "      <td>34.03</td>\n",
              "      <td>8.0</td>\n",
              "      <td>32054.0</td>\n",
              "      <td>5290.0</td>\n",
              "      <td>15507.0</td>\n",
              "      <td>5050.0</td>\n",
              "      <td>6.0191</td>\n",
              "      <td>253900.0</td>\n",
              "    </tr>\n",
              "    <tr>\n",
              "      <th>3296</th>\n",
              "      <td>-117.87</td>\n",
              "      <td>34.04</td>\n",
              "      <td>7.0</td>\n",
              "      <td>27700.0</td>\n",
              "      <td>4179.0</td>\n",
              "      <td>15037.0</td>\n",
              "      <td>4072.0</td>\n",
              "      <td>6.6288</td>\n",
              "      <td>339700.0</td>\n",
              "    </tr>\n",
              "    <tr>\n",
              "      <th>1116</th>\n",
              "      <td>-117.12</td>\n",
              "      <td>33.52</td>\n",
              "      <td>4.0</td>\n",
              "      <td>30401.0</td>\n",
              "      <td>4957.0</td>\n",
              "      <td>13251.0</td>\n",
              "      <td>4339.0</td>\n",
              "      <td>4.5841</td>\n",
              "      <td>212300.0</td>\n",
              "    </tr>\n",
              "    <tr>\n",
              "      <th>8881</th>\n",
              "      <td>-118.78</td>\n",
              "      <td>34.16</td>\n",
              "      <td>9.0</td>\n",
              "      <td>30405.0</td>\n",
              "      <td>4093.0</td>\n",
              "      <td>12873.0</td>\n",
              "      <td>3931.0</td>\n",
              "      <td>8.0137</td>\n",
              "      <td>399200.0</td>\n",
              "    </tr>\n",
              "    <tr>\n",
              "      <th>10692</th>\n",
              "      <td>-120.59</td>\n",
              "      <td>34.70</td>\n",
              "      <td>29.0</td>\n",
              "      <td>17738.0</td>\n",
              "      <td>3114.0</td>\n",
              "      <td>12427.0</td>\n",
              "      <td>2826.0</td>\n",
              "      <td>2.7377</td>\n",
              "      <td>28300.0</td>\n",
              "    </tr>\n",
              "    <tr>\n",
              "      <th>13299</th>\n",
              "      <td>-121.92</td>\n",
              "      <td>37.53</td>\n",
              "      <td>7.0</td>\n",
              "      <td>28258.0</td>\n",
              "      <td>3864.0</td>\n",
              "      <td>12203.0</td>\n",
              "      <td>3701.0</td>\n",
              "      <td>8.4045</td>\n",
              "      <td>451100.0</td>\n",
              "    </tr>\n",
              "    <tr>\n",
              "      <th>12586</th>\n",
              "      <td>-121.68</td>\n",
              "      <td>36.72</td>\n",
              "      <td>12.0</td>\n",
              "      <td>19234.0</td>\n",
              "      <td>4492.0</td>\n",
              "      <td>12153.0</td>\n",
              "      <td>4372.0</td>\n",
              "      <td>3.2652</td>\n",
              "      <td>152800.0</td>\n",
              "    </tr>\n",
              "  </tbody>\n",
              "</table>\n",
              "</div>\n",
              "      <button class=\"colab-df-convert\" onclick=\"convertToInteractive('df-9293fc5f-7a10-478a-9666-50b9f24564e8')\"\n",
              "              title=\"Convert this dataframe to an interactive table.\"\n",
              "              style=\"display:none;\">\n",
              "        \n",
              "  <svg xmlns=\"http://www.w3.org/2000/svg\" height=\"24px\"viewBox=\"0 0 24 24\"\n",
              "       width=\"24px\">\n",
              "    <path d=\"M0 0h24v24H0V0z\" fill=\"none\"/>\n",
              "    <path d=\"M18.56 5.44l.94 2.06.94-2.06 2.06-.94-2.06-.94-.94-2.06-.94 2.06-2.06.94zm-11 1L8.5 8.5l.94-2.06 2.06-.94-2.06-.94L8.5 2.5l-.94 2.06-2.06.94zm10 10l.94 2.06.94-2.06 2.06-.94-2.06-.94-.94-2.06-.94 2.06-2.06.94z\"/><path d=\"M17.41 7.96l-1.37-1.37c-.4-.4-.92-.59-1.43-.59-.52 0-1.04.2-1.43.59L10.3 9.45l-7.72 7.72c-.78.78-.78 2.05 0 2.83L4 21.41c.39.39.9.59 1.41.59.51 0 1.02-.2 1.41-.59l7.78-7.78 2.81-2.81c.8-.78.8-2.07 0-2.86zM5.41 20L4 18.59l7.72-7.72 1.47 1.35L5.41 20z\"/>\n",
              "  </svg>\n",
              "      </button>\n",
              "      \n",
              "  <style>\n",
              "    .colab-df-container {\n",
              "      display:flex;\n",
              "      flex-wrap:wrap;\n",
              "      gap: 12px;\n",
              "    }\n",
              "\n",
              "    .colab-df-convert {\n",
              "      background-color: #E8F0FE;\n",
              "      border: none;\n",
              "      border-radius: 50%;\n",
              "      cursor: pointer;\n",
              "      display: none;\n",
              "      fill: #1967D2;\n",
              "      height: 32px;\n",
              "      padding: 0 0 0 0;\n",
              "      width: 32px;\n",
              "    }\n",
              "\n",
              "    .colab-df-convert:hover {\n",
              "      background-color: #E2EBFA;\n",
              "      box-shadow: 0px 1px 2px rgba(60, 64, 67, 0.3), 0px 1px 3px 1px rgba(60, 64, 67, 0.15);\n",
              "      fill: #174EA6;\n",
              "    }\n",
              "\n",
              "    [theme=dark] .colab-df-convert {\n",
              "      background-color: #3B4455;\n",
              "      fill: #D2E3FC;\n",
              "    }\n",
              "\n",
              "    [theme=dark] .colab-df-convert:hover {\n",
              "      background-color: #434B5C;\n",
              "      box-shadow: 0px 1px 3px 1px rgba(0, 0, 0, 0.15);\n",
              "      filter: drop-shadow(0px 1px 2px rgba(0, 0, 0, 0.3));\n",
              "      fill: #FFFFFF;\n",
              "    }\n",
              "  </style>\n",
              "\n",
              "      <script>\n",
              "        const buttonEl =\n",
              "          document.querySelector('#df-9293fc5f-7a10-478a-9666-50b9f24564e8 button.colab-df-convert');\n",
              "        buttonEl.style.display =\n",
              "          google.colab.kernel.accessAllowed ? 'block' : 'none';\n",
              "\n",
              "        async function convertToInteractive(key) {\n",
              "          const element = document.querySelector('#df-9293fc5f-7a10-478a-9666-50b9f24564e8');\n",
              "          const dataTable =\n",
              "            await google.colab.kernel.invokeFunction('convertToInteractive',\n",
              "                                                     [key], {});\n",
              "          if (!dataTable) return;\n",
              "\n",
              "          const docLinkHtml = 'Like what you see? Visit the ' +\n",
              "            '<a target=\"_blank\" href=https://colab.research.google.com/notebooks/data_table.ipynb>data table notebook</a>'\n",
              "            + ' to learn more about interactive tables.';\n",
              "          element.innerHTML = '';\n",
              "          dataTable['output_type'] = 'display_data';\n",
              "          await google.colab.output.renderOutput(dataTable, element);\n",
              "          const docLink = document.createElement('div');\n",
              "          docLink.innerHTML = docLinkHtml;\n",
              "          element.appendChild(docLink);\n",
              "        }\n",
              "      </script>\n",
              "    </div>\n",
              "  </div>\n",
              "  "
            ]
          },
          "metadata": {},
          "execution_count": 63
        }
      ]
    },
    {
      "cell_type": "code",
      "source": [
        "df.loc[10:30,['population','latitude']]"
      ],
      "metadata": {
        "colab": {
          "base_uri": "https://localhost:8080/",
          "height": 708
        },
        "id": "TkeoXYYjgQNR",
        "outputId": "a97bf98e-a4a7-4471-f4ff-ce0751d7e496"
      },
      "execution_count": null,
      "outputs": [
        {
          "output_type": "execute_result",
          "data": {
            "text/plain": [
              "    population  latitude\n",
              "10      2434.0     33.62\n",
              "11      1182.0     33.60\n",
              "12       580.0     34.84\n",
              "13      1346.0     34.83\n",
              "14       949.0     32.76\n",
              "15      1005.0     34.89\n",
              "16       666.0     33.60\n",
              "17        64.0     32.79\n",
              "18       775.0     32.74\n",
              "19        29.0     33.92\n",
              "20      1135.0     33.49\n",
              "21       227.0     33.43\n",
              "22       119.0     34.55\n",
              "23       137.0     33.82\n",
              "24      3424.0     33.54\n",
              "25       327.0     32.82\n",
              "26      1130.0     32.82\n",
              "27       867.0     32.82\n",
              "28       623.0     32.81\n",
              "29       866.0     32.81\n",
              "30      1175.0     32.82"
            ],
            "text/html": [
              "\n",
              "  <div id=\"df-4328df20-b96f-4128-89a2-aff3be2b9af3\">\n",
              "    <div class=\"colab-df-container\">\n",
              "      <div>\n",
              "<style scoped>\n",
              "    .dataframe tbody tr th:only-of-type {\n",
              "        vertical-align: middle;\n",
              "    }\n",
              "\n",
              "    .dataframe tbody tr th {\n",
              "        vertical-align: top;\n",
              "    }\n",
              "\n",
              "    .dataframe thead th {\n",
              "        text-align: right;\n",
              "    }\n",
              "</style>\n",
              "<table border=\"1\" class=\"dataframe\">\n",
              "  <thead>\n",
              "    <tr style=\"text-align: right;\">\n",
              "      <th></th>\n",
              "      <th>population</th>\n",
              "      <th>latitude</th>\n",
              "    </tr>\n",
              "  </thead>\n",
              "  <tbody>\n",
              "    <tr>\n",
              "      <th>10</th>\n",
              "      <td>2434.0</td>\n",
              "      <td>33.62</td>\n",
              "    </tr>\n",
              "    <tr>\n",
              "      <th>11</th>\n",
              "      <td>1182.0</td>\n",
              "      <td>33.60</td>\n",
              "    </tr>\n",
              "    <tr>\n",
              "      <th>12</th>\n",
              "      <td>580.0</td>\n",
              "      <td>34.84</td>\n",
              "    </tr>\n",
              "    <tr>\n",
              "      <th>13</th>\n",
              "      <td>1346.0</td>\n",
              "      <td>34.83</td>\n",
              "    </tr>\n",
              "    <tr>\n",
              "      <th>14</th>\n",
              "      <td>949.0</td>\n",
              "      <td>32.76</td>\n",
              "    </tr>\n",
              "    <tr>\n",
              "      <th>15</th>\n",
              "      <td>1005.0</td>\n",
              "      <td>34.89</td>\n",
              "    </tr>\n",
              "    <tr>\n",
              "      <th>16</th>\n",
              "      <td>666.0</td>\n",
              "      <td>33.60</td>\n",
              "    </tr>\n",
              "    <tr>\n",
              "      <th>17</th>\n",
              "      <td>64.0</td>\n",
              "      <td>32.79</td>\n",
              "    </tr>\n",
              "    <tr>\n",
              "      <th>18</th>\n",
              "      <td>775.0</td>\n",
              "      <td>32.74</td>\n",
              "    </tr>\n",
              "    <tr>\n",
              "      <th>19</th>\n",
              "      <td>29.0</td>\n",
              "      <td>33.92</td>\n",
              "    </tr>\n",
              "    <tr>\n",
              "      <th>20</th>\n",
              "      <td>1135.0</td>\n",
              "      <td>33.49</td>\n",
              "    </tr>\n",
              "    <tr>\n",
              "      <th>21</th>\n",
              "      <td>227.0</td>\n",
              "      <td>33.43</td>\n",
              "    </tr>\n",
              "    <tr>\n",
              "      <th>22</th>\n",
              "      <td>119.0</td>\n",
              "      <td>34.55</td>\n",
              "    </tr>\n",
              "    <tr>\n",
              "      <th>23</th>\n",
              "      <td>137.0</td>\n",
              "      <td>33.82</td>\n",
              "    </tr>\n",
              "    <tr>\n",
              "      <th>24</th>\n",
              "      <td>3424.0</td>\n",
              "      <td>33.54</td>\n",
              "    </tr>\n",
              "    <tr>\n",
              "      <th>25</th>\n",
              "      <td>327.0</td>\n",
              "      <td>32.82</td>\n",
              "    </tr>\n",
              "    <tr>\n",
              "      <th>26</th>\n",
              "      <td>1130.0</td>\n",
              "      <td>32.82</td>\n",
              "    </tr>\n",
              "    <tr>\n",
              "      <th>27</th>\n",
              "      <td>867.0</td>\n",
              "      <td>32.82</td>\n",
              "    </tr>\n",
              "    <tr>\n",
              "      <th>28</th>\n",
              "      <td>623.0</td>\n",
              "      <td>32.81</td>\n",
              "    </tr>\n",
              "    <tr>\n",
              "      <th>29</th>\n",
              "      <td>866.0</td>\n",
              "      <td>32.81</td>\n",
              "    </tr>\n",
              "    <tr>\n",
              "      <th>30</th>\n",
              "      <td>1175.0</td>\n",
              "      <td>32.82</td>\n",
              "    </tr>\n",
              "  </tbody>\n",
              "</table>\n",
              "</div>\n",
              "      <button class=\"colab-df-convert\" onclick=\"convertToInteractive('df-4328df20-b96f-4128-89a2-aff3be2b9af3')\"\n",
              "              title=\"Convert this dataframe to an interactive table.\"\n",
              "              style=\"display:none;\">\n",
              "        \n",
              "  <svg xmlns=\"http://www.w3.org/2000/svg\" height=\"24px\"viewBox=\"0 0 24 24\"\n",
              "       width=\"24px\">\n",
              "    <path d=\"M0 0h24v24H0V0z\" fill=\"none\"/>\n",
              "    <path d=\"M18.56 5.44l.94 2.06.94-2.06 2.06-.94-2.06-.94-.94-2.06-.94 2.06-2.06.94zm-11 1L8.5 8.5l.94-2.06 2.06-.94-2.06-.94L8.5 2.5l-.94 2.06-2.06.94zm10 10l.94 2.06.94-2.06 2.06-.94-2.06-.94-.94-2.06-.94 2.06-2.06.94z\"/><path d=\"M17.41 7.96l-1.37-1.37c-.4-.4-.92-.59-1.43-.59-.52 0-1.04.2-1.43.59L10.3 9.45l-7.72 7.72c-.78.78-.78 2.05 0 2.83L4 21.41c.39.39.9.59 1.41.59.51 0 1.02-.2 1.41-.59l7.78-7.78 2.81-2.81c.8-.78.8-2.07 0-2.86zM5.41 20L4 18.59l7.72-7.72 1.47 1.35L5.41 20z\"/>\n",
              "  </svg>\n",
              "      </button>\n",
              "      \n",
              "  <style>\n",
              "    .colab-df-container {\n",
              "      display:flex;\n",
              "      flex-wrap:wrap;\n",
              "      gap: 12px;\n",
              "    }\n",
              "\n",
              "    .colab-df-convert {\n",
              "      background-color: #E8F0FE;\n",
              "      border: none;\n",
              "      border-radius: 50%;\n",
              "      cursor: pointer;\n",
              "      display: none;\n",
              "      fill: #1967D2;\n",
              "      height: 32px;\n",
              "      padding: 0 0 0 0;\n",
              "      width: 32px;\n",
              "    }\n",
              "\n",
              "    .colab-df-convert:hover {\n",
              "      background-color: #E2EBFA;\n",
              "      box-shadow: 0px 1px 2px rgba(60, 64, 67, 0.3), 0px 1px 3px 1px rgba(60, 64, 67, 0.15);\n",
              "      fill: #174EA6;\n",
              "    }\n",
              "\n",
              "    [theme=dark] .colab-df-convert {\n",
              "      background-color: #3B4455;\n",
              "      fill: #D2E3FC;\n",
              "    }\n",
              "\n",
              "    [theme=dark] .colab-df-convert:hover {\n",
              "      background-color: #434B5C;\n",
              "      box-shadow: 0px 1px 3px 1px rgba(0, 0, 0, 0.15);\n",
              "      filter: drop-shadow(0px 1px 2px rgba(0, 0, 0, 0.3));\n",
              "      fill: #FFFFFF;\n",
              "    }\n",
              "  </style>\n",
              "\n",
              "      <script>\n",
              "        const buttonEl =\n",
              "          document.querySelector('#df-4328df20-b96f-4128-89a2-aff3be2b9af3 button.colab-df-convert');\n",
              "        buttonEl.style.display =\n",
              "          google.colab.kernel.accessAllowed ? 'block' : 'none';\n",
              "\n",
              "        async function convertToInteractive(key) {\n",
              "          const element = document.querySelector('#df-4328df20-b96f-4128-89a2-aff3be2b9af3');\n",
              "          const dataTable =\n",
              "            await google.colab.kernel.invokeFunction('convertToInteractive',\n",
              "                                                     [key], {});\n",
              "          if (!dataTable) return;\n",
              "\n",
              "          const docLinkHtml = 'Like what you see? Visit the ' +\n",
              "            '<a target=\"_blank\" href=https://colab.research.google.com/notebooks/data_table.ipynb>data table notebook</a>'\n",
              "            + ' to learn more about interactive tables.';\n",
              "          element.innerHTML = '';\n",
              "          dataTable['output_type'] = 'display_data';\n",
              "          await google.colab.output.renderOutput(dataTable, element);\n",
              "          const docLink = document.createElement('div');\n",
              "          docLink.innerHTML = docLinkHtml;\n",
              "          element.appendChild(docLink);\n",
              "        }\n",
              "      </script>\n",
              "    </div>\n",
              "  </div>\n",
              "  "
            ]
          },
          "metadata": {},
          "execution_count": 67
        }
      ]
    },
    {
      "cell_type": "code",
      "source": [
        "df.iloc[10:30,[5,1]]"
      ],
      "metadata": {
        "colab": {
          "base_uri": "https://localhost:8080/",
          "height": 676
        },
        "id": "2ysRXPVeg2LJ",
        "outputId": "cf6f3642-bf2e-421d-8a11-d1c456821172"
      },
      "execution_count": null,
      "outputs": [
        {
          "output_type": "execute_result",
          "data": {
            "text/plain": [
              "    population  latitude\n",
              "10      2434.0     33.62\n",
              "11      1182.0     33.60\n",
              "12       580.0     34.84\n",
              "13      1346.0     34.83\n",
              "14       949.0     32.76\n",
              "15      1005.0     34.89\n",
              "16       666.0     33.60\n",
              "17        64.0     32.79\n",
              "18       775.0     32.74\n",
              "19        29.0     33.92\n",
              "20      1135.0     33.49\n",
              "21       227.0     33.43\n",
              "22       119.0     34.55\n",
              "23       137.0     33.82\n",
              "24      3424.0     33.54\n",
              "25       327.0     32.82\n",
              "26      1130.0     32.82\n",
              "27       867.0     32.82\n",
              "28       623.0     32.81\n",
              "29       866.0     32.81"
            ],
            "text/html": [
              "\n",
              "  <div id=\"df-1ec9cb33-65e7-4eb2-b4ee-0944ee057078\">\n",
              "    <div class=\"colab-df-container\">\n",
              "      <div>\n",
              "<style scoped>\n",
              "    .dataframe tbody tr th:only-of-type {\n",
              "        vertical-align: middle;\n",
              "    }\n",
              "\n",
              "    .dataframe tbody tr th {\n",
              "        vertical-align: top;\n",
              "    }\n",
              "\n",
              "    .dataframe thead th {\n",
              "        text-align: right;\n",
              "    }\n",
              "</style>\n",
              "<table border=\"1\" class=\"dataframe\">\n",
              "  <thead>\n",
              "    <tr style=\"text-align: right;\">\n",
              "      <th></th>\n",
              "      <th>population</th>\n",
              "      <th>latitude</th>\n",
              "    </tr>\n",
              "  </thead>\n",
              "  <tbody>\n",
              "    <tr>\n",
              "      <th>10</th>\n",
              "      <td>2434.0</td>\n",
              "      <td>33.62</td>\n",
              "    </tr>\n",
              "    <tr>\n",
              "      <th>11</th>\n",
              "      <td>1182.0</td>\n",
              "      <td>33.60</td>\n",
              "    </tr>\n",
              "    <tr>\n",
              "      <th>12</th>\n",
              "      <td>580.0</td>\n",
              "      <td>34.84</td>\n",
              "    </tr>\n",
              "    <tr>\n",
              "      <th>13</th>\n",
              "      <td>1346.0</td>\n",
              "      <td>34.83</td>\n",
              "    </tr>\n",
              "    <tr>\n",
              "      <th>14</th>\n",
              "      <td>949.0</td>\n",
              "      <td>32.76</td>\n",
              "    </tr>\n",
              "    <tr>\n",
              "      <th>15</th>\n",
              "      <td>1005.0</td>\n",
              "      <td>34.89</td>\n",
              "    </tr>\n",
              "    <tr>\n",
              "      <th>16</th>\n",
              "      <td>666.0</td>\n",
              "      <td>33.60</td>\n",
              "    </tr>\n",
              "    <tr>\n",
              "      <th>17</th>\n",
              "      <td>64.0</td>\n",
              "      <td>32.79</td>\n",
              "    </tr>\n",
              "    <tr>\n",
              "      <th>18</th>\n",
              "      <td>775.0</td>\n",
              "      <td>32.74</td>\n",
              "    </tr>\n",
              "    <tr>\n",
              "      <th>19</th>\n",
              "      <td>29.0</td>\n",
              "      <td>33.92</td>\n",
              "    </tr>\n",
              "    <tr>\n",
              "      <th>20</th>\n",
              "      <td>1135.0</td>\n",
              "      <td>33.49</td>\n",
              "    </tr>\n",
              "    <tr>\n",
              "      <th>21</th>\n",
              "      <td>227.0</td>\n",
              "      <td>33.43</td>\n",
              "    </tr>\n",
              "    <tr>\n",
              "      <th>22</th>\n",
              "      <td>119.0</td>\n",
              "      <td>34.55</td>\n",
              "    </tr>\n",
              "    <tr>\n",
              "      <th>23</th>\n",
              "      <td>137.0</td>\n",
              "      <td>33.82</td>\n",
              "    </tr>\n",
              "    <tr>\n",
              "      <th>24</th>\n",
              "      <td>3424.0</td>\n",
              "      <td>33.54</td>\n",
              "    </tr>\n",
              "    <tr>\n",
              "      <th>25</th>\n",
              "      <td>327.0</td>\n",
              "      <td>32.82</td>\n",
              "    </tr>\n",
              "    <tr>\n",
              "      <th>26</th>\n",
              "      <td>1130.0</td>\n",
              "      <td>32.82</td>\n",
              "    </tr>\n",
              "    <tr>\n",
              "      <th>27</th>\n",
              "      <td>867.0</td>\n",
              "      <td>32.82</td>\n",
              "    </tr>\n",
              "    <tr>\n",
              "      <th>28</th>\n",
              "      <td>623.0</td>\n",
              "      <td>32.81</td>\n",
              "    </tr>\n",
              "    <tr>\n",
              "      <th>29</th>\n",
              "      <td>866.0</td>\n",
              "      <td>32.81</td>\n",
              "    </tr>\n",
              "  </tbody>\n",
              "</table>\n",
              "</div>\n",
              "      <button class=\"colab-df-convert\" onclick=\"convertToInteractive('df-1ec9cb33-65e7-4eb2-b4ee-0944ee057078')\"\n",
              "              title=\"Convert this dataframe to an interactive table.\"\n",
              "              style=\"display:none;\">\n",
              "        \n",
              "  <svg xmlns=\"http://www.w3.org/2000/svg\" height=\"24px\"viewBox=\"0 0 24 24\"\n",
              "       width=\"24px\">\n",
              "    <path d=\"M0 0h24v24H0V0z\" fill=\"none\"/>\n",
              "    <path d=\"M18.56 5.44l.94 2.06.94-2.06 2.06-.94-2.06-.94-.94-2.06-.94 2.06-2.06.94zm-11 1L8.5 8.5l.94-2.06 2.06-.94-2.06-.94L8.5 2.5l-.94 2.06-2.06.94zm10 10l.94 2.06.94-2.06 2.06-.94-2.06-.94-.94-2.06-.94 2.06-2.06.94z\"/><path d=\"M17.41 7.96l-1.37-1.37c-.4-.4-.92-.59-1.43-.59-.52 0-1.04.2-1.43.59L10.3 9.45l-7.72 7.72c-.78.78-.78 2.05 0 2.83L4 21.41c.39.39.9.59 1.41.59.51 0 1.02-.2 1.41-.59l7.78-7.78 2.81-2.81c.8-.78.8-2.07 0-2.86zM5.41 20L4 18.59l7.72-7.72 1.47 1.35L5.41 20z\"/>\n",
              "  </svg>\n",
              "      </button>\n",
              "      \n",
              "  <style>\n",
              "    .colab-df-container {\n",
              "      display:flex;\n",
              "      flex-wrap:wrap;\n",
              "      gap: 12px;\n",
              "    }\n",
              "\n",
              "    .colab-df-convert {\n",
              "      background-color: #E8F0FE;\n",
              "      border: none;\n",
              "      border-radius: 50%;\n",
              "      cursor: pointer;\n",
              "      display: none;\n",
              "      fill: #1967D2;\n",
              "      height: 32px;\n",
              "      padding: 0 0 0 0;\n",
              "      width: 32px;\n",
              "    }\n",
              "\n",
              "    .colab-df-convert:hover {\n",
              "      background-color: #E2EBFA;\n",
              "      box-shadow: 0px 1px 2px rgba(60, 64, 67, 0.3), 0px 1px 3px 1px rgba(60, 64, 67, 0.15);\n",
              "      fill: #174EA6;\n",
              "    }\n",
              "\n",
              "    [theme=dark] .colab-df-convert {\n",
              "      background-color: #3B4455;\n",
              "      fill: #D2E3FC;\n",
              "    }\n",
              "\n",
              "    [theme=dark] .colab-df-convert:hover {\n",
              "      background-color: #434B5C;\n",
              "      box-shadow: 0px 1px 3px 1px rgba(0, 0, 0, 0.15);\n",
              "      filter: drop-shadow(0px 1px 2px rgba(0, 0, 0, 0.3));\n",
              "      fill: #FFFFFF;\n",
              "    }\n",
              "  </style>\n",
              "\n",
              "      <script>\n",
              "        const buttonEl =\n",
              "          document.querySelector('#df-1ec9cb33-65e7-4eb2-b4ee-0944ee057078 button.colab-df-convert');\n",
              "        buttonEl.style.display =\n",
              "          google.colab.kernel.accessAllowed ? 'block' : 'none';\n",
              "\n",
              "        async function convertToInteractive(key) {\n",
              "          const element = document.querySelector('#df-1ec9cb33-65e7-4eb2-b4ee-0944ee057078');\n",
              "          const dataTable =\n",
              "            await google.colab.kernel.invokeFunction('convertToInteractive',\n",
              "                                                     [key], {});\n",
              "          if (!dataTable) return;\n",
              "\n",
              "          const docLinkHtml = 'Like what you see? Visit the ' +\n",
              "            '<a target=\"_blank\" href=https://colab.research.google.com/notebooks/data_table.ipynb>data table notebook</a>'\n",
              "            + ' to learn more about interactive tables.';\n",
              "          element.innerHTML = '';\n",
              "          dataTable['output_type'] = 'display_data';\n",
              "          await google.colab.output.renderOutput(dataTable, element);\n",
              "          const docLink = document.createElement('div');\n",
              "          docLink.innerHTML = docLinkHtml;\n",
              "          element.appendChild(docLink);\n",
              "        }\n",
              "      </script>\n",
              "    </div>\n",
              "  </div>\n",
              "  "
            ]
          },
          "metadata": {},
          "execution_count": 68
        }
      ]
    },
    {
      "cell_type": "code",
      "source": [
        "df.iloc[10:15,[1,2,5]]"
      ],
      "metadata": {
        "colab": {
          "base_uri": "https://localhost:8080/",
          "height": 206
        },
        "id": "7jQu7bTWgpjn",
        "outputId": "c14b10ce-b9a9-46ab-e61c-885369370e24"
      },
      "execution_count": null,
      "outputs": [
        {
          "output_type": "execute_result",
          "data": {
            "text/plain": [
              "    latitude  housing_median_age  population\n",
              "10     33.62                16.0      2434.0\n",
              "11     33.60                21.0      1182.0\n",
              "12     34.84                48.0       580.0\n",
              "13     34.83                31.0      1346.0\n",
              "14     32.76                15.0       949.0"
            ],
            "text/html": [
              "\n",
              "  <div id=\"df-c1e1263d-1cc5-4c3c-bfaa-2c558fed700e\">\n",
              "    <div class=\"colab-df-container\">\n",
              "      <div>\n",
              "<style scoped>\n",
              "    .dataframe tbody tr th:only-of-type {\n",
              "        vertical-align: middle;\n",
              "    }\n",
              "\n",
              "    .dataframe tbody tr th {\n",
              "        vertical-align: top;\n",
              "    }\n",
              "\n",
              "    .dataframe thead th {\n",
              "        text-align: right;\n",
              "    }\n",
              "</style>\n",
              "<table border=\"1\" class=\"dataframe\">\n",
              "  <thead>\n",
              "    <tr style=\"text-align: right;\">\n",
              "      <th></th>\n",
              "      <th>latitude</th>\n",
              "      <th>housing_median_age</th>\n",
              "      <th>population</th>\n",
              "    </tr>\n",
              "  </thead>\n",
              "  <tbody>\n",
              "    <tr>\n",
              "      <th>10</th>\n",
              "      <td>33.62</td>\n",
              "      <td>16.0</td>\n",
              "      <td>2434.0</td>\n",
              "    </tr>\n",
              "    <tr>\n",
              "      <th>11</th>\n",
              "      <td>33.60</td>\n",
              "      <td>21.0</td>\n",
              "      <td>1182.0</td>\n",
              "    </tr>\n",
              "    <tr>\n",
              "      <th>12</th>\n",
              "      <td>34.84</td>\n",
              "      <td>48.0</td>\n",
              "      <td>580.0</td>\n",
              "    </tr>\n",
              "    <tr>\n",
              "      <th>13</th>\n",
              "      <td>34.83</td>\n",
              "      <td>31.0</td>\n",
              "      <td>1346.0</td>\n",
              "    </tr>\n",
              "    <tr>\n",
              "      <th>14</th>\n",
              "      <td>32.76</td>\n",
              "      <td>15.0</td>\n",
              "      <td>949.0</td>\n",
              "    </tr>\n",
              "  </tbody>\n",
              "</table>\n",
              "</div>\n",
              "      <button class=\"colab-df-convert\" onclick=\"convertToInteractive('df-c1e1263d-1cc5-4c3c-bfaa-2c558fed700e')\"\n",
              "              title=\"Convert this dataframe to an interactive table.\"\n",
              "              style=\"display:none;\">\n",
              "        \n",
              "  <svg xmlns=\"http://www.w3.org/2000/svg\" height=\"24px\"viewBox=\"0 0 24 24\"\n",
              "       width=\"24px\">\n",
              "    <path d=\"M0 0h24v24H0V0z\" fill=\"none\"/>\n",
              "    <path d=\"M18.56 5.44l.94 2.06.94-2.06 2.06-.94-2.06-.94-.94-2.06-.94 2.06-2.06.94zm-11 1L8.5 8.5l.94-2.06 2.06-.94-2.06-.94L8.5 2.5l-.94 2.06-2.06.94zm10 10l.94 2.06.94-2.06 2.06-.94-2.06-.94-.94-2.06-.94 2.06-2.06.94z\"/><path d=\"M17.41 7.96l-1.37-1.37c-.4-.4-.92-.59-1.43-.59-.52 0-1.04.2-1.43.59L10.3 9.45l-7.72 7.72c-.78.78-.78 2.05 0 2.83L4 21.41c.39.39.9.59 1.41.59.51 0 1.02-.2 1.41-.59l7.78-7.78 2.81-2.81c.8-.78.8-2.07 0-2.86zM5.41 20L4 18.59l7.72-7.72 1.47 1.35L5.41 20z\"/>\n",
              "  </svg>\n",
              "      </button>\n",
              "      \n",
              "  <style>\n",
              "    .colab-df-container {\n",
              "      display:flex;\n",
              "      flex-wrap:wrap;\n",
              "      gap: 12px;\n",
              "    }\n",
              "\n",
              "    .colab-df-convert {\n",
              "      background-color: #E8F0FE;\n",
              "      border: none;\n",
              "      border-radius: 50%;\n",
              "      cursor: pointer;\n",
              "      display: none;\n",
              "      fill: #1967D2;\n",
              "      height: 32px;\n",
              "      padding: 0 0 0 0;\n",
              "      width: 32px;\n",
              "    }\n",
              "\n",
              "    .colab-df-convert:hover {\n",
              "      background-color: #E2EBFA;\n",
              "      box-shadow: 0px 1px 2px rgba(60, 64, 67, 0.3), 0px 1px 3px 1px rgba(60, 64, 67, 0.15);\n",
              "      fill: #174EA6;\n",
              "    }\n",
              "\n",
              "    [theme=dark] .colab-df-convert {\n",
              "      background-color: #3B4455;\n",
              "      fill: #D2E3FC;\n",
              "    }\n",
              "\n",
              "    [theme=dark] .colab-df-convert:hover {\n",
              "      background-color: #434B5C;\n",
              "      box-shadow: 0px 1px 3px 1px rgba(0, 0, 0, 0.15);\n",
              "      filter: drop-shadow(0px 1px 2px rgba(0, 0, 0, 0.3));\n",
              "      fill: #FFFFFF;\n",
              "    }\n",
              "  </style>\n",
              "\n",
              "      <script>\n",
              "        const buttonEl =\n",
              "          document.querySelector('#df-c1e1263d-1cc5-4c3c-bfaa-2c558fed700e button.colab-df-convert');\n",
              "        buttonEl.style.display =\n",
              "          google.colab.kernel.accessAllowed ? 'block' : 'none';\n",
              "\n",
              "        async function convertToInteractive(key) {\n",
              "          const element = document.querySelector('#df-c1e1263d-1cc5-4c3c-bfaa-2c558fed700e');\n",
              "          const dataTable =\n",
              "            await google.colab.kernel.invokeFunction('convertToInteractive',\n",
              "                                                     [key], {});\n",
              "          if (!dataTable) return;\n",
              "\n",
              "          const docLinkHtml = 'Like what you see? Visit the ' +\n",
              "            '<a target=\"_blank\" href=https://colab.research.google.com/notebooks/data_table.ipynb>data table notebook</a>'\n",
              "            + ' to learn more about interactive tables.';\n",
              "          element.innerHTML = '';\n",
              "          dataTable['output_type'] = 'display_data';\n",
              "          await google.colab.output.renderOutput(dataTable, element);\n",
              "          const docLink = document.createElement('div');\n",
              "          docLink.innerHTML = docLinkHtml;\n",
              "          element.appendChild(docLink);\n",
              "        }\n",
              "      </script>\n",
              "    </div>\n",
              "  </div>\n",
              "  "
            ]
          },
          "metadata": {},
          "execution_count": 71
        }
      ]
    },
    {
      "cell_type": "code",
      "source": [
        "df[10:12]"
      ],
      "metadata": {
        "colab": {
          "base_uri": "https://localhost:8080/",
          "height": 112
        },
        "id": "gPDSlzBpgiqR",
        "outputId": "e1afee38-a6b7-474d-9944-993e024a5d71"
      },
      "execution_count": null,
      "outputs": [
        {
          "output_type": "execute_result",
          "data": {
            "text/plain": [
              "    longitude  latitude  housing_median_age  total_rooms  total_bedrooms  \\\n",
              "10     -114.6     33.62                16.0       3741.0           801.0   \n",
              "11     -114.6     33.60                21.0       1988.0           483.0   \n",
              "\n",
              "    population  households  median_income  median_house_value  \n",
              "10      2434.0       824.0         2.6797             86500.0  \n",
              "11      1182.0       437.0         1.6250             62000.0  "
            ],
            "text/html": [
              "\n",
              "  <div id=\"df-c843f5f9-92d5-40ef-8889-d62a3424ab48\">\n",
              "    <div class=\"colab-df-container\">\n",
              "      <div>\n",
              "<style scoped>\n",
              "    .dataframe tbody tr th:only-of-type {\n",
              "        vertical-align: middle;\n",
              "    }\n",
              "\n",
              "    .dataframe tbody tr th {\n",
              "        vertical-align: top;\n",
              "    }\n",
              "\n",
              "    .dataframe thead th {\n",
              "        text-align: right;\n",
              "    }\n",
              "</style>\n",
              "<table border=\"1\" class=\"dataframe\">\n",
              "  <thead>\n",
              "    <tr style=\"text-align: right;\">\n",
              "      <th></th>\n",
              "      <th>longitude</th>\n",
              "      <th>latitude</th>\n",
              "      <th>housing_median_age</th>\n",
              "      <th>total_rooms</th>\n",
              "      <th>total_bedrooms</th>\n",
              "      <th>population</th>\n",
              "      <th>households</th>\n",
              "      <th>median_income</th>\n",
              "      <th>median_house_value</th>\n",
              "    </tr>\n",
              "  </thead>\n",
              "  <tbody>\n",
              "    <tr>\n",
              "      <th>10</th>\n",
              "      <td>-114.6</td>\n",
              "      <td>33.62</td>\n",
              "      <td>16.0</td>\n",
              "      <td>3741.0</td>\n",
              "      <td>801.0</td>\n",
              "      <td>2434.0</td>\n",
              "      <td>824.0</td>\n",
              "      <td>2.6797</td>\n",
              "      <td>86500.0</td>\n",
              "    </tr>\n",
              "    <tr>\n",
              "      <th>11</th>\n",
              "      <td>-114.6</td>\n",
              "      <td>33.60</td>\n",
              "      <td>21.0</td>\n",
              "      <td>1988.0</td>\n",
              "      <td>483.0</td>\n",
              "      <td>1182.0</td>\n",
              "      <td>437.0</td>\n",
              "      <td>1.6250</td>\n",
              "      <td>62000.0</td>\n",
              "    </tr>\n",
              "  </tbody>\n",
              "</table>\n",
              "</div>\n",
              "      <button class=\"colab-df-convert\" onclick=\"convertToInteractive('df-c843f5f9-92d5-40ef-8889-d62a3424ab48')\"\n",
              "              title=\"Convert this dataframe to an interactive table.\"\n",
              "              style=\"display:none;\">\n",
              "        \n",
              "  <svg xmlns=\"http://www.w3.org/2000/svg\" height=\"24px\"viewBox=\"0 0 24 24\"\n",
              "       width=\"24px\">\n",
              "    <path d=\"M0 0h24v24H0V0z\" fill=\"none\"/>\n",
              "    <path d=\"M18.56 5.44l.94 2.06.94-2.06 2.06-.94-2.06-.94-.94-2.06-.94 2.06-2.06.94zm-11 1L8.5 8.5l.94-2.06 2.06-.94-2.06-.94L8.5 2.5l-.94 2.06-2.06.94zm10 10l.94 2.06.94-2.06 2.06-.94-2.06-.94-.94-2.06-.94 2.06-2.06.94z\"/><path d=\"M17.41 7.96l-1.37-1.37c-.4-.4-.92-.59-1.43-.59-.52 0-1.04.2-1.43.59L10.3 9.45l-7.72 7.72c-.78.78-.78 2.05 0 2.83L4 21.41c.39.39.9.59 1.41.59.51 0 1.02-.2 1.41-.59l7.78-7.78 2.81-2.81c.8-.78.8-2.07 0-2.86zM5.41 20L4 18.59l7.72-7.72 1.47 1.35L5.41 20z\"/>\n",
              "  </svg>\n",
              "      </button>\n",
              "      \n",
              "  <style>\n",
              "    .colab-df-container {\n",
              "      display:flex;\n",
              "      flex-wrap:wrap;\n",
              "      gap: 12px;\n",
              "    }\n",
              "\n",
              "    .colab-df-convert {\n",
              "      background-color: #E8F0FE;\n",
              "      border: none;\n",
              "      border-radius: 50%;\n",
              "      cursor: pointer;\n",
              "      display: none;\n",
              "      fill: #1967D2;\n",
              "      height: 32px;\n",
              "      padding: 0 0 0 0;\n",
              "      width: 32px;\n",
              "    }\n",
              "\n",
              "    .colab-df-convert:hover {\n",
              "      background-color: #E2EBFA;\n",
              "      box-shadow: 0px 1px 2px rgba(60, 64, 67, 0.3), 0px 1px 3px 1px rgba(60, 64, 67, 0.15);\n",
              "      fill: #174EA6;\n",
              "    }\n",
              "\n",
              "    [theme=dark] .colab-df-convert {\n",
              "      background-color: #3B4455;\n",
              "      fill: #D2E3FC;\n",
              "    }\n",
              "\n",
              "    [theme=dark] .colab-df-convert:hover {\n",
              "      background-color: #434B5C;\n",
              "      box-shadow: 0px 1px 3px 1px rgba(0, 0, 0, 0.15);\n",
              "      filter: drop-shadow(0px 1px 2px rgba(0, 0, 0, 0.3));\n",
              "      fill: #FFFFFF;\n",
              "    }\n",
              "  </style>\n",
              "\n",
              "      <script>\n",
              "        const buttonEl =\n",
              "          document.querySelector('#df-c843f5f9-92d5-40ef-8889-d62a3424ab48 button.colab-df-convert');\n",
              "        buttonEl.style.display =\n",
              "          google.colab.kernel.accessAllowed ? 'block' : 'none';\n",
              "\n",
              "        async function convertToInteractive(key) {\n",
              "          const element = document.querySelector('#df-c843f5f9-92d5-40ef-8889-d62a3424ab48');\n",
              "          const dataTable =\n",
              "            await google.colab.kernel.invokeFunction('convertToInteractive',\n",
              "                                                     [key], {});\n",
              "          if (!dataTable) return;\n",
              "\n",
              "          const docLinkHtml = 'Like what you see? Visit the ' +\n",
              "            '<a target=\"_blank\" href=https://colab.research.google.com/notebooks/data_table.ipynb>data table notebook</a>'\n",
              "            + ' to learn more about interactive tables.';\n",
              "          element.innerHTML = '';\n",
              "          dataTable['output_type'] = 'display_data';\n",
              "          await google.colab.output.renderOutput(dataTable, element);\n",
              "          const docLink = document.createElement('div');\n",
              "          docLink.innerHTML = docLinkHtml;\n",
              "          element.appendChild(docLink);\n",
              "        }\n",
              "      </script>\n",
              "    </div>\n",
              "  </div>\n",
              "  "
            ]
          },
          "metadata": {},
          "execution_count": 73
        }
      ]
    },
    {
      "cell_type": "code",
      "source": [
        "df[['total_rooms','total_bedrooms']].groupby(df['housing_median_age']).sum()"
      ],
      "metadata": {
        "colab": {
          "base_uri": "https://localhost:8080/",
          "height": 1000
        },
        "id": "AgJZO3Yif9KV",
        "outputId": "bdf02b96-e4e5-43d3-e13c-0084f96a20e9"
      },
      "execution_count": null,
      "outputs": [
        {
          "output_type": "execute_result",
          "data": {
            "text/plain": [
              "                    total_rooms  total_bedrooms\n",
              "housing_median_age                             \n",
              "1.0                      4316.0           671.0\n",
              "2.0                    256618.0         42701.0\n",
              "3.0                    318335.0         54778.0\n",
              "4.0                    976564.0        171979.0\n",
              "5.0                    980326.0        181274.0\n",
              "6.0                    563093.0        105980.0\n",
              "7.0                    856609.0        158150.0\n",
              "8.0                    725668.0        138707.0\n",
              "9.0                    655916.0        125113.0\n",
              "10.0                   795177.0        154021.0\n",
              "11.0                   825990.0        159938.0\n",
              "12.0                   809599.0        161058.0\n",
              "13.0                   919434.0        179198.0\n",
              "14.0                  1290961.0        249558.0\n",
              "15.0                  1365860.0        268525.0\n",
              "16.0                  1935249.0        376729.0\n",
              "17.0                  1805165.0        365622.0\n",
              "18.0                  1481056.0        298523.0\n",
              "19.0                  1238118.0        256066.0\n",
              "20.0                  1092444.0        230481.0\n",
              "21.0                  1169084.0        240812.0\n",
              "22.0                  1071364.0        220847.0\n",
              "23.0                  1114983.0        223250.0\n",
              "24.0                  1125823.0        235208.0\n",
              "25.0                  1289537.0        267961.0\n",
              "26.0                  1314042.0        263544.0\n",
              "27.0                  1023230.0        214368.0\n",
              "28.0                  1015352.0        216283.0\n",
              "29.0                   929040.0        197642.0\n",
              "30.0                   901190.0        196336.0\n",
              "31.0                   900543.0        195000.0\n",
              "32.0                  1079002.0        224198.0\n",
              "33.0                  1131366.0        232694.0\n",
              "34.0                  1209201.0        246639.0\n",
              "35.0                  1363103.0        279690.0\n",
              "36.0                  1319687.0        269616.0\n",
              "37.0                   795180.0        169204.0\n",
              "38.0                   587978.0        128024.0\n",
              "39.0                   569853.0        124770.0\n",
              "40.0                   454067.0        101651.0\n",
              "41.0                   383617.0         87208.0\n",
              "42.0                   539116.0        122039.0\n",
              "43.0                   481594.0        109484.0\n",
              "44.0                   528559.0        113176.0\n",
              "45.0                   420859.0         88373.0\n",
              "46.0                   340554.0         76377.0\n",
              "47.0                   311580.0         67935.0\n",
              "48.0                   239962.0         51219.0\n",
              "49.0                   214049.0         44828.0\n",
              "50.0                   197001.0         44205.0\n",
              "51.0                    59890.0         12469.0\n",
              "52.0                  1965391.0        425862.0"
            ],
            "text/html": [
              "\n",
              "  <div id=\"df-2664f4ef-4f44-4690-a1dd-b207be714625\">\n",
              "    <div class=\"colab-df-container\">\n",
              "      <div>\n",
              "<style scoped>\n",
              "    .dataframe tbody tr th:only-of-type {\n",
              "        vertical-align: middle;\n",
              "    }\n",
              "\n",
              "    .dataframe tbody tr th {\n",
              "        vertical-align: top;\n",
              "    }\n",
              "\n",
              "    .dataframe thead th {\n",
              "        text-align: right;\n",
              "    }\n",
              "</style>\n",
              "<table border=\"1\" class=\"dataframe\">\n",
              "  <thead>\n",
              "    <tr style=\"text-align: right;\">\n",
              "      <th></th>\n",
              "      <th>total_rooms</th>\n",
              "      <th>total_bedrooms</th>\n",
              "    </tr>\n",
              "    <tr>\n",
              "      <th>housing_median_age</th>\n",
              "      <th></th>\n",
              "      <th></th>\n",
              "    </tr>\n",
              "  </thead>\n",
              "  <tbody>\n",
              "    <tr>\n",
              "      <th>1.0</th>\n",
              "      <td>4316.0</td>\n",
              "      <td>671.0</td>\n",
              "    </tr>\n",
              "    <tr>\n",
              "      <th>2.0</th>\n",
              "      <td>256618.0</td>\n",
              "      <td>42701.0</td>\n",
              "    </tr>\n",
              "    <tr>\n",
              "      <th>3.0</th>\n",
              "      <td>318335.0</td>\n",
              "      <td>54778.0</td>\n",
              "    </tr>\n",
              "    <tr>\n",
              "      <th>4.0</th>\n",
              "      <td>976564.0</td>\n",
              "      <td>171979.0</td>\n",
              "    </tr>\n",
              "    <tr>\n",
              "      <th>5.0</th>\n",
              "      <td>980326.0</td>\n",
              "      <td>181274.0</td>\n",
              "    </tr>\n",
              "    <tr>\n",
              "      <th>6.0</th>\n",
              "      <td>563093.0</td>\n",
              "      <td>105980.0</td>\n",
              "    </tr>\n",
              "    <tr>\n",
              "      <th>7.0</th>\n",
              "      <td>856609.0</td>\n",
              "      <td>158150.0</td>\n",
              "    </tr>\n",
              "    <tr>\n",
              "      <th>8.0</th>\n",
              "      <td>725668.0</td>\n",
              "      <td>138707.0</td>\n",
              "    </tr>\n",
              "    <tr>\n",
              "      <th>9.0</th>\n",
              "      <td>655916.0</td>\n",
              "      <td>125113.0</td>\n",
              "    </tr>\n",
              "    <tr>\n",
              "      <th>10.0</th>\n",
              "      <td>795177.0</td>\n",
              "      <td>154021.0</td>\n",
              "    </tr>\n",
              "    <tr>\n",
              "      <th>11.0</th>\n",
              "      <td>825990.0</td>\n",
              "      <td>159938.0</td>\n",
              "    </tr>\n",
              "    <tr>\n",
              "      <th>12.0</th>\n",
              "      <td>809599.0</td>\n",
              "      <td>161058.0</td>\n",
              "    </tr>\n",
              "    <tr>\n",
              "      <th>13.0</th>\n",
              "      <td>919434.0</td>\n",
              "      <td>179198.0</td>\n",
              "    </tr>\n",
              "    <tr>\n",
              "      <th>14.0</th>\n",
              "      <td>1290961.0</td>\n",
              "      <td>249558.0</td>\n",
              "    </tr>\n",
              "    <tr>\n",
              "      <th>15.0</th>\n",
              "      <td>1365860.0</td>\n",
              "      <td>268525.0</td>\n",
              "    </tr>\n",
              "    <tr>\n",
              "      <th>16.0</th>\n",
              "      <td>1935249.0</td>\n",
              "      <td>376729.0</td>\n",
              "    </tr>\n",
              "    <tr>\n",
              "      <th>17.0</th>\n",
              "      <td>1805165.0</td>\n",
              "      <td>365622.0</td>\n",
              "    </tr>\n",
              "    <tr>\n",
              "      <th>18.0</th>\n",
              "      <td>1481056.0</td>\n",
              "      <td>298523.0</td>\n",
              "    </tr>\n",
              "    <tr>\n",
              "      <th>19.0</th>\n",
              "      <td>1238118.0</td>\n",
              "      <td>256066.0</td>\n",
              "    </tr>\n",
              "    <tr>\n",
              "      <th>20.0</th>\n",
              "      <td>1092444.0</td>\n",
              "      <td>230481.0</td>\n",
              "    </tr>\n",
              "    <tr>\n",
              "      <th>21.0</th>\n",
              "      <td>1169084.0</td>\n",
              "      <td>240812.0</td>\n",
              "    </tr>\n",
              "    <tr>\n",
              "      <th>22.0</th>\n",
              "      <td>1071364.0</td>\n",
              "      <td>220847.0</td>\n",
              "    </tr>\n",
              "    <tr>\n",
              "      <th>23.0</th>\n",
              "      <td>1114983.0</td>\n",
              "      <td>223250.0</td>\n",
              "    </tr>\n",
              "    <tr>\n",
              "      <th>24.0</th>\n",
              "      <td>1125823.0</td>\n",
              "      <td>235208.0</td>\n",
              "    </tr>\n",
              "    <tr>\n",
              "      <th>25.0</th>\n",
              "      <td>1289537.0</td>\n",
              "      <td>267961.0</td>\n",
              "    </tr>\n",
              "    <tr>\n",
              "      <th>26.0</th>\n",
              "      <td>1314042.0</td>\n",
              "      <td>263544.0</td>\n",
              "    </tr>\n",
              "    <tr>\n",
              "      <th>27.0</th>\n",
              "      <td>1023230.0</td>\n",
              "      <td>214368.0</td>\n",
              "    </tr>\n",
              "    <tr>\n",
              "      <th>28.0</th>\n",
              "      <td>1015352.0</td>\n",
              "      <td>216283.0</td>\n",
              "    </tr>\n",
              "    <tr>\n",
              "      <th>29.0</th>\n",
              "      <td>929040.0</td>\n",
              "      <td>197642.0</td>\n",
              "    </tr>\n",
              "    <tr>\n",
              "      <th>30.0</th>\n",
              "      <td>901190.0</td>\n",
              "      <td>196336.0</td>\n",
              "    </tr>\n",
              "    <tr>\n",
              "      <th>31.0</th>\n",
              "      <td>900543.0</td>\n",
              "      <td>195000.0</td>\n",
              "    </tr>\n",
              "    <tr>\n",
              "      <th>32.0</th>\n",
              "      <td>1079002.0</td>\n",
              "      <td>224198.0</td>\n",
              "    </tr>\n",
              "    <tr>\n",
              "      <th>33.0</th>\n",
              "      <td>1131366.0</td>\n",
              "      <td>232694.0</td>\n",
              "    </tr>\n",
              "    <tr>\n",
              "      <th>34.0</th>\n",
              "      <td>1209201.0</td>\n",
              "      <td>246639.0</td>\n",
              "    </tr>\n",
              "    <tr>\n",
              "      <th>35.0</th>\n",
              "      <td>1363103.0</td>\n",
              "      <td>279690.0</td>\n",
              "    </tr>\n",
              "    <tr>\n",
              "      <th>36.0</th>\n",
              "      <td>1319687.0</td>\n",
              "      <td>269616.0</td>\n",
              "    </tr>\n",
              "    <tr>\n",
              "      <th>37.0</th>\n",
              "      <td>795180.0</td>\n",
              "      <td>169204.0</td>\n",
              "    </tr>\n",
              "    <tr>\n",
              "      <th>38.0</th>\n",
              "      <td>587978.0</td>\n",
              "      <td>128024.0</td>\n",
              "    </tr>\n",
              "    <tr>\n",
              "      <th>39.0</th>\n",
              "      <td>569853.0</td>\n",
              "      <td>124770.0</td>\n",
              "    </tr>\n",
              "    <tr>\n",
              "      <th>40.0</th>\n",
              "      <td>454067.0</td>\n",
              "      <td>101651.0</td>\n",
              "    </tr>\n",
              "    <tr>\n",
              "      <th>41.0</th>\n",
              "      <td>383617.0</td>\n",
              "      <td>87208.0</td>\n",
              "    </tr>\n",
              "    <tr>\n",
              "      <th>42.0</th>\n",
              "      <td>539116.0</td>\n",
              "      <td>122039.0</td>\n",
              "    </tr>\n",
              "    <tr>\n",
              "      <th>43.0</th>\n",
              "      <td>481594.0</td>\n",
              "      <td>109484.0</td>\n",
              "    </tr>\n",
              "    <tr>\n",
              "      <th>44.0</th>\n",
              "      <td>528559.0</td>\n",
              "      <td>113176.0</td>\n",
              "    </tr>\n",
              "    <tr>\n",
              "      <th>45.0</th>\n",
              "      <td>420859.0</td>\n",
              "      <td>88373.0</td>\n",
              "    </tr>\n",
              "    <tr>\n",
              "      <th>46.0</th>\n",
              "      <td>340554.0</td>\n",
              "      <td>76377.0</td>\n",
              "    </tr>\n",
              "    <tr>\n",
              "      <th>47.0</th>\n",
              "      <td>311580.0</td>\n",
              "      <td>67935.0</td>\n",
              "    </tr>\n",
              "    <tr>\n",
              "      <th>48.0</th>\n",
              "      <td>239962.0</td>\n",
              "      <td>51219.0</td>\n",
              "    </tr>\n",
              "    <tr>\n",
              "      <th>49.0</th>\n",
              "      <td>214049.0</td>\n",
              "      <td>44828.0</td>\n",
              "    </tr>\n",
              "    <tr>\n",
              "      <th>50.0</th>\n",
              "      <td>197001.0</td>\n",
              "      <td>44205.0</td>\n",
              "    </tr>\n",
              "    <tr>\n",
              "      <th>51.0</th>\n",
              "      <td>59890.0</td>\n",
              "      <td>12469.0</td>\n",
              "    </tr>\n",
              "    <tr>\n",
              "      <th>52.0</th>\n",
              "      <td>1965391.0</td>\n",
              "      <td>425862.0</td>\n",
              "    </tr>\n",
              "  </tbody>\n",
              "</table>\n",
              "</div>\n",
              "      <button class=\"colab-df-convert\" onclick=\"convertToInteractive('df-2664f4ef-4f44-4690-a1dd-b207be714625')\"\n",
              "              title=\"Convert this dataframe to an interactive table.\"\n",
              "              style=\"display:none;\">\n",
              "        \n",
              "  <svg xmlns=\"http://www.w3.org/2000/svg\" height=\"24px\"viewBox=\"0 0 24 24\"\n",
              "       width=\"24px\">\n",
              "    <path d=\"M0 0h24v24H0V0z\" fill=\"none\"/>\n",
              "    <path d=\"M18.56 5.44l.94 2.06.94-2.06 2.06-.94-2.06-.94-.94-2.06-.94 2.06-2.06.94zm-11 1L8.5 8.5l.94-2.06 2.06-.94-2.06-.94L8.5 2.5l-.94 2.06-2.06.94zm10 10l.94 2.06.94-2.06 2.06-.94-2.06-.94-.94-2.06-.94 2.06-2.06.94z\"/><path d=\"M17.41 7.96l-1.37-1.37c-.4-.4-.92-.59-1.43-.59-.52 0-1.04.2-1.43.59L10.3 9.45l-7.72 7.72c-.78.78-.78 2.05 0 2.83L4 21.41c.39.39.9.59 1.41.59.51 0 1.02-.2 1.41-.59l7.78-7.78 2.81-2.81c.8-.78.8-2.07 0-2.86zM5.41 20L4 18.59l7.72-7.72 1.47 1.35L5.41 20z\"/>\n",
              "  </svg>\n",
              "      </button>\n",
              "      \n",
              "  <style>\n",
              "    .colab-df-container {\n",
              "      display:flex;\n",
              "      flex-wrap:wrap;\n",
              "      gap: 12px;\n",
              "    }\n",
              "\n",
              "    .colab-df-convert {\n",
              "      background-color: #E8F0FE;\n",
              "      border: none;\n",
              "      border-radius: 50%;\n",
              "      cursor: pointer;\n",
              "      display: none;\n",
              "      fill: #1967D2;\n",
              "      height: 32px;\n",
              "      padding: 0 0 0 0;\n",
              "      width: 32px;\n",
              "    }\n",
              "\n",
              "    .colab-df-convert:hover {\n",
              "      background-color: #E2EBFA;\n",
              "      box-shadow: 0px 1px 2px rgba(60, 64, 67, 0.3), 0px 1px 3px 1px rgba(60, 64, 67, 0.15);\n",
              "      fill: #174EA6;\n",
              "    }\n",
              "\n",
              "    [theme=dark] .colab-df-convert {\n",
              "      background-color: #3B4455;\n",
              "      fill: #D2E3FC;\n",
              "    }\n",
              "\n",
              "    [theme=dark] .colab-df-convert:hover {\n",
              "      background-color: #434B5C;\n",
              "      box-shadow: 0px 1px 3px 1px rgba(0, 0, 0, 0.15);\n",
              "      filter: drop-shadow(0px 1px 2px rgba(0, 0, 0, 0.3));\n",
              "      fill: #FFFFFF;\n",
              "    }\n",
              "  </style>\n",
              "\n",
              "      <script>\n",
              "        const buttonEl =\n",
              "          document.querySelector('#df-2664f4ef-4f44-4690-a1dd-b207be714625 button.colab-df-convert');\n",
              "        buttonEl.style.display =\n",
              "          google.colab.kernel.accessAllowed ? 'block' : 'none';\n",
              "\n",
              "        async function convertToInteractive(key) {\n",
              "          const element = document.querySelector('#df-2664f4ef-4f44-4690-a1dd-b207be714625');\n",
              "          const dataTable =\n",
              "            await google.colab.kernel.invokeFunction('convertToInteractive',\n",
              "                                                     [key], {});\n",
              "          if (!dataTable) return;\n",
              "\n",
              "          const docLinkHtml = 'Like what you see? Visit the ' +\n",
              "            '<a target=\"_blank\" href=https://colab.research.google.com/notebooks/data_table.ipynb>data table notebook</a>'\n",
              "            + ' to learn more about interactive tables.';\n",
              "          element.innerHTML = '';\n",
              "          dataTable['output_type'] = 'display_data';\n",
              "          await google.colab.output.renderOutput(dataTable, element);\n",
              "          const docLink = document.createElement('div');\n",
              "          docLink.innerHTML = docLinkHtml;\n",
              "          element.appendChild(docLink);\n",
              "        }\n",
              "      </script>\n",
              "    </div>\n",
              "  </div>\n",
              "  "
            ]
          },
          "metadata": {},
          "execution_count": 83
        }
      ]
    },
    {
      "cell_type": "code",
      "source": [
        "df['mult']=df['total_rooms']*df['total_bedrooms']"
      ],
      "metadata": {
        "id": "R4UDZvIHftRX"
      },
      "execution_count": null,
      "outputs": []
    },
    {
      "cell_type": "code",
      "source": [
        "df['mult'].head(10)"
      ],
      "metadata": {
        "colab": {
          "base_uri": "https://localhost:8080/"
        },
        "id": "PeHpkCp6fnt7",
        "outputId": "5899bdb2-a4e8-4058-ec9b-ae8cd1e6d70b"
      },
      "execution_count": null,
      "outputs": [
        {
          "output_type": "execute_result",
          "data": {
            "text/plain": [
              "0     7200196.0\n",
              "1    14542650.0\n",
              "2      125280.0\n",
              "3      505837.0\n",
              "4      474004.0\n",
              "5      327332.0\n",
              "6     1976760.0\n",
              "7      136416.0\n",
              "8     5627075.0\n",
              "9      462573.0\n",
              "Name: mult, dtype: float64"
            ]
          },
          "metadata": {},
          "execution_count": 86
        }
      ]
    },
    {
      "cell_type": "code",
      "source": [
        "df.sort_values(by='total_rooms',ascending=False)"
      ],
      "metadata": {
        "colab": {
          "base_uri": "https://localhost:8080/",
          "height": 424
        },
        "id": "2eatDfBDfoRZ",
        "outputId": "8bdce4e5-4071-4ba3-ba70-9c25bd31d191"
      },
      "execution_count": null,
      "outputs": [
        {
          "output_type": "execute_result",
          "data": {
            "text/plain": [
              "       longitude  latitude  housing_median_age  total_rooms  total_bedrooms  \\\n",
              "2871     -117.74     33.89                 4.0      37937.0          5471.0   \n",
              "12772    -121.79     36.64                11.0      32627.0          6445.0   \n",
              "2969     -117.78     34.03                 8.0      32054.0          5290.0   \n",
              "8881     -118.78     34.16                 9.0      30405.0          4093.0   \n",
              "1116     -117.12     33.52                 4.0      30401.0          4957.0   \n",
              "...          ...       ...                 ...          ...             ...   \n",
              "4502     -118.04     33.90                36.0         15.0             5.0   \n",
              "15369    -122.29     37.81                46.0         12.0             4.0   \n",
              "8188     -118.44     34.28                46.0         11.0            11.0   \n",
              "16309    -122.50     37.79                52.0          8.0             1.0   \n",
              "2990     -117.79     35.21                 4.0          2.0             2.0   \n",
              "\n",
              "       population  households  median_income  median_house_value         mult  \n",
              "2871      16122.0      5189.0         7.4947            366300.0  207553327.0  \n",
              "12772     28566.0      6082.0         2.3087            118800.0  210281015.0  \n",
              "2969      15507.0      5050.0         6.0191            253900.0  169565660.0  \n",
              "8881      12873.0      3931.0         8.0137            399200.0  124447665.0  \n",
              "1116      13251.0      4339.0         4.5841            212300.0  150697757.0  \n",
              "...           ...         ...            ...                 ...          ...  \n",
              "4502         15.0         6.0         0.4999            162500.0         75.0  \n",
              "15369        18.0         7.0         0.4999             67500.0         48.0  \n",
              "8188         24.0        13.0         2.8750            162500.0        121.0  \n",
              "16309        13.0         1.0        15.0001            500001.0          8.0  \n",
              "2990          6.0         2.0         2.3750            137500.0          4.0  \n",
              "\n",
              "[17000 rows x 10 columns]"
            ],
            "text/html": [
              "\n",
              "  <div id=\"df-22ad7ed8-6f27-406e-a87e-b93d6cf1a315\">\n",
              "    <div class=\"colab-df-container\">\n",
              "      <div>\n",
              "<style scoped>\n",
              "    .dataframe tbody tr th:only-of-type {\n",
              "        vertical-align: middle;\n",
              "    }\n",
              "\n",
              "    .dataframe tbody tr th {\n",
              "        vertical-align: top;\n",
              "    }\n",
              "\n",
              "    .dataframe thead th {\n",
              "        text-align: right;\n",
              "    }\n",
              "</style>\n",
              "<table border=\"1\" class=\"dataframe\">\n",
              "  <thead>\n",
              "    <tr style=\"text-align: right;\">\n",
              "      <th></th>\n",
              "      <th>longitude</th>\n",
              "      <th>latitude</th>\n",
              "      <th>housing_median_age</th>\n",
              "      <th>total_rooms</th>\n",
              "      <th>total_bedrooms</th>\n",
              "      <th>population</th>\n",
              "      <th>households</th>\n",
              "      <th>median_income</th>\n",
              "      <th>median_house_value</th>\n",
              "      <th>mult</th>\n",
              "    </tr>\n",
              "  </thead>\n",
              "  <tbody>\n",
              "    <tr>\n",
              "      <th>2871</th>\n",
              "      <td>-117.74</td>\n",
              "      <td>33.89</td>\n",
              "      <td>4.0</td>\n",
              "      <td>37937.0</td>\n",
              "      <td>5471.0</td>\n",
              "      <td>16122.0</td>\n",
              "      <td>5189.0</td>\n",
              "      <td>7.4947</td>\n",
              "      <td>366300.0</td>\n",
              "      <td>207553327.0</td>\n",
              "    </tr>\n",
              "    <tr>\n",
              "      <th>12772</th>\n",
              "      <td>-121.79</td>\n",
              "      <td>36.64</td>\n",
              "      <td>11.0</td>\n",
              "      <td>32627.0</td>\n",
              "      <td>6445.0</td>\n",
              "      <td>28566.0</td>\n",
              "      <td>6082.0</td>\n",
              "      <td>2.3087</td>\n",
              "      <td>118800.0</td>\n",
              "      <td>210281015.0</td>\n",
              "    </tr>\n",
              "    <tr>\n",
              "      <th>2969</th>\n",
              "      <td>-117.78</td>\n",
              "      <td>34.03</td>\n",
              "      <td>8.0</td>\n",
              "      <td>32054.0</td>\n",
              "      <td>5290.0</td>\n",
              "      <td>15507.0</td>\n",
              "      <td>5050.0</td>\n",
              "      <td>6.0191</td>\n",
              "      <td>253900.0</td>\n",
              "      <td>169565660.0</td>\n",
              "    </tr>\n",
              "    <tr>\n",
              "      <th>8881</th>\n",
              "      <td>-118.78</td>\n",
              "      <td>34.16</td>\n",
              "      <td>9.0</td>\n",
              "      <td>30405.0</td>\n",
              "      <td>4093.0</td>\n",
              "      <td>12873.0</td>\n",
              "      <td>3931.0</td>\n",
              "      <td>8.0137</td>\n",
              "      <td>399200.0</td>\n",
              "      <td>124447665.0</td>\n",
              "    </tr>\n",
              "    <tr>\n",
              "      <th>1116</th>\n",
              "      <td>-117.12</td>\n",
              "      <td>33.52</td>\n",
              "      <td>4.0</td>\n",
              "      <td>30401.0</td>\n",
              "      <td>4957.0</td>\n",
              "      <td>13251.0</td>\n",
              "      <td>4339.0</td>\n",
              "      <td>4.5841</td>\n",
              "      <td>212300.0</td>\n",
              "      <td>150697757.0</td>\n",
              "    </tr>\n",
              "    <tr>\n",
              "      <th>...</th>\n",
              "      <td>...</td>\n",
              "      <td>...</td>\n",
              "      <td>...</td>\n",
              "      <td>...</td>\n",
              "      <td>...</td>\n",
              "      <td>...</td>\n",
              "      <td>...</td>\n",
              "      <td>...</td>\n",
              "      <td>...</td>\n",
              "      <td>...</td>\n",
              "    </tr>\n",
              "    <tr>\n",
              "      <th>4502</th>\n",
              "      <td>-118.04</td>\n",
              "      <td>33.90</td>\n",
              "      <td>36.0</td>\n",
              "      <td>15.0</td>\n",
              "      <td>5.0</td>\n",
              "      <td>15.0</td>\n",
              "      <td>6.0</td>\n",
              "      <td>0.4999</td>\n",
              "      <td>162500.0</td>\n",
              "      <td>75.0</td>\n",
              "    </tr>\n",
              "    <tr>\n",
              "      <th>15369</th>\n",
              "      <td>-122.29</td>\n",
              "      <td>37.81</td>\n",
              "      <td>46.0</td>\n",
              "      <td>12.0</td>\n",
              "      <td>4.0</td>\n",
              "      <td>18.0</td>\n",
              "      <td>7.0</td>\n",
              "      <td>0.4999</td>\n",
              "      <td>67500.0</td>\n",
              "      <td>48.0</td>\n",
              "    </tr>\n",
              "    <tr>\n",
              "      <th>8188</th>\n",
              "      <td>-118.44</td>\n",
              "      <td>34.28</td>\n",
              "      <td>46.0</td>\n",
              "      <td>11.0</td>\n",
              "      <td>11.0</td>\n",
              "      <td>24.0</td>\n",
              "      <td>13.0</td>\n",
              "      <td>2.8750</td>\n",
              "      <td>162500.0</td>\n",
              "      <td>121.0</td>\n",
              "    </tr>\n",
              "    <tr>\n",
              "      <th>16309</th>\n",
              "      <td>-122.50</td>\n",
              "      <td>37.79</td>\n",
              "      <td>52.0</td>\n",
              "      <td>8.0</td>\n",
              "      <td>1.0</td>\n",
              "      <td>13.0</td>\n",
              "      <td>1.0</td>\n",
              "      <td>15.0001</td>\n",
              "      <td>500001.0</td>\n",
              "      <td>8.0</td>\n",
              "    </tr>\n",
              "    <tr>\n",
              "      <th>2990</th>\n",
              "      <td>-117.79</td>\n",
              "      <td>35.21</td>\n",
              "      <td>4.0</td>\n",
              "      <td>2.0</td>\n",
              "      <td>2.0</td>\n",
              "      <td>6.0</td>\n",
              "      <td>2.0</td>\n",
              "      <td>2.3750</td>\n",
              "      <td>137500.0</td>\n",
              "      <td>4.0</td>\n",
              "    </tr>\n",
              "  </tbody>\n",
              "</table>\n",
              "<p>17000 rows × 10 columns</p>\n",
              "</div>\n",
              "      <button class=\"colab-df-convert\" onclick=\"convertToInteractive('df-22ad7ed8-6f27-406e-a87e-b93d6cf1a315')\"\n",
              "              title=\"Convert this dataframe to an interactive table.\"\n",
              "              style=\"display:none;\">\n",
              "        \n",
              "  <svg xmlns=\"http://www.w3.org/2000/svg\" height=\"24px\"viewBox=\"0 0 24 24\"\n",
              "       width=\"24px\">\n",
              "    <path d=\"M0 0h24v24H0V0z\" fill=\"none\"/>\n",
              "    <path d=\"M18.56 5.44l.94 2.06.94-2.06 2.06-.94-2.06-.94-.94-2.06-.94 2.06-2.06.94zm-11 1L8.5 8.5l.94-2.06 2.06-.94-2.06-.94L8.5 2.5l-.94 2.06-2.06.94zm10 10l.94 2.06.94-2.06 2.06-.94-2.06-.94-.94-2.06-.94 2.06-2.06.94z\"/><path d=\"M17.41 7.96l-1.37-1.37c-.4-.4-.92-.59-1.43-.59-.52 0-1.04.2-1.43.59L10.3 9.45l-7.72 7.72c-.78.78-.78 2.05 0 2.83L4 21.41c.39.39.9.59 1.41.59.51 0 1.02-.2 1.41-.59l7.78-7.78 2.81-2.81c.8-.78.8-2.07 0-2.86zM5.41 20L4 18.59l7.72-7.72 1.47 1.35L5.41 20z\"/>\n",
              "  </svg>\n",
              "      </button>\n",
              "      \n",
              "  <style>\n",
              "    .colab-df-container {\n",
              "      display:flex;\n",
              "      flex-wrap:wrap;\n",
              "      gap: 12px;\n",
              "    }\n",
              "\n",
              "    .colab-df-convert {\n",
              "      background-color: #E8F0FE;\n",
              "      border: none;\n",
              "      border-radius: 50%;\n",
              "      cursor: pointer;\n",
              "      display: none;\n",
              "      fill: #1967D2;\n",
              "      height: 32px;\n",
              "      padding: 0 0 0 0;\n",
              "      width: 32px;\n",
              "    }\n",
              "\n",
              "    .colab-df-convert:hover {\n",
              "      background-color: #E2EBFA;\n",
              "      box-shadow: 0px 1px 2px rgba(60, 64, 67, 0.3), 0px 1px 3px 1px rgba(60, 64, 67, 0.15);\n",
              "      fill: #174EA6;\n",
              "    }\n",
              "\n",
              "    [theme=dark] .colab-df-convert {\n",
              "      background-color: #3B4455;\n",
              "      fill: #D2E3FC;\n",
              "    }\n",
              "\n",
              "    [theme=dark] .colab-df-convert:hover {\n",
              "      background-color: #434B5C;\n",
              "      box-shadow: 0px 1px 3px 1px rgba(0, 0, 0, 0.15);\n",
              "      filter: drop-shadow(0px 1px 2px rgba(0, 0, 0, 0.3));\n",
              "      fill: #FFFFFF;\n",
              "    }\n",
              "  </style>\n",
              "\n",
              "      <script>\n",
              "        const buttonEl =\n",
              "          document.querySelector('#df-22ad7ed8-6f27-406e-a87e-b93d6cf1a315 button.colab-df-convert');\n",
              "        buttonEl.style.display =\n",
              "          google.colab.kernel.accessAllowed ? 'block' : 'none';\n",
              "\n",
              "        async function convertToInteractive(key) {\n",
              "          const element = document.querySelector('#df-22ad7ed8-6f27-406e-a87e-b93d6cf1a315');\n",
              "          const dataTable =\n",
              "            await google.colab.kernel.invokeFunction('convertToInteractive',\n",
              "                                                     [key], {});\n",
              "          if (!dataTable) return;\n",
              "\n",
              "          const docLinkHtml = 'Like what you see? Visit the ' +\n",
              "            '<a target=\"_blank\" href=https://colab.research.google.com/notebooks/data_table.ipynb>data table notebook</a>'\n",
              "            + ' to learn more about interactive tables.';\n",
              "          element.innerHTML = '';\n",
              "          dataTable['output_type'] = 'display_data';\n",
              "          await google.colab.output.renderOutput(dataTable, element);\n",
              "          const docLink = document.createElement('div');\n",
              "          docLink.innerHTML = docLinkHtml;\n",
              "          element.appendChild(docLink);\n",
              "        }\n",
              "      </script>\n",
              "    </div>\n",
              "  </div>\n",
              "  "
            ]
          },
          "metadata": {},
          "execution_count": 87
        }
      ]
    },
    {
      "cell_type": "code",
      "source": [
        "df.query('latitude > 41')"
      ],
      "metadata": {
        "colab": {
          "base_uri": "https://localhost:8080/",
          "height": 424
        },
        "id": "OEJ-1vC3kYSg",
        "outputId": "bac1d05f-9d3d-4865-a0a2-75057ea6471d"
      },
      "execution_count": null,
      "outputs": [
        {
          "output_type": "execute_result",
          "data": {
            "text/plain": [
              "       longitude  latitude  housing_median_age  total_rooms  total_bedrooms  \\\n",
              "10315    -120.08     41.79                34.0       1355.0           262.0   \n",
              "10348    -120.12     41.40                33.0       2820.0           515.0   \n",
              "10620    -120.48     41.82                20.0       1367.0           284.0   \n",
              "10656    -120.55     41.61                22.0       9047.0          1831.0   \n",
              "10935    -120.87     41.54                21.0       1091.0           208.0   \n",
              "...          ...       ...                 ...          ...             ...   \n",
              "16988    -124.21     41.75                20.0       3810.0           787.0   \n",
              "16990    -124.22     41.73                28.0       3003.0           699.0   \n",
              "16991    -124.23     41.75                11.0       3159.0           616.0   \n",
              "16997    -124.30     41.84                17.0       2677.0           531.0   \n",
              "16998    -124.30     41.80                19.0       2672.0           552.0   \n",
              "\n",
              "       population  households  median_income  median_house_value        mult  \n",
              "10315       434.0       178.0         2.0903             56100.0    355010.0  \n",
              "10348       976.0       403.0         2.6062             52600.0   1452300.0  \n",
              "10620       429.0       181.0         2.0227             47500.0    388228.0  \n",
              "10656      4276.0      1622.0         2.0802             47900.0  16565057.0  \n",
              "10935       660.0       188.0         2.2321             34600.0    226928.0  \n",
              "...           ...         ...            ...                 ...         ...  \n",
              "16988      1993.0       721.0         2.0074             66900.0   2998470.0  \n",
              "16990      1530.0       653.0         1.7038             78300.0   2099097.0  \n",
              "16991      1343.0       479.0         2.4805             73200.0   1945944.0  \n",
              "16997      1244.0       456.0         3.0313            103600.0   1421487.0  \n",
              "16998      1298.0       478.0         1.9797             85800.0   1474944.0  \n",
              "\n",
              "[65 rows x 10 columns]"
            ],
            "text/html": [
              "\n",
              "  <div id=\"df-04cf5a18-6517-45cd-8b74-24aac6db74ed\">\n",
              "    <div class=\"colab-df-container\">\n",
              "      <div>\n",
              "<style scoped>\n",
              "    .dataframe tbody tr th:only-of-type {\n",
              "        vertical-align: middle;\n",
              "    }\n",
              "\n",
              "    .dataframe tbody tr th {\n",
              "        vertical-align: top;\n",
              "    }\n",
              "\n",
              "    .dataframe thead th {\n",
              "        text-align: right;\n",
              "    }\n",
              "</style>\n",
              "<table border=\"1\" class=\"dataframe\">\n",
              "  <thead>\n",
              "    <tr style=\"text-align: right;\">\n",
              "      <th></th>\n",
              "      <th>longitude</th>\n",
              "      <th>latitude</th>\n",
              "      <th>housing_median_age</th>\n",
              "      <th>total_rooms</th>\n",
              "      <th>total_bedrooms</th>\n",
              "      <th>population</th>\n",
              "      <th>households</th>\n",
              "      <th>median_income</th>\n",
              "      <th>median_house_value</th>\n",
              "      <th>mult</th>\n",
              "    </tr>\n",
              "  </thead>\n",
              "  <tbody>\n",
              "    <tr>\n",
              "      <th>10315</th>\n",
              "      <td>-120.08</td>\n",
              "      <td>41.79</td>\n",
              "      <td>34.0</td>\n",
              "      <td>1355.0</td>\n",
              "      <td>262.0</td>\n",
              "      <td>434.0</td>\n",
              "      <td>178.0</td>\n",
              "      <td>2.0903</td>\n",
              "      <td>56100.0</td>\n",
              "      <td>355010.0</td>\n",
              "    </tr>\n",
              "    <tr>\n",
              "      <th>10348</th>\n",
              "      <td>-120.12</td>\n",
              "      <td>41.40</td>\n",
              "      <td>33.0</td>\n",
              "      <td>2820.0</td>\n",
              "      <td>515.0</td>\n",
              "      <td>976.0</td>\n",
              "      <td>403.0</td>\n",
              "      <td>2.6062</td>\n",
              "      <td>52600.0</td>\n",
              "      <td>1452300.0</td>\n",
              "    </tr>\n",
              "    <tr>\n",
              "      <th>10620</th>\n",
              "      <td>-120.48</td>\n",
              "      <td>41.82</td>\n",
              "      <td>20.0</td>\n",
              "      <td>1367.0</td>\n",
              "      <td>284.0</td>\n",
              "      <td>429.0</td>\n",
              "      <td>181.0</td>\n",
              "      <td>2.0227</td>\n",
              "      <td>47500.0</td>\n",
              "      <td>388228.0</td>\n",
              "    </tr>\n",
              "    <tr>\n",
              "      <th>10656</th>\n",
              "      <td>-120.55</td>\n",
              "      <td>41.61</td>\n",
              "      <td>22.0</td>\n",
              "      <td>9047.0</td>\n",
              "      <td>1831.0</td>\n",
              "      <td>4276.0</td>\n",
              "      <td>1622.0</td>\n",
              "      <td>2.0802</td>\n",
              "      <td>47900.0</td>\n",
              "      <td>16565057.0</td>\n",
              "    </tr>\n",
              "    <tr>\n",
              "      <th>10935</th>\n",
              "      <td>-120.87</td>\n",
              "      <td>41.54</td>\n",
              "      <td>21.0</td>\n",
              "      <td>1091.0</td>\n",
              "      <td>208.0</td>\n",
              "      <td>660.0</td>\n",
              "      <td>188.0</td>\n",
              "      <td>2.2321</td>\n",
              "      <td>34600.0</td>\n",
              "      <td>226928.0</td>\n",
              "    </tr>\n",
              "    <tr>\n",
              "      <th>...</th>\n",
              "      <td>...</td>\n",
              "      <td>...</td>\n",
              "      <td>...</td>\n",
              "      <td>...</td>\n",
              "      <td>...</td>\n",
              "      <td>...</td>\n",
              "      <td>...</td>\n",
              "      <td>...</td>\n",
              "      <td>...</td>\n",
              "      <td>...</td>\n",
              "    </tr>\n",
              "    <tr>\n",
              "      <th>16988</th>\n",
              "      <td>-124.21</td>\n",
              "      <td>41.75</td>\n",
              "      <td>20.0</td>\n",
              "      <td>3810.0</td>\n",
              "      <td>787.0</td>\n",
              "      <td>1993.0</td>\n",
              "      <td>721.0</td>\n",
              "      <td>2.0074</td>\n",
              "      <td>66900.0</td>\n",
              "      <td>2998470.0</td>\n",
              "    </tr>\n",
              "    <tr>\n",
              "      <th>16990</th>\n",
              "      <td>-124.22</td>\n",
              "      <td>41.73</td>\n",
              "      <td>28.0</td>\n",
              "      <td>3003.0</td>\n",
              "      <td>699.0</td>\n",
              "      <td>1530.0</td>\n",
              "      <td>653.0</td>\n",
              "      <td>1.7038</td>\n",
              "      <td>78300.0</td>\n",
              "      <td>2099097.0</td>\n",
              "    </tr>\n",
              "    <tr>\n",
              "      <th>16991</th>\n",
              "      <td>-124.23</td>\n",
              "      <td>41.75</td>\n",
              "      <td>11.0</td>\n",
              "      <td>3159.0</td>\n",
              "      <td>616.0</td>\n",
              "      <td>1343.0</td>\n",
              "      <td>479.0</td>\n",
              "      <td>2.4805</td>\n",
              "      <td>73200.0</td>\n",
              "      <td>1945944.0</td>\n",
              "    </tr>\n",
              "    <tr>\n",
              "      <th>16997</th>\n",
              "      <td>-124.30</td>\n",
              "      <td>41.84</td>\n",
              "      <td>17.0</td>\n",
              "      <td>2677.0</td>\n",
              "      <td>531.0</td>\n",
              "      <td>1244.0</td>\n",
              "      <td>456.0</td>\n",
              "      <td>3.0313</td>\n",
              "      <td>103600.0</td>\n",
              "      <td>1421487.0</td>\n",
              "    </tr>\n",
              "    <tr>\n",
              "      <th>16998</th>\n",
              "      <td>-124.30</td>\n",
              "      <td>41.80</td>\n",
              "      <td>19.0</td>\n",
              "      <td>2672.0</td>\n",
              "      <td>552.0</td>\n",
              "      <td>1298.0</td>\n",
              "      <td>478.0</td>\n",
              "      <td>1.9797</td>\n",
              "      <td>85800.0</td>\n",
              "      <td>1474944.0</td>\n",
              "    </tr>\n",
              "  </tbody>\n",
              "</table>\n",
              "<p>65 rows × 10 columns</p>\n",
              "</div>\n",
              "      <button class=\"colab-df-convert\" onclick=\"convertToInteractive('df-04cf5a18-6517-45cd-8b74-24aac6db74ed')\"\n",
              "              title=\"Convert this dataframe to an interactive table.\"\n",
              "              style=\"display:none;\">\n",
              "        \n",
              "  <svg xmlns=\"http://www.w3.org/2000/svg\" height=\"24px\"viewBox=\"0 0 24 24\"\n",
              "       width=\"24px\">\n",
              "    <path d=\"M0 0h24v24H0V0z\" fill=\"none\"/>\n",
              "    <path d=\"M18.56 5.44l.94 2.06.94-2.06 2.06-.94-2.06-.94-.94-2.06-.94 2.06-2.06.94zm-11 1L8.5 8.5l.94-2.06 2.06-.94-2.06-.94L8.5 2.5l-.94 2.06-2.06.94zm10 10l.94 2.06.94-2.06 2.06-.94-2.06-.94-.94-2.06-.94 2.06-2.06.94z\"/><path d=\"M17.41 7.96l-1.37-1.37c-.4-.4-.92-.59-1.43-.59-.52 0-1.04.2-1.43.59L10.3 9.45l-7.72 7.72c-.78.78-.78 2.05 0 2.83L4 21.41c.39.39.9.59 1.41.59.51 0 1.02-.2 1.41-.59l7.78-7.78 2.81-2.81c.8-.78.8-2.07 0-2.86zM5.41 20L4 18.59l7.72-7.72 1.47 1.35L5.41 20z\"/>\n",
              "  </svg>\n",
              "      </button>\n",
              "      \n",
              "  <style>\n",
              "    .colab-df-container {\n",
              "      display:flex;\n",
              "      flex-wrap:wrap;\n",
              "      gap: 12px;\n",
              "    }\n",
              "\n",
              "    .colab-df-convert {\n",
              "      background-color: #E8F0FE;\n",
              "      border: none;\n",
              "      border-radius: 50%;\n",
              "      cursor: pointer;\n",
              "      display: none;\n",
              "      fill: #1967D2;\n",
              "      height: 32px;\n",
              "      padding: 0 0 0 0;\n",
              "      width: 32px;\n",
              "    }\n",
              "\n",
              "    .colab-df-convert:hover {\n",
              "      background-color: #E2EBFA;\n",
              "      box-shadow: 0px 1px 2px rgba(60, 64, 67, 0.3), 0px 1px 3px 1px rgba(60, 64, 67, 0.15);\n",
              "      fill: #174EA6;\n",
              "    }\n",
              "\n",
              "    [theme=dark] .colab-df-convert {\n",
              "      background-color: #3B4455;\n",
              "      fill: #D2E3FC;\n",
              "    }\n",
              "\n",
              "    [theme=dark] .colab-df-convert:hover {\n",
              "      background-color: #434B5C;\n",
              "      box-shadow: 0px 1px 3px 1px rgba(0, 0, 0, 0.15);\n",
              "      filter: drop-shadow(0px 1px 2px rgba(0, 0, 0, 0.3));\n",
              "      fill: #FFFFFF;\n",
              "    }\n",
              "  </style>\n",
              "\n",
              "      <script>\n",
              "        const buttonEl =\n",
              "          document.querySelector('#df-04cf5a18-6517-45cd-8b74-24aac6db74ed button.colab-df-convert');\n",
              "        buttonEl.style.display =\n",
              "          google.colab.kernel.accessAllowed ? 'block' : 'none';\n",
              "\n",
              "        async function convertToInteractive(key) {\n",
              "          const element = document.querySelector('#df-04cf5a18-6517-45cd-8b74-24aac6db74ed');\n",
              "          const dataTable =\n",
              "            await google.colab.kernel.invokeFunction('convertToInteractive',\n",
              "                                                     [key], {});\n",
              "          if (!dataTable) return;\n",
              "\n",
              "          const docLinkHtml = 'Like what you see? Visit the ' +\n",
              "            '<a target=\"_blank\" href=https://colab.research.google.com/notebooks/data_table.ipynb>data table notebook</a>'\n",
              "            + ' to learn more about interactive tables.';\n",
              "          element.innerHTML = '';\n",
              "          dataTable['output_type'] = 'display_data';\n",
              "          await google.colab.output.renderOutput(dataTable, element);\n",
              "          const docLink = document.createElement('div');\n",
              "          docLink.innerHTML = docLinkHtml;\n",
              "          element.appendChild(docLink);\n",
              "        }\n",
              "      </script>\n",
              "    </div>\n",
              "  </div>\n",
              "  "
            ]
          },
          "metadata": {},
          "execution_count": 91
        }
      ]
    },
    {
      "cell_type": "code",
      "source": [
        "df.groupby(['housing_median_age']).mean()"
      ],
      "metadata": {
        "colab": {
          "base_uri": "https://localhost:8080/",
          "height": 1000
        },
        "id": "lu0x8z_IoU_L",
        "outputId": "c2697377-bba9-4296-98af-ba00260ee122"
      },
      "execution_count": null,
      "outputs": [
        {
          "output_type": "execute_result",
          "data": {
            "text/plain": [
              "                     longitude   latitude  total_rooms  total_bedrooms  \\\n",
              "housing_median_age                                                       \n",
              "1.0                -121.465000  37.940000  2158.000000      335.500000   \n",
              "2.0                -119.035306  35.410816  5237.102041      871.448980   \n",
              "3.0                -118.798478  35.164783  6920.326087     1190.826087   \n",
              "4.0                -118.805093  34.987764  6065.614907     1068.192547   \n",
              "5.0                -118.789497  35.095327  4926.261307      910.924623   \n",
              "6.0                -118.915969  35.183798  4365.062016      821.550388   \n",
              "7.0                -119.165497  35.627616  5672.907285     1047.350993   \n",
              "8.0                -119.375056  35.785899  4076.786517      779.252809   \n",
              "9.0                -119.324186  35.654942  3813.465116      727.401163   \n",
              "10.0               -119.350841  35.881681  3518.482301      681.508850   \n",
              "11.0               -119.517837  35.930288  3971.105769      768.932692   \n",
              "12.0               -119.405000  35.806458  4216.661458      838.843750   \n",
              "13.0               -119.406586  35.814819  3692.506024      719.670683   \n",
              "14.0               -119.510605  35.905159  3720.348703      719.187320   \n",
              "15.0               -119.471490  35.878341  3283.317308      645.492788   \n",
              "16.0               -119.530094  35.685748  3047.636220      593.274016   \n",
              "17.0               -119.597656  35.907882  3133.967014      634.760417   \n",
              "18.0               -119.640209  35.938054  3098.443515      624.525105   \n",
              "19.0               -119.541820  35.842597  3005.140777      621.519417   \n",
              "20.0               -119.862350  36.136449  2852.334204      601.778068   \n",
              "21.0               -119.560134  35.751635  3134.273458      645.608579   \n",
              "22.0               -119.598266  35.772879  3316.916409      683.736842   \n",
              "23.0               -119.590890  35.718115  2918.803665      584.424084   \n",
              "24.0               -119.344910  35.391054  2894.146530      604.647815   \n",
              "25.0               -119.426898  35.470108  2797.260304      581.260304   \n",
              "26.0               -119.477654  35.507038  2612.409543      523.944334   \n",
              "27.0               -119.708363  35.707128  2577.405542      539.969773   \n",
              "28.0               -119.568050  35.571075  2538.380000      540.707500   \n",
              "29.0               -119.360348  35.427968  2484.064171      528.454545   \n",
              "30.0               -119.499922  35.476120  2346.848958      511.291667   \n",
              "31.0               -119.412865  35.370990  2345.164062      507.812500   \n",
              "32.0               -119.465917  35.472664  2355.899563      489.515284   \n",
              "33.0               -119.394211  35.402378  2205.391813      453.594542   \n",
              "34.0               -119.195714  35.174603  2132.629630      434.989418   \n",
              "35.0               -119.233786  35.163627  1969.802023      404.176301   \n",
              "36.0               -119.232434  35.127972  1845.716084      377.085315   \n",
              "37.0               -119.464371  35.335378  1819.633867      387.194508   \n",
              "38.0               -119.334245  35.325472  1848.987421      402.591195   \n",
              "39.0               -119.621556  35.513146  1886.930464      413.145695   \n",
              "40.0               -119.576386  35.466265  1823.562249      408.236948   \n",
              "41.0               -119.390086  35.316983  1653.521552      375.896552   \n",
              "42.0               -119.480292  35.361169  1750.376623      396.230519   \n",
              "43.0               -119.689301  35.582587  1683.895105      382.811189   \n",
              "44.0               -119.460034  35.276351  1785.672297      382.351351   \n",
              "45.0               -119.668596  35.468979  1790.889362      376.055319   \n",
              "46.0               -119.877755  35.732194  1737.520408      389.678571   \n",
              "47.0               -119.985029  35.843943  1780.457143      388.200000   \n",
              "48.0               -119.837556  35.730222  1777.496296      379.400000   \n",
              "49.0               -120.374324  36.097748  1928.369369      403.855856   \n",
              "50.0               -120.077143  35.900893  1758.937500      394.687500   \n",
              "51.0               -120.593750  36.325938  1871.562500      389.656250   \n",
              "52.0               -120.917253  36.634230  1868.242395      404.811787   \n",
              "\n",
              "                     population   households  median_income  \\\n",
              "housing_median_age                                            \n",
              "1.0                  637.000000   190.000000       4.756800   \n",
              "2.0                 2005.224490   707.122449       5.074237   \n",
              "3.0                 2934.673913  1030.413043       5.572013   \n",
              "4.0                 2739.956522   964.291925       5.196055   \n",
              "5.0                 2456.979899   826.768844       4.732460   \n",
              "6.0                 2111.263566   746.744186       4.463901   \n",
              "7.0                 2705.483444   944.112583       4.368441   \n",
              "8.0                 2055.483146   710.410112       4.412988   \n",
              "9.0                 1866.093023   656.633721       4.357513   \n",
              "10.0                1721.305310   608.703540       4.126004   \n",
              "11.0                2044.067308   693.552885       4.029663   \n",
              "12.0                2145.515625   774.786458       4.003208   \n",
              "13.0                1807.510040   651.341365       4.145092   \n",
              "14.0                1884.657061   650.982709       4.148454   \n",
              "15.0                1634.283654   583.331731       4.003953   \n",
              "16.0                1517.634646   547.962205       4.288458   \n",
              "17.0                1601.041667   578.085069       3.929201   \n",
              "18.0                1606.784519   573.248954       3.954591   \n",
              "19.0                1611.822816   574.444175       3.833244   \n",
              "20.0                1521.451697   552.516971       3.749984   \n",
              "21.0                1642.941019   595.477212       3.870417   \n",
              "22.0                1764.043344   624.907121       3.941335   \n",
              "23.0                1575.429319   545.023560       3.963371   \n",
              "24.0                1616.424165   566.347044       3.921026   \n",
              "25.0                1560.331887   547.249458       4.135890   \n",
              "26.0                1455.495030   493.725646       4.071895   \n",
              "27.0                1394.516373   500.287154       3.859375   \n",
              "28.0                1449.887500   507.377500       3.813176   \n",
              "29.0                1449.810160   493.157754       3.633556   \n",
              "30.0                1426.296875   481.226562       3.580732   \n",
              "31.0                1396.539062   481.695312       3.619995   \n",
              "32.0                1387.150655   461.858079       3.800399   \n",
              "33.0                1289.760234   430.818713       3.862161   \n",
              "34.0                1230.865961   414.296296       3.959488   \n",
              "35.0                1197.741329   387.942197       3.909391   \n",
              "36.0                1088.579021   363.012587       3.973530   \n",
              "37.0                1088.128146   369.331808       3.684131   \n",
              "38.0                1112.138365   379.716981       3.463225   \n",
              "39.0                1143.986755   392.248344       3.395865   \n",
              "40.0                1113.160643   386.775100       3.432734   \n",
              "41.0                1051.616379   354.418103       3.149125   \n",
              "42.0                1132.753247   378.305195       3.447088   \n",
              "43.0                1038.062937   363.178322       3.238897   \n",
              "44.0                1024.442568   360.233108       3.507043   \n",
              "45.0                1007.548936   360.791489       3.739467   \n",
              "46.0                1049.244898   373.387755       3.357832   \n",
              "47.0                1032.531429   365.440000       3.278638   \n",
              "48.0                 963.288889   356.355556       3.526261   \n",
              "49.0                1002.558559   384.531532       3.547657   \n",
              "50.0                 986.705357   367.544643       3.472372   \n",
              "51.0                 950.218750   369.781250       3.670503   \n",
              "52.0                 934.461977   379.792776       3.943037   \n",
              "\n",
              "                    median_house_value          mult  \n",
              "housing_median_age                                    \n",
              "1.0                      190250.000000  7.232890e+05  \n",
              "2.0                      229438.836735  8.552701e+06  \n",
              "3.0                      239450.043478  1.291195e+07  \n",
              "4.0                      230054.105590  1.203939e+07  \n",
              "5.0                      211035.708543  7.643157e+06  \n",
              "6.0                      206768.240310  5.487219e+06  \n",
              "7.0                      188445.059603  9.743747e+06  \n",
              "8.0                      190805.073034  6.289651e+06  \n",
              "9.0                      190306.994186  4.642522e+06  \n",
              "10.0                     178416.393805  4.128750e+06  \n",
              "11.0                     182480.312500  5.714432e+06  \n",
              "12.0                     181590.640625  5.778554e+06  \n",
              "13.0                     188065.473896  3.711209e+06  \n",
              "14.0                     191181.288184  4.290841e+06  \n",
              "15.0                     181031.024038  3.162698e+06  \n",
              "16.0                     200354.507087  2.689659e+06  \n",
              "17.0                     191772.244792  2.931456e+06  \n",
              "18.0                     192074.715481  2.786269e+06  \n",
              "19.0                     196017.752427  2.640037e+06  \n",
              "20.0                     192681.751958  2.600018e+06  \n",
              "21.0                     200918.536193  2.933077e+06  \n",
              "22.0                     213129.173375  3.330422e+06  \n",
              "23.0                     204621.787958  2.313976e+06  \n",
              "24.0                     207293.365039  2.315247e+06  \n",
              "25.0                     223097.223427  2.158941e+06  \n",
              "26.0                     206773.793241  1.756893e+06  \n",
              "27.0                     206728.259446  1.865657e+06  \n",
              "28.0                     210049.812500  1.827150e+06  \n",
              "29.0                     195185.863636  1.731664e+06  \n",
              "30.0                     201559.145833  1.470141e+06  \n",
              "31.0                     208319.851562  1.519482e+06  \n",
              "32.0                     207131.500000  1.491342e+06  \n",
              "33.0                     203922.269006  1.253774e+06  \n",
              "34.0                     213061.615520  1.163132e+06  \n",
              "35.0                     205624.462428  1.021507e+06  \n",
              "36.0                     208262.422378  8.689542e+05  \n",
              "37.0                     209008.299771  8.760540e+05  \n",
              "38.0                     195272.371069  9.551464e+05  \n",
              "39.0                     206718.913907  1.006478e+06  \n",
              "40.0                     205783.594378  9.418425e+05  \n",
              "41.0                     197328.935345  7.478772e+05  \n",
              "42.0                     199635.110390  8.743653e+05  \n",
              "43.0                     194365.779720  7.756966e+05  \n",
              "44.0                     214909.506757  8.389438e+05  \n",
              "45.0                     223464.744681  8.594165e+05  \n",
              "46.0                     198036.260204  8.842470e+05  \n",
              "47.0                     190064.611429  8.203161e+05  \n",
              "48.0                     224665.251852  8.108210e+05  \n",
              "49.0                     220667.612613  9.343043e+05  \n",
              "50.0                     222513.482143  8.218670e+05  \n",
              "51.0                     244850.125000  8.035302e+05  \n",
              "52.0                     277368.200570  9.492530e+05  "
            ],
            "text/html": [
              "\n",
              "  <div id=\"df-4ffc5652-f421-40e5-b7b6-ae6c47bf0e27\">\n",
              "    <div class=\"colab-df-container\">\n",
              "      <div>\n",
              "<style scoped>\n",
              "    .dataframe tbody tr th:only-of-type {\n",
              "        vertical-align: middle;\n",
              "    }\n",
              "\n",
              "    .dataframe tbody tr th {\n",
              "        vertical-align: top;\n",
              "    }\n",
              "\n",
              "    .dataframe thead th {\n",
              "        text-align: right;\n",
              "    }\n",
              "</style>\n",
              "<table border=\"1\" class=\"dataframe\">\n",
              "  <thead>\n",
              "    <tr style=\"text-align: right;\">\n",
              "      <th></th>\n",
              "      <th>longitude</th>\n",
              "      <th>latitude</th>\n",
              "      <th>total_rooms</th>\n",
              "      <th>total_bedrooms</th>\n",
              "      <th>population</th>\n",
              "      <th>households</th>\n",
              "      <th>median_income</th>\n",
              "      <th>median_house_value</th>\n",
              "      <th>mult</th>\n",
              "    </tr>\n",
              "    <tr>\n",
              "      <th>housing_median_age</th>\n",
              "      <th></th>\n",
              "      <th></th>\n",
              "      <th></th>\n",
              "      <th></th>\n",
              "      <th></th>\n",
              "      <th></th>\n",
              "      <th></th>\n",
              "      <th></th>\n",
              "      <th></th>\n",
              "    </tr>\n",
              "  </thead>\n",
              "  <tbody>\n",
              "    <tr>\n",
              "      <th>1.0</th>\n",
              "      <td>-121.465000</td>\n",
              "      <td>37.940000</td>\n",
              "      <td>2158.000000</td>\n",
              "      <td>335.500000</td>\n",
              "      <td>637.000000</td>\n",
              "      <td>190.000000</td>\n",
              "      <td>4.756800</td>\n",
              "      <td>190250.000000</td>\n",
              "      <td>7.232890e+05</td>\n",
              "    </tr>\n",
              "    <tr>\n",
              "      <th>2.0</th>\n",
              "      <td>-119.035306</td>\n",
              "      <td>35.410816</td>\n",
              "      <td>5237.102041</td>\n",
              "      <td>871.448980</td>\n",
              "      <td>2005.224490</td>\n",
              "      <td>707.122449</td>\n",
              "      <td>5.074237</td>\n",
              "      <td>229438.836735</td>\n",
              "      <td>8.552701e+06</td>\n",
              "    </tr>\n",
              "    <tr>\n",
              "      <th>3.0</th>\n",
              "      <td>-118.798478</td>\n",
              "      <td>35.164783</td>\n",
              "      <td>6920.326087</td>\n",
              "      <td>1190.826087</td>\n",
              "      <td>2934.673913</td>\n",
              "      <td>1030.413043</td>\n",
              "      <td>5.572013</td>\n",
              "      <td>239450.043478</td>\n",
              "      <td>1.291195e+07</td>\n",
              "    </tr>\n",
              "    <tr>\n",
              "      <th>4.0</th>\n",
              "      <td>-118.805093</td>\n",
              "      <td>34.987764</td>\n",
              "      <td>6065.614907</td>\n",
              "      <td>1068.192547</td>\n",
              "      <td>2739.956522</td>\n",
              "      <td>964.291925</td>\n",
              "      <td>5.196055</td>\n",
              "      <td>230054.105590</td>\n",
              "      <td>1.203939e+07</td>\n",
              "    </tr>\n",
              "    <tr>\n",
              "      <th>5.0</th>\n",
              "      <td>-118.789497</td>\n",
              "      <td>35.095327</td>\n",
              "      <td>4926.261307</td>\n",
              "      <td>910.924623</td>\n",
              "      <td>2456.979899</td>\n",
              "      <td>826.768844</td>\n",
              "      <td>4.732460</td>\n",
              "      <td>211035.708543</td>\n",
              "      <td>7.643157e+06</td>\n",
              "    </tr>\n",
              "    <tr>\n",
              "      <th>6.0</th>\n",
              "      <td>-118.915969</td>\n",
              "      <td>35.183798</td>\n",
              "      <td>4365.062016</td>\n",
              "      <td>821.550388</td>\n",
              "      <td>2111.263566</td>\n",
              "      <td>746.744186</td>\n",
              "      <td>4.463901</td>\n",
              "      <td>206768.240310</td>\n",
              "      <td>5.487219e+06</td>\n",
              "    </tr>\n",
              "    <tr>\n",
              "      <th>7.0</th>\n",
              "      <td>-119.165497</td>\n",
              "      <td>35.627616</td>\n",
              "      <td>5672.907285</td>\n",
              "      <td>1047.350993</td>\n",
              "      <td>2705.483444</td>\n",
              "      <td>944.112583</td>\n",
              "      <td>4.368441</td>\n",
              "      <td>188445.059603</td>\n",
              "      <td>9.743747e+06</td>\n",
              "    </tr>\n",
              "    <tr>\n",
              "      <th>8.0</th>\n",
              "      <td>-119.375056</td>\n",
              "      <td>35.785899</td>\n",
              "      <td>4076.786517</td>\n",
              "      <td>779.252809</td>\n",
              "      <td>2055.483146</td>\n",
              "      <td>710.410112</td>\n",
              "      <td>4.412988</td>\n",
              "      <td>190805.073034</td>\n",
              "      <td>6.289651e+06</td>\n",
              "    </tr>\n",
              "    <tr>\n",
              "      <th>9.0</th>\n",
              "      <td>-119.324186</td>\n",
              "      <td>35.654942</td>\n",
              "      <td>3813.465116</td>\n",
              "      <td>727.401163</td>\n",
              "      <td>1866.093023</td>\n",
              "      <td>656.633721</td>\n",
              "      <td>4.357513</td>\n",
              "      <td>190306.994186</td>\n",
              "      <td>4.642522e+06</td>\n",
              "    </tr>\n",
              "    <tr>\n",
              "      <th>10.0</th>\n",
              "      <td>-119.350841</td>\n",
              "      <td>35.881681</td>\n",
              "      <td>3518.482301</td>\n",
              "      <td>681.508850</td>\n",
              "      <td>1721.305310</td>\n",
              "      <td>608.703540</td>\n",
              "      <td>4.126004</td>\n",
              "      <td>178416.393805</td>\n",
              "      <td>4.128750e+06</td>\n",
              "    </tr>\n",
              "    <tr>\n",
              "      <th>11.0</th>\n",
              "      <td>-119.517837</td>\n",
              "      <td>35.930288</td>\n",
              "      <td>3971.105769</td>\n",
              "      <td>768.932692</td>\n",
              "      <td>2044.067308</td>\n",
              "      <td>693.552885</td>\n",
              "      <td>4.029663</td>\n",
              "      <td>182480.312500</td>\n",
              "      <td>5.714432e+06</td>\n",
              "    </tr>\n",
              "    <tr>\n",
              "      <th>12.0</th>\n",
              "      <td>-119.405000</td>\n",
              "      <td>35.806458</td>\n",
              "      <td>4216.661458</td>\n",
              "      <td>838.843750</td>\n",
              "      <td>2145.515625</td>\n",
              "      <td>774.786458</td>\n",
              "      <td>4.003208</td>\n",
              "      <td>181590.640625</td>\n",
              "      <td>5.778554e+06</td>\n",
              "    </tr>\n",
              "    <tr>\n",
              "      <th>13.0</th>\n",
              "      <td>-119.406586</td>\n",
              "      <td>35.814819</td>\n",
              "      <td>3692.506024</td>\n",
              "      <td>719.670683</td>\n",
              "      <td>1807.510040</td>\n",
              "      <td>651.341365</td>\n",
              "      <td>4.145092</td>\n",
              "      <td>188065.473896</td>\n",
              "      <td>3.711209e+06</td>\n",
              "    </tr>\n",
              "    <tr>\n",
              "      <th>14.0</th>\n",
              "      <td>-119.510605</td>\n",
              "      <td>35.905159</td>\n",
              "      <td>3720.348703</td>\n",
              "      <td>719.187320</td>\n",
              "      <td>1884.657061</td>\n",
              "      <td>650.982709</td>\n",
              "      <td>4.148454</td>\n",
              "      <td>191181.288184</td>\n",
              "      <td>4.290841e+06</td>\n",
              "    </tr>\n",
              "    <tr>\n",
              "      <th>15.0</th>\n",
              "      <td>-119.471490</td>\n",
              "      <td>35.878341</td>\n",
              "      <td>3283.317308</td>\n",
              "      <td>645.492788</td>\n",
              "      <td>1634.283654</td>\n",
              "      <td>583.331731</td>\n",
              "      <td>4.003953</td>\n",
              "      <td>181031.024038</td>\n",
              "      <td>3.162698e+06</td>\n",
              "    </tr>\n",
              "    <tr>\n",
              "      <th>16.0</th>\n",
              "      <td>-119.530094</td>\n",
              "      <td>35.685748</td>\n",
              "      <td>3047.636220</td>\n",
              "      <td>593.274016</td>\n",
              "      <td>1517.634646</td>\n",
              "      <td>547.962205</td>\n",
              "      <td>4.288458</td>\n",
              "      <td>200354.507087</td>\n",
              "      <td>2.689659e+06</td>\n",
              "    </tr>\n",
              "    <tr>\n",
              "      <th>17.0</th>\n",
              "      <td>-119.597656</td>\n",
              "      <td>35.907882</td>\n",
              "      <td>3133.967014</td>\n",
              "      <td>634.760417</td>\n",
              "      <td>1601.041667</td>\n",
              "      <td>578.085069</td>\n",
              "      <td>3.929201</td>\n",
              "      <td>191772.244792</td>\n",
              "      <td>2.931456e+06</td>\n",
              "    </tr>\n",
              "    <tr>\n",
              "      <th>18.0</th>\n",
              "      <td>-119.640209</td>\n",
              "      <td>35.938054</td>\n",
              "      <td>3098.443515</td>\n",
              "      <td>624.525105</td>\n",
              "      <td>1606.784519</td>\n",
              "      <td>573.248954</td>\n",
              "      <td>3.954591</td>\n",
              "      <td>192074.715481</td>\n",
              "      <td>2.786269e+06</td>\n",
              "    </tr>\n",
              "    <tr>\n",
              "      <th>19.0</th>\n",
              "      <td>-119.541820</td>\n",
              "      <td>35.842597</td>\n",
              "      <td>3005.140777</td>\n",
              "      <td>621.519417</td>\n",
              "      <td>1611.822816</td>\n",
              "      <td>574.444175</td>\n",
              "      <td>3.833244</td>\n",
              "      <td>196017.752427</td>\n",
              "      <td>2.640037e+06</td>\n",
              "    </tr>\n",
              "    <tr>\n",
              "      <th>20.0</th>\n",
              "      <td>-119.862350</td>\n",
              "      <td>36.136449</td>\n",
              "      <td>2852.334204</td>\n",
              "      <td>601.778068</td>\n",
              "      <td>1521.451697</td>\n",
              "      <td>552.516971</td>\n",
              "      <td>3.749984</td>\n",
              "      <td>192681.751958</td>\n",
              "      <td>2.600018e+06</td>\n",
              "    </tr>\n",
              "    <tr>\n",
              "      <th>21.0</th>\n",
              "      <td>-119.560134</td>\n",
              "      <td>35.751635</td>\n",
              "      <td>3134.273458</td>\n",
              "      <td>645.608579</td>\n",
              "      <td>1642.941019</td>\n",
              "      <td>595.477212</td>\n",
              "      <td>3.870417</td>\n",
              "      <td>200918.536193</td>\n",
              "      <td>2.933077e+06</td>\n",
              "    </tr>\n",
              "    <tr>\n",
              "      <th>22.0</th>\n",
              "      <td>-119.598266</td>\n",
              "      <td>35.772879</td>\n",
              "      <td>3316.916409</td>\n",
              "      <td>683.736842</td>\n",
              "      <td>1764.043344</td>\n",
              "      <td>624.907121</td>\n",
              "      <td>3.941335</td>\n",
              "      <td>213129.173375</td>\n",
              "      <td>3.330422e+06</td>\n",
              "    </tr>\n",
              "    <tr>\n",
              "      <th>23.0</th>\n",
              "      <td>-119.590890</td>\n",
              "      <td>35.718115</td>\n",
              "      <td>2918.803665</td>\n",
              "      <td>584.424084</td>\n",
              "      <td>1575.429319</td>\n",
              "      <td>545.023560</td>\n",
              "      <td>3.963371</td>\n",
              "      <td>204621.787958</td>\n",
              "      <td>2.313976e+06</td>\n",
              "    </tr>\n",
              "    <tr>\n",
              "      <th>24.0</th>\n",
              "      <td>-119.344910</td>\n",
              "      <td>35.391054</td>\n",
              "      <td>2894.146530</td>\n",
              "      <td>604.647815</td>\n",
              "      <td>1616.424165</td>\n",
              "      <td>566.347044</td>\n",
              "      <td>3.921026</td>\n",
              "      <td>207293.365039</td>\n",
              "      <td>2.315247e+06</td>\n",
              "    </tr>\n",
              "    <tr>\n",
              "      <th>25.0</th>\n",
              "      <td>-119.426898</td>\n",
              "      <td>35.470108</td>\n",
              "      <td>2797.260304</td>\n",
              "      <td>581.260304</td>\n",
              "      <td>1560.331887</td>\n",
              "      <td>547.249458</td>\n",
              "      <td>4.135890</td>\n",
              "      <td>223097.223427</td>\n",
              "      <td>2.158941e+06</td>\n",
              "    </tr>\n",
              "    <tr>\n",
              "      <th>26.0</th>\n",
              "      <td>-119.477654</td>\n",
              "      <td>35.507038</td>\n",
              "      <td>2612.409543</td>\n",
              "      <td>523.944334</td>\n",
              "      <td>1455.495030</td>\n",
              "      <td>493.725646</td>\n",
              "      <td>4.071895</td>\n",
              "      <td>206773.793241</td>\n",
              "      <td>1.756893e+06</td>\n",
              "    </tr>\n",
              "    <tr>\n",
              "      <th>27.0</th>\n",
              "      <td>-119.708363</td>\n",
              "      <td>35.707128</td>\n",
              "      <td>2577.405542</td>\n",
              "      <td>539.969773</td>\n",
              "      <td>1394.516373</td>\n",
              "      <td>500.287154</td>\n",
              "      <td>3.859375</td>\n",
              "      <td>206728.259446</td>\n",
              "      <td>1.865657e+06</td>\n",
              "    </tr>\n",
              "    <tr>\n",
              "      <th>28.0</th>\n",
              "      <td>-119.568050</td>\n",
              "      <td>35.571075</td>\n",
              "      <td>2538.380000</td>\n",
              "      <td>540.707500</td>\n",
              "      <td>1449.887500</td>\n",
              "      <td>507.377500</td>\n",
              "      <td>3.813176</td>\n",
              "      <td>210049.812500</td>\n",
              "      <td>1.827150e+06</td>\n",
              "    </tr>\n",
              "    <tr>\n",
              "      <th>29.0</th>\n",
              "      <td>-119.360348</td>\n",
              "      <td>35.427968</td>\n",
              "      <td>2484.064171</td>\n",
              "      <td>528.454545</td>\n",
              "      <td>1449.810160</td>\n",
              "      <td>493.157754</td>\n",
              "      <td>3.633556</td>\n",
              "      <td>195185.863636</td>\n",
              "      <td>1.731664e+06</td>\n",
              "    </tr>\n",
              "    <tr>\n",
              "      <th>30.0</th>\n",
              "      <td>-119.499922</td>\n",
              "      <td>35.476120</td>\n",
              "      <td>2346.848958</td>\n",
              "      <td>511.291667</td>\n",
              "      <td>1426.296875</td>\n",
              "      <td>481.226562</td>\n",
              "      <td>3.580732</td>\n",
              "      <td>201559.145833</td>\n",
              "      <td>1.470141e+06</td>\n",
              "    </tr>\n",
              "    <tr>\n",
              "      <th>31.0</th>\n",
              "      <td>-119.412865</td>\n",
              "      <td>35.370990</td>\n",
              "      <td>2345.164062</td>\n",
              "      <td>507.812500</td>\n",
              "      <td>1396.539062</td>\n",
              "      <td>481.695312</td>\n",
              "      <td>3.619995</td>\n",
              "      <td>208319.851562</td>\n",
              "      <td>1.519482e+06</td>\n",
              "    </tr>\n",
              "    <tr>\n",
              "      <th>32.0</th>\n",
              "      <td>-119.465917</td>\n",
              "      <td>35.472664</td>\n",
              "      <td>2355.899563</td>\n",
              "      <td>489.515284</td>\n",
              "      <td>1387.150655</td>\n",
              "      <td>461.858079</td>\n",
              "      <td>3.800399</td>\n",
              "      <td>207131.500000</td>\n",
              "      <td>1.491342e+06</td>\n",
              "    </tr>\n",
              "    <tr>\n",
              "      <th>33.0</th>\n",
              "      <td>-119.394211</td>\n",
              "      <td>35.402378</td>\n",
              "      <td>2205.391813</td>\n",
              "      <td>453.594542</td>\n",
              "      <td>1289.760234</td>\n",
              "      <td>430.818713</td>\n",
              "      <td>3.862161</td>\n",
              "      <td>203922.269006</td>\n",
              "      <td>1.253774e+06</td>\n",
              "    </tr>\n",
              "    <tr>\n",
              "      <th>34.0</th>\n",
              "      <td>-119.195714</td>\n",
              "      <td>35.174603</td>\n",
              "      <td>2132.629630</td>\n",
              "      <td>434.989418</td>\n",
              "      <td>1230.865961</td>\n",
              "      <td>414.296296</td>\n",
              "      <td>3.959488</td>\n",
              "      <td>213061.615520</td>\n",
              "      <td>1.163132e+06</td>\n",
              "    </tr>\n",
              "    <tr>\n",
              "      <th>35.0</th>\n",
              "      <td>-119.233786</td>\n",
              "      <td>35.163627</td>\n",
              "      <td>1969.802023</td>\n",
              "      <td>404.176301</td>\n",
              "      <td>1197.741329</td>\n",
              "      <td>387.942197</td>\n",
              "      <td>3.909391</td>\n",
              "      <td>205624.462428</td>\n",
              "      <td>1.021507e+06</td>\n",
              "    </tr>\n",
              "    <tr>\n",
              "      <th>36.0</th>\n",
              "      <td>-119.232434</td>\n",
              "      <td>35.127972</td>\n",
              "      <td>1845.716084</td>\n",
              "      <td>377.085315</td>\n",
              "      <td>1088.579021</td>\n",
              "      <td>363.012587</td>\n",
              "      <td>3.973530</td>\n",
              "      <td>208262.422378</td>\n",
              "      <td>8.689542e+05</td>\n",
              "    </tr>\n",
              "    <tr>\n",
              "      <th>37.0</th>\n",
              "      <td>-119.464371</td>\n",
              "      <td>35.335378</td>\n",
              "      <td>1819.633867</td>\n",
              "      <td>387.194508</td>\n",
              "      <td>1088.128146</td>\n",
              "      <td>369.331808</td>\n",
              "      <td>3.684131</td>\n",
              "      <td>209008.299771</td>\n",
              "      <td>8.760540e+05</td>\n",
              "    </tr>\n",
              "    <tr>\n",
              "      <th>38.0</th>\n",
              "      <td>-119.334245</td>\n",
              "      <td>35.325472</td>\n",
              "      <td>1848.987421</td>\n",
              "      <td>402.591195</td>\n",
              "      <td>1112.138365</td>\n",
              "      <td>379.716981</td>\n",
              "      <td>3.463225</td>\n",
              "      <td>195272.371069</td>\n",
              "      <td>9.551464e+05</td>\n",
              "    </tr>\n",
              "    <tr>\n",
              "      <th>39.0</th>\n",
              "      <td>-119.621556</td>\n",
              "      <td>35.513146</td>\n",
              "      <td>1886.930464</td>\n",
              "      <td>413.145695</td>\n",
              "      <td>1143.986755</td>\n",
              "      <td>392.248344</td>\n",
              "      <td>3.395865</td>\n",
              "      <td>206718.913907</td>\n",
              "      <td>1.006478e+06</td>\n",
              "    </tr>\n",
              "    <tr>\n",
              "      <th>40.0</th>\n",
              "      <td>-119.576386</td>\n",
              "      <td>35.466265</td>\n",
              "      <td>1823.562249</td>\n",
              "      <td>408.236948</td>\n",
              "      <td>1113.160643</td>\n",
              "      <td>386.775100</td>\n",
              "      <td>3.432734</td>\n",
              "      <td>205783.594378</td>\n",
              "      <td>9.418425e+05</td>\n",
              "    </tr>\n",
              "    <tr>\n",
              "      <th>41.0</th>\n",
              "      <td>-119.390086</td>\n",
              "      <td>35.316983</td>\n",
              "      <td>1653.521552</td>\n",
              "      <td>375.896552</td>\n",
              "      <td>1051.616379</td>\n",
              "      <td>354.418103</td>\n",
              "      <td>3.149125</td>\n",
              "      <td>197328.935345</td>\n",
              "      <td>7.478772e+05</td>\n",
              "    </tr>\n",
              "    <tr>\n",
              "      <th>42.0</th>\n",
              "      <td>-119.480292</td>\n",
              "      <td>35.361169</td>\n",
              "      <td>1750.376623</td>\n",
              "      <td>396.230519</td>\n",
              "      <td>1132.753247</td>\n",
              "      <td>378.305195</td>\n",
              "      <td>3.447088</td>\n",
              "      <td>199635.110390</td>\n",
              "      <td>8.743653e+05</td>\n",
              "    </tr>\n",
              "    <tr>\n",
              "      <th>43.0</th>\n",
              "      <td>-119.689301</td>\n",
              "      <td>35.582587</td>\n",
              "      <td>1683.895105</td>\n",
              "      <td>382.811189</td>\n",
              "      <td>1038.062937</td>\n",
              "      <td>363.178322</td>\n",
              "      <td>3.238897</td>\n",
              "      <td>194365.779720</td>\n",
              "      <td>7.756966e+05</td>\n",
              "    </tr>\n",
              "    <tr>\n",
              "      <th>44.0</th>\n",
              "      <td>-119.460034</td>\n",
              "      <td>35.276351</td>\n",
              "      <td>1785.672297</td>\n",
              "      <td>382.351351</td>\n",
              "      <td>1024.442568</td>\n",
              "      <td>360.233108</td>\n",
              "      <td>3.507043</td>\n",
              "      <td>214909.506757</td>\n",
              "      <td>8.389438e+05</td>\n",
              "    </tr>\n",
              "    <tr>\n",
              "      <th>45.0</th>\n",
              "      <td>-119.668596</td>\n",
              "      <td>35.468979</td>\n",
              "      <td>1790.889362</td>\n",
              "      <td>376.055319</td>\n",
              "      <td>1007.548936</td>\n",
              "      <td>360.791489</td>\n",
              "      <td>3.739467</td>\n",
              "      <td>223464.744681</td>\n",
              "      <td>8.594165e+05</td>\n",
              "    </tr>\n",
              "    <tr>\n",
              "      <th>46.0</th>\n",
              "      <td>-119.877755</td>\n",
              "      <td>35.732194</td>\n",
              "      <td>1737.520408</td>\n",
              "      <td>389.678571</td>\n",
              "      <td>1049.244898</td>\n",
              "      <td>373.387755</td>\n",
              "      <td>3.357832</td>\n",
              "      <td>198036.260204</td>\n",
              "      <td>8.842470e+05</td>\n",
              "    </tr>\n",
              "    <tr>\n",
              "      <th>47.0</th>\n",
              "      <td>-119.985029</td>\n",
              "      <td>35.843943</td>\n",
              "      <td>1780.457143</td>\n",
              "      <td>388.200000</td>\n",
              "      <td>1032.531429</td>\n",
              "      <td>365.440000</td>\n",
              "      <td>3.278638</td>\n",
              "      <td>190064.611429</td>\n",
              "      <td>8.203161e+05</td>\n",
              "    </tr>\n",
              "    <tr>\n",
              "      <th>48.0</th>\n",
              "      <td>-119.837556</td>\n",
              "      <td>35.730222</td>\n",
              "      <td>1777.496296</td>\n",
              "      <td>379.400000</td>\n",
              "      <td>963.288889</td>\n",
              "      <td>356.355556</td>\n",
              "      <td>3.526261</td>\n",
              "      <td>224665.251852</td>\n",
              "      <td>8.108210e+05</td>\n",
              "    </tr>\n",
              "    <tr>\n",
              "      <th>49.0</th>\n",
              "      <td>-120.374324</td>\n",
              "      <td>36.097748</td>\n",
              "      <td>1928.369369</td>\n",
              "      <td>403.855856</td>\n",
              "      <td>1002.558559</td>\n",
              "      <td>384.531532</td>\n",
              "      <td>3.547657</td>\n",
              "      <td>220667.612613</td>\n",
              "      <td>9.343043e+05</td>\n",
              "    </tr>\n",
              "    <tr>\n",
              "      <th>50.0</th>\n",
              "      <td>-120.077143</td>\n",
              "      <td>35.900893</td>\n",
              "      <td>1758.937500</td>\n",
              "      <td>394.687500</td>\n",
              "      <td>986.705357</td>\n",
              "      <td>367.544643</td>\n",
              "      <td>3.472372</td>\n",
              "      <td>222513.482143</td>\n",
              "      <td>8.218670e+05</td>\n",
              "    </tr>\n",
              "    <tr>\n",
              "      <th>51.0</th>\n",
              "      <td>-120.593750</td>\n",
              "      <td>36.325938</td>\n",
              "      <td>1871.562500</td>\n",
              "      <td>389.656250</td>\n",
              "      <td>950.218750</td>\n",
              "      <td>369.781250</td>\n",
              "      <td>3.670503</td>\n",
              "      <td>244850.125000</td>\n",
              "      <td>8.035302e+05</td>\n",
              "    </tr>\n",
              "    <tr>\n",
              "      <th>52.0</th>\n",
              "      <td>-120.917253</td>\n",
              "      <td>36.634230</td>\n",
              "      <td>1868.242395</td>\n",
              "      <td>404.811787</td>\n",
              "      <td>934.461977</td>\n",
              "      <td>379.792776</td>\n",
              "      <td>3.943037</td>\n",
              "      <td>277368.200570</td>\n",
              "      <td>9.492530e+05</td>\n",
              "    </tr>\n",
              "  </tbody>\n",
              "</table>\n",
              "</div>\n",
              "      <button class=\"colab-df-convert\" onclick=\"convertToInteractive('df-4ffc5652-f421-40e5-b7b6-ae6c47bf0e27')\"\n",
              "              title=\"Convert this dataframe to an interactive table.\"\n",
              "              style=\"display:none;\">\n",
              "        \n",
              "  <svg xmlns=\"http://www.w3.org/2000/svg\" height=\"24px\"viewBox=\"0 0 24 24\"\n",
              "       width=\"24px\">\n",
              "    <path d=\"M0 0h24v24H0V0z\" fill=\"none\"/>\n",
              "    <path d=\"M18.56 5.44l.94 2.06.94-2.06 2.06-.94-2.06-.94-.94-2.06-.94 2.06-2.06.94zm-11 1L8.5 8.5l.94-2.06 2.06-.94-2.06-.94L8.5 2.5l-.94 2.06-2.06.94zm10 10l.94 2.06.94-2.06 2.06-.94-2.06-.94-.94-2.06-.94 2.06-2.06.94z\"/><path d=\"M17.41 7.96l-1.37-1.37c-.4-.4-.92-.59-1.43-.59-.52 0-1.04.2-1.43.59L10.3 9.45l-7.72 7.72c-.78.78-.78 2.05 0 2.83L4 21.41c.39.39.9.59 1.41.59.51 0 1.02-.2 1.41-.59l7.78-7.78 2.81-2.81c.8-.78.8-2.07 0-2.86zM5.41 20L4 18.59l7.72-7.72 1.47 1.35L5.41 20z\"/>\n",
              "  </svg>\n",
              "      </button>\n",
              "      \n",
              "  <style>\n",
              "    .colab-df-container {\n",
              "      display:flex;\n",
              "      flex-wrap:wrap;\n",
              "      gap: 12px;\n",
              "    }\n",
              "\n",
              "    .colab-df-convert {\n",
              "      background-color: #E8F0FE;\n",
              "      border: none;\n",
              "      border-radius: 50%;\n",
              "      cursor: pointer;\n",
              "      display: none;\n",
              "      fill: #1967D2;\n",
              "      height: 32px;\n",
              "      padding: 0 0 0 0;\n",
              "      width: 32px;\n",
              "    }\n",
              "\n",
              "    .colab-df-convert:hover {\n",
              "      background-color: #E2EBFA;\n",
              "      box-shadow: 0px 1px 2px rgba(60, 64, 67, 0.3), 0px 1px 3px 1px rgba(60, 64, 67, 0.15);\n",
              "      fill: #174EA6;\n",
              "    }\n",
              "\n",
              "    [theme=dark] .colab-df-convert {\n",
              "      background-color: #3B4455;\n",
              "      fill: #D2E3FC;\n",
              "    }\n",
              "\n",
              "    [theme=dark] .colab-df-convert:hover {\n",
              "      background-color: #434B5C;\n",
              "      box-shadow: 0px 1px 3px 1px rgba(0, 0, 0, 0.15);\n",
              "      filter: drop-shadow(0px 1px 2px rgba(0, 0, 0, 0.3));\n",
              "      fill: #FFFFFF;\n",
              "    }\n",
              "  </style>\n",
              "\n",
              "      <script>\n",
              "        const buttonEl =\n",
              "          document.querySelector('#df-4ffc5652-f421-40e5-b7b6-ae6c47bf0e27 button.colab-df-convert');\n",
              "        buttonEl.style.display =\n",
              "          google.colab.kernel.accessAllowed ? 'block' : 'none';\n",
              "\n",
              "        async function convertToInteractive(key) {\n",
              "          const element = document.querySelector('#df-4ffc5652-f421-40e5-b7b6-ae6c47bf0e27');\n",
              "          const dataTable =\n",
              "            await google.colab.kernel.invokeFunction('convertToInteractive',\n",
              "                                                     [key], {});\n",
              "          if (!dataTable) return;\n",
              "\n",
              "          const docLinkHtml = 'Like what you see? Visit the ' +\n",
              "            '<a target=\"_blank\" href=https://colab.research.google.com/notebooks/data_table.ipynb>data table notebook</a>'\n",
              "            + ' to learn more about interactive tables.';\n",
              "          element.innerHTML = '';\n",
              "          dataTable['output_type'] = 'display_data';\n",
              "          await google.colab.output.renderOutput(dataTable, element);\n",
              "          const docLink = document.createElement('div');\n",
              "          docLink.innerHTML = docLinkHtml;\n",
              "          element.appendChild(docLink);\n",
              "        }\n",
              "      </script>\n",
              "    </div>\n",
              "  </div>\n",
              "  "
            ]
          },
          "metadata": {},
          "execution_count": 95
        }
      ]
    },
    {
      "cell_type": "code",
      "source": [
        "ti=df.groupby(['total_bedrooms','total_rooms']).groups"
      ],
      "metadata": {
        "id": "XtMCzIwyouc9"
      },
      "execution_count": null,
      "outputs": []
    },
    {
      "cell_type": "code",
      "source": [
        "ti"
      ],
      "metadata": {
        "colab": {
          "base_uri": "https://localhost:8080/"
        },
        "id": "lmOJnheaqTUO",
        "outputId": "877c473f-8c31-46f7-9684-48e0971be131"
      },
      "execution_count": null,
      "outputs": [
        {
          "output_type": "execute_result",
          "data": {
            "text/plain": [
              "{(1.0, 8.0): [16309], (2.0, 2.0): [2990], (3.0, 15.0): [15656], (3.0, 18.0): [2907], (3.0, 26.0): [9425], (3.0, 30.0): [1820], (4.0, 12.0): [15369], (4.0, 18.0): [14105], (4.0, 20.0): [12238], (4.0, 28.0): [10911], (4.0, 30.0): [14501], (4.0, 32.0): [13747], (5.0, 15.0): [4502], (5.0, 20.0): [3275], (5.0, 25.0): [1466], (5.0, 50.0): [13531], (6.0, 18.0): [8232], (6.0, 24.0): [2889, 11715], (6.0, 44.0): [15694], (6.0, 48.0): [6030], (7.0, 22.0): [5955], (7.0, 49.0): [9670], (7.0, 56.0): [1559], (7.0, 70.0): [8170], (8.0, 40.0): [4542], (8.0, 48.0): [10356], (9.0, 32.0): [3049], (9.0, 36.0): [5850], (9.0, 50.0): [2159], (9.0, 54.0): [8041, 15735], (9.0, 62.0): [2888], (9.0, 63.0): [2469], (10.0, 40.0): [5027, 9260, 11798], (10.0, 42.0): [288], (10.0, 50.0): [11458], (10.0, 60.0): [10146, 14034], (10.0, 80.0): [2273], (11.0, 11.0): [8188], (11.0, 37.0): [9191], (11.0, 45.0): [862, 3312], (11.0, 55.0): [9678], (11.0, 66.0): [15896], (11.0, 78.0): [606], (12.0, 51.0): [3446], (12.0, 60.0): [11037], (12.0, 63.0): [5565], (12.0, 77.0): [1359], (12.0, 91.0): [13055], (13.0, 52.0): [1059], (14.0, 26.0): [1102], (14.0, 48.0): [6786], (14.0, 84.0): [4382], (15.0, 60.0): [15755], (16.0, 47.0): [5958], (16.0, 52.0): [9552], (16.0, 69.0): [11641], (16.0, 72.0): [8472], (16.0, 80.0): [9128], (16.0, 120.0): [11584], (17.0, 65.0): [14120], (17.0, 67.0): [11957], (17.0, 102.0): [8826, 12338, 16347], (17.0, 118.0): [10797], (18.0, 32.0): [6002], (18.0, 41.0): [16597], (18.0, 55.0): [1380], (18.0, 89.0): [16743], (18.0, 90.0): [11109], (18.0, 96.0): [113], (18.0, 106.0): [15260], (18.0, 108.0): [1447, 10443], (19.0, 89.0): [146], (19.0, 102.0): [10384], (19.0, 152.0): [2065], (20.0, 80.0): [7830], (20.0, 98.0): [15895], (20.0, 109.0): [6187], (20.0, 116.0): [9647], (20.0, 136.0): [11017], (21.0, 64.0): [16344], (21.0, 88.0): [12305], (21.0, 120.0): [16245], (21.0, 123.0): [11793], (22.0, 57.0): [9209], (22.0, 124.0): [2297], (22.0, 175.0): [3630], (23.0, 101.0): [7814], (23.0, 102.0): [11104], (23.0, 138.0): [7650], (23.0, 170.0): [11101], (24.0, 59.0): [6157], (24.0, 94.0): [15696], (24.0, 97.0): [19], (24.0, 98.0): [11422], (25.0, 99.0): [121], (25.0, 121.0): [8821], (25.0, 200.0): [13906], (26.0, 80.0): [6181], (26.0, 111.0): [10354], (26.0, 122.0): [11699], ...}"
            ]
          },
          "metadata": {},
          "execution_count": 105
        }
      ]
    },
    {
      "cell_type": "code",
      "source": [
        "!pip install xlsxwriter"
      ],
      "metadata": {
        "colab": {
          "base_uri": "https://localhost:8080/"
        },
        "id": "PpAljBJewsAL",
        "outputId": "cc4b3322-6ad5-4394-9873-8f121cd59916"
      },
      "execution_count": null,
      "outputs": [
        {
          "output_type": "stream",
          "name": "stdout",
          "text": [
            "Looking in indexes: https://pypi.org/simple, https://us-python.pkg.dev/colab-wheels/public/simple/\n",
            "Collecting xlsxwriter\n",
            "  Downloading XlsxWriter-3.0.7-py3-none-any.whl (152 kB)\n",
            "\u001b[2K     \u001b[90m━━━━━━━━━━━━━━━━━━━━━━━━━━━━━━━━━━━━━━━\u001b[0m \u001b[32m152.8/152.8 KB\u001b[0m \u001b[31m7.1 MB/s\u001b[0m eta \u001b[36m0:00:00\u001b[0m\n",
            "\u001b[?25hInstalling collected packages: xlsxwriter\n",
            "Successfully installed xlsxwriter-3.0.7\n"
          ]
        }
      ]
    },
    {
      "cell_type": "code",
      "source": [
        "import xlsxwriter"
      ],
      "metadata": {
        "id": "4h0k_BTjwyKA"
      },
      "execution_count": null,
      "outputs": []
    },
    {
      "cell_type": "code",
      "source": [
        "df=pd.DataFrame({'Data':[1,2,3,4,5]})\n",
        "writer=pd.ExcelWriter('simple.xlsx',engine='xlsxwriter')\n",
        "df.to_excel(writer,sheet_name='sheet1')\n",
        "writer.close"
      ],
      "metadata": {
        "colab": {
          "base_uri": "https://localhost:8080/"
        },
        "id": "htDgB8pFqcTO",
        "outputId": "0dde3394-a8cb-4775-9a28-a4b6593fbf74"
      },
      "execution_count": null,
      "outputs": [
        {
          "output_type": "execute_result",
          "data": {
            "text/plain": [
              "<bound method ExcelWriter.close of <pandas.io.excel._xlsxwriter.XlsxWriter object at 0x7f091e66fc70>>"
            ]
          },
          "metadata": {},
          "execution_count": 110
        }
      ]
    },
    {
      "cell_type": "code",
      "source": [
        "type(df)"
      ],
      "metadata": {
        "colab": {
          "base_uri": "https://localhost:8080/"
        },
        "id": "ZwyBM51Nxkgj",
        "outputId": "33876947-ac5d-47c1-e912-b9cf4b443662"
      },
      "execution_count": null,
      "outputs": [
        {
          "output_type": "execute_result",
          "data": {
            "text/plain": [
              "pandas.core.frame.DataFrame"
            ]
          },
          "metadata": {},
          "execution_count": 113
        }
      ]
    },
    {
      "cell_type": "code",
      "source": [
        "workbook=writer.book\n",
        "worksheet=writer.sheets['sheet1']"
      ],
      "metadata": {
        "id": "ELYtU4i7xohJ"
      },
      "execution_count": null,
      "outputs": []
    },
    {
      "cell_type": "code",
      "source": [
        "worksheet"
      ],
      "metadata": {
        "colab": {
          "base_uri": "https://localhost:8080/"
        },
        "id": "h29UVSRSw3HL",
        "outputId": "d9ad4dc7-e4f8-4830-bc73-ec3d829a63d7"
      },
      "execution_count": null,
      "outputs": [
        {
          "output_type": "execute_result",
          "data": {
            "text/plain": [
              "<xlsxwriter.worksheet.Worksheet at 0x7f091e7e4100>"
            ]
          },
          "metadata": {},
          "execution_count": 117
        }
      ]
    },
    {
      "cell_type": "code",
      "source": [],
      "metadata": {
        "id": "tKO1cYk6zBTv"
      },
      "execution_count": null,
      "outputs": []
    },
    {
      "cell_type": "code",
      "source": [],
      "metadata": {
        "id": "yZa0KJgPzBXk"
      },
      "execution_count": null,
      "outputs": []
    },
    {
      "cell_type": "code",
      "source": [
        "df.memory_usage()"
      ],
      "metadata": {
        "colab": {
          "base_uri": "https://localhost:8080/"
        },
        "id": "qUwUHf0Zk6DK",
        "outputId": "45032966-e7b1-42d0-ab94-afbefd76fc49"
      },
      "execution_count": null,
      "outputs": [
        {
          "output_type": "execute_result",
          "data": {
            "text/plain": [
              "Index                    128\n",
              "longitude             136000\n",
              "latitude              136000\n",
              "housing_median_age    136000\n",
              "total_rooms           136000\n",
              "total_bedrooms        136000\n",
              "population            136000\n",
              "households            136000\n",
              "median_income         136000\n",
              "median_house_value    136000\n",
              "mult                  136000\n",
              "dtype: int64"
            ]
          },
          "metadata": {},
          "execution_count": 92
        }
      ]
    },
    {
      "cell_type": "code",
      "source": [],
      "metadata": {
        "id": "5EGdeY8jlF1b"
      },
      "execution_count": null,
      "outputs": []
    },
    {
      "cell_type": "code",
      "source": [],
      "metadata": {
        "id": "EbMZt9odkYV6"
      },
      "execution_count": null,
      "outputs": []
    },
    {
      "cell_type": "code",
      "source": [],
      "metadata": {
        "id": "2OM99d8wfYRS"
      },
      "execution_count": null,
      "outputs": []
    },
    {
      "cell_type": "code",
      "source": [],
      "metadata": {
        "id": "IJTmR-R2fWSy"
      },
      "execution_count": null,
      "outputs": []
    },
    {
      "cell_type": "code",
      "source": [],
      "metadata": {
        "id": "ZYGMUs6rfWWc"
      },
      "execution_count": null,
      "outputs": []
    },
    {
      "cell_type": "code",
      "source": [],
      "metadata": {
        "id": "TetNvWRufMOt"
      },
      "execution_count": null,
      "outputs": []
    },
    {
      "cell_type": "code",
      "source": [],
      "metadata": {
        "id": "-Rw-8gHafIYH"
      },
      "execution_count": null,
      "outputs": []
    },
    {
      "cell_type": "code",
      "source": [],
      "metadata": {
        "id": "yzZyu7bvevMj"
      },
      "execution_count": null,
      "outputs": []
    },
    {
      "cell_type": "code",
      "source": [],
      "metadata": {
        "id": "OPR88AzkdlXB"
      },
      "execution_count": null,
      "outputs": []
    },
    {
      "cell_type": "code",
      "source": [],
      "metadata": {
        "id": "RTHuitFhdhIE"
      },
      "execution_count": null,
      "outputs": []
    },
    {
      "cell_type": "code",
      "source": [],
      "metadata": {
        "id": "SJf7GmTscxBh"
      },
      "execution_count": null,
      "outputs": []
    },
    {
      "cell_type": "code",
      "source": [],
      "metadata": {
        "id": "VF0PvGlmbbKy"
      },
      "execution_count": null,
      "outputs": []
    },
    {
      "cell_type": "code",
      "source": [],
      "metadata": {
        "id": "SmBJuQM6bMRQ"
      },
      "execution_count": null,
      "outputs": []
    },
    {
      "metadata": {
        "id": "PGcA5_5__RZm"
      },
      "cell_type": "markdown",
      "source": [
        "### Swap two items"
      ]
    },
    {
      "metadata": {
        "id": "egbXdmQ__UB4",
        "outputId": "439400af-99d2-4d6c-aaac-f16c822bf73e",
        "colab": {
          "base_uri": "https://localhost:8080/",
          "height": 34
        }
      },
      "cell_type": "code",
      "source": [
        "letters[0], letters[1] = letters[1], letters[0]\n",
        "letters"
      ],
      "execution_count": null,
      "outputs": [
        {
          "output_type": "execute_result",
          "data": {
            "text/plain": [
              "['a', 'b', 'c', 'd', 'e', 'f', 'g']"
            ]
          },
          "metadata": {
            "tags": []
          },
          "execution_count": 19
        }
      ]
    },
    {
      "metadata": {
        "id": "RNirVSMaHOp4"
      },
      "cell_type": "markdown",
      "source": [
        "### Removing items from a list"
      ]
    },
    {
      "metadata": {
        "id": "K0ecop0OHXo_"
      },
      "cell_type": "markdown",
      "source": [
        "#### Pop from the end"
      ]
    },
    {
      "metadata": {
        "id": "ZfFG3MZ7HdXa",
        "outputId": "fe842c28-5813-4286-df92-908864af1f53",
        "colab": {
          "base_uri": "https://localhost:8080/",
          "height": 34
        }
      },
      "cell_type": "code",
      "source": [
        "letters = ['a', 'b', 'c', 'd', 'e', 'f']\n",
        "letters.pop()\n",
        "letters"
      ],
      "execution_count": null,
      "outputs": [
        {
          "output_type": "execute_result",
          "data": {
            "text/plain": [
              "['a', 'b', 'c', 'd', 'e']"
            ]
          },
          "metadata": {
            "tags": []
          },
          "execution_count": 20
        }
      ]
    },
    {
      "metadata": {
        "id": "WSm1EhxBH8a2"
      },
      "cell_type": "markdown",
      "source": [
        "#### Pop by index"
      ]
    },
    {
      "metadata": {
        "id": "R62Fg9l4IAYV",
        "outputId": "a6bc87d5-46e8-4383-ced0-e53c67026e43",
        "colab": {
          "base_uri": "https://localhost:8080/",
          "height": 34
        }
      },
      "cell_type": "code",
      "source": [
        "letters.pop(2)\n",
        "letters"
      ],
      "execution_count": null,
      "outputs": [
        {
          "output_type": "execute_result",
          "data": {
            "text/plain": [
              "['a', 'b', 'd', 'e']"
            ]
          },
          "metadata": {
            "tags": []
          },
          "execution_count": 21
        }
      ]
    },
    {
      "metadata": {
        "id": "wDhR89qxIUEh"
      },
      "cell_type": "markdown",
      "source": [
        "#### Remove specific item"
      ]
    },
    {
      "metadata": {
        "id": "cAyAJIeOpYrU",
        "outputId": "60762469-653a-4e89-8ffc-4082273b728e",
        "colab": {
          "base_uri": "https://localhost:8080/",
          "height": 34
        }
      },
      "cell_type": "code",
      "source": [
        "letters.remove('d')\n",
        "letters"
      ],
      "execution_count": null,
      "outputs": [
        {
          "output_type": "execute_result",
          "data": {
            "text/plain": [
              "['a', 'b', 'e']"
            ]
          },
          "metadata": {
            "tags": []
          },
          "execution_count": 22
        }
      ]
    },
    {
      "metadata": {
        "id": "D9_M_6cwUAaX"
      },
      "cell_type": "markdown",
      "source": [
        "### Create tuple using brackets"
      ]
    },
    {
      "metadata": {
        "id": "7Zqb_MU2UEJa",
        "outputId": "0b125537-00c5-4bd2-85d4-3dc130fcf6b7",
        "colab": {
          "base_uri": "https://localhost:8080/",
          "height": 34
        }
      },
      "cell_type": "code",
      "source": [
        "tup = (1, 2, 3)\n",
        "tup"
      ],
      "execution_count": null,
      "outputs": [
        {
          "output_type": "execute_result",
          "data": {
            "text/plain": [
              "(1, 2, 3)"
            ]
          },
          "metadata": {
            "tags": []
          },
          "execution_count": 23
        }
      ]
    },
    {
      "metadata": {
        "id": "ep3XqjhqUIS1"
      },
      "cell_type": "markdown",
      "source": [
        "### Create tuple with commas"
      ]
    },
    {
      "metadata": {
        "id": "Oz8dkzlzUNEe",
        "outputId": "c8b25da2-8291-406f-b3e3-614cb7c06bba",
        "colab": {
          "base_uri": "https://localhost:8080/",
          "height": 34
        }
      },
      "cell_type": "code",
      "source": [
        "tup = 1, 2, 3\n",
        "tup"
      ],
      "execution_count": null,
      "outputs": [
        {
          "output_type": "execute_result",
          "data": {
            "text/plain": [
              "(1, 2, 3)"
            ]
          },
          "metadata": {
            "tags": []
          },
          "execution_count": 24
        }
      ]
    },
    {
      "metadata": {
        "id": "p5Ie15xNUvK-"
      },
      "cell_type": "markdown",
      "source": [
        "### Create empty tuple"
      ]
    },
    {
      "metadata": {
        "id": "6M3eLXfXUxLX",
        "outputId": "83081a8c-9e5b-4a5a-bd3e-248f805e6da7",
        "colab": {
          "base_uri": "https://localhost:8080/",
          "height": 34
        }
      },
      "cell_type": "code",
      "source": [
        "tup = ()\n",
        "tup"
      ],
      "execution_count": null,
      "outputs": [
        {
          "output_type": "execute_result",
          "data": {
            "text/plain": [
              "()"
            ]
          },
          "metadata": {
            "tags": []
          },
          "execution_count": 25
        }
      ]
    },
    {
      "metadata": {
        "id": "0YKr2HU6UzgT"
      },
      "cell_type": "markdown",
      "source": [
        "### Create tuple with single item"
      ]
    },
    {
      "metadata": {
        "id": "9ib336cLU3iu",
        "outputId": "1f47d8eb-ed90-4c0e-d759-e7aa76f4b11d",
        "colab": {
          "base_uri": "https://localhost:8080/",
          "height": 34
        }
      },
      "cell_type": "code",
      "source": [
        "tup = 1,\n",
        "tup"
      ],
      "execution_count": null,
      "outputs": [
        {
          "output_type": "execute_result",
          "data": {
            "text/plain": [
              "(1,)"
            ]
          },
          "metadata": {
            "tags": []
          },
          "execution_count": 28
        }
      ]
    },
    {
      "metadata": {
        "id": "a_eqCY6XTy1x"
      },
      "cell_type": "markdown",
      "source": [
        "### Behaviours shared by lists and tuples\n",
        "The following sequence behaviors are shared by lists and tuples"
      ]
    },
    {
      "metadata": {
        "id": "HpNqX6QFLmdK"
      },
      "cell_type": "markdown",
      "source": [
        "### Check item in sequence"
      ]
    },
    {
      "metadata": {
        "id": "NpIdl5Cfp7-f",
        "outputId": "1f78c614-29a9-42d7-d2da-300df5698dfc",
        "colab": {
          "base_uri": "https://localhost:8080/",
          "height": 34
        }
      },
      "cell_type": "code",
      "source": [
        "3 in (1, 2, 3, 4, 5)"
      ],
      "execution_count": null,
      "outputs": [
        {
          "output_type": "execute_result",
          "data": {
            "text/plain": [
              "True"
            ]
          },
          "metadata": {
            "tags": []
          },
          "execution_count": 29
        }
      ]
    },
    {
      "metadata": {
        "id": "Ms_bF8BjL79W"
      },
      "cell_type": "markdown",
      "source": [
        "### Check item not in sequence"
      ]
    },
    {
      "metadata": {
        "id": "gLXaJE6EMGyb",
        "outputId": "786985a3-a630-4617-a4d3-babd7fca9e77",
        "colab": {
          "base_uri": "https://localhost:8080/",
          "height": 34
        }
      },
      "cell_type": "code",
      "source": [
        "'a' not in [1, 2, 3, 4, 5]"
      ],
      "execution_count": null,
      "outputs": [
        {
          "output_type": "execute_result",
          "data": {
            "text/plain": [
              "True"
            ]
          },
          "metadata": {
            "tags": []
          },
          "execution_count": 30
        }
      ]
    },
    {
      "metadata": {
        "id": "UNKJxMb6Mipn"
      },
      "cell_type": "markdown",
      "source": [
        "### Slicing"
      ]
    },
    {
      "metadata": {
        "id": "r_fLVxRhNWLA"
      },
      "cell_type": "markdown",
      "source": [
        "#### Setting start, slice to the end"
      ]
    },
    {
      "metadata": {
        "id": "098SVCIvsibb",
        "outputId": "8a737bd9-05af-4f95-fdc4-aa882fef47c9",
        "colab": {
          "base_uri": "https://localhost:8080/",
          "height": 34
        }
      },
      "cell_type": "code",
      "source": [
        "letters = 'a', 'b', 'c', 'd', 'e', 'f'\n",
        "letters[3:4]\n"
      ],
      "execution_count": null,
      "outputs": [
        {
          "output_type": "execute_result",
          "data": {
            "text/plain": [
              "('d',)"
            ]
          },
          "metadata": {
            "tags": []
          },
          "execution_count": 32
        }
      ]
    },
    {
      "metadata": {
        "id": "dsNvabgmNeqw"
      },
      "cell_type": "markdown",
      "source": [
        "#### Set end, slice from beginning"
      ]
    },
    {
      "metadata": {
        "id": "QVNJeYVtNh56",
        "outputId": "249d9c60-e20c-4d78-dc02-67b74b17fe17",
        "colab": {
          "base_uri": "https://localhost:8080/",
          "height": 34
        }
      },
      "cell_type": "code",
      "source": [
        "letters[:4]"
      ],
      "execution_count": null,
      "outputs": [
        {
          "output_type": "execute_result",
          "data": {
            "text/plain": [
              "('a', 'b', 'c', 'd')"
            ]
          },
          "metadata": {
            "tags": []
          },
          "execution_count": 33
        }
      ]
    },
    {
      "metadata": {
        "id": "Lrd7HuHnNvIi"
      },
      "cell_type": "markdown",
      "source": [
        "#### Index from end of sequence"
      ]
    },
    {
      "metadata": {
        "id": "9XiynpN9M9V_",
        "outputId": "3b8497e3-1219-496f-ec24-6c99dbd3ff8c",
        "colab": {
          "base_uri": "https://localhost:8080/",
          "height": 34
        }
      },
      "cell_type": "code",
      "source": [
        "letters[-4:]"
      ],
      "execution_count": null,
      "outputs": [
        {
          "output_type": "execute_result",
          "data": {
            "text/plain": [
              "('c', 'd', 'e', 'f')"
            ]
          },
          "metadata": {
            "tags": []
          },
          "execution_count": 34
        }
      ]
    },
    {
      "metadata": {
        "id": "Lzkr-snEOEE9"
      },
      "cell_type": "markdown",
      "source": [
        "#### Setting step"
      ]
    },
    {
      "metadata": {
        "id": "fCzpKpbSOGy-",
        "outputId": "e0ef8366-b712-45ca-fcb7-d3db915adae6",
        "colab": {
          "base_uri": "https://localhost:8080/",
          "height": 34
        }
      },
      "cell_type": "code",
      "source": [
        "letters[1::-2]"
      ],
      "execution_count": null,
      "outputs": [
        {
          "output_type": "execute_result",
          "data": {
            "text/plain": [
              "('b',)"
            ]
          },
          "metadata": {
            "tags": []
          },
          "execution_count": 36
        }
      ]
    },
    {
      "metadata": {
        "id": "IR6wtY_oJlSv"
      },
      "cell_type": "markdown",
      "source": [
        "### Unpacking"
      ]
    },
    {
      "metadata": {
        "id": "iUY-WFVvP82h",
        "outputId": "928e9082-4ac2-4a18-a20f-d369c9e7e713",
        "colab": {
          "base_uri": "https://localhost:8080/",
          "height": 198
        }
      },
      "cell_type": "code",
      "source": [
        "first, middle = [1, 2, 3]\n",
        "\n",
        "f\"first = {first},  middle = {middle},  last = {last}\""
      ],
      "execution_count": null,
      "outputs": [
        {
          "output_type": "error",
          "ename": "ValueError",
          "evalue": "ignored",
          "traceback": [
            "\u001b[0;31m---------------------------------------------------------------------------\u001b[0m",
            "\u001b[0;31mValueError\u001b[0m                                Traceback (most recent call last)",
            "\u001b[0;32m<ipython-input-38-c24a37f354b9>\u001b[0m in \u001b[0;36m<module>\u001b[0;34m()\u001b[0m\n\u001b[0;32m----> 1\u001b[0;31m \u001b[0mfirst\u001b[0m\u001b[0;34m,\u001b[0m \u001b[0mmiddle\u001b[0m \u001b[0;34m=\u001b[0m \u001b[0;34m[\u001b[0m\u001b[0;36m1\u001b[0m\u001b[0;34m,\u001b[0m \u001b[0;36m2\u001b[0m\u001b[0;34m,\u001b[0m \u001b[0;36m3\u001b[0m\u001b[0;34m]\u001b[0m\u001b[0;34m\u001b[0m\u001b[0;34m\u001b[0m\u001b[0m\n\u001b[0m\u001b[1;32m      2\u001b[0m \u001b[0;34m\u001b[0m\u001b[0m\n\u001b[1;32m      3\u001b[0m \u001b[0;34mf\"first = {first},  middle = {middle},  last = {last}\"\u001b[0m\u001b[0;34m\u001b[0m\u001b[0;34m\u001b[0m\u001b[0m\n",
            "\u001b[0;31mValueError\u001b[0m: too many values to unpack (expected 2)"
          ]
        }
      ]
    },
    {
      "metadata": {
        "id": "Ryn60MRRQLhE"
      },
      "cell_type": "markdown",
      "source": [
        "### Extended unpacking"
      ]
    },
    {
      "metadata": {
        "id": "5olgXZcwQOwY",
        "outputId": "1c3babb9-a0b5-4018-cbeb-b5ea287d2e04",
        "colab": {
          "base_uri": "https://localhost:8080/",
          "height": 34
        }
      },
      "cell_type": "code",
      "source": [
        "first, *middle, last = (1, 2, 3, 4, 5)\n",
        "\n",
        "f\"first = {first},  middle = {middle},  last = {last}\""
      ],
      "execution_count": null,
      "outputs": [
        {
          "output_type": "execute_result",
          "data": {
            "text/plain": [
              "'first = 1,  middle = [2, 3, 4],  last = 5'"
            ]
          },
          "metadata": {
            "tags": []
          },
          "execution_count": 42
        }
      ]
    },
    {
      "metadata": {
        "id": "uRwRq8FkSMxF"
      },
      "cell_type": "markdown",
      "source": [
        "### Using list as Stack\n",
        "A stack is a LIFO (last in, first out) data structure which can be simulated using a list"
      ]
    },
    {
      "metadata": {
        "id": "UMhxPw8tV2ot"
      },
      "cell_type": "markdown",
      "source": [
        "#### Push onto the stack using append"
      ]
    },
    {
      "metadata": {
        "id": "47_iDnO6V6ut",
        "outputId": "18c3ccf8-0d66-4681-e576-387985c81f82",
        "colab": {
          "base_uri": "https://localhost:8080/",
          "height": 34
        }
      },
      "cell_type": "code",
      "source": [
        "stack = []\n",
        "stack.append('first on')\n",
        "stack.append('second on')\n",
        "stack.append('third on')\n",
        "stack"
      ],
      "execution_count": null,
      "outputs": [
        {
          "output_type": "execute_result",
          "data": {
            "text/plain": [
              "['first on', 'second on', 'third on']"
            ]
          },
          "metadata": {
            "tags": []
          },
          "execution_count": 43
        }
      ]
    },
    {
      "metadata": {
        "id": "M_wrgcjcWUij"
      },
      "cell_type": "markdown",
      "source": [
        "#### Retrieve items, last one first using **pop**"
      ]
    },
    {
      "metadata": {
        "id": "mY_Wbh9-WZq_",
        "outputId": "b5859dbe-52fb-47b8-b9ed-2f799e45be69",
        "colab": {
          "base_uri": "https://localhost:8080/",
          "height": 34
        }
      },
      "cell_type": "code",
      "source": [
        "f\"Retrieved first: {stack.pop()!r}, retrieved second: {stack.pop()!r}, retrieved last: {stack.pop()!r}\""
      ],
      "execution_count": null,
      "outputs": [
        {
          "output_type": "execute_result",
          "data": {
            "text/plain": [
              "\"Retrieved first: 'third on', retrieved second: 'second on', retrieved last: 'first on'\""
            ]
          },
          "metadata": {
            "tags": []
          },
          "execution_count": 44
        }
      ]
    },
    {
      "metadata": {
        "id": "SxpzGoM_Z_RU"
      },
      "cell_type": "markdown",
      "source": [
        "## 5.2 Explore dictionaries \n",
        "Dictionaries are mappings of key value pairs."
      ]
    },
    {
      "metadata": {
        "id": "l9nWQuW1oLCE"
      },
      "cell_type": "markdown",
      "source": [
        "### Create an empty dict using constructor"
      ]
    },
    {
      "metadata": {
        "id": "45C_FS-eoR-3",
        "outputId": "bd814a64-d7e0-4577-fbe0-46c721330ab1",
        "colab": {
          "base_uri": "https://localhost:8080/",
          "height": 34
        }
      },
      "cell_type": "code",
      "source": [
        "dictionary = {}\n",
        "dictionary"
      ],
      "execution_count": null,
      "outputs": [
        {
          "output_type": "execute_result",
          "data": {
            "text/plain": [
              "{}"
            ]
          },
          "metadata": {
            "tags": []
          },
          "execution_count": 46
        }
      ]
    },
    {
      "metadata": {
        "id": "uwNpFQFGo0C_"
      },
      "cell_type": "markdown",
      "source": [
        "### Create a dictionary based on key/value pairs"
      ]
    },
    {
      "metadata": {
        "id": "VWYvp8peo5ok",
        "outputId": "ef583270-e5dc-4902-a524-696345ff0db1",
        "colab": {
          "base_uri": "https://localhost:8080/",
          "height": 34
        }
      },
      "cell_type": "code",
      "source": [
        "key_values = [['key-1','value-1'], ['key-2', 'value-2']]\n",
        "dictionary = dict(key_values)\n",
        "dictionary"
      ],
      "execution_count": null,
      "outputs": [
        {
          "output_type": "execute_result",
          "data": {
            "text/plain": [
              "{'key-1': 'value-1', 'key-2': 'value-2'}"
            ]
          },
          "metadata": {
            "tags": []
          },
          "execution_count": 47
        }
      ]
    },
    {
      "metadata": {
        "id": "oLd8LV02ofza"
      },
      "cell_type": "markdown",
      "source": [
        "### Create an empty dict using curley braces"
      ]
    },
    {
      "metadata": {
        "id": "El6HcTagolLw",
        "outputId": "696a4405-368b-4113-a0d1-99566e249446",
        "colab": {
          "base_uri": "https://localhost:8080/",
          "height": 34
        }
      },
      "cell_type": "code",
      "source": [
        "dictionary = {}\n",
        "dictionary"
      ],
      "execution_count": null,
      "outputs": [
        {
          "output_type": "execute_result",
          "data": {
            "text/plain": [
              "{}"
            ]
          },
          "metadata": {
            "tags": []
          },
          "execution_count": 48
        }
      ]
    },
    {
      "metadata": {
        "id": "yXNaZRMdpQoK"
      },
      "cell_type": "markdown",
      "source": [
        "### Use curley braces to create a dictionary with initial key/values"
      ]
    },
    {
      "metadata": {
        "id": "oRTWGBtvpYcb",
        "outputId": "922c363f-d506-4eb0-81bb-a7301155bdf7",
        "colab": {
          "base_uri": "https://localhost:8080/",
          "height": 34
        }
      },
      "cell_type": "code",
      "source": [
        "dictionary = {'key-1': 'value-1',\n",
        "              'key-2': 'value-2'}\n",
        "\n",
        "dictionary"
      ],
      "execution_count": null,
      "outputs": [
        {
          "output_type": "execute_result",
          "data": {
            "text/plain": [
              "{'key-1': 'value-1', 'key-2': 'value-2'}"
            ]
          },
          "metadata": {
            "tags": []
          },
          "execution_count": 49
        }
      ]
    },
    {
      "metadata": {
        "id": "vb9aP6o5pv_B"
      },
      "cell_type": "markdown",
      "source": [
        "### Access value using key"
      ]
    },
    {
      "metadata": {
        "id": "3-jz1H8Apzgm",
        "outputId": "3970a9a3-a15c-4a80-a2fc-81ad55cc1717",
        "colab": {
          "base_uri": "https://localhost:8080/",
          "height": 34
        }
      },
      "cell_type": "code",
      "source": [
        "dictionary['key-1']"
      ],
      "execution_count": null,
      "outputs": [
        {
          "output_type": "execute_result",
          "data": {
            "text/plain": [
              "'value-1'"
            ]
          },
          "metadata": {
            "tags": []
          },
          "execution_count": 51
        }
      ]
    },
    {
      "metadata": {
        "id": "UBSLRWEeqE-W"
      },
      "cell_type": "markdown",
      "source": [
        "### Add a key/value pair to an existing dictionary"
      ]
    },
    {
      "metadata": {
        "id": "J98co3mWqJ5I",
        "outputId": "4ec4724f-aeca-48db-d6c9-84fef9a8c849",
        "colab": {
          "base_uri": "https://localhost:8080/",
          "height": 34
        }
      },
      "cell_type": "code",
      "source": [
        "dictionary['key-3'] = 'value-3'\n",
        "\n",
        "dictionary"
      ],
      "execution_count": null,
      "outputs": [
        {
          "output_type": "execute_result",
          "data": {
            "text/plain": [
              "{'key-1': 'value-1', 'key-2': 'value-2', 'key-3': 'value-3'}"
            ]
          },
          "metadata": {
            "tags": []
          },
          "execution_count": 52
        }
      ]
    },
    {
      "metadata": {
        "id": "xmHWK2hHq7c_"
      },
      "cell_type": "markdown",
      "source": [
        "### Update value for existing key"
      ]
    },
    {
      "metadata": {
        "id": "VrV2r-vUq-JV",
        "outputId": "c7960849-de81-461f-eed5-1806f9a01ceb",
        "colab": {
          "base_uri": "https://localhost:8080/",
          "height": 34
        }
      },
      "cell_type": "code",
      "source": [
        "dictionary['key-2'] = 'new-value-2'\n",
        "dictionary['key-2']"
      ],
      "execution_count": null,
      "outputs": [
        {
          "output_type": "execute_result",
          "data": {
            "text/plain": [
              "'new-value-2'"
            ]
          },
          "metadata": {
            "tags": []
          },
          "execution_count": 53
        }
      ]
    },
    {
      "metadata": {
        "id": "_ot60Snlra6K"
      },
      "cell_type": "markdown",
      "source": [
        "### Get keys"
      ]
    },
    {
      "metadata": {
        "id": "Lv726tMhrYnh",
        "outputId": "23089819-c637-4e89-a48e-ee5507b4b550",
        "colab": {
          "base_uri": "https://localhost:8080/",
          "height": 34
        }
      },
      "cell_type": "code",
      "source": [
        "list(dictionary.keys())"
      ],
      "execution_count": null,
      "outputs": [
        {
          "output_type": "execute_result",
          "data": {
            "text/plain": [
              "['key-1', 'key-2', 'key-3']"
            ]
          },
          "metadata": {
            "tags": []
          },
          "execution_count": 55
        }
      ]
    },
    {
      "metadata": {
        "id": "WGJyKhKgrf11"
      },
      "cell_type": "markdown",
      "source": [
        "### Get values"
      ]
    },
    {
      "metadata": {
        "id": "F7F-fNMMrhT5",
        "outputId": "f9ace37c-d4de-450d-b4e3-c6b06790fbd0",
        "colab": {
          "base_uri": "https://localhost:8080/",
          "height": 34
        }
      },
      "cell_type": "code",
      "source": [
        "dictionary.values()"
      ],
      "execution_count": null,
      "outputs": [
        {
          "output_type": "execute_result",
          "data": {
            "text/plain": [
              "dict_values(['value-1', 'new-value-2', 'value-3'])"
            ]
          },
          "metadata": {
            "tags": []
          },
          "execution_count": 56
        }
      ]
    },
    {
      "metadata": {
        "id": "tCpdFg8JrqKM"
      },
      "cell_type": "markdown",
      "source": [
        "### Get iterable keys and items"
      ]
    },
    {
      "metadata": {
        "id": "0dZRJamArlLg",
        "outputId": "1d43a628-2f5e-4d4e-c179-b7cbc2373c37",
        "colab": {
          "base_uri": "https://localhost:8080/",
          "height": 34
        }
      },
      "cell_type": "code",
      "source": [
        "dictionary.items()"
      ],
      "execution_count": null,
      "outputs": [
        {
          "output_type": "execute_result",
          "data": {
            "text/plain": [
              "dict_items([('key-1', 'value-1'), ('key-2', 'new-value-2'), ('key-3', 'value-3')])"
            ]
          },
          "metadata": {
            "tags": []
          },
          "execution_count": 57
        }
      ]
    },
    {
      "metadata": {
        "id": "Cvk5OCmQrvkd"
      },
      "cell_type": "markdown",
      "source": [
        "### Use items in for loop"
      ]
    },
    {
      "metadata": {
        "id": "bzYEfTEWrxno",
        "outputId": "b8b1427b-7eb0-4f4c-c36c-3b526d9a09dd",
        "colab": {
          "base_uri": "https://localhost:8080/",
          "height": 68
        }
      },
      "cell_type": "code",
      "source": [
        "for key, value in dictionary.items():\n",
        "  print(f\"{key}: {value}\")"
      ],
      "execution_count": null,
      "outputs": [
        {
          "output_type": "stream",
          "text": [
            "key-1: value-1\n",
            "key-2: new-value-2\n",
            "key-3: value-3\n"
          ],
          "name": "stdout"
        }
      ]
    },
    {
      "metadata": {
        "id": "9fqITS30sJC6"
      },
      "cell_type": "markdown",
      "source": [
        "### Check if dictionary has key\n",
        "The 'in' syntax we used with sequences checks the dicts keys for membership."
      ]
    },
    {
      "metadata": {
        "id": "c1XdFLXNsWVq",
        "outputId": "fc5b766b-be93-4d8f-95e0-fd17f981bee0",
        "colab": {
          "base_uri": "https://localhost:8080/",
          "height": 34
        }
      },
      "cell_type": "code",
      "source": [
        "'key-5' in dictionary"
      ],
      "execution_count": null,
      "outputs": [
        {
          "output_type": "execute_result",
          "data": {
            "text/plain": [
              "False"
            ]
          },
          "metadata": {
            "tags": []
          },
          "execution_count": 60
        }
      ]
    },
    {
      "metadata": {
        "id": "G4Z2Pk3VsyUJ"
      },
      "cell_type": "markdown",
      "source": [
        "### Get method"
      ]
    },
    {
      "metadata": {
        "id": "FnHIgV8_s1eQ",
        "outputId": "50b29063-b0c2-44b8-bd97-4b1da21282a7",
        "colab": {
          "base_uri": "https://localhost:8080/",
          "height": 34
        }
      },
      "cell_type": "code",
      "source": [
        "dictionary.get(\"bad key\", \"default value\")"
      ],
      "execution_count": null,
      "outputs": [
        {
          "output_type": "execute_result",
          "data": {
            "text/plain": [
              "'default value'"
            ]
          },
          "metadata": {
            "tags": []
          },
          "execution_count": 64
        }
      ]
    },
    {
      "metadata": {
        "id": "YmWqelbJthVB"
      },
      "cell_type": "markdown",
      "source": [
        "### Remove item"
      ]
    },
    {
      "metadata": {
        "id": "tOLuWnHEtkjT",
        "outputId": "e90cf788-09a9-4e0a-9231-b29f8c070fab",
        "colab": {
          "base_uri": "https://localhost:8080/",
          "height": 34
        }
      },
      "cell_type": "code",
      "source": [
        "del(dictionary['key-1'])\n",
        "dictionary"
      ],
      "execution_count": null,
      "outputs": [
        {
          "output_type": "execute_result",
          "data": {
            "text/plain": [
              "{'key-2': 'new-value-2', 'key-3': 'value-3'}"
            ]
          },
          "metadata": {
            "tags": []
          },
          "execution_count": 65
        }
      ]
    },
    {
      "metadata": {
        "id": "AnFGTgxCiZnk"
      },
      "cell_type": "markdown",
      "source": [
        "### Keys must be immutable"
      ]
    },
    {
      "metadata": {
        "id": "rnKNsxuZinvy"
      },
      "cell_type": "markdown",
      "source": [
        "#### List as key\n",
        "Lists are mutable and not hashable"
      ]
    },
    {
      "metadata": {
        "id": "16t9F7PPipo4",
        "outputId": "ad113919-80cc-44cd-cc76-ad1d252dde27",
        "colab": {
          "base_uri": "https://localhost:8080/",
          "height": 198
        }
      },
      "cell_type": "code",
      "source": [
        "items = ['item-1', 'item-2', 'item-3']\n",
        "\n",
        "map = {}\n",
        "\n",
        "map[items] = \"some-value\""
      ],
      "execution_count": null,
      "outputs": [
        {
          "output_type": "error",
          "ename": "TypeError",
          "evalue": "ignored",
          "traceback": [
            "\u001b[0;31m---------------------------------------------------------------------------\u001b[0m",
            "\u001b[0;31mTypeError\u001b[0m                                 Traceback (most recent call last)",
            "\u001b[0;32m<ipython-input-66-25faa77a670a>\u001b[0m in \u001b[0;36m<module>\u001b[0;34m()\u001b[0m\n\u001b[1;32m      3\u001b[0m \u001b[0mmap\u001b[0m \u001b[0;34m=\u001b[0m \u001b[0;34m{\u001b[0m\u001b[0;34m}\u001b[0m\u001b[0;34m\u001b[0m\u001b[0;34m\u001b[0m\u001b[0m\n\u001b[1;32m      4\u001b[0m \u001b[0;34m\u001b[0m\u001b[0m\n\u001b[0;32m----> 5\u001b[0;31m \u001b[0mmap\u001b[0m\u001b[0;34m[\u001b[0m\u001b[0mitems\u001b[0m\u001b[0;34m]\u001b[0m \u001b[0;34m=\u001b[0m \u001b[0;34m\"some-value\"\u001b[0m\u001b[0;34m\u001b[0m\u001b[0;34m\u001b[0m\u001b[0m\n\u001b[0m",
            "\u001b[0;31mTypeError\u001b[0m: unhashable type: 'list'"
          ]
        }
      ]
    },
    {
      "metadata": {
        "id": "_9vXIamIjLER"
      },
      "cell_type": "markdown",
      "source": [
        "#### Tuple as a key\n",
        "Tuples are immutable and hence hashable"
      ]
    },
    {
      "metadata": {
        "id": "K2pFCFu3jNRM",
        "outputId": "5e1fc13f-b76f-45d5-9fff-359f6199972e",
        "colab": {
          "base_uri": "https://localhost:8080/",
          "height": 34
        }
      },
      "cell_type": "code",
      "source": [
        "items = 'item-1', 'item-2', 'item-3'\n",
        "map = {}\n",
        "map[items] = \"some-value\"\n",
        "\n",
        "map"
      ],
      "execution_count": null,
      "outputs": [
        {
          "output_type": "execute_result",
          "data": {
            "text/plain": [
              "{('item-1', 'item-2', 'item-3'): 'some-value'}"
            ]
          },
          "metadata": {
            "tags": []
          },
          "execution_count": 67
        }
      ]
    },
    {
      "metadata": {
        "id": "Y1rOvrTSaCnA"
      },
      "cell_type": "markdown",
      "source": [
        "## 5.3 Dive into sets"
      ]
    },
    {
      "metadata": {
        "id": "_Bu_DUont1Ks"
      },
      "cell_type": "markdown",
      "source": [
        "### Create set from tuple or list"
      ]
    },
    {
      "metadata": {
        "id": "epPCLrckt4Zy",
        "outputId": "df768aae-5c29-492b-a444-d60735fb0f36",
        "colab": {
          "base_uri": "https://localhost:8080/",
          "height": 34
        }
      },
      "cell_type": "code",
      "source": [
        "letters = 'a', 'a', 'a', 'b', 'c'\n",
        "unique_letters = set(letters)\n",
        "unique_letters"
      ],
      "execution_count": null,
      "outputs": [
        {
          "output_type": "execute_result",
          "data": {
            "text/plain": [
              "{'a', 'b', 'c'}"
            ]
          },
          "metadata": {
            "tags": []
          },
          "execution_count": 68
        }
      ]
    },
    {
      "metadata": {
        "id": "qnQHMNCRuebg"
      },
      "cell_type": "markdown",
      "source": [
        "### Create set from a string"
      ]
    },
    {
      "metadata": {
        "id": "IRsuJBVC_ORB",
        "outputId": "ffca987d-0534-4e4f-d660-24318b4c2795",
        "colab": {
          "base_uri": "https://localhost:8080/",
          "height": 34
        }
      },
      "cell_type": "code",
      "source": [
        "unique_chars = set('mississippi')\n",
        "unique_chars"
      ],
      "execution_count": null,
      "outputs": [
        {
          "output_type": "execute_result",
          "data": {
            "text/plain": [
              "{'i', 'm', 'p', 's'}"
            ]
          },
          "metadata": {
            "tags": []
          },
          "execution_count": 69
        }
      ]
    },
    {
      "metadata": {
        "id": "LUJyjEh1uzrv"
      },
      "cell_type": "markdown",
      "source": [
        "### Create set using curley braces"
      ]
    },
    {
      "metadata": {
        "id": "afYk3yfTu3Pt",
        "outputId": "8fc66ae0-c16c-45e0-d684-41757f68ee81",
        "colab": {
          "base_uri": "https://localhost:8080/",
          "height": 34
        }
      },
      "cell_type": "code",
      "source": [
        "unique_num = {1, 1, 2, 3, 4, 5, 5}\n",
        "unique_num"
      ],
      "execution_count": null,
      "outputs": [
        {
          "output_type": "execute_result",
          "data": {
            "text/plain": [
              "{1, 2, 3, 4, 5}"
            ]
          },
          "metadata": {
            "tags": []
          },
          "execution_count": 70
        }
      ]
    },
    {
      "metadata": {
        "id": "jDMYvC0avu_C"
      },
      "cell_type": "markdown",
      "source": [
        "### Adding to a set"
      ]
    },
    {
      "metadata": {
        "id": "hoZ7hcrBvwtc",
        "outputId": "1585f6f0-3122-480e-a69a-022460b0fbc7",
        "colab": {
          "base_uri": "https://localhost:8080/",
          "height": 34
        }
      },
      "cell_type": "code",
      "source": [
        "unique_num.add(6)\n",
        "unique_num"
      ],
      "execution_count": null,
      "outputs": [
        {
          "output_type": "execute_result",
          "data": {
            "text/plain": [
              "{1, 2, 3, 4, 5, 6}"
            ]
          },
          "metadata": {
            "tags": []
          },
          "execution_count": 72
        }
      ]
    },
    {
      "metadata": {
        "id": "o-UWnVB7v8yb"
      },
      "cell_type": "markdown",
      "source": [
        "### Popping from a set\n",
        "Pop method removes and returns a random element of the set"
      ]
    },
    {
      "metadata": {
        "id": "e9xWJPXnwF4s",
        "outputId": "3d0bc7f2-3dda-4738-975b-011d09f8ec7f",
        "colab": {
          "base_uri": "https://localhost:8080/",
          "height": 34
        }
      },
      "cell_type": "code",
      "source": [
        "unique_num.pop()"
      ],
      "execution_count": null,
      "outputs": [
        {
          "output_type": "execute_result",
          "data": {
            "text/plain": [
              "2"
            ]
          },
          "metadata": {
            "tags": []
          },
          "execution_count": 74
        }
      ]
    },
    {
      "metadata": {
        "id": "VJjl2Fv9vLOl"
      },
      "cell_type": "markdown",
      "source": [
        "### Indexing\n",
        "Sets have no order, and hence cannot be accessed via indexing"
      ]
    },
    {
      "metadata": {
        "id": "vxPCJWJOvShU",
        "outputId": "8bd70eb2-1c1d-4b64-f23b-dcf278c4a29f",
        "colab": {
          "base_uri": "https://localhost:8080/",
          "height": 164
        }
      },
      "cell_type": "code",
      "source": [
        "unique_num[4]"
      ],
      "execution_count": null,
      "outputs": [
        {
          "output_type": "error",
          "ename": "TypeError",
          "evalue": "ignored",
          "traceback": [
            "\u001b[0;31m---------------------------------------------------------------------------\u001b[0m",
            "\u001b[0;31mTypeError\u001b[0m                                 Traceback (most recent call last)",
            "\u001b[0;32m<ipython-input-75-c928415e5703>\u001b[0m in \u001b[0;36m<module>\u001b[0;34m()\u001b[0m\n\u001b[0;32m----> 1\u001b[0;31m \u001b[0munique_num\u001b[0m\u001b[0;34m[\u001b[0m\u001b[0;36m4\u001b[0m\u001b[0;34m]\u001b[0m\u001b[0;34m\u001b[0m\u001b[0;34m\u001b[0m\u001b[0m\n\u001b[0m",
            "\u001b[0;31mTypeError\u001b[0m: 'set' object does not support indexing"
          ]
        }
      ]
    },
    {
      "metadata": {
        "id": "TQyoEjgivjA3"
      },
      "cell_type": "markdown",
      "source": [
        "### Checking membership"
      ]
    },
    {
      "metadata": {
        "id": "3zOvkWX6vlf2",
        "outputId": "020d8aef-4a5a-45fc-da0c-8e5a74240487",
        "colab": {
          "base_uri": "https://localhost:8080/",
          "height": 34
        }
      },
      "cell_type": "code",
      "source": [
        "3 in unique_num"
      ],
      "execution_count": null,
      "outputs": [
        {
          "output_type": "execute_result",
          "data": {
            "text/plain": [
              "True"
            ]
          },
          "metadata": {
            "tags": []
          },
          "execution_count": 76
        }
      ]
    },
    {
      "metadata": {
        "id": "6ph_k8RUweYA"
      },
      "cell_type": "markdown",
      "source": [
        "### Set operations"
      ]
    },
    {
      "metadata": {
        "id": "7EfN4R5xwmXM"
      },
      "cell_type": "code",
      "source": [
        "s1 = { 1 ,2 ,3 ,4, 5, 6, 7}\n",
        "s2 = { 0, 2, 4, 6, 8 }"
      ],
      "execution_count": null,
      "outputs": []
    },
    {
      "metadata": {
        "id": "RAG3ATbtwtwm"
      },
      "cell_type": "markdown",
      "source": [
        "#### Items in first set, but not in the second"
      ]
    },
    {
      "metadata": {
        "id": "kCfxlj9Lwz1x",
        "outputId": "3c3b92ad-959b-46bf-ecb0-2513886923b9",
        "colab": {
          "base_uri": "https://localhost:8080/",
          "height": 34
        }
      },
      "cell_type": "code",
      "source": [
        "s1 - s2"
      ],
      "execution_count": null,
      "outputs": [
        {
          "output_type": "execute_result",
          "data": {
            "text/plain": [
              "{1, 3, 5, 7}"
            ]
          },
          "metadata": {
            "tags": []
          },
          "execution_count": 78
        }
      ]
    },
    {
      "metadata": {
        "id": "KDA6bO1Vw8Bk"
      },
      "cell_type": "markdown",
      "source": [
        "#### Items in either or both sets"
      ]
    },
    {
      "metadata": {
        "id": "a-1CBUnRw-y-",
        "outputId": "584219f7-80ba-4e24-f3ec-b833428bfc87",
        "colab": {
          "base_uri": "https://localhost:8080/",
          "height": 34
        }
      },
      "cell_type": "code",
      "source": [
        "s1 | s2"
      ],
      "execution_count": null,
      "outputs": [
        {
          "output_type": "execute_result",
          "data": {
            "text/plain": [
              "{0, 1, 2, 3, 4, 5, 6, 7, 8}"
            ]
          },
          "metadata": {
            "tags": []
          },
          "execution_count": 79
        }
      ]
    },
    {
      "metadata": {
        "id": "ADEQBlFrxIN7"
      },
      "cell_type": "markdown",
      "source": [
        "#### Items in both sets"
      ]
    },
    {
      "metadata": {
        "id": "IIudbePtxRkR",
        "outputId": "ad5fcea8-8b15-467d-a895-c11e4caa8609",
        "colab": {
          "base_uri": "https://localhost:8080/",
          "height": 34
        }
      },
      "cell_type": "code",
      "source": [
        "s1 & s2"
      ],
      "execution_count": null,
      "outputs": [
        {
          "output_type": "execute_result",
          "data": {
            "text/plain": [
              "{2, 4, 6}"
            ]
          },
          "metadata": {
            "tags": []
          },
          "execution_count": 80
        }
      ]
    },
    {
      "metadata": {
        "id": "742awPXgxat5"
      },
      "cell_type": "markdown",
      "source": [
        "#### Items in either set, but not both"
      ]
    },
    {
      "metadata": {
        "id": "03UonZ9G_jDc",
        "outputId": "b06f2369-fd8f-42a3-befb-d9af998f7076",
        "colab": {
          "base_uri": "https://localhost:8080/",
          "height": 34
        }
      },
      "cell_type": "code",
      "source": [
        "s1 ^ s2"
      ],
      "execution_count": null,
      "outputs": [
        {
          "output_type": "execute_result",
          "data": {
            "text/plain": [
              "{0, 1, 3, 5, 7, 8}"
            ]
          },
          "metadata": {
            "tags": []
          },
          "execution_count": 81
        }
      ]
    },
    {
      "metadata": {
        "id": "y-xMLy31aHaZ"
      },
      "cell_type": "markdown",
      "source": [
        "## 5.4 Work with the numpy array\n"
      ]
    },
    {
      "metadata": {
        "id": "0yTnd14-HasX"
      },
      "cell_type": "markdown",
      "source": [
        "Numpy is an opened source numerical computing libary for python. The numpy array is a datastructure representing multidimension arrays which is optimized for both memory and performance."
      ]
    },
    {
      "metadata": {
        "id": "W7mqP9swyh5d"
      },
      "cell_type": "markdown",
      "source": [
        "### Create a numpy array from a list of lists"
      ]
    },
    {
      "metadata": {
        "id": "NOAicBI_ynGz",
        "outputId": "188d1747-f144-47ea-b9d6-887b3b1e88d8",
        "colab": {
          "base_uri": "https://localhost:8080/",
          "height": 85
        }
      },
      "cell_type": "code",
      "source": [
        "import numpy as np\n",
        "list_of_lists = [[1, 2, 3, 4], [5, 6, 7, 8], [9, 10, 11, 12], [13, 14, 15, 16]]\n",
        "\n",
        "np_array = np.array(list_of_lists)\n",
        "\n",
        "np_array"
      ],
      "execution_count": null,
      "outputs": [
        {
          "output_type": "execute_result",
          "data": {
            "text/plain": [
              "array([[ 1,  2,  3,  4],\n",
              "       [ 5,  6,  7,  8],\n",
              "       [ 9, 10, 11, 12],\n",
              "       [13, 14, 15, 16]])"
            ]
          },
          "metadata": {
            "tags": []
          },
          "execution_count": 82
        }
      ]
    },
    {
      "metadata": {
        "id": "0eHeRfdAyzTY"
      },
      "cell_type": "markdown",
      "source": [
        "### Initialize an array of zeros"
      ]
    },
    {
      "metadata": {
        "id": "1BoLJ2XYy2op",
        "outputId": "9945a4a2-28ed-4775-860d-999f4a1c4d54",
        "colab": {
          "base_uri": "https://localhost:8080/",
          "height": 85
        }
      },
      "cell_type": "code",
      "source": [
        "zeros_array = np.zeros( (4, 5) )\n",
        "zeros_array"
      ],
      "execution_count": null,
      "outputs": [
        {
          "output_type": "execute_result",
          "data": {
            "text/plain": [
              "array([[0., 0., 0., 0., 0.],\n",
              "       [0., 0., 0., 0., 0.],\n",
              "       [0., 0., 0., 0., 0.],\n",
              "       [0., 0., 0., 0., 0.]])"
            ]
          },
          "metadata": {
            "tags": []
          },
          "execution_count": 83
        }
      ]
    },
    {
      "metadata": {
        "id": "92DsgsVSzC2T"
      },
      "cell_type": "markdown",
      "source": [
        "### Initialize and array of ones"
      ]
    },
    {
      "metadata": {
        "id": "F_TWC3z6zYA2",
        "outputId": "2d7317b1-5b89-44b5-844d-ceec8b50ff86",
        "colab": {
          "base_uri": "https://localhost:8080/",
          "height": 119
        }
      },
      "cell_type": "code",
      "source": [
        "ones_array = np.ones( (6, 6) )\n",
        "ones_array"
      ],
      "execution_count": null,
      "outputs": [
        {
          "output_type": "execute_result",
          "data": {
            "text/plain": [
              "array([[1., 1., 1., 1., 1., 1.],\n",
              "       [1., 1., 1., 1., 1., 1.],\n",
              "       [1., 1., 1., 1., 1., 1.],\n",
              "       [1., 1., 1., 1., 1., 1.],\n",
              "       [1., 1., 1., 1., 1., 1.],\n",
              "       [1., 1., 1., 1., 1., 1.]])"
            ]
          },
          "metadata": {
            "tags": []
          },
          "execution_count": 84
        }
      ]
    },
    {
      "metadata": {
        "id": "aHaTMcOIzk1_"
      },
      "cell_type": "markdown",
      "source": [
        "### Using arrange"
      ]
    },
    {
      "metadata": {
        "id": "s2W1mGqkzt7O",
        "outputId": "ee90b952-d931-453c-9f60-d44c8801feed",
        "colab": {
          "base_uri": "https://localhost:8080/",
          "height": 34
        }
      },
      "cell_type": "code",
      "source": [
        "nine = np.arange( 9 )\n",
        "nine"
      ],
      "execution_count": null,
      "outputs": [
        {
          "output_type": "execute_result",
          "data": {
            "text/plain": [
              "array([0, 1, 2, 3, 4, 5, 6, 7, 8])"
            ]
          },
          "metadata": {
            "tags": []
          },
          "execution_count": 85
        }
      ]
    },
    {
      "metadata": {
        "id": "Ejoa6qiszx-O"
      },
      "cell_type": "markdown",
      "source": [
        "### Using reshape"
      ]
    },
    {
      "metadata": {
        "id": "RgJ6ZfVfOm6R",
        "outputId": "67f363e4-a9cd-477f-9ed1-6165d9fd3ac5",
        "colab": {
          "base_uri": "https://localhost:8080/",
          "height": 68
        }
      },
      "cell_type": "code",
      "source": [
        "nine.reshape(3,3)"
      ],
      "execution_count": null,
      "outputs": [
        {
          "output_type": "execute_result",
          "data": {
            "text/plain": [
              "array([[0, 1, 2],\n",
              "       [3, 4, 5],\n",
              "       [6, 7, 8]])"
            ]
          },
          "metadata": {
            "tags": []
          },
          "execution_count": 86
        }
      ]
    },
    {
      "metadata": {
        "id": "lB_e_dbx03bL"
      },
      "cell_type": "markdown",
      "source": [
        "### Introspection"
      ]
    },
    {
      "metadata": {
        "id": "___j8Jrc06k8"
      },
      "cell_type": "markdown",
      "source": [
        "#### Get the data type"
      ]
    },
    {
      "metadata": {
        "id": "IEDq1Hcu0-z_",
        "outputId": "45152487-40ba-4f23-d1c0-11bb969e21a4",
        "colab": {
          "base_uri": "https://localhost:8080/",
          "height": 34
        }
      },
      "cell_type": "code",
      "source": [
        "np_array.dtype"
      ],
      "execution_count": null,
      "outputs": [
        {
          "output_type": "execute_result",
          "data": {
            "text/plain": [
              "dtype('int64')"
            ]
          },
          "metadata": {
            "tags": []
          },
          "execution_count": 87
        }
      ]
    },
    {
      "metadata": {
        "id": "OTREEzKu1CU1"
      },
      "cell_type": "markdown",
      "source": [
        "#### Get the array's shape"
      ]
    },
    {
      "metadata": {
        "id": "JZ-1Vxj41GKC",
        "outputId": "54b58943-55aa-4b94-ee19-81cc036512ef",
        "colab": {
          "base_uri": "https://localhost:8080/",
          "height": 34
        }
      },
      "cell_type": "code",
      "source": [
        "np_array.shape"
      ],
      "execution_count": null,
      "outputs": [
        {
          "output_type": "execute_result",
          "data": {
            "text/plain": [
              "(4, 4)"
            ]
          },
          "metadata": {
            "tags": []
          },
          "execution_count": 88
        }
      ]
    },
    {
      "metadata": {
        "id": "OeY1bxyJ1Idv"
      },
      "cell_type": "markdown",
      "source": [
        "#### Get the number of items in the array"
      ]
    },
    {
      "metadata": {
        "id": "9-MK_t881LVg",
        "outputId": "557d0f24-8814-4378-8926-144d8aacbe6e",
        "colab": {
          "base_uri": "https://localhost:8080/",
          "height": 34
        }
      },
      "cell_type": "code",
      "source": [
        "np_array.size"
      ],
      "execution_count": null,
      "outputs": [
        {
          "output_type": "execute_result",
          "data": {
            "text/plain": [
              "16"
            ]
          },
          "metadata": {
            "tags": []
          },
          "execution_count": 89
        }
      ]
    },
    {
      "metadata": {
        "id": "SifJ6bra1TQ0"
      },
      "cell_type": "markdown",
      "source": [
        "#### Get the size of the array in bytes"
      ]
    },
    {
      "metadata": {
        "id": "5YzTBEid1YsX",
        "outputId": "9b09f32c-a717-40c3-d048-8c7559f95a17",
        "colab": {
          "base_uri": "https://localhost:8080/",
          "height": 34
        }
      },
      "cell_type": "code",
      "source": [
        "np_array.nbytes"
      ],
      "execution_count": null,
      "outputs": [
        {
          "output_type": "execute_result",
          "data": {
            "text/plain": [
              "128"
            ]
          },
          "metadata": {
            "tags": []
          },
          "execution_count": 90
        }
      ]
    },
    {
      "metadata": {
        "id": "toHDZHec1f9F"
      },
      "cell_type": "markdown",
      "source": [
        "### Setting the data type"
      ]
    },
    {
      "metadata": {
        "id": "7bdGC31e1pxo"
      },
      "cell_type": "markdown",
      "source": [
        "#### dtype parameter"
      ]
    },
    {
      "metadata": {
        "id": "3quViOL01sy4",
        "outputId": "ea7f0ea3-7b16-4b23-fb7b-ea457ee8ea4b",
        "colab": {
          "base_uri": "https://localhost:8080/",
          "height": 85
        }
      },
      "cell_type": "code",
      "source": [
        "np_array = np.array(list_of_lists, dtype=np.int8)\n",
        "np_array"
      ],
      "execution_count": null,
      "outputs": [
        {
          "output_type": "execute_result",
          "data": {
            "text/plain": [
              "array([[ 1,  2,  3,  4],\n",
              "       [ 5,  6,  7,  8],\n",
              "       [ 9, 10, 11, 12],\n",
              "       [13, 14, 15, 16]], dtype=int8)"
            ]
          },
          "metadata": {
            "tags": []
          },
          "execution_count": 91
        }
      ]
    },
    {
      "metadata": {
        "id": "xd-_Qgqo1yyu"
      },
      "cell_type": "markdown",
      "source": [
        "#### Size reduction"
      ]
    },
    {
      "metadata": {
        "id": "pFk4n7d312LH",
        "outputId": "7c84121e-c3b4-4145-8fd7-7cd065ee7240",
        "colab": {
          "base_uri": "https://localhost:8080/",
          "height": 34
        }
      },
      "cell_type": "code",
      "source": [
        "np_array.nbytes"
      ],
      "execution_count": null,
      "outputs": [
        {
          "output_type": "execute_result",
          "data": {
            "text/plain": [
              "16"
            ]
          },
          "metadata": {
            "tags": []
          },
          "execution_count": 92
        }
      ]
    },
    {
      "metadata": {
        "id": "YOzWWnLF1-m2"
      },
      "cell_type": "markdown",
      "source": [
        "#### The data type setting is immutible \n",
        "Data may be truncated if the data type is restrictive."
      ]
    },
    {
      "metadata": {
        "id": "2MPe95vlLpwb",
        "outputId": "7c158bcc-71b5-45c3-a678-132b2c0c19bd",
        "colab": {
          "base_uri": "https://localhost:8080/",
          "height": 34
        }
      },
      "cell_type": "code",
      "source": [
        "np_array[0][0] = 1.7344567\n",
        "np_array[0][0]"
      ],
      "execution_count": null,
      "outputs": [
        {
          "output_type": "execute_result",
          "data": {
            "text/plain": [
              "1"
            ]
          },
          "metadata": {
            "tags": []
          },
          "execution_count": 93
        }
      ]
    },
    {
      "metadata": {
        "id": "vvPhjEXoWYnT"
      },
      "cell_type": "markdown",
      "source": [
        "### Array Slicing\n",
        "\n",
        "\n",
        "*   Slicing can be used to get a view reprsenting a sub-array. \n",
        "*   The slice is a view to the original array, the data is not copied to a new data structure\n",
        "*   The slice is taken in the form: array[ rows, columns ]\n",
        "\n",
        "\n",
        "\n",
        "\n"
      ]
    },
    {
      "metadata": {
        "id": "tDjuERnX2hUp",
        "outputId": "74052c3f-0c04-45e3-dc68-633903d0e939",
        "colab": {
          "base_uri": "https://localhost:8080/",
          "height": 85
        }
      },
      "cell_type": "code",
      "source": [
        "np_array"
      ],
      "execution_count": null,
      "outputs": [
        {
          "output_type": "execute_result",
          "data": {
            "text/plain": [
              "array([[ 1,  2,  3,  4],\n",
              "       [ 5,  6,  7,  8],\n",
              "       [ 9, 10, 11, 12],\n",
              "       [13, 14, 15, 16]], dtype=int8)"
            ]
          },
          "metadata": {
            "tags": []
          },
          "execution_count": 94
        }
      ]
    },
    {
      "metadata": {
        "id": "JBEp4F7uWMmY",
        "outputId": "eb720ba3-9a3d-41c4-8089-7f62ca88d854",
        "colab": {
          "base_uri": "https://localhost:8080/",
          "height": 51
        }
      },
      "cell_type": "code",
      "source": [
        "np_array[2:, :3]"
      ],
      "execution_count": null,
      "outputs": [
        {
          "output_type": "execute_result",
          "data": {
            "text/plain": [
              "array([[ 9, 10, 11],\n",
              "       [13, 14, 15]], dtype=int8)"
            ]
          },
          "metadata": {
            "tags": []
          },
          "execution_count": 95
        }
      ]
    },
    {
      "metadata": {
        "id": "DZw_vVRta7q8"
      },
      "cell_type": "markdown",
      "source": [
        "### Math operations\n",
        "\n",
        "\n",
        "*   Unlike a unlike nested lists, matrix operations perform mathimatical operations on data\n",
        "\n"
      ]
    },
    {
      "metadata": {
        "id": "DcuhDzog3k7b"
      },
      "cell_type": "markdown",
      "source": [
        "#### Create two 3 x 3 arrays"
      ]
    },
    {
      "metadata": {
        "id": "Hk4TSZMp3ueg",
        "outputId": "f9c0a3be-9eaa-4d19-df19-53de928ffde4",
        "colab": {
          "base_uri": "https://localhost:8080/",
          "height": 68
        }
      },
      "cell_type": "code",
      "source": [
        "np_array_1 = np.arange(9).reshape(3,3)\n",
        "np_array_1\n"
      ],
      "execution_count": null,
      "outputs": [
        {
          "output_type": "execute_result",
          "data": {
            "text/plain": [
              "array([[0, 1, 2],\n",
              "       [3, 4, 5],\n",
              "       [6, 7, 8]])"
            ]
          },
          "metadata": {
            "tags": []
          },
          "execution_count": 96
        }
      ]
    },
    {
      "metadata": {
        "id": "BGUAuzGW32MZ",
        "outputId": "f84c69d5-cf39-40f3-8716-1b2950a8200a",
        "colab": {
          "base_uri": "https://localhost:8080/",
          "height": 68
        }
      },
      "cell_type": "code",
      "source": [
        "np_array_2 = np.arange(10, 19).reshape(3,3)\n",
        "np_array_2"
      ],
      "execution_count": null,
      "outputs": [
        {
          "output_type": "execute_result",
          "data": {
            "text/plain": [
              "array([[10, 11, 12],\n",
              "       [13, 14, 15],\n",
              "       [16, 17, 18]])"
            ]
          },
          "metadata": {
            "tags": []
          },
          "execution_count": 97
        }
      ]
    },
    {
      "metadata": {
        "id": "JtgSgziO3-zG"
      },
      "cell_type": "markdown",
      "source": [
        "#### Multiply the arrays"
      ]
    },
    {
      "metadata": {
        "id": "DnsoTaV64B6s",
        "outputId": "1ff2e5fe-8c02-4a14-e447-489a91ae7dab",
        "colab": {
          "base_uri": "https://localhost:8080/",
          "height": 68
        }
      },
      "cell_type": "code",
      "source": [
        "np_array_1 * np_array_2"
      ],
      "execution_count": null,
      "outputs": [
        {
          "output_type": "execute_result",
          "data": {
            "text/plain": [
              "array([[  0,  11,  24],\n",
              "       [ 39,  56,  75],\n",
              "       [ 96, 119, 144]])"
            ]
          },
          "metadata": {
            "tags": []
          },
          "execution_count": 98
        }
      ]
    },
    {
      "metadata": {
        "id": "bLZEFu6F4RZ9"
      },
      "cell_type": "markdown",
      "source": [
        "#### Add the arrays"
      ]
    },
    {
      "metadata": {
        "id": "gtImxWZW4TIK",
        "outputId": "0549bcbe-a4ec-4563-d8e3-a9b5faa12f1c",
        "colab": {
          "base_uri": "https://localhost:8080/",
          "height": 68
        }
      },
      "cell_type": "code",
      "source": [
        "np_array_1 + np_array_2"
      ],
      "execution_count": null,
      "outputs": [
        {
          "output_type": "execute_result",
          "data": {
            "text/plain": [
              "array([[10, 12, 14],\n",
              "       [16, 18, 20],\n",
              "       [22, 24, 26]])"
            ]
          },
          "metadata": {
            "tags": []
          },
          "execution_count": 99
        }
      ]
    },
    {
      "metadata": {
        "id": "7R8mt4RU4yMz"
      },
      "cell_type": "markdown",
      "source": [
        "### Matrix operations"
      ]
    },
    {
      "metadata": {
        "id": "1OU4oaWt40Jp"
      },
      "cell_type": "markdown",
      "source": [
        "#### Transpose"
      ]
    },
    {
      "metadata": {
        "id": "EXIwtxD942UO",
        "outputId": "ee5697f7-97bd-4b89-d053-771afa6fa69b",
        "colab": {
          "base_uri": "https://localhost:8080/",
          "height": 85
        }
      },
      "cell_type": "code",
      "source": [
        "np_array.T"
      ],
      "execution_count": null,
      "outputs": [
        {
          "output_type": "execute_result",
          "data": {
            "text/plain": [
              "array([[ 1,  5,  9, 13],\n",
              "       [ 2,  6, 10, 14],\n",
              "       [ 3,  7, 11, 15],\n",
              "       [ 4,  8, 12, 16]], dtype=int8)"
            ]
          },
          "metadata": {
            "tags": []
          },
          "execution_count": 100
        }
      ]
    },
    {
      "metadata": {
        "id": "oi0b6o6o46E9"
      },
      "cell_type": "markdown",
      "source": [
        "#### Dot product"
      ]
    },
    {
      "metadata": {
        "id": "aQgYwiPpbxIG",
        "outputId": "7fd1509e-d41a-40f0-f543-eebe891d7157",
        "colab": {
          "base_uri": "https://localhost:8080/",
          "height": 68
        }
      },
      "cell_type": "code",
      "source": [
        "np_array_1.dot(np_array_2)\n"
      ],
      "execution_count": null,
      "outputs": [
        {
          "output_type": "execute_result",
          "data": {
            "text/plain": [
              "array([[ 45,  48,  51],\n",
              "       [162, 174, 186],\n",
              "       [279, 300, 321]])"
            ]
          },
          "metadata": {
            "tags": []
          },
          "execution_count": 101
        }
      ]
    },
    {
      "metadata": {
        "id": "z-hjI2NsaK4w"
      },
      "cell_type": "markdown",
      "source": [
        "## 5.5 Use the Pandas DataFrame\n",
        "*   One of the most highly leveraged data structures for data science\n",
        "*   A table-like two dimensional data structure. \n"
      ]
    },
    {
      "metadata": {
        "id": "e8Dxdc4V6wlV"
      },
      "cell_type": "markdown",
      "source": [
        "### Create a DataFrame"
      ]
    },
    {
      "metadata": {
        "id": "73JaHcb261eb",
        "outputId": "95ec9725-3f0e-472d-c9e1-6439bfeac6ff",
        "colab": {
          "base_uri": "https://localhost:8080/",
          "height": 297
        }
      },
      "cell_type": "code",
      "source": [
        "import pandas as pd\n",
        "first_names = ['henry', 'rolly', 'molly', 'frank', 'david', 'steven', 'gwen', 'arthur']\n",
        "last_names = ['smith', 'brocker', 'stein', 'bach', 'spencer', 'de wilde', 'mason', 'davis']\n",
        "ages = [43, 23, 78, 56, 26, 14, 46, 92]\n",
        "\n",
        "df = pd.DataFrame({ 'first': first_names, 'last': last_names, 'age': ages})\n",
        "df"
      ],
      "execution_count": null,
      "outputs": [
        {
          "output_type": "execute_result",
          "data": {
            "text/html": [
              "<div>\n",
              "<style scoped>\n",
              "    .dataframe tbody tr th:only-of-type {\n",
              "        vertical-align: middle;\n",
              "    }\n",
              "\n",
              "    .dataframe tbody tr th {\n",
              "        vertical-align: top;\n",
              "    }\n",
              "\n",
              "    .dataframe thead th {\n",
              "        text-align: right;\n",
              "    }\n",
              "</style>\n",
              "<table border=\"1\" class=\"dataframe\">\n",
              "  <thead>\n",
              "    <tr style=\"text-align: right;\">\n",
              "      <th></th>\n",
              "      <th>age</th>\n",
              "      <th>first</th>\n",
              "      <th>last</th>\n",
              "    </tr>\n",
              "  </thead>\n",
              "  <tbody>\n",
              "    <tr>\n",
              "      <th>0</th>\n",
              "      <td>43</td>\n",
              "      <td>henry</td>\n",
              "      <td>smith</td>\n",
              "    </tr>\n",
              "    <tr>\n",
              "      <th>1</th>\n",
              "      <td>23</td>\n",
              "      <td>rolly</td>\n",
              "      <td>brocker</td>\n",
              "    </tr>\n",
              "    <tr>\n",
              "      <th>2</th>\n",
              "      <td>78</td>\n",
              "      <td>molly</td>\n",
              "      <td>stein</td>\n",
              "    </tr>\n",
              "    <tr>\n",
              "      <th>3</th>\n",
              "      <td>56</td>\n",
              "      <td>frank</td>\n",
              "      <td>bach</td>\n",
              "    </tr>\n",
              "    <tr>\n",
              "      <th>4</th>\n",
              "      <td>26</td>\n",
              "      <td>david</td>\n",
              "      <td>spencer</td>\n",
              "    </tr>\n",
              "    <tr>\n",
              "      <th>5</th>\n",
              "      <td>14</td>\n",
              "      <td>steven</td>\n",
              "      <td>de wilde</td>\n",
              "    </tr>\n",
              "    <tr>\n",
              "      <th>6</th>\n",
              "      <td>46</td>\n",
              "      <td>gwen</td>\n",
              "      <td>mason</td>\n",
              "    </tr>\n",
              "    <tr>\n",
              "      <th>7</th>\n",
              "      <td>92</td>\n",
              "      <td>arthur</td>\n",
              "      <td>davis</td>\n",
              "    </tr>\n",
              "  </tbody>\n",
              "</table>\n",
              "</div>"
            ],
            "text/plain": [
              "   age   first      last\n",
              "0   43   henry     smith\n",
              "1   23   rolly   brocker\n",
              "2   78   molly     stein\n",
              "3   56   frank      bach\n",
              "4   26   david   spencer\n",
              "5   14  steven  de wilde\n",
              "6   46    gwen     mason\n",
              "7   92  arthur     davis"
            ]
          },
          "metadata": {
            "tags": []
          },
          "execution_count": 103
        }
      ]
    },
    {
      "metadata": {
        "id": "ut_QqgQi7CvX"
      },
      "cell_type": "markdown",
      "source": [
        "### Head - looking at the top"
      ]
    },
    {
      "metadata": {
        "id": "FN7tXlFV7FiE",
        "outputId": "f48221e8-bcee-4d3c-e2e0-e3bd130b202d",
        "colab": {
          "base_uri": "https://localhost:8080/",
          "height": 297
        }
      },
      "cell_type": "code",
      "source": [
        "df.head(10)"
      ],
      "execution_count": null,
      "outputs": [
        {
          "output_type": "execute_result",
          "data": {
            "text/html": [
              "<div>\n",
              "<style scoped>\n",
              "    .dataframe tbody tr th:only-of-type {\n",
              "        vertical-align: middle;\n",
              "    }\n",
              "\n",
              "    .dataframe tbody tr th {\n",
              "        vertical-align: top;\n",
              "    }\n",
              "\n",
              "    .dataframe thead th {\n",
              "        text-align: right;\n",
              "    }\n",
              "</style>\n",
              "<table border=\"1\" class=\"dataframe\">\n",
              "  <thead>\n",
              "    <tr style=\"text-align: right;\">\n",
              "      <th></th>\n",
              "      <th>age</th>\n",
              "      <th>first</th>\n",
              "      <th>last</th>\n",
              "    </tr>\n",
              "  </thead>\n",
              "  <tbody>\n",
              "    <tr>\n",
              "      <th>0</th>\n",
              "      <td>43</td>\n",
              "      <td>henry</td>\n",
              "      <td>smith</td>\n",
              "    </tr>\n",
              "    <tr>\n",
              "      <th>1</th>\n",
              "      <td>23</td>\n",
              "      <td>rolly</td>\n",
              "      <td>brocker</td>\n",
              "    </tr>\n",
              "    <tr>\n",
              "      <th>2</th>\n",
              "      <td>78</td>\n",
              "      <td>molly</td>\n",
              "      <td>stein</td>\n",
              "    </tr>\n",
              "    <tr>\n",
              "      <th>3</th>\n",
              "      <td>56</td>\n",
              "      <td>frank</td>\n",
              "      <td>bach</td>\n",
              "    </tr>\n",
              "    <tr>\n",
              "      <th>4</th>\n",
              "      <td>26</td>\n",
              "      <td>david</td>\n",
              "      <td>spencer</td>\n",
              "    </tr>\n",
              "    <tr>\n",
              "      <th>5</th>\n",
              "      <td>14</td>\n",
              "      <td>steven</td>\n",
              "      <td>de wilde</td>\n",
              "    </tr>\n",
              "    <tr>\n",
              "      <th>6</th>\n",
              "      <td>46</td>\n",
              "      <td>gwen</td>\n",
              "      <td>mason</td>\n",
              "    </tr>\n",
              "    <tr>\n",
              "      <th>7</th>\n",
              "      <td>92</td>\n",
              "      <td>arthur</td>\n",
              "      <td>davis</td>\n",
              "    </tr>\n",
              "  </tbody>\n",
              "</table>\n",
              "</div>"
            ],
            "text/plain": [
              "   age   first      last\n",
              "0   43   henry     smith\n",
              "1   23   rolly   brocker\n",
              "2   78   molly     stein\n",
              "3   56   frank      bach\n",
              "4   26   david   spencer\n",
              "5   14  steven  de wilde\n",
              "6   46    gwen     mason\n",
              "7   92  arthur     davis"
            ]
          },
          "metadata": {
            "tags": []
          },
          "execution_count": 106
        }
      ]
    },
    {
      "metadata": {
        "id": "2lZEPhBd7PGN"
      },
      "cell_type": "markdown",
      "source": [
        "### Setting number of rows returned with head"
      ]
    },
    {
      "metadata": {
        "id": "mO583bRm7J9y"
      },
      "cell_type": "code",
      "source": [
        "df.head(3)"
      ],
      "execution_count": null,
      "outputs": []
    },
    {
      "metadata": {
        "id": "fP0Szs_k7ZwM"
      },
      "cell_type": "markdown",
      "source": [
        "### Tail - looking at the bottom"
      ]
    },
    {
      "metadata": {
        "id": "lWpCA6lh7dIZ",
        "outputId": "6ad75973-5eba-4e1f-e70f-709f20036be7",
        "colab": {
          "base_uri": "https://localhost:8080/",
          "height": 111
        }
      },
      "cell_type": "code",
      "source": [
        "df.tail(2)"
      ],
      "execution_count": null,
      "outputs": [
        {
          "output_type": "execute_result",
          "data": {
            "text/html": [
              "<div>\n",
              "<style scoped>\n",
              "    .dataframe tbody tr th:only-of-type {\n",
              "        vertical-align: middle;\n",
              "    }\n",
              "\n",
              "    .dataframe tbody tr th {\n",
              "        vertical-align: top;\n",
              "    }\n",
              "\n",
              "    .dataframe thead th {\n",
              "        text-align: right;\n",
              "    }\n",
              "</style>\n",
              "<table border=\"1\" class=\"dataframe\">\n",
              "  <thead>\n",
              "    <tr style=\"text-align: right;\">\n",
              "      <th></th>\n",
              "      <th>age</th>\n",
              "      <th>first</th>\n",
              "      <th>last</th>\n",
              "    </tr>\n",
              "  </thead>\n",
              "  <tbody>\n",
              "    <tr>\n",
              "      <th>6</th>\n",
              "      <td>46</td>\n",
              "      <td>gwen</td>\n",
              "      <td>mason</td>\n",
              "    </tr>\n",
              "    <tr>\n",
              "      <th>7</th>\n",
              "      <td>92</td>\n",
              "      <td>arthur</td>\n",
              "      <td>davis</td>\n",
              "    </tr>\n",
              "  </tbody>\n",
              "</table>\n",
              "</div>"
            ],
            "text/plain": [
              "   age   first   last\n",
              "6   46    gwen  mason\n",
              "7   92  arthur  davis"
            ]
          },
          "metadata": {
            "tags": []
          },
          "execution_count": 108
        }
      ]
    },
    {
      "metadata": {
        "id": "aMcpAbpW7sKB"
      },
      "cell_type": "markdown",
      "source": [
        "### Describe - descriptive statistics"
      ]
    },
    {
      "metadata": {
        "id": "c1SCEPeB7xIi",
        "outputId": "ad35757e-f072-4208-e853-1f25dc24614e",
        "colab": {
          "base_uri": "https://localhost:8080/",
          "height": 297
        }
      },
      "cell_type": "code",
      "source": [
        "df.describe()"
      ],
      "execution_count": null,
      "outputs": [
        {
          "output_type": "execute_result",
          "data": {
            "text/html": [
              "<div>\n",
              "<style scoped>\n",
              "    .dataframe tbody tr th:only-of-type {\n",
              "        vertical-align: middle;\n",
              "    }\n",
              "\n",
              "    .dataframe tbody tr th {\n",
              "        vertical-align: top;\n",
              "    }\n",
              "\n",
              "    .dataframe thead th {\n",
              "        text-align: right;\n",
              "    }\n",
              "</style>\n",
              "<table border=\"1\" class=\"dataframe\">\n",
              "  <thead>\n",
              "    <tr style=\"text-align: right;\">\n",
              "      <th></th>\n",
              "      <th>age</th>\n",
              "    </tr>\n",
              "  </thead>\n",
              "  <tbody>\n",
              "    <tr>\n",
              "      <th>count</th>\n",
              "      <td>8.000000</td>\n",
              "    </tr>\n",
              "    <tr>\n",
              "      <th>mean</th>\n",
              "      <td>47.250000</td>\n",
              "    </tr>\n",
              "    <tr>\n",
              "      <th>std</th>\n",
              "      <td>27.227874</td>\n",
              "    </tr>\n",
              "    <tr>\n",
              "      <th>min</th>\n",
              "      <td>14.000000</td>\n",
              "    </tr>\n",
              "    <tr>\n",
              "      <th>25%</th>\n",
              "      <td>25.250000</td>\n",
              "    </tr>\n",
              "    <tr>\n",
              "      <th>50%</th>\n",
              "      <td>44.500000</td>\n",
              "    </tr>\n",
              "    <tr>\n",
              "      <th>75%</th>\n",
              "      <td>61.500000</td>\n",
              "    </tr>\n",
              "    <tr>\n",
              "      <th>max</th>\n",
              "      <td>92.000000</td>\n",
              "    </tr>\n",
              "  </tbody>\n",
              "</table>\n",
              "</div>"
            ],
            "text/plain": [
              "             age\n",
              "count   8.000000\n",
              "mean   47.250000\n",
              "std    27.227874\n",
              "min    14.000000\n",
              "25%    25.250000\n",
              "50%    44.500000\n",
              "75%    61.500000\n",
              "max    92.000000"
            ]
          },
          "metadata": {
            "tags": []
          },
          "execution_count": 109
        }
      ]
    },
    {
      "metadata": {
        "id": "Of3owwjI71cr"
      },
      "cell_type": "markdown",
      "source": [
        "### Access one column"
      ]
    },
    {
      "metadata": {
        "id": "siMCagaq74bO",
        "outputId": "99907925-afaf-459c-bb9f-63a7b9bf25e2",
        "colab": {
          "base_uri": "https://localhost:8080/",
          "height": 170
        }
      },
      "cell_type": "code",
      "source": [
        "df['first']"
      ],
      "execution_count": null,
      "outputs": [
        {
          "output_type": "execute_result",
          "data": {
            "text/plain": [
              "0     henry\n",
              "1     rolly\n",
              "2     molly\n",
              "3     frank\n",
              "4     david\n",
              "5    steven\n",
              "6      gwen\n",
              "7    arthur\n",
              "Name: first, dtype: object"
            ]
          },
          "metadata": {
            "tags": []
          },
          "execution_count": 110
        }
      ]
    },
    {
      "metadata": {
        "id": "KdOsmAk67-FA"
      },
      "cell_type": "markdown",
      "source": [
        "### Slice a column"
      ]
    },
    {
      "metadata": {
        "id": "dNl_CTuk8Bip",
        "outputId": "df4f7aa6-4457-4c77-f2cb-5c77c227d072",
        "colab": {
          "base_uri": "https://localhost:8080/",
          "height": 102
        }
      },
      "cell_type": "code",
      "source": [
        "df['first'][4:]"
      ],
      "execution_count": null,
      "outputs": [
        {
          "output_type": "execute_result",
          "data": {
            "text/plain": [
              "4     david\n",
              "5    steven\n",
              "6      gwen\n",
              "7    arthur\n",
              "Name: first, dtype: object"
            ]
          },
          "metadata": {
            "tags": []
          },
          "execution_count": 111
        }
      ]
    },
    {
      "metadata": {
        "id": "H3iUwAI-8TFp"
      },
      "cell_type": "markdown",
      "source": [
        "### Use conditions to filter"
      ]
    },
    {
      "metadata": {
        "id": "pjYmR1d0fbUh",
        "outputId": "0add25f2-e4c6-4a21-98d8-6c77cdacea4e",
        "colab": {
          "base_uri": "https://localhost:8080/",
          "height": 142
        }
      },
      "cell_type": "code",
      "source": [
        "df[df['age'] > 50]"
      ],
      "execution_count": null,
      "outputs": [
        {
          "output_type": "execute_result",
          "data": {
            "text/html": [
              "<div>\n",
              "<style scoped>\n",
              "    .dataframe tbody tr th:only-of-type {\n",
              "        vertical-align: middle;\n",
              "    }\n",
              "\n",
              "    .dataframe tbody tr th {\n",
              "        vertical-align: top;\n",
              "    }\n",
              "\n",
              "    .dataframe thead th {\n",
              "        text-align: right;\n",
              "    }\n",
              "</style>\n",
              "<table border=\"1\" class=\"dataframe\">\n",
              "  <thead>\n",
              "    <tr style=\"text-align: right;\">\n",
              "      <th></th>\n",
              "      <th>age</th>\n",
              "      <th>first</th>\n",
              "      <th>last</th>\n",
              "    </tr>\n",
              "  </thead>\n",
              "  <tbody>\n",
              "    <tr>\n",
              "      <th>2</th>\n",
              "      <td>78</td>\n",
              "      <td>molly</td>\n",
              "      <td>stein</td>\n",
              "    </tr>\n",
              "    <tr>\n",
              "      <th>3</th>\n",
              "      <td>56</td>\n",
              "      <td>frank</td>\n",
              "      <td>bach</td>\n",
              "    </tr>\n",
              "    <tr>\n",
              "      <th>7</th>\n",
              "      <td>92</td>\n",
              "      <td>arthur</td>\n",
              "      <td>davis</td>\n",
              "    </tr>\n",
              "  </tbody>\n",
              "</table>\n",
              "</div>"
            ],
            "text/plain": [
              "   age   first   last\n",
              "2   78   molly  stein\n",
              "3   56   frank   bach\n",
              "7   92  arthur  davis"
            ]
          },
          "metadata": {
            "tags": []
          },
          "execution_count": 112
        }
      ]
    },
    {
      "metadata": {
        "id": "mU_PWc0zaO0X"
      },
      "cell_type": "markdown",
      "source": [
        "## 5.6 Use the pandas Series\n",
        "\n",
        "\n",
        "*   A one dimensional labeled array\n",
        "*   Contains data of only one type\n",
        "*   Similar to a column in a spreedsheet\n",
        "\n",
        "\n"
      ]
    },
    {
      "metadata": {
        "id": "8IJJSLsN8kAq"
      },
      "cell_type": "markdown",
      "source": [
        "### Create a series"
      ]
    },
    {
      "metadata": {
        "id": "cdGYE9LdnSwU",
        "outputId": "c4a7433b-e15c-4f27-d727-72cf26e9de70",
        "colab": {
          "base_uri": "https://localhost:8080/",
          "height": 85
        }
      },
      "cell_type": "code",
      "source": [
        "pd_series = pd.Series( [1, 2, 3 ] )\n",
        "pd_series"
      ],
      "execution_count": null,
      "outputs": [
        {
          "output_type": "execute_result",
          "data": {
            "text/plain": [
              "0    1\n",
              "1    2\n",
              "2    3\n",
              "dtype: int64"
            ]
          },
          "metadata": {
            "tags": []
          },
          "execution_count": 114
        }
      ]
    },
    {
      "metadata": {
        "id": "GzZyCmanpu2p"
      },
      "cell_type": "markdown",
      "source": [
        "### Series introspection methods"
      ]
    },
    {
      "metadata": {
        "id": "RlsP8h-KpxxE",
        "outputId": "5eb734b2-d44e-422c-c53b-fb0fdca4b1ba",
        "colab": {
          "base_uri": "https://localhost:8080/",
          "height": 34
        }
      },
      "cell_type": "code",
      "source": [
        "f\"This series is made up of {pd_series.size} items whose data type is {pd_series.dtype}\""
      ],
      "execution_count": null,
      "outputs": [
        {
          "output_type": "execute_result",
          "data": {
            "text/plain": [
              "'This series is made up of 3 items whose data type is int64'"
            ]
          },
          "metadata": {
            "tags": []
          },
          "execution_count": 115
        }
      ]
    },
    {
      "metadata": {
        "id": "OgKF9C9an8iB"
      },
      "cell_type": "markdown",
      "source": [
        "### A Pandas DataFrame is composed of Pandas Series. "
      ]
    },
    {
      "metadata": {
        "id": "wAmSud2ToHuh",
        "outputId": "9afc9fb8-bef8-4f3f-95ac-8d26f9375233",
        "colab": {
          "base_uri": "https://localhost:8080/",
          "height": 34
        }
      },
      "cell_type": "code",
      "source": [
        "age = df.age\n",
        "type( age )"
      ],
      "execution_count": null,
      "outputs": [
        {
          "output_type": "execute_result",
          "data": {
            "text/plain": [
              "pandas.core.series.Series"
            ]
          },
          "metadata": {
            "tags": []
          },
          "execution_count": 116
        }
      ]
    },
    {
      "metadata": {
        "id": "DooLFZH1ovCV"
      },
      "cell_type": "markdown",
      "source": [
        "### Some useful helper methods of a Series"
      ]
    },
    {
      "metadata": {
        "id": "iyDtUDT3JRuY"
      },
      "cell_type": "markdown",
      "source": [
        "#### mean"
      ]
    },
    {
      "metadata": {
        "id": "9gi2tOSTJTrI",
        "outputId": "1fbee477-4a35-422d-949b-1fe0b180af04",
        "colab": {
          "base_uri": "https://localhost:8080/",
          "height": 34
        }
      },
      "cell_type": "code",
      "source": [
        "pd_series = pd.Series([ 1, 2, 3, 5, 6, 6, 6, 7, 8])\n",
        "pd_series.mean()"
      ],
      "execution_count": null,
      "outputs": [
        {
          "output_type": "execute_result",
          "data": {
            "text/plain": [
              "4.888888888888889"
            ]
          },
          "metadata": {
            "tags": []
          },
          "execution_count": 117
        }
      ]
    },
    {
      "metadata": {
        "id": "bILvFviLJbok"
      },
      "cell_type": "markdown",
      "source": [
        "#### Unique"
      ]
    },
    {
      "metadata": {
        "id": "azsZ0xzcJdN2",
        "outputId": "f8371eb1-959f-4726-acd1-e00729f9f2d6",
        "colab": {
          "base_uri": "https://localhost:8080/",
          "height": 34
        }
      },
      "cell_type": "code",
      "source": [
        "pd_series.unique()"
      ],
      "execution_count": null,
      "outputs": [
        {
          "output_type": "execute_result",
          "data": {
            "text/plain": [
              "array([1, 2, 3, 5, 6, 7, 8])"
            ]
          },
          "metadata": {
            "tags": []
          },
          "execution_count": 118
        }
      ]
    },
    {
      "metadata": {
        "id": "GT2CGOucJgjz"
      },
      "cell_type": "markdown",
      "source": [
        "#### Max"
      ]
    },
    {
      "metadata": {
        "id": "s-PPBB7Co385",
        "outputId": "27c23504-0120-489f-b52b-0c6fbd49b8d9",
        "colab": {
          "base_uri": "https://localhost:8080/",
          "height": 34
        }
      },
      "cell_type": "code",
      "source": [
        "pd_series.min()"
      ],
      "execution_count": null,
      "outputs": [
        {
          "output_type": "execute_result",
          "data": {
            "text/plain": [
              "1"
            ]
          },
          "metadata": {
            "tags": []
          },
          "execution_count": 120
        }
      ]
    },
    {
      "metadata": {
        "id": "g2UU5cr6rna6"
      },
      "cell_type": "markdown",
      "source": [
        "# Notes:\n",
        "[Lists](https://docs.python.org/3/tutorial/datastructures.html)\n",
        "\n",
        "[Tuples and sequences](https://docs.python.org/3/tutorial/datastructures.html#tuples-and-sequences)\n",
        "\n",
        "[Dictionaries](https://docs.python.org/3/tutorial/datastructures.html#dictionaries)\n",
        "\n",
        "[Numpy arrays](https://docs.scipy.org/doc/numpy/reference/generated/numpy.array.html)\n",
        "\n",
        "[Pandas DataFrame](https://pandas.pydata.org/pandas-docs/version/0.21/generated/pandas.DataFrame.html)\n",
        "\n",
        "[Pandas Series](https://pandas.pydata.org/pandas-docs/version/0.23.4/generated/pandas.Series.html)\n",
        "\n"
      ]
    }
  ]
}