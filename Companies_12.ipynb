{
  "nbformat": 4,
  "nbformat_minor": 0,
  "metadata": {
    "colab": {
      "provenance": [],
      "authorship_tag": "ABX9TyMSGoMCwgeIz2svUTejSTjb",
      "include_colab_link": true
    },
    "kernelspec": {
      "name": "python3",
      "display_name": "Python 3"
    },
    "language_info": {
      "name": "python"
    }
  },
  "cells": [
    {
      "cell_type": "markdown",
      "metadata": {
        "id": "view-in-github",
        "colab_type": "text"
      },
      "source": [
        "<a href=\"https://colab.research.google.com/github/omkarmohite123/Companies_Problem-solving-using-Python/blob/main/Companies_12.ipynb\" target=\"_parent\"><img src=\"https://colab.research.google.com/assets/colab-badge.svg\" alt=\"Open In Colab\"/></a>"
      ]
    },
    {
      "cell_type": "code",
      "source": [
        "\"\"\"\n",
        "Given a number N, print the first N Catalan numbers.\n",
        "Input Size : N <= 100\n",
        "Sample Testcase :\n",
        "INPUT\n",
        "1\n",
        "OUTPUT\n",
        "1 1\n",
        "\n",
        "\"\"\""
      ],
      "metadata": {
        "id": "HN7MrKzTQORo"
      },
      "execution_count": null,
      "outputs": []
    },
    {
      "cell_type": "code",
      "source": [
        "\n",
        "n=int(input())\n",
        "def ca(n):\n",
        "  if n<=1:\n",
        "    return 1\n",
        "  res=0\n",
        "  for i in range(n):\n",
        "    res+=ca(i)*ca(n-1-i)\n",
        "  return res\n",
        "k=[]\n",
        "for i in range(n+1):\n",
        "  k.append(ca(i))\n",
        "print(*k)"
      ],
      "metadata": {
        "colab": {
          "base_uri": "https://localhost:8080/"
        },
        "id": "5gAU1qjSQOVB",
        "outputId": "27081f7d-85eb-4f8d-8e40-3ae213607e47"
      },
      "execution_count": 2,
      "outputs": [
        {
          "output_type": "stream",
          "name": "stdout",
          "text": [
            "1\n",
            "1 1\n"
          ]
        }
      ]
    }
  ]
}