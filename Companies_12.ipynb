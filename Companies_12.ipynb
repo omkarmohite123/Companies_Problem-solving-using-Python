{
  "nbformat": 4,
  "nbformat_minor": 0,
  "metadata": {
    "colab": {
      "provenance": [],
      "authorship_tag": "ABX9TyMCGl3MVjeOKSk+J3eHRKvz",
      "include_colab_link": true
    },
    "kernelspec": {
      "name": "python3",
      "display_name": "Python 3"
    },
    "language_info": {
      "name": "python"
    }
  },
  "cells": [
    {
      "cell_type": "markdown",
      "metadata": {
        "id": "view-in-github",
        "colab_type": "text"
      },
      "source": [
        "<a href=\"https://colab.research.google.com/github/omkarmohite123/Companies_Problem-solving-using-Python/blob/main/Companies_12.ipynb\" target=\"_parent\"><img src=\"https://colab.research.google.com/assets/colab-badge.svg\" alt=\"Open In Colab\"/></a>"
      ]
    },
    {
      "cell_type": "code",
      "source": [
        "\"\"\"\n",
        "Given a number N followed by N numbers. Out of these N numbers some of them are repeated. Write a program to find the number which is repeated and print the repeated numbers in sorted order. If no numbers are repeated print \"unique\".\n",
        "Input Size : 1 <= N <= 100000\n",
        "Sample Testcase :\n",
        "INPUT\n",
        "7\n",
        "1 2 3 2 3 4 3\n",
        "OUTPUT\n",
        "2 3\n",
        "\n",
        "\n",
        "\"\"\""
      ],
      "metadata": {
        "id": "7uV8pkebRJgg"
      },
      "execution_count": null,
      "outputs": []
    },
    {
      "cell_type": "code",
      "source": [
        "a=int(input())\n",
        "b=list(map(int,input().split()))\n",
        "h=[]\n",
        "k=[]\n",
        "for i in range(len(b)):\n",
        "  if b.count(b[i])!=1 and b[i] not in h:\n",
        "    h.append(b[i])\n",
        "if h==[]:\n",
        "  print(\"unique\")\n",
        "else:\n",
        "  print(*h)"
      ],
      "metadata": {
        "colab": {
          "base_uri": "https://localhost:8080/"
        },
        "id": "zPEwe3kHRX_2",
        "outputId": "9b54ab22-d326-44e1-e241-a63f15c57dc5"
      },
      "execution_count": 3,
      "outputs": [
        {
          "output_type": "stream",
          "name": "stdout",
          "text": [
            "7\n",
            "1 2 3 2 3 4 3\n",
            "2 3\n"
          ]
        }
      ]
    }
  ]
}