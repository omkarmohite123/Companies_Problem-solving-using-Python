{
  "nbformat": 4,
  "nbformat_minor": 0,
  "metadata": {
    "colab": {
      "provenance": [],
      "authorship_tag": "ABX9TyNpgH6YqoLgUd1yMx8OVBb0",
      "include_colab_link": true
    },
    "kernelspec": {
      "name": "python3",
      "display_name": "Python 3"
    },
    "language_info": {
      "name": "python"
    }
  },
  "cells": [
    {
      "cell_type": "markdown",
      "metadata": {
        "id": "view-in-github",
        "colab_type": "text"
      },
      "source": [
        "<a href=\"https://colab.research.google.com/github/omkarmohite123/Companies_Problem-solving-using-Python/blob/main/Company21.ipynb\" target=\"_parent\"><img src=\"https://colab.research.google.com/assets/colab-badge.svg\" alt=\"Open In Colab\"/></a>"
      ]
    },
    {
      "cell_type": "code",
      "source": [
        "\"\"\"\n",
        "There is one meeting room in Flipkart. There are n meetings in the form of (S [ i ], F [ i ]) where S [ i ] is start time of meeting i and F [ i ] is finish time of meeting i Given a number N followed by 2 arrays S and F of sizes N and N, What is the maximum number of meetings that can be accommodated in the meeting room assuming the room can only accommodate one meeting at a time.\n",
        "Input Size : 1 <= N <= 100000\n",
        "Sample Testcases :\n",
        "INPUT\n",
        "3\n",
        "10 12 30\n",
        "20 25 30\n",
        "OUTPUT\n",
        "2\n",
        "\n",
        "\n",
        "\"\"\""
      ],
      "metadata": {
        "id": "Aq-gvIUQU7Fw"
      },
      "execution_count": null,
      "outputs": []
    },
    {
      "cell_type": "code",
      "source": [
        "class meet():\n",
        "      def __init__(self, start, end, pos):\n",
        "         self.start=start\n",
        "         self.end=end\n",
        "         self.pos=pos\n",
        "         \n",
        "def maxmeet(l,n):\n",
        "   ans=[]\n",
        "   l.sort(key=lambda x: x.end)\n",
        "   ans.append(l[0].pos)\n",
        "   time_limit = l[0].end\n",
        "   for i in range(1, n):\n",
        "     if l[i].start > time_limit:\n",
        "        ans.append(l[i].pos)\n",
        "        time_limit = l[i].end\n",
        "   k=[]\n",
        "   for i in ans:\n",
        "      k.append(i+1)\n",
        "   return k\n",
        "\n",
        "if __name__ == '__main__':\n",
        "\n",
        "    a=input()\n",
        "    b=list(map(int,input().split()))\n",
        "    c=list(map(int,input().split()))\n",
        "    n=len(b)\n",
        "    l=[]\n",
        "    for i in range(n):\n",
        "      l.append(meet(b[i], c[i], i))\n",
        "    h=maxmeet(l,n)\n",
        "    print(len(h))\n",
        "\n"
      ],
      "metadata": {
        "colab": {
          "base_uri": "https://localhost:8080/"
        },
        "id": "F8Gb2hfdSJaM",
        "outputId": "4aafc29d-16e5-4937-ea02-4d5f3c1c4dd6"
      },
      "execution_count": 10,
      "outputs": [
        {
          "output_type": "stream",
          "name": "stdout",
          "text": [
            "3\n",
            "10 12 30\n",
            "20 25 30\n",
            "2\n"
          ]
        }
      ]
    }
  ]
}