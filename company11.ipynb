{
  "nbformat": 4,
  "nbformat_minor": 0,
  "metadata": {
    "colab": {
      "provenance": [],
      "authorship_tag": "ABX9TyM3QNzzfojEr9I3MmqwcCiD",
      "include_colab_link": true
    },
    "kernelspec": {
      "name": "python3",
      "display_name": "Python 3"
    },
    "language_info": {
      "name": "python"
    }
  },
  "cells": [
    {
      "cell_type": "markdown",
      "metadata": {
        "id": "view-in-github",
        "colab_type": "text"
      },
      "source": [
        "<a href=\"https://colab.research.google.com/github/omkarmohite123/Companies_Problem-solving-using-Python/blob/main/company11.ipynb\" target=\"_parent\"><img src=\"https://colab.research.google.com/assets/colab-badge.svg\" alt=\"Open In Colab\"/></a>"
      ]
    },
    {
      "cell_type": "code",
      "source": [
        "\"\"\"\n",
        "Given a linked list(where each node has a character)  remove the duplicate character and maintain the same order.\n",
        "\n",
        "Input: H->e->l->l->o->w->o->r->l->d->h->i\n",
        "\n",
        "Output:  H->e->l->o->w->r->d->h->i\n",
        "\n",
        "Explanation:\n",
        "\n",
        "The letters l,o are duplicated so it is mentioned only once in the output.\n",
        "\n",
        "Note: The characters are case sensitive\n",
        "\n",
        "//Node structure in C/C++\n",
        "\n",
        "struct Node\n",
        "\n",
        "{\n",
        "\n",
        "    int data;\n",
        "\n",
        "    struct Node *next;\n",
        "\n",
        "};\n",
        "\n",
        "//Node class structure\n",
        "\n",
        "class LinkedList {\n",
        "\n",
        "  \n",
        "\n",
        "    static Node head;\n",
        "\n",
        "    static class Node {\n",
        "\n",
        "        int data;\n",
        "\n",
        "        Node next;\n",
        "\n",
        "        Node(int d) {\n",
        "\n",
        "            data = d;\n",
        "\n",
        "            next = null;\n",
        "\n",
        "        }\n",
        "\n",
        "    }\n",
        "\n",
        "Input Description:\n",
        "Characters of a String in linked list format\n",
        "\n",
        "Output Description:\n",
        "Characters of a String in linked list format after removing the repeated character\n",
        "\n",
        "Sample Input :\n",
        "H->e->l->l->o->w->o->r->l->d->h->i\n",
        "Sample Output :\n",
        " H->e->l->o->w->r->d->h->i\n",
        "\n",
        "\"\"\""
      ],
      "metadata": {
        "id": "Fe8G7UDquY_V"
      },
      "execution_count": null,
      "outputs": []
    },
    {
      "cell_type": "code",
      "source": [
        "a=input()\n",
        "b=list(a)\n",
        "k=[]\n",
        "for i in b:\n",
        "  if i!=\"-\" and i!=\">\" and i not in k:\n",
        "    k.append(i)\n",
        "\n",
        "h=[]\n",
        "c=\"->\"\n",
        "h.append(k[0])\n",
        "for i in k[1:]:\n",
        "   h.append(c)\n",
        "   h.append(i)\n",
        "m=\"\".join(h)\n",
        "print(m)"
      ],
      "metadata": {
        "colab": {
          "base_uri": "https://localhost:8080/"
        },
        "id": "bWcFUihbuZEA",
        "outputId": "3bc6d1b6-8bd6-4b48-b43f-7233004cff89"
      },
      "execution_count": 5,
      "outputs": [
        {
          "output_type": "stream",
          "name": "stdout",
          "text": [
            "H->e->l->l->o->w->o->r->l->d->h->i\n",
            "['H', 'e', 'l', 'o', 'w', 'r', 'd', 'h', 'i']\n",
            "H->e->l->o->w->r->d->h->i\n"
          ]
        }
      ]
    }
  ]
}