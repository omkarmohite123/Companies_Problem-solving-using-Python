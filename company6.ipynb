{
  "nbformat": 4,
  "nbformat_minor": 0,
  "metadata": {
    "colab": {
      "provenance": [],
      "authorship_tag": "ABX9TyM68sWZmpF4Gvwa+NVYHThZ",
      "include_colab_link": true
    },
    "kernelspec": {
      "name": "python3",
      "display_name": "Python 3"
    },
    "language_info": {
      "name": "python"
    }
  },
  "cells": [
    {
      "cell_type": "markdown",
      "metadata": {
        "id": "view-in-github",
        "colab_type": "text"
      },
      "source": [
        "<a href=\"https://colab.research.google.com/github/omkarmohite123/Companies_Problem-solving-using-Python/blob/main/company6.ipynb\" target=\"_parent\"><img src=\"https://colab.research.google.com/assets/colab-badge.svg\" alt=\"Open In Colab\"/></a>"
      ]
    },
    {
      "cell_type": "code",
      "source": [
        "\n",
        "\"\"\"\n",
        "Given a number N and array of N integers, print the difference between the indices of smallest and largest number(if there are multiple occurances, consider the first occurance).\n",
        "Input Size : |N| <= 1000000\n",
        "Sample Testcase :\n",
        "INPUT\n",
        "5\n",
        "3 5 4 4 7\n",
        "OUTPUT\n",
        "4\n",
        "\"\"\""
      ],
      "metadata": {
        "id": "-aGfk_4xsTNd"
      },
      "execution_count": null,
      "outputs": []
    },
    {
      "cell_type": "code",
      "source": [
        "a=int(input())\n",
        "b=list(map(int,input().split()))\n",
        "k=max(b)\n",
        "g=min(b)\n",
        "h=b.index(k)\n",
        "s=b.index(g)\n",
        "print(abs(h-s))"
      ],
      "metadata": {
        "colab": {
          "base_uri": "https://localhost:8080/"
        },
        "id": "yNAsVDqlscBT",
        "outputId": "a0a00775-74ca-43be-c03a-e53c35de94e2"
      },
      "execution_count": 32,
      "outputs": [
        {
          "output_type": "stream",
          "name": "stdout",
          "text": [
            "5\n",
            "3 5 4 4 7\n",
            "4\n"
          ]
        }
      ]
    }
  ]
}