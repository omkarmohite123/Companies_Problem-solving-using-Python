{
  "nbformat": 4,
  "nbformat_minor": 0,
  "metadata": {
    "colab": {
      "provenance": [],
      "authorship_tag": "ABX9TyOnKdQtUoYVHdCzCmG5NYxl",
      "include_colab_link": true
    },
    "kernelspec": {
      "name": "python3",
      "display_name": "Python 3"
    },
    "language_info": {
      "name": "python"
    }
  },
  "cells": [
    {
      "cell_type": "markdown",
      "metadata": {
        "id": "view-in-github",
        "colab_type": "text"
      },
      "source": [
        "<a href=\"https://colab.research.google.com/github/omkarmohite123/Companies_Problem-solving-using-Python/blob/main/company7.ipynb\" target=\"_parent\"><img src=\"https://colab.research.google.com/assets/colab-badge.svg\" alt=\"Open In Colab\"/></a>"
      ]
    },
    {
      "cell_type": "code",
      "source": [
        "\"\"\"\n",
        "Roman Reigns want to identify the repeated letters in two given strings and capitalize it.Help him to achieve it.\n",
        "Sample Testcase :\n",
        "INPUT\n",
        "computer program\n",
        "OUTPUT\n",
        "cOMPuteR PROgRaM\n",
        "\n",
        "\"\"\""
      ],
      "metadata": {
        "id": "wS09sI5Is0Z_"
      },
      "execution_count": null,
      "outputs": []
    },
    {
      "cell_type": "code",
      "source": [
        "\n",
        "a=list(input())\n",
        "s=[]\n",
        "k=0\n",
        "for i in range(len(a)):\n",
        "    if a.count(a[i])==1:\n",
        "        s.append(a[i].lower())\n",
        "        k+=1\n",
        "    else:\n",
        "        s.append(a[i].upper())\n",
        "d=\"\".join(s)\n",
        "print(d)"
      ],
      "metadata": {
        "colab": {
          "base_uri": "https://localhost:8080/"
        },
        "id": "qmJ5amWOs0hw",
        "outputId": "992de6a4-109d-4a61-d08e-d7f1c9eb8b76"
      },
      "execution_count": 33,
      "outputs": [
        {
          "output_type": "stream",
          "name": "stdout",
          "text": [
            "computer program\n",
            "cOMPuteR PROgRaM\n"
          ]
        }
      ]
    }
  ]
}