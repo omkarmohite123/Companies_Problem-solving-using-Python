{
  "nbformat": 4,
  "nbformat_minor": 0,
  "metadata": {
    "colab": {
      "provenance": [],
      "authorship_tag": "ABX9TyN/z9gcJELDlRnuwTqz/rhX",
      "include_colab_link": true
    },
    "kernelspec": {
      "name": "python3",
      "display_name": "Python 3"
    },
    "language_info": {
      "name": "python"
    }
  },
  "cells": [
    {
      "cell_type": "markdown",
      "metadata": {
        "id": "view-in-github",
        "colab_type": "text"
      },
      "source": [
        "<a href=\"https://colab.research.google.com/github/omkarmohite123/Companies_Problem-solving-using-Python/blob/main/company10.ipynb\" target=\"_parent\"><img src=\"https://colab.research.google.com/assets/colab-badge.svg\" alt=\"Open In Colab\"/></a>"
      ]
    },
    {
      "cell_type": "code",
      "source": [
        "\"\"\"\n",
        "Swagger and Rock are playing a word game. They need to check the two strings use the same base alphabets. Two strings are said to have same base alphabets if they use the same characters to form the word. eg: rescue and curse have same base alphabets - c,e,r,s,u.If it so print 'true' else print 'false'.\n",
        "Input Size : |S| <= 1000000\n",
        "Sample Testcase :\n",
        "INPUT\n",
        "rescue curse\n",
        "OUTPUT\n",
        "true\n",
        "\n",
        "\"\"\""
      ],
      "metadata": {
        "id": "1mhSnoZWt3RH"
      },
      "execution_count": null,
      "outputs": []
    },
    {
      "cell_type": "code",
      "source": [
        "\n",
        "a,b=list(map(str,input().split()))\n",
        "d=list(a)\n",
        "e=list(b)\n",
        "f=set(d)\n",
        "g=set(e)\n",
        "f1=list(f)\n",
        "g1=list(g)\n",
        "m=sorted(f1)\n",
        "n=sorted(g1)\n",
        "if m==n:\n",
        "  print(\"true\")\n",
        "else:\n",
        "  print(\"false\")"
      ],
      "metadata": {
        "colab": {
          "base_uri": "https://localhost:8080/"
        },
        "id": "yAcrmFEYt3ad",
        "outputId": "ea75ec20-bed7-4ffc-f9a3-59ee955a9276"
      },
      "execution_count": 36,
      "outputs": [
        {
          "output_type": "stream",
          "name": "stdout",
          "text": [
            "rescue curse\n",
            "true\n"
          ]
        }
      ]
    }
  ]
}