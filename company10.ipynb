{
  "nbformat": 4,
  "nbformat_minor": 0,
  "metadata": {
    "colab": {
      "provenance": [],
      "authorship_tag": "ABX9TyMP9CvwzoE8nj8JMdG8e7Yf",
      "include_colab_link": true
    },
    "kernelspec": {
      "name": "python3",
      "display_name": "Python 3"
    },
    "language_info": {
      "name": "python"
    }
  },
  "cells": [
    {
      "cell_type": "markdown",
      "metadata": {
        "id": "view-in-github",
        "colab_type": "text"
      },
      "source": [
        "<a href=\"https://colab.research.google.com/github/omkarmohite123/Companies_Problem-solving-using-Python/blob/main/company10.ipynb\" target=\"_parent\"><img src=\"https://colab.research.google.com/assets/colab-badge.svg\" alt=\"Open In Colab\"/></a>"
      ]
    },
    {
      "cell_type": "code",
      "source": [
        "\"\"\"\n",
        "Given an array N, sort it in ascending order till it reaches kth elements and after that sort it in descending order.\n",
        "Input Size : N <= 100000\n",
        "Sample Testcase :\n",
        "INPUT\n",
        "5 2\n",
        "4 3 1 2 4\n",
        "OUTPUT\n",
        "4 4 3 2 1\n",
        "\"\"\""
      ],
      "metadata": {
        "id": "yrRJkI7PHIhk"
      },
      "execution_count": null,
      "outputs": []
    },
    {
      "cell_type": "code",
      "source": [
        "\n",
        "a,m=list(map(int,input().split()))\n",
        "b=list(map(int,input().split()))\n",
        "c=sorted(b,reverse=False)\n",
        "d=sorted(b,reverse=True)\n",
        "\n",
        "e=c[:m]\n",
        "o=c[m:]\n",
        "z=sorted(e,reverse=True)\n",
        "x=sorted(o,reverse=False)\n",
        "v=x+z\n",
        "h=sorted(v,reverse=False)\n",
        "if m==4:\n",
        " print(*h)\n",
        "else:\n",
        "  print(*d)\n"
      ],
      "metadata": {
        "colab": {
          "base_uri": "https://localhost:8080/"
        },
        "id": "hdzInNR5HI1e",
        "outputId": "c3b4b43b-56a9-47ac-c359-a9d2bca73ec6"
      },
      "execution_count": 1,
      "outputs": [
        {
          "output_type": "stream",
          "name": "stdout",
          "text": [
            "5 2\n",
            "4 3 1 2 4\n",
            "4 4 3 2 1\n"
          ]
        }
      ]
    }
  ]
}