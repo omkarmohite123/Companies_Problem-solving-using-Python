{
  "nbformat": 4,
  "nbformat_minor": 0,
  "metadata": {
    "colab": {
      "provenance": [],
      "authorship_tag": "ABX9TyN088Wtk0CJ0WPbvfTTGS21",
      "include_colab_link": true
    },
    "kernelspec": {
      "name": "python3",
      "display_name": "Python 3"
    },
    "language_info": {
      "name": "python"
    }
  },
  "cells": [
    {
      "cell_type": "markdown",
      "metadata": {
        "id": "view-in-github",
        "colab_type": "text"
      },
      "source": [
        "<a href=\"https://colab.research.google.com/github/omkarmohite123/Companies_Problem-solving-using-Python/blob/main/company9.ipynb\" target=\"_parent\"><img src=\"https://colab.research.google.com/assets/colab-badge.svg\" alt=\"Open In Colab\"/></a>"
      ]
    },
    {
      "cell_type": "code",
      "source": [
        "\"\"\"\n",
        "Given a string and a number K, change every kth character to uppercase from beginning in string.\n",
        "Sample Testcase :\n",
        "INPUT\n",
        "string 2\n",
        "OUTPUT\n",
        "sTrInG\n",
        "\"\"\""
      ],
      "metadata": {
        "id": "MuMp2zOptjlS"
      },
      "execution_count": null,
      "outputs": []
    },
    {
      "cell_type": "code",
      "source": [
        "\n",
        "a,c=list(map(str,input().split()))\n",
        "b=list(a)\n",
        "k=[]\n",
        "if int(c)!=0:\n",
        "  for i in range(int(c)-1,len(b),int(c)):\n",
        "     k.append(i)\n",
        "  m=[]\n",
        "  for i in b:\n",
        "    if b.index(i) in k:\n",
        "      m.append(i.upper())\n",
        "    else:\n",
        "      m.append(i)\n",
        "  d=\"\".join(m)\n",
        "  print(d)\n",
        "else:\n",
        "  print(a)"
      ],
      "metadata": {
        "colab": {
          "base_uri": "https://localhost:8080/"
        },
        "id": "zAYKvCpDtjw6",
        "outputId": "3fe3e0ae-bceb-4bdb-9f97-9323af72c580"
      },
      "execution_count": 35,
      "outputs": [
        {
          "output_type": "stream",
          "name": "stdout",
          "text": [
            "string 2\n",
            "sTrInG\n"
          ]
        }
      ]
    }
  ]
}