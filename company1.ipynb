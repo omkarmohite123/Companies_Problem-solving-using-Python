{
  "nbformat": 4,
  "nbformat_minor": 0,
  "metadata": {
    "colab": {
      "provenance": [],
      "authorship_tag": "ABX9TyMcXdsBdmtIid63h7edr/Lp",
      "include_colab_link": true
    },
    "kernelspec": {
      "name": "python3",
      "display_name": "Python 3"
    },
    "language_info": {
      "name": "python"
    }
  },
  "cells": [
    {
      "cell_type": "markdown",
      "metadata": {
        "id": "view-in-github",
        "colab_type": "text"
      },
      "source": [
        "<a href=\"https://colab.research.google.com/github/omkarmohite123/Companies_Problem-solving-using-Python/blob/main/company1.ipynb\" target=\"_parent\"><img src=\"https://colab.research.google.com/assets/colab-badge.svg\" alt=\"Open In Colab\"/></a>"
      ]
    },
    {
      "cell_type": "code",
      "source": [
        "\"\"\"\n",
        "Given the values of a,b and x in the equation ax + b = y. Find the value of y.\n",
        "Sample Testcase :\n",
        "INPUT\n",
        "3 5 2\n",
        "OUTPUT\n",
        "11\n",
        "\n",
        "\n",
        "\"\"\""
      ],
      "metadata": {
        "id": "_bmJTdEzqjbA"
      },
      "execution_count": null,
      "outputs": []
    },
    {
      "cell_type": "code",
      "source": [
        "a,b,x=list(map(int,input().split()))\n",
        "y=(a*x)+b\n",
        "print(y)"
      ],
      "metadata": {
        "colab": {
          "base_uri": "https://localhost:8080/"
        },
        "id": "4Hsy4eTVqjjg",
        "outputId": "bea5b610-fc36-455a-e672-370f9e73b38f"
      },
      "execution_count": 26,
      "outputs": [
        {
          "output_type": "stream",
          "name": "stdout",
          "text": [
            "3 5 2\n",
            "11\n"
          ]
        }
      ]
    }
  ]
}